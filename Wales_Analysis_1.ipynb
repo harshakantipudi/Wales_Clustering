{
 "cells": [
  {
   "cell_type": "markdown",
   "metadata": {},
   "source": [
    "\n",
    "# Programming for data analytics:\n"
   ]
  },
  {
   "cell_type": "markdown",
   "metadata": {},
   "source": [
    "## 1) Data processing\n",
    "\n",
    "#### 1.1 Download the dataset for the period 2009 – 2018 and create a dataframe that concatenates Wales (total) employment value only\n",
    "\n",
    "\n",
    "<blockquote>\n",
    "<p><span style=\"color:red\">References</span></p>\n",
    "\n",
    "[1] [iloc in pandas](https://pandas.pydata.org/pandas-docs/stable/reference/api/pandas.DataFrame.iloc.html)\n",
    "    \n",
    "    \n",
    "[2] [Numpy](https://numpy.org/)"
   ]
  },
  {
   "cell_type": "code",
   "execution_count": 1,
   "metadata": {
    "ExecuteTime": {
     "end_time": "2020-05-24T09:27:42.324170Z",
     "start_time": "2020-05-24T09:27:39.323093Z"
    }
   },
   "outputs": [],
   "source": [
    "## importing libraries\n",
    "\n",
    "import pandas as pd\n",
    "import numpy as np\n",
    "from matplotlib import pyplot as plt\n",
    "import warnings\n",
    "from matplotlib import cm\n",
    "warnings.filterwarnings('ignore')\n",
    "import seaborn as sns\n",
    "from sklearn.decomposition import PCA\n",
    "from mpl_toolkits.mplot3d import Axes3D\n",
    "from sklearn.cluster import KMeans\n",
    "from sklearn.metrics import silhouette_score, silhouette_samples"
   ]
  },
  {
   "cell_type": "code",
   "execution_count": 2,
   "metadata": {
    "ExecuteTime": {
     "end_time": "2020-05-24T09:27:42.379953Z",
     "start_time": "2020-05-24T09:27:42.328110Z"
    }
   },
   "outputs": [],
   "source": [
    "# Cleaning 2009 year dataset\n",
    "df2009 = pd.read_csv(\"2009.csv\")\n",
    "df2009_1 = df2009.iloc[1:,1:]\n",
    "\n",
    "#cleaning 2010 year dataset\n",
    "df2010 = pd.read_csv(\"2010.csv\")\n",
    "df2010_1 = df2010.iloc[1:,1:]\n",
    "\n",
    "#cleaning 2011 year dataset\n",
    "df2011 = pd.read_csv(\"2011.csv\")\n",
    "df2011_1 = df2011.iloc[1:,1:]\n",
    "\n",
    "#cleaning 2012 dataset\n",
    "df2012 = pd.read_csv(\"2012.csv\")\n",
    "df2012_1 = df2012.iloc[1:,1:]\n",
    "\n",
    "#cleaning 2013 dataset\n",
    "df2013 = pd.read_csv(\"2013.csv\")\n",
    "df2013_1 = df2013.iloc[1:,1:]\n",
    "\n",
    "#cleaning 2014 dataset\n",
    "df2014 = pd.read_csv(\"2014.csv\")\n",
    "df2014_1 = df2014.iloc[1:,1:]\n",
    "\n",
    "#cleaning 2015 dataset\n",
    "df2015 = pd.read_csv(\"2015.csv\")\n",
    "df2015_1 = df2015.iloc[1:,1:]\n",
    "\n",
    "#cleaning 2016 dataset\n",
    "df2016 = pd.read_csv(\"2016.csv\")\n",
    "df2016_1 = df2016.iloc[1:,1:]\n",
    "\n",
    "#cleaning 2017 dataset\n",
    "df2017 = pd.read_csv(\"2017.csv\")\n",
    "df2017_1 = df2017.iloc[1:,1:]\n",
    "\n",
    "#cleaning 2018 dataset\n",
    "df2018 = pd.read_csv(\"2018.csv\")\n",
    "df2018_1 = df2018.iloc[1:,1:]"
   ]
  },
  {
   "cell_type": "markdown",
   "metadata": {},
   "source": [
    "\n",
    "<blockquote>\n",
    "<p><span style=\"color:red\">References:</span></p>\n",
    "\n",
    "[CONCAT in pandas](https://pandas.pydata.org/pandas-docs/stable/reference/api/pandas.concat.html)"
   ]
  },
  {
   "cell_type": "code",
   "execution_count": 3,
   "metadata": {
    "ExecuteTime": {
     "end_time": "2020-05-24T09:27:43.894006Z",
     "start_time": "2020-05-24T09:27:43.859101Z"
    }
   },
   "outputs": [
    {
     "data": {
      "text/html": [
       "<div>\n",
       "<style scoped>\n",
       "    .dataframe tbody tr th:only-of-type {\n",
       "        vertical-align: middle;\n",
       "    }\n",
       "\n",
       "    .dataframe tbody tr th {\n",
       "        vertical-align: top;\n",
       "    }\n",
       "\n",
       "    .dataframe thead th {\n",
       "        text-align: right;\n",
       "    }\n",
       "</style>\n",
       "<table border=\"1\" class=\"dataframe\">\n",
       "  <thead>\n",
       "    <tr style=\"text-align: right;\">\n",
       "      <th></th>\n",
       "      <th>Industry</th>\n",
       "      <th>2009</th>\n",
       "      <th>2010</th>\n",
       "      <th>2011</th>\n",
       "      <th>2012</th>\n",
       "      <th>2013</th>\n",
       "      <th>2014</th>\n",
       "      <th>2015</th>\n",
       "      <th>2016</th>\n",
       "      <th>2017</th>\n",
       "      <th>2018</th>\n",
       "    </tr>\n",
       "  </thead>\n",
       "  <tbody>\n",
       "    <tr>\n",
       "      <th>1</th>\n",
       "      <td>Agriculture, forestry and fishing</td>\n",
       "      <td>37700</td>\n",
       "      <td>38200</td>\n",
       "      <td>36100</td>\n",
       "      <td>36100</td>\n",
       "      <td>36800</td>\n",
       "      <td>42700</td>\n",
       "      <td>40700</td>\n",
       "      <td>43200</td>\n",
       "      <td>40200</td>\n",
       "      <td>41100</td>\n",
       "    </tr>\n",
       "    <tr>\n",
       "      <th>2</th>\n",
       "      <td>Production</td>\n",
       "      <td>156700</td>\n",
       "      <td>149800</td>\n",
       "      <td>158600</td>\n",
       "      <td>154400</td>\n",
       "      <td>164200</td>\n",
       "      <td>173300</td>\n",
       "      <td>172300</td>\n",
       "      <td>162500</td>\n",
       "      <td>165100</td>\n",
       "      <td>165700</td>\n",
       "    </tr>\n",
       "    <tr>\n",
       "      <th>3</th>\n",
       "      <td>Construction</td>\n",
       "      <td>96600</td>\n",
       "      <td>93200</td>\n",
       "      <td>90000</td>\n",
       "      <td>91300</td>\n",
       "      <td>89300</td>\n",
       "      <td>97000</td>\n",
       "      <td>92600</td>\n",
       "      <td>102700</td>\n",
       "      <td>90800</td>\n",
       "      <td>101800</td>\n",
       "    </tr>\n",
       "    <tr>\n",
       "      <th>4</th>\n",
       "      <td>Wholesale, retail, transport, hotels and food</td>\n",
       "      <td>345400</td>\n",
       "      <td>344500</td>\n",
       "      <td>343100</td>\n",
       "      <td>347300</td>\n",
       "      <td>345100</td>\n",
       "      <td>337300</td>\n",
       "      <td>357700</td>\n",
       "      <td>360200</td>\n",
       "      <td>333500</td>\n",
       "      <td>347600</td>\n",
       "    </tr>\n",
       "    <tr>\n",
       "      <th>5</th>\n",
       "      <td>Information and communication</td>\n",
       "      <td>27800</td>\n",
       "      <td>27900</td>\n",
       "      <td>26400</td>\n",
       "      <td>27200</td>\n",
       "      <td>26900</td>\n",
       "      <td>35700</td>\n",
       "      <td>24000</td>\n",
       "      <td>34400</td>\n",
       "      <td>58900</td>\n",
       "      <td>31500</td>\n",
       "    </tr>\n",
       "    <tr>\n",
       "      <th>6</th>\n",
       "      <td>Finance and insurance activities</td>\n",
       "      <td>33800</td>\n",
       "      <td>29800</td>\n",
       "      <td>33200</td>\n",
       "      <td>31100</td>\n",
       "      <td>32400</td>\n",
       "      <td>32400</td>\n",
       "      <td>30800</td>\n",
       "      <td>31000</td>\n",
       "      <td>32100</td>\n",
       "      <td>35500</td>\n",
       "    </tr>\n",
       "    <tr>\n",
       "      <th>7</th>\n",
       "      <td>Real estate activities</td>\n",
       "      <td>13500</td>\n",
       "      <td>14600</td>\n",
       "      <td>17600</td>\n",
       "      <td>18800</td>\n",
       "      <td>18000</td>\n",
       "      <td>22200</td>\n",
       "      <td>19100</td>\n",
       "      <td>22700</td>\n",
       "      <td>18200</td>\n",
       "      <td>25200</td>\n",
       "    </tr>\n",
       "    <tr>\n",
       "      <th>8</th>\n",
       "      <td>Professional, scientific and technical activit...</td>\n",
       "      <td>144800</td>\n",
       "      <td>145800</td>\n",
       "      <td>143600</td>\n",
       "      <td>137300</td>\n",
       "      <td>149900</td>\n",
       "      <td>152900</td>\n",
       "      <td>166200</td>\n",
       "      <td>161200</td>\n",
       "      <td>176400</td>\n",
       "      <td>187100</td>\n",
       "    </tr>\n",
       "    <tr>\n",
       "      <th>9</th>\n",
       "      <td>Public administration, defence, education and ...</td>\n",
       "      <td>415600</td>\n",
       "      <td>418600</td>\n",
       "      <td>425600</td>\n",
       "      <td>421000</td>\n",
       "      <td>427000</td>\n",
       "      <td>427600</td>\n",
       "      <td>423200</td>\n",
       "      <td>418500</td>\n",
       "      <td>424500</td>\n",
       "      <td>434900</td>\n",
       "    </tr>\n",
       "    <tr>\n",
       "      <th>10</th>\n",
       "      <td>Other service activities</td>\n",
       "      <td>64200</td>\n",
       "      <td>68000</td>\n",
       "      <td>72400</td>\n",
       "      <td>72800</td>\n",
       "      <td>75500</td>\n",
       "      <td>73300</td>\n",
       "      <td>77200</td>\n",
       "      <td>72400</td>\n",
       "      <td>83200</td>\n",
       "      <td>81800</td>\n",
       "    </tr>\n",
       "  </tbody>\n",
       "</table>\n",
       "</div>"
      ],
      "text/plain": [
       "                                             Industry    2009    2010    2011  \\\n",
       "1                  Agriculture, forestry and fishing    37700   38200   36100   \n",
       "2                                         Production   156700  149800  158600   \n",
       "3                                       Construction    96600   93200   90000   \n",
       "4      Wholesale, retail, transport, hotels and food   345400  344500  343100   \n",
       "5                      Information and communication    27800   27900   26400   \n",
       "6                   Finance and insurance activities    33800   29800   33200   \n",
       "7                             Real estate activities    13500   14600   17600   \n",
       "8   Professional, scientific and technical activit...  144800  145800  143600   \n",
       "9   Public administration, defence, education and ...  415600  418600  425600   \n",
       "10                          Other service activities    64200   68000   72400   \n",
       "\n",
       "      2012    2013    2014    2015    2016    2017    2018  \n",
       "1    36100   36800   42700   40700   43200   40200   41100  \n",
       "2   154400  164200  173300  172300  162500  165100  165700  \n",
       "3    91300   89300   97000   92600  102700   90800  101800  \n",
       "4   347300  345100  337300  357700  360200  333500  347600  \n",
       "5    27200   26900   35700   24000   34400   58900   31500  \n",
       "6    31100   32400   32400   30800   31000   32100   35500  \n",
       "7    18800   18000   22200   19100   22700   18200   25200  \n",
       "8   137300  149900  152900  166200  161200  176400  187100  \n",
       "9   421000  427000  427600  423200  418500  424500  434900  \n",
       "10   72800   75500   73300   77200   72400   83200   81800  "
      ]
     },
     "execution_count": 3,
     "metadata": {},
     "output_type": "execute_result"
    }
   ],
   "source": [
    "# concating all the cleaned datasets\n",
    "\n",
    "df= pd.concat([df2009_1, df2010_1 ,df2011_1, df2012_1 ,df2013_1, df2014_1 ,df2015_1, df2016_1,df2017_1, df2018_1 ], ignore_index = True, axis = 1)\n",
    "final_df=df.drop(columns = [2,4,6,8,10,12,14,16,18],axis = 1)\n",
    "final_df.rename(columns={0:'Industry',1:'2009',3:'2010', 5:'2011',7:'2012',9:'2013',11:'2014',13:'2015',15:'2016',17:'2017',19:'2018'}, inplace=True)\n",
    "final_df\n",
    "final_dfs = final_df\n",
    "final_dfs"
   ]
  },
  {
   "cell_type": "markdown",
   "metadata": {},
   "source": [
    "### 1.2. Check for any null value or outlier. If found replace that with mean value.\n"
   ]
  },
  {
   "cell_type": "code",
   "execution_count": 4,
   "metadata": {
    "ExecuteTime": {
     "end_time": "2020-05-24T09:27:48.959611Z",
     "start_time": "2020-05-24T09:27:48.954621Z"
    }
   },
   "outputs": [
    {
     "data": {
      "text/plain": [
       "False"
      ]
     },
     "execution_count": 4,
     "metadata": {},
     "output_type": "execute_result"
    }
   ],
   "source": [
    "#checking null values\n",
    "\n",
    "final_df.isnull().values.any()"
   ]
  },
  {
   "cell_type": "markdown",
   "metadata": {},
   "source": [
    "- An outlier is a data point which is significantly different from the remaining data. “An outlier is an observation which deviates so much from the other observations as to arouse suspicions that it was generated by a different mechanism.”  \n",
    "\n",
    "<blockquote>\n",
    "<p><span style=\"color:red\">References:</span></p>\n",
    "    \n",
    "[CONCAT in pandas](https://pandas.pydata.org/pandas-docs/stable/reference/api/pandas.concat.html)\n",
    "Hawkins, D.M., 1980. [Identification of outliers](https://link.springer.com/book/10.1007%2F978-94-015-3994-4) ((Vol. 11). London: Chapman and Hall.\n"
   ]
  },
  {
   "cell_type": "code",
   "execution_count": 5,
   "metadata": {
    "ExecuteTime": {
     "end_time": "2020-05-24T09:27:46.322897Z",
     "start_time": "2020-05-24T09:27:46.012691Z"
    }
   },
   "outputs": [
    {
     "data": {
      "image/png": "[encoded data removed]",
      "text/plain": [
       "<Figure size 576x576 with 1 Axes>"
      ]
     },
     "metadata": {
      "needs_background": "light"
     },
     "output_type": "display_data"
    }
   ],
   "source": [
    "#Check for outliers in data using boxplot\n",
    "sns.boxplot(data=final_df[['2009','2010','2011','2012','2013',\"2014\",\"2015\",\"2016\",\"2017\",\"2018\"]])\n",
    "fig=plt.gcf()\n",
    "fig.set_size_inches(8,8)"
   ]
  },
  {
   "cell_type": "code",
   "execution_count": 6,
   "metadata": {
    "ExecuteTime": {
     "end_time": "2020-05-24T09:27:55.724313Z",
     "start_time": "2020-05-24T09:27:55.708354Z"
    }
   },
   "outputs": [
    {
     "data": {
      "text/plain": [
       "2009    133610.0\n",
       "2010    133040.0\n",
       "2011    134660.0\n",
       "2012    133730.0\n",
       "2013    136510.0\n",
       "2014    139440.0\n",
       "2015    140380.0\n",
       "2016    140880.0\n",
       "2017    142290.0\n",
       "2018    145220.0\n",
       "dtype: float64"
      ]
     },
     "execution_count": 6,
     "metadata": {},
     "output_type": "execute_result"
    }
   ],
   "source": [
    "# calculating the mean vlaues \n",
    "mean=final_df.mean()\n",
    "mean"
   ]
  },
  {
   "cell_type": "code",
   "execution_count": 7,
   "metadata": {
    "ExecuteTime": {
     "end_time": "2020-05-24T09:27:57.911080Z",
     "start_time": "2020-05-24T09:27:57.897154Z"
    }
   },
   "outputs": [
    {
     "data": {
      "text/html": [
       "<div>\n",
       "<style scoped>\n",
       "    .dataframe tbody tr th:only-of-type {\n",
       "        vertical-align: middle;\n",
       "    }\n",
       "\n",
       "    .dataframe tbody tr th {\n",
       "        vertical-align: top;\n",
       "    }\n",
       "\n",
       "    .dataframe thead th {\n",
       "        text-align: right;\n",
       "    }\n",
       "</style>\n",
       "<table border=\"1\" class=\"dataframe\">\n",
       "  <thead>\n",
       "    <tr style=\"text-align: right;\">\n",
       "      <th></th>\n",
       "      <th>Industry</th>\n",
       "      <th>2009</th>\n",
       "      <th>2010</th>\n",
       "      <th>2011</th>\n",
       "      <th>2012</th>\n",
       "      <th>2013</th>\n",
       "      <th>2014</th>\n",
       "      <th>2015</th>\n",
       "      <th>2016</th>\n",
       "      <th>2017</th>\n",
       "      <th>2018</th>\n",
       "    </tr>\n",
       "  </thead>\n",
       "  <tbody>\n",
       "    <tr>\n",
       "      <th>1</th>\n",
       "      <td>Agriculture, forestry and fishing</td>\n",
       "      <td>37700</td>\n",
       "      <td>38200</td>\n",
       "      <td>36100</td>\n",
       "      <td>36100</td>\n",
       "      <td>36800</td>\n",
       "      <td>42700</td>\n",
       "      <td>40700</td>\n",
       "      <td>43200</td>\n",
       "      <td>40200</td>\n",
       "      <td>41100</td>\n",
       "    </tr>\n",
       "    <tr>\n",
       "      <th>2</th>\n",
       "      <td>Production</td>\n",
       "      <td>156700</td>\n",
       "      <td>149800</td>\n",
       "      <td>158600</td>\n",
       "      <td>154400</td>\n",
       "      <td>164200</td>\n",
       "      <td>173300</td>\n",
       "      <td>172300</td>\n",
       "      <td>162500</td>\n",
       "      <td>165100</td>\n",
       "      <td>165700</td>\n",
       "    </tr>\n",
       "    <tr>\n",
       "      <th>3</th>\n",
       "      <td>Construction</td>\n",
       "      <td>96600</td>\n",
       "      <td>93200</td>\n",
       "      <td>90000</td>\n",
       "      <td>91300</td>\n",
       "      <td>89300</td>\n",
       "      <td>97000</td>\n",
       "      <td>92600</td>\n",
       "      <td>102700</td>\n",
       "      <td>90800</td>\n",
       "      <td>101800</td>\n",
       "    </tr>\n",
       "    <tr>\n",
       "      <th>4</th>\n",
       "      <td>Wholesale, retail, transport, hotels and food</td>\n",
       "      <td>345400</td>\n",
       "      <td>344500</td>\n",
       "      <td>343100</td>\n",
       "      <td>347300</td>\n",
       "      <td>345100</td>\n",
       "      <td>337300</td>\n",
       "      <td>357700</td>\n",
       "      <td>360200</td>\n",
       "      <td>333500</td>\n",
       "      <td>347600</td>\n",
       "    </tr>\n",
       "    <tr>\n",
       "      <th>5</th>\n",
       "      <td>Information and communication</td>\n",
       "      <td>27800</td>\n",
       "      <td>27900</td>\n",
       "      <td>26400</td>\n",
       "      <td>27200</td>\n",
       "      <td>26900</td>\n",
       "      <td>35700</td>\n",
       "      <td>24000</td>\n",
       "      <td>34400</td>\n",
       "      <td>58900</td>\n",
       "      <td>31500</td>\n",
       "    </tr>\n",
       "    <tr>\n",
       "      <th>6</th>\n",
       "      <td>Finance and insurance activities</td>\n",
       "      <td>33800</td>\n",
       "      <td>29800</td>\n",
       "      <td>33200</td>\n",
       "      <td>31100</td>\n",
       "      <td>32400</td>\n",
       "      <td>32400</td>\n",
       "      <td>30800</td>\n",
       "      <td>31000</td>\n",
       "      <td>32100</td>\n",
       "      <td>35500</td>\n",
       "    </tr>\n",
       "    <tr>\n",
       "      <th>7</th>\n",
       "      <td>Real estate activities</td>\n",
       "      <td>13500</td>\n",
       "      <td>14600</td>\n",
       "      <td>17600</td>\n",
       "      <td>18800</td>\n",
       "      <td>18000</td>\n",
       "      <td>22200</td>\n",
       "      <td>19100</td>\n",
       "      <td>22700</td>\n",
       "      <td>18200</td>\n",
       "      <td>25200</td>\n",
       "    </tr>\n",
       "    <tr>\n",
       "      <th>8</th>\n",
       "      <td>Professional, scientific and technical activit...</td>\n",
       "      <td>144800</td>\n",
       "      <td>145800</td>\n",
       "      <td>143600</td>\n",
       "      <td>137300</td>\n",
       "      <td>149900</td>\n",
       "      <td>152900</td>\n",
       "      <td>166200</td>\n",
       "      <td>161200</td>\n",
       "      <td>176400</td>\n",
       "      <td>187100</td>\n",
       "    </tr>\n",
       "    <tr>\n",
       "      <th>9</th>\n",
       "      <td>Public administration, defence, education and ...</td>\n",
       "      <td>415600</td>\n",
       "      <td>418600</td>\n",
       "      <td>425600</td>\n",
       "      <td>421000</td>\n",
       "      <td>427000</td>\n",
       "      <td>427600</td>\n",
       "      <td>423200</td>\n",
       "      <td>418500</td>\n",
       "      <td>424500</td>\n",
       "      <td>434900</td>\n",
       "    </tr>\n",
       "    <tr>\n",
       "      <th>10</th>\n",
       "      <td>Other service activities</td>\n",
       "      <td>64200</td>\n",
       "      <td>68000</td>\n",
       "      <td>72400</td>\n",
       "      <td>72800</td>\n",
       "      <td>75500</td>\n",
       "      <td>73300</td>\n",
       "      <td>77200</td>\n",
       "      <td>72400</td>\n",
       "      <td>83200</td>\n",
       "      <td>81800</td>\n",
       "    </tr>\n",
       "  </tbody>\n",
       "</table>\n",
       "</div>"
      ],
      "text/plain": [
       "                                             Industry    2009    2010    2011  \\\n",
       "1                  Agriculture, forestry and fishing    37700   38200   36100   \n",
       "2                                         Production   156700  149800  158600   \n",
       "3                                       Construction    96600   93200   90000   \n",
       "4      Wholesale, retail, transport, hotels and food   345400  344500  343100   \n",
       "5                      Information and communication    27800   27900   26400   \n",
       "6                   Finance and insurance activities    33800   29800   33200   \n",
       "7                             Real estate activities    13500   14600   17600   \n",
       "8   Professional, scientific and technical activit...  144800  145800  143600   \n",
       "9   Public administration, defence, education and ...  415600  418600  425600   \n",
       "10                          Other service activities    64200   68000   72400   \n",
       "\n",
       "      2012    2013    2014    2015    2016    2017    2018  \n",
       "1    36100   36800   42700   40700   43200   40200   41100  \n",
       "2   154400  164200  173300  172300  162500  165100  165700  \n",
       "3    91300   89300   97000   92600  102700   90800  101800  \n",
       "4   347300  345100  337300  357700  360200  333500  347600  \n",
       "5    27200   26900   35700   24000   34400   58900   31500  \n",
       "6    31100   32400   32400   30800   31000   32100   35500  \n",
       "7    18800   18000   22200   19100   22700   18200   25200  \n",
       "8   137300  149900  152900  166200  161200  176400  187100  \n",
       "9   421000  427000  427600  423200  418500  424500  434900  \n",
       "10   72800   75500   73300   77200   72400   83200   81800  "
      ]
     },
     "execution_count": 7,
     "metadata": {},
     "output_type": "execute_result"
    }
   ],
   "source": [
    "#Replacing nan with mean value\n",
    "exp_df=final_df.fillna(mean)\n",
    "exp_df1 = exp_df\n",
    "exp_df1"
   ]
  },
  {
   "cell_type": "markdown",
   "metadata": {},
   "source": [
    "### 1.3.Change the name of the industries as below"
   ]
  },
  {
   "cell_type": "code",
   "execution_count": 8,
   "metadata": {
    "ExecuteTime": {
     "end_time": "2020-05-24T09:28:01.805315Z",
     "start_time": "2020-05-24T09:28:01.785400Z"
    }
   },
   "outputs": [
    {
     "data": {
      "text/html": [
       "<div>\n",
       "<style scoped>\n",
       "    .dataframe tbody tr th:only-of-type {\n",
       "        vertical-align: middle;\n",
       "    }\n",
       "\n",
       "    .dataframe tbody tr th {\n",
       "        vertical-align: top;\n",
       "    }\n",
       "\n",
       "    .dataframe thead th {\n",
       "        text-align: right;\n",
       "    }\n",
       "</style>\n",
       "<table border=\"1\" class=\"dataframe\">\n",
       "  <thead>\n",
       "    <tr style=\"text-align: right;\">\n",
       "      <th></th>\n",
       "      <th>Industry</th>\n",
       "      <th>2009</th>\n",
       "      <th>2010</th>\n",
       "      <th>2011</th>\n",
       "      <th>2012</th>\n",
       "      <th>2013</th>\n",
       "      <th>2014</th>\n",
       "      <th>2015</th>\n",
       "      <th>2016</th>\n",
       "      <th>2017</th>\n",
       "      <th>2018</th>\n",
       "    </tr>\n",
       "  </thead>\n",
       "  <tbody>\n",
       "    <tr>\n",
       "      <th>1</th>\n",
       "      <td>Agriculture</td>\n",
       "      <td>37700</td>\n",
       "      <td>38200</td>\n",
       "      <td>36100</td>\n",
       "      <td>36100</td>\n",
       "      <td>36800</td>\n",
       "      <td>42700</td>\n",
       "      <td>40700</td>\n",
       "      <td>43200</td>\n",
       "      <td>40200</td>\n",
       "      <td>41100</td>\n",
       "    </tr>\n",
       "    <tr>\n",
       "      <th>2</th>\n",
       "      <td>Production</td>\n",
       "      <td>156700</td>\n",
       "      <td>149800</td>\n",
       "      <td>158600</td>\n",
       "      <td>154400</td>\n",
       "      <td>164200</td>\n",
       "      <td>173300</td>\n",
       "      <td>172300</td>\n",
       "      <td>162500</td>\n",
       "      <td>165100</td>\n",
       "      <td>165700</td>\n",
       "    </tr>\n",
       "    <tr>\n",
       "      <th>3</th>\n",
       "      <td>Construction</td>\n",
       "      <td>96600</td>\n",
       "      <td>93200</td>\n",
       "      <td>90000</td>\n",
       "      <td>91300</td>\n",
       "      <td>89300</td>\n",
       "      <td>97000</td>\n",
       "      <td>92600</td>\n",
       "      <td>102700</td>\n",
       "      <td>90800</td>\n",
       "      <td>101800</td>\n",
       "    </tr>\n",
       "    <tr>\n",
       "      <th>4</th>\n",
       "      <td>Retail</td>\n",
       "      <td>345400</td>\n",
       "      <td>344500</td>\n",
       "      <td>343100</td>\n",
       "      <td>347300</td>\n",
       "      <td>345100</td>\n",
       "      <td>337300</td>\n",
       "      <td>357700</td>\n",
       "      <td>360200</td>\n",
       "      <td>333500</td>\n",
       "      <td>347600</td>\n",
       "    </tr>\n",
       "    <tr>\n",
       "      <th>5</th>\n",
       "      <td>ICT</td>\n",
       "      <td>27800</td>\n",
       "      <td>27900</td>\n",
       "      <td>26400</td>\n",
       "      <td>27200</td>\n",
       "      <td>26900</td>\n",
       "      <td>35700</td>\n",
       "      <td>24000</td>\n",
       "      <td>34400</td>\n",
       "      <td>58900</td>\n",
       "      <td>31500</td>\n",
       "    </tr>\n",
       "    <tr>\n",
       "      <th>6</th>\n",
       "      <td>Finance</td>\n",
       "      <td>33800</td>\n",
       "      <td>29800</td>\n",
       "      <td>33200</td>\n",
       "      <td>31100</td>\n",
       "      <td>32400</td>\n",
       "      <td>32400</td>\n",
       "      <td>30800</td>\n",
       "      <td>31000</td>\n",
       "      <td>32100</td>\n",
       "      <td>35500</td>\n",
       "    </tr>\n",
       "    <tr>\n",
       "      <th>7</th>\n",
       "      <td>Real_Estate</td>\n",
       "      <td>13500</td>\n",
       "      <td>14600</td>\n",
       "      <td>17600</td>\n",
       "      <td>18800</td>\n",
       "      <td>18000</td>\n",
       "      <td>22200</td>\n",
       "      <td>19100</td>\n",
       "      <td>22700</td>\n",
       "      <td>18200</td>\n",
       "      <td>25200</td>\n",
       "    </tr>\n",
       "    <tr>\n",
       "      <th>8</th>\n",
       "      <td>Professional_Service</td>\n",
       "      <td>144800</td>\n",
       "      <td>145800</td>\n",
       "      <td>143600</td>\n",
       "      <td>137300</td>\n",
       "      <td>149900</td>\n",
       "      <td>152900</td>\n",
       "      <td>166200</td>\n",
       "      <td>161200</td>\n",
       "      <td>176400</td>\n",
       "      <td>187100</td>\n",
       "    </tr>\n",
       "    <tr>\n",
       "      <th>9</th>\n",
       "      <td>Public_Adminstration</td>\n",
       "      <td>415600</td>\n",
       "      <td>418600</td>\n",
       "      <td>425600</td>\n",
       "      <td>421000</td>\n",
       "      <td>427000</td>\n",
       "      <td>427600</td>\n",
       "      <td>423200</td>\n",
       "      <td>418500</td>\n",
       "      <td>424500</td>\n",
       "      <td>434900</td>\n",
       "    </tr>\n",
       "    <tr>\n",
       "      <th>10</th>\n",
       "      <td>Other_Service</td>\n",
       "      <td>64200</td>\n",
       "      <td>68000</td>\n",
       "      <td>72400</td>\n",
       "      <td>72800</td>\n",
       "      <td>75500</td>\n",
       "      <td>73300</td>\n",
       "      <td>77200</td>\n",
       "      <td>72400</td>\n",
       "      <td>83200</td>\n",
       "      <td>81800</td>\n",
       "    </tr>\n",
       "  </tbody>\n",
       "</table>\n",
       "</div>"
      ],
      "text/plain": [
       "                Industry    2009    2010    2011    2012    2013    2014  \\\n",
       "1            Agriculture   37700   38200   36100   36100   36800   42700   \n",
       "2            Production   156700  149800  158600  154400  164200  173300   \n",
       "3          Construction    96600   93200   90000   91300   89300   97000   \n",
       "4                 Retail  345400  344500  343100  347300  345100  337300   \n",
       "5                    ICT   27800   27900   26400   27200   26900   35700   \n",
       "6                Finance   33800   29800   33200   31100   32400   32400   \n",
       "7            Real_Estate   13500   14600   17600   18800   18000   22200   \n",
       "8   Professional_Service  144800  145800  143600  137300  149900  152900   \n",
       "9   Public_Adminstration  415600  418600  425600  421000  427000  427600   \n",
       "10         Other_Service   64200   68000   72400   72800   75500   73300   \n",
       "\n",
       "      2015    2016    2017    2018  \n",
       "1    40700   43200   40200   41100  \n",
       "2   172300  162500  165100  165700  \n",
       "3    92600  102700   90800  101800  \n",
       "4   357700  360200  333500  347600  \n",
       "5    24000   34400   58900   31500  \n",
       "6    30800   31000   32100   35500  \n",
       "7    19100   22700   18200   25200  \n",
       "8   166200  161200  176400  187100  \n",
       "9   423200  418500  424500  434900  \n",
       "10   77200   72400   83200   81800  "
      ]
     },
     "execution_count": 8,
     "metadata": {},
     "output_type": "execute_result"
    }
   ],
   "source": [
    "#Changing the Industry column names with desired names\n",
    "\n",
    "exp_df[\"Industry\"]= exp_df[\"Industry\"].replace({'Agriculture, forestry and fishing ': 'Agriculture' , 'Wholesale, retail, transport, hotels and food ': 'Retail',\n",
    "                                               'Information and communication ': 'ICT', 'Finance and insurance activities ': 'Finance','Real estate activities ': 'Real_Estate',\n",
    "                                               'Public administration, defence, education and health ': 'Public_Adminstration', 'Other service activities ': 'Other_Service',\n",
    "                                               'Professional, scientific and technical activities; administrative and support service activities ' : 'Professional_Service',\n",
    "                                               'administrative and support service activities ': 'Professional_Service'})\n",
    "df1 = exp_df\n",
    "df1"
   ]
  },
  {
   "cell_type": "markdown",
   "metadata": {},
   "source": [
    "## 2. Data Analysis\n",
    "\n",
    "#### 2.1.    Which industry employed highest and lowest workers over the period?"
   ]
  },
  {
   "cell_type": "markdown",
   "metadata": {},
   "source": [
    "<blockquote>\n",
    "<p><span style=\"color:red\">References</span></p>\n",
    "\n",
    "Tuffery [Datamining and Data analysis ](https://books.google.it/books?hl=en&lr=&id=5MTBlxZUKiIC&oi=fnd&pg=PR17&dq=Stephane+Tuffery,+Data+mining+and+statistics+for+decision+making,+Wiley+Series+in+Computational+Statistics,+2011&ots=cf5ilUaH5x&sig=ePp_TYmeE42qdMnqa6v8a2TIgYQ&redir_esc=y#v=onepage&q=Stephane%20Tuffery%2C%20Data%20mining%20and%20statistics%20for%20decision%20making%2C%20Wiley%20Series%20in%20Computational%20Statistics%2C%202011&f=false) 2011. Data mining and statistics for decision making. John Wiley & Sons."
   ]
  },
  {
   "cell_type": "code",
   "execution_count": 9,
   "metadata": {
    "ExecuteTime": {
     "end_time": "2020-05-24T09:28:06.435754Z",
     "start_time": "2020-05-24T09:28:06.422828Z"
    }
   },
   "outputs": [
    {
     "data": {
      "text/html": [
       "<div>\n",
       "<style scoped>\n",
       "    .dataframe tbody tr th:only-of-type {\n",
       "        vertical-align: middle;\n",
       "    }\n",
       "\n",
       "    .dataframe tbody tr th {\n",
       "        vertical-align: top;\n",
       "    }\n",
       "\n",
       "    .dataframe thead th {\n",
       "        text-align: right;\n",
       "    }\n",
       "</style>\n",
       "<table border=\"1\" class=\"dataframe\">\n",
       "  <thead>\n",
       "    <tr style=\"text-align: right;\">\n",
       "      <th></th>\n",
       "      <th>Industry</th>\n",
       "      <th>2009</th>\n",
       "      <th>2010</th>\n",
       "      <th>2011</th>\n",
       "      <th>2012</th>\n",
       "      <th>2013</th>\n",
       "      <th>2014</th>\n",
       "      <th>2015</th>\n",
       "      <th>2016</th>\n",
       "      <th>2017</th>\n",
       "      <th>2018</th>\n",
       "      <th>hlsum</th>\n",
       "    </tr>\n",
       "  </thead>\n",
       "  <tbody>\n",
       "    <tr>\n",
       "      <th>1</th>\n",
       "      <td>Agriculture</td>\n",
       "      <td>37700</td>\n",
       "      <td>38200</td>\n",
       "      <td>36100</td>\n",
       "      <td>36100</td>\n",
       "      <td>36800</td>\n",
       "      <td>42700</td>\n",
       "      <td>40700</td>\n",
       "      <td>43200</td>\n",
       "      <td>40200</td>\n",
       "      <td>41100</td>\n",
       "      <td>392800</td>\n",
       "    </tr>\n",
       "    <tr>\n",
       "      <th>2</th>\n",
       "      <td>Production</td>\n",
       "      <td>156700</td>\n",
       "      <td>149800</td>\n",
       "      <td>158600</td>\n",
       "      <td>154400</td>\n",
       "      <td>164200</td>\n",
       "      <td>173300</td>\n",
       "      <td>172300</td>\n",
       "      <td>162500</td>\n",
       "      <td>165100</td>\n",
       "      <td>165700</td>\n",
       "      <td>1622600</td>\n",
       "    </tr>\n",
       "    <tr>\n",
       "      <th>3</th>\n",
       "      <td>Construction</td>\n",
       "      <td>96600</td>\n",
       "      <td>93200</td>\n",
       "      <td>90000</td>\n",
       "      <td>91300</td>\n",
       "      <td>89300</td>\n",
       "      <td>97000</td>\n",
       "      <td>92600</td>\n",
       "      <td>102700</td>\n",
       "      <td>90800</td>\n",
       "      <td>101800</td>\n",
       "      <td>945300</td>\n",
       "    </tr>\n",
       "    <tr>\n",
       "      <th>4</th>\n",
       "      <td>Retail</td>\n",
       "      <td>345400</td>\n",
       "      <td>344500</td>\n",
       "      <td>343100</td>\n",
       "      <td>347300</td>\n",
       "      <td>345100</td>\n",
       "      <td>337300</td>\n",
       "      <td>357700</td>\n",
       "      <td>360200</td>\n",
       "      <td>333500</td>\n",
       "      <td>347600</td>\n",
       "      <td>3461700</td>\n",
       "    </tr>\n",
       "    <tr>\n",
       "      <th>5</th>\n",
       "      <td>ICT</td>\n",
       "      <td>27800</td>\n",
       "      <td>27900</td>\n",
       "      <td>26400</td>\n",
       "      <td>27200</td>\n",
       "      <td>26900</td>\n",
       "      <td>35700</td>\n",
       "      <td>24000</td>\n",
       "      <td>34400</td>\n",
       "      <td>58900</td>\n",
       "      <td>31500</td>\n",
       "      <td>320700</td>\n",
       "    </tr>\n",
       "    <tr>\n",
       "      <th>6</th>\n",
       "      <td>Finance</td>\n",
       "      <td>33800</td>\n",
       "      <td>29800</td>\n",
       "      <td>33200</td>\n",
       "      <td>31100</td>\n",
       "      <td>32400</td>\n",
       "      <td>32400</td>\n",
       "      <td>30800</td>\n",
       "      <td>31000</td>\n",
       "      <td>32100</td>\n",
       "      <td>35500</td>\n",
       "      <td>322100</td>\n",
       "    </tr>\n",
       "    <tr>\n",
       "      <th>7</th>\n",
       "      <td>Real_Estate</td>\n",
       "      <td>13500</td>\n",
       "      <td>14600</td>\n",
       "      <td>17600</td>\n",
       "      <td>18800</td>\n",
       "      <td>18000</td>\n",
       "      <td>22200</td>\n",
       "      <td>19100</td>\n",
       "      <td>22700</td>\n",
       "      <td>18200</td>\n",
       "      <td>25200</td>\n",
       "      <td>189900</td>\n",
       "    </tr>\n",
       "    <tr>\n",
       "      <th>8</th>\n",
       "      <td>Professional_Service</td>\n",
       "      <td>144800</td>\n",
       "      <td>145800</td>\n",
       "      <td>143600</td>\n",
       "      <td>137300</td>\n",
       "      <td>149900</td>\n",
       "      <td>152900</td>\n",
       "      <td>166200</td>\n",
       "      <td>161200</td>\n",
       "      <td>176400</td>\n",
       "      <td>187100</td>\n",
       "      <td>1565200</td>\n",
       "    </tr>\n",
       "    <tr>\n",
       "      <th>9</th>\n",
       "      <td>Public_Adminstration</td>\n",
       "      <td>415600</td>\n",
       "      <td>418600</td>\n",
       "      <td>425600</td>\n",
       "      <td>421000</td>\n",
       "      <td>427000</td>\n",
       "      <td>427600</td>\n",
       "      <td>423200</td>\n",
       "      <td>418500</td>\n",
       "      <td>424500</td>\n",
       "      <td>434900</td>\n",
       "      <td>4236500</td>\n",
       "    </tr>\n",
       "    <tr>\n",
       "      <th>10</th>\n",
       "      <td>Other_Service</td>\n",
       "      <td>64200</td>\n",
       "      <td>68000</td>\n",
       "      <td>72400</td>\n",
       "      <td>72800</td>\n",
       "      <td>75500</td>\n",
       "      <td>73300</td>\n",
       "      <td>77200</td>\n",
       "      <td>72400</td>\n",
       "      <td>83200</td>\n",
       "      <td>81800</td>\n",
       "      <td>740800</td>\n",
       "    </tr>\n",
       "  </tbody>\n",
       "</table>\n",
       "</div>"
      ],
      "text/plain": [
       "                Industry    2009    2010    2011    2012    2013    2014  \\\n",
       "1            Agriculture   37700   38200   36100   36100   36800   42700   \n",
       "2            Production   156700  149800  158600  154400  164200  173300   \n",
       "3          Construction    96600   93200   90000   91300   89300   97000   \n",
       "4                 Retail  345400  344500  343100  347300  345100  337300   \n",
       "5                    ICT   27800   27900   26400   27200   26900   35700   \n",
       "6                Finance   33800   29800   33200   31100   32400   32400   \n",
       "7            Real_Estate   13500   14600   17600   18800   18000   22200   \n",
       "8   Professional_Service  144800  145800  143600  137300  149900  152900   \n",
       "9   Public_Adminstration  415600  418600  425600  421000  427000  427600   \n",
       "10         Other_Service   64200   68000   72400   72800   75500   73300   \n",
       "\n",
       "      2015    2016    2017    2018    hlsum  \n",
       "1    40700   43200   40200   41100   392800  \n",
       "2   172300  162500  165100  165700  1622600  \n",
       "3    92600  102700   90800  101800   945300  \n",
       "4   357700  360200  333500  347600  3461700  \n",
       "5    24000   34400   58900   31500   320700  \n",
       "6    30800   31000   32100   35500   322100  \n",
       "7    19100   22700   18200   25200   189900  \n",
       "8   166200  161200  176400  187100  1565200  \n",
       "9   423200  418500  424500  434900  4236500  \n",
       "10   77200   72400   83200   81800   740800  "
      ]
     },
     "execution_count": 9,
     "metadata": {},
     "output_type": "execute_result"
    }
   ],
   "source": [
    "# Calulating the sum of employess for the all the years for each industry\n",
    "exp_df['hlsum'] = exp_df.sum(axis = 1) \n",
    "exp_df"
   ]
  },
  {
   "cell_type": "code",
   "execution_count": 45,
   "metadata": {
    "ExecuteTime": {
     "end_time": "2020-05-24T09:28:08.415183Z",
     "start_time": "2020-05-24T09:28:08.244616Z"
    }
   },
   "outputs": [
    {
     "data": {
      "image/png": "[encoded data removed]",
      "text/plain": [
       "<Figure size 1080x576 with 1 Axes>"
      ]
     },
     "metadata": {
      "needs_background": "light"
     },
     "output_type": "display_data"
    }
   ],
   "source": [
    "# ploting the graph for total employees for each industry over the period\n",
    "plt.bar(x = exp_df['Industry'], height= exp_df['hlsum'])\n",
    "plt.rcParams['figure.figsize'] = [12,8]\n",
    "plt.title('Total number of employes over the period vs industries')\n",
    "plt.xlabel('Industry')\n",
    "plt.ylabel('Employes count from 2009 to 2018')\n",
    "plt.grid(True)"
   ]
  },
  {
   "cell_type": "markdown",
   "metadata": {
    "ExecuteTime": {
     "end_time": "2020-05-23T14:22:17.947325Z",
     "start_time": "2020-05-23T14:22:17.934129Z"
    }
   },
   "source": [
    "\n",
    "- From the above bar chart we can interpret that Public_Adminstration industry has higest number of workes and where as Real_Estate industry has lowest workers over the period of 2009 to 2018.\n",
    "\n",
    "- public_Adminstration  = 4236500.0\n",
    "- Real_Estate           = 189900.0"
   ]
  },
  {
   "cell_type": "markdown",
   "metadata": {},
   "source": [
    "### 2.2 \tWhich industry has the highest and lowest overall growth over the period? "
   ]
  },
  {
   "cell_type": "code",
   "execution_count": 11,
   "metadata": {
    "ExecuteTime": {
     "end_time": "2020-05-24T09:28:10.548381Z",
     "start_time": "2020-05-24T09:28:10.512445Z"
    }
   },
   "outputs": [
    {
     "data": {
      "text/html": [
       "<div>\n",
       "<style scoped>\n",
       "    .dataframe tbody tr th:only-of-type {\n",
       "        vertical-align: middle;\n",
       "    }\n",
       "\n",
       "    .dataframe tbody tr th {\n",
       "        vertical-align: top;\n",
       "    }\n",
       "\n",
       "    .dataframe thead th {\n",
       "        text-align: right;\n",
       "    }\n",
       "</style>\n",
       "<table border=\"1\" class=\"dataframe\">\n",
       "  <thead>\n",
       "    <tr style=\"text-align: right;\">\n",
       "      <th></th>\n",
       "      <th>2009</th>\n",
       "      <th>2010</th>\n",
       "      <th>2011</th>\n",
       "      <th>2012</th>\n",
       "      <th>2013</th>\n",
       "      <th>2014</th>\n",
       "      <th>2015</th>\n",
       "      <th>2016</th>\n",
       "      <th>2017</th>\n",
       "      <th>2018</th>\n",
       "      <th>Industry</th>\n",
       "      <th>%growth</th>\n",
       "    </tr>\n",
       "  </thead>\n",
       "  <tbody>\n",
       "    <tr>\n",
       "      <th>1</th>\n",
       "      <td>NaN</td>\n",
       "      <td>0.013263</td>\n",
       "      <td>-0.054974</td>\n",
       "      <td>0.000000</td>\n",
       "      <td>0.019391</td>\n",
       "      <td>0.160326</td>\n",
       "      <td>-0.046838</td>\n",
       "      <td>0.061425</td>\n",
       "      <td>-0.069444</td>\n",
       "      <td>0.022388</td>\n",
       "      <td>Agriculture</td>\n",
       "      <td>10.553572</td>\n",
       "    </tr>\n",
       "    <tr>\n",
       "      <th>2</th>\n",
       "      <td>NaN</td>\n",
       "      <td>-0.044033</td>\n",
       "      <td>0.058745</td>\n",
       "      <td>-0.026482</td>\n",
       "      <td>0.063472</td>\n",
       "      <td>0.055420</td>\n",
       "      <td>-0.005770</td>\n",
       "      <td>-0.056878</td>\n",
       "      <td>0.016000</td>\n",
       "      <td>0.003634</td>\n",
       "      <td>Production</td>\n",
       "      <td>6.410810</td>\n",
       "    </tr>\n",
       "    <tr>\n",
       "      <th>3</th>\n",
       "      <td>NaN</td>\n",
       "      <td>-0.035197</td>\n",
       "      <td>-0.034335</td>\n",
       "      <td>0.014444</td>\n",
       "      <td>-0.021906</td>\n",
       "      <td>0.086226</td>\n",
       "      <td>-0.045361</td>\n",
       "      <td>0.109071</td>\n",
       "      <td>-0.115871</td>\n",
       "      <td>0.121145</td>\n",
       "      <td>Construction</td>\n",
       "      <td>7.821775</td>\n",
       "    </tr>\n",
       "    <tr>\n",
       "      <th>4</th>\n",
       "      <td>NaN</td>\n",
       "      <td>-0.002606</td>\n",
       "      <td>-0.004064</td>\n",
       "      <td>0.012241</td>\n",
       "      <td>-0.006335</td>\n",
       "      <td>-0.022602</td>\n",
       "      <td>0.060480</td>\n",
       "      <td>0.006989</td>\n",
       "      <td>-0.074125</td>\n",
       "      <td>0.042279</td>\n",
       "      <td>Retail</td>\n",
       "      <td>1.225782</td>\n",
       "    </tr>\n",
       "    <tr>\n",
       "      <th>5</th>\n",
       "      <td>NaN</td>\n",
       "      <td>0.003597</td>\n",
       "      <td>-0.053763</td>\n",
       "      <td>0.030303</td>\n",
       "      <td>-0.011029</td>\n",
       "      <td>0.327138</td>\n",
       "      <td>-0.327731</td>\n",
       "      <td>0.433333</td>\n",
       "      <td>0.712209</td>\n",
       "      <td>-0.465195</td>\n",
       "      <td>ICT</td>\n",
       "      <td>64.886114</td>\n",
       "    </tr>\n",
       "    <tr>\n",
       "      <th>6</th>\n",
       "      <td>NaN</td>\n",
       "      <td>-0.118343</td>\n",
       "      <td>0.114094</td>\n",
       "      <td>-0.063253</td>\n",
       "      <td>0.041801</td>\n",
       "      <td>0.000000</td>\n",
       "      <td>-0.049383</td>\n",
       "      <td>0.006494</td>\n",
       "      <td>0.035484</td>\n",
       "      <td>0.105919</td>\n",
       "      <td>Finance</td>\n",
       "      <td>7.281206</td>\n",
       "    </tr>\n",
       "    <tr>\n",
       "      <th>7</th>\n",
       "      <td>NaN</td>\n",
       "      <td>0.081481</td>\n",
       "      <td>0.205479</td>\n",
       "      <td>0.068182</td>\n",
       "      <td>-0.042553</td>\n",
       "      <td>0.233333</td>\n",
       "      <td>-0.139640</td>\n",
       "      <td>0.188482</td>\n",
       "      <td>-0.198238</td>\n",
       "      <td>0.384615</td>\n",
       "      <td>Real_Estate</td>\n",
       "      <td>78.114243</td>\n",
       "    </tr>\n",
       "    <tr>\n",
       "      <th>8</th>\n",
       "      <td>NaN</td>\n",
       "      <td>0.006906</td>\n",
       "      <td>-0.015089</td>\n",
       "      <td>-0.043872</td>\n",
       "      <td>0.091770</td>\n",
       "      <td>0.020013</td>\n",
       "      <td>0.086985</td>\n",
       "      <td>-0.030084</td>\n",
       "      <td>0.094293</td>\n",
       "      <td>0.060658</td>\n",
       "      <td>Professional_Service</td>\n",
       "      <td>27.157936</td>\n",
       "    </tr>\n",
       "    <tr>\n",
       "      <th>9</th>\n",
       "      <td>NaN</td>\n",
       "      <td>0.007218</td>\n",
       "      <td>0.016722</td>\n",
       "      <td>-0.010808</td>\n",
       "      <td>0.014252</td>\n",
       "      <td>0.001405</td>\n",
       "      <td>-0.010290</td>\n",
       "      <td>-0.011106</td>\n",
       "      <td>0.014337</td>\n",
       "      <td>0.024499</td>\n",
       "      <td>Public_Adminstration</td>\n",
       "      <td>4.623003</td>\n",
       "    </tr>\n",
       "    <tr>\n",
       "      <th>10</th>\n",
       "      <td>NaN</td>\n",
       "      <td>0.059190</td>\n",
       "      <td>0.064706</td>\n",
       "      <td>0.005525</td>\n",
       "      <td>0.037088</td>\n",
       "      <td>-0.029139</td>\n",
       "      <td>0.053206</td>\n",
       "      <td>-0.062176</td>\n",
       "      <td>0.149171</td>\n",
       "      <td>-0.016827</td>\n",
       "      <td>Other_Service</td>\n",
       "      <td>26.074380</td>\n",
       "    </tr>\n",
       "  </tbody>\n",
       "</table>\n",
       "</div>"
      ],
      "text/plain": [
       "    2009      2010      2011      2012      2013      2014      2015  \\\n",
       "1    NaN  0.013263 -0.054974  0.000000  0.019391  0.160326 -0.046838   \n",
       "2    NaN -0.044033  0.058745 -0.026482  0.063472  0.055420 -0.005770   \n",
       "3    NaN -0.035197 -0.034335  0.014444 -0.021906  0.086226 -0.045361   \n",
       "4    NaN -0.002606 -0.004064  0.012241 -0.006335 -0.022602  0.060480   \n",
       "5    NaN  0.003597 -0.053763  0.030303 -0.011029  0.327138 -0.327731   \n",
       "6    NaN -0.118343  0.114094 -0.063253  0.041801  0.000000 -0.049383   \n",
       "7    NaN  0.081481  0.205479  0.068182 -0.042553  0.233333 -0.139640   \n",
       "8    NaN  0.006906 -0.015089 -0.043872  0.091770  0.020013  0.086985   \n",
       "9    NaN  0.007218  0.016722 -0.010808  0.014252  0.001405 -0.010290   \n",
       "10   NaN  0.059190  0.064706  0.005525  0.037088 -0.029139  0.053206   \n",
       "\n",
       "        2016      2017      2018              Industry    %growth  \n",
       "1   0.061425 -0.069444  0.022388           Agriculture  10.553572  \n",
       "2  -0.056878  0.016000  0.003634           Production    6.410810  \n",
       "3   0.109071 -0.115871  0.121145         Construction    7.821775  \n",
       "4   0.006989 -0.074125  0.042279                Retail   1.225782  \n",
       "5   0.433333  0.712209 -0.465195                   ICT  64.886114  \n",
       "6   0.006494  0.035484  0.105919               Finance   7.281206  \n",
       "7   0.188482 -0.198238  0.384615           Real_Estate  78.114243  \n",
       "8  -0.030084  0.094293  0.060658  Professional_Service  27.157936  \n",
       "9  -0.011106  0.014337  0.024499  Public_Adminstration   4.623003  \n",
       "10 -0.062176  0.149171 -0.016827         Other_Service  26.074380  "
      ]
     },
     "execution_count": 11,
     "metadata": {},
     "output_type": "execute_result"
    }
   ],
   "source": [
    "# calculating the percentage change for each year and calculating the total percentage over the period\n",
    "pergrowth_df = exp_df.drop(columns = ['hlsum'], axis = 1).copy()\n",
    "pctchange = pergrowth_df.iloc[:, 1:].pct_change(axis =1)\n",
    "pctchange['Industry'] = pd.Series(pergrowth_df['Industry'])\n",
    "pctchange['%growth'] = (pctchange.drop('Industry', axis=1).sum(axis=1))* 100\n",
    "pctchange"
   ]
  },
  {
   "cell_type": "code",
   "execution_count": 46,
   "metadata": {
    "ExecuteTime": {
     "end_time": "2020-05-23T21:59:04.525194Z",
     "start_time": "2020-05-23T21:59:04.265599Z"
    }
   },
   "outputs": [
    {
     "data": {
      "text/plain": [
       "Text(0.5, 1.0, 'Percentage growth of industries over the period')"
      ]
     },
     "execution_count": 46,
     "metadata": {},
     "output_type": "execute_result"
    },
    {
     "data": {
      "image/png": "[encoded data removed]",
      "text/plain": [
       "<Figure size 864x576 with 1 Axes>"
      ]
     },
     "metadata": {},
     "output_type": "display_data"
    }
   ],
   "source": [
    "plt.rcParams['figure.figsize'] = [12,8]\n",
    "plt.pie(x = pctchange['%growth'], labels= exp_df['Industry'])\n",
    "plt.title(\"Percentage growth of industries over the period\")"
   ]
  },
  {
   "cell_type": "markdown",
   "metadata": {},
   "source": [
    "-  Above visible plot shows the overall growth of each industry over the ten year time period. Hence from the plot we can demonstarte that Real_Estate has the highest growth where as Retail has the lowest growth over the period.\n",
    "- Real_Estate growth  = 78.1142 %\n",
    "- Retail              = 1.2 %"
   ]
  },
  {
   "cell_type": "markdown",
   "metadata": {},
   "source": [
    "### 2.3.Which years are the best and worst performing year in relation to number of employment. (highest and                    lowest employment) "
   ]
  },
  {
   "cell_type": "code",
   "execution_count": 13,
   "metadata": {
    "ExecuteTime": {
     "end_time": "2020-05-24T09:28:14.753654Z",
     "start_time": "2020-05-24T09:28:14.741689Z"
    }
   },
   "outputs": [
    {
     "data": {
      "text/plain": [
       "2009    1336100\n",
       "2010    1330400\n",
       "2011    1346600\n",
       "2012    1337300\n",
       "2013    1365100\n",
       "2014    1394400\n",
       "2015    1403800\n",
       "2016    1408800\n",
       "2017    1422900\n",
       "2018    1452200\n",
       "dtype: int64"
      ]
     },
     "execution_count": 13,
     "metadata": {},
     "output_type": "execute_result"
    }
   ],
   "source": [
    "#calculaating the year wise total employee count\n",
    "\n",
    "bywy = exp_df1.drop(['Industry','hlsum'],axis =1).sum(axis = 0)\n",
    "bywy"
   ]
  },
  {
   "cell_type": "code",
   "execution_count": 47,
   "metadata": {
    "ExecuteTime": {
     "end_time": "2020-05-24T09:28:16.888244Z",
     "start_time": "2020-05-24T09:28:16.710720Z"
    }
   },
   "outputs": [
    {
     "data": {
      "image/png": "[encoded data removed]",
      "text/plain": [
       "<Figure size 864x576 with 1 Axes>"
      ]
     },
     "metadata": {
      "needs_background": "light"
     },
     "output_type": "display_data"
    }
   ],
   "source": [
    "plt.rcParams['figure.figsize'] = [12,8]\n",
    "bywy.plot(kind='line',color='red')\n",
    "plt.xlabel(\"Year\")\n",
    "plt.ylabel(\"Count of employes\")\n",
    "plt.title(\"TOtal number of employess for each year\")\n",
    "plt.grid(True)"
   ]
  },
  {
   "cell_type": "markdown",
   "metadata": {},
   "source": [
    "\n",
    "- The above line graph indicates the employment count per year by taking all indutries into consideration. From the plot we can determine that year 2018 is the best performing year in relation to number of employment which stands at 1452200.0 where as 2010 is the worst performing year which stands at 1330400.0\n",
    "\n",
    "- Best performing year(2018) - 1452200.0\n",
    "- Worst performing year(2010) - 1330400.0"
   ]
  },
  {
   "cell_type": "markdown",
   "metadata": {},
   "source": [
    "## 3. Visual analysis:\n",
    "\n",
    "Plotly is a library that allows you to create interactive plots that you can use in dashboards or websites\n",
    "\n",
    "\n",
    "<blockquote>\n",
    "<p><span style=\"color:red\">References</span></p>\n",
    "\n",
    "[Plotly Express in Python](https://plotly.com/python/plotly-express/)\n",
    "\n",
    "[Pands Melt Function](https://pandas.pydata.org/docs/reference/api/pandas.melt.html)\n"
   ]
  },
  {
   "cell_type": "code",
   "execution_count": 48,
   "metadata": {
    "ExecuteTime": {
     "end_time": "2020-05-24T09:28:24.179815Z",
     "start_time": "2020-05-24T09:28:20.420346Z"
    }
   },
   "outputs": [
    {
     "data": {
      "application/vnd.plotly.v1+json": {
       "config": {
        "plotlyServerURL": "https://plot.ly"
       },
       "data": [
        {
         "hovertemplate": "Industry=%{x}<br>Year=2009<br>Employment=%{marker.size}<extra></extra>",
         "ids": [
          "Agriculture"
         ],
         "legendgroup": "Agriculture",
         "marker": {
          "color": "#636efa",
          "size": [
           37700
          ],
          "sizemode": "area",
          "sizeref": 67.953125,
          "symbol": "circle"
         },
         "mode": "markers",
         "name": "Agriculture",
         "showlegend": true,
         "type": "scatter",
         "x": [
          "Agriculture"
         ],
         "xaxis": "x",
         "y": [
          37700
         ],
         "yaxis": "y"
        },
        {
         "hovertemplate": "Industry=%{x}<br>Year=2009<br>Employment=%{marker.size}<extra></extra>",
         "ids": [
          "Production "
         ],
         "legendgroup": "Production ",
         "marker": {
          "color": "#EF553B",
          "size": [
           156700
          ],
          "sizemode": "area",
          "sizeref": 67.953125,
          "symbol": "circle"
         },
         "mode": "markers",
         "name": "Production ",
         "showlegend": true,
         "type": "scatter",
         "x": [
          "Production "
         ],
         "xaxis": "x",
         "y": [
          156700
         ],
         "yaxis": "y"
        },
        {
         "hovertemplate": "Industry=%{x}<br>Year=2009<br>Employment=%{marker.size}<extra></extra>",
         "ids": [
          "Construction "
         ],
         "legendgroup": "Construction ",
         "marker": {
          "color": "#00cc96",
          "size": [
           96600
          ],
          "sizemode": "area",
          "sizeref": 67.953125,
          "symbol": "circle"
         },
         "mode": "markers",
         "name": "Construction ",
         "showlegend": true,
         "type": "scatter",
         "x": [
          "Construction "
         ],
         "xaxis": "x",
         "y": [
          96600
         ],
         "yaxis": "y"
        },
        {
         "hovertemplate": "Industry=%{x}<br>Year=2009<br>Employment=%{marker.size}<extra></extra>",
         "ids": [
          "Retail"
         ],
         "legendgroup": "Retail",
         "marker": {
          "color": "#ab63fa",
          "size": [
           345400
          ],
          "sizemode": "area",
          "sizeref": 67.953125,
          "symbol": "circle"
         },
         "mode": "markers",
         "name": "Retail",
         "showlegend": true,
         "type": "scatter",
         "x": [
          "Retail"
         ],
         "xaxis": "x",
         "y": [
          345400
         ],
         "yaxis": "y"
        },
        {
         "hovertemplate": "Industry=%{x}<br>Year=2009<br>Employment=%{marker.size}<extra></extra>",
         "ids": [
          "ICT"
         ],
         "legendgroup": "ICT",
         "marker": {
          "color": "#FFA15A",
          "size": [
           27800
          ],
          "sizemode": "area",
          "sizeref": 67.953125,
          "symbol": "circle"
         },
         "mode": "markers",
         "name": "ICT",
         "showlegend": true,
         "type": "scatter",
         "x": [
          "ICT"
         ],
         "xaxis": "x",
         "y": [
          27800
         ],
         "yaxis": "y"
        },
        {
         "hovertemplate": "Industry=%{x}<br>Year=2009<br>Employment=%{marker.size}<extra></extra>",
         "ids": [
          "Finance"
         ],
         "legendgroup": "Finance",
         "marker": {
          "color": "#19d3f3",
          "size": [
           33800
          ],
          "sizemode": "area",
          "sizeref": 67.953125,
          "symbol": "circle"
         },
         "mode": "markers",
         "name": "Finance",
         "showlegend": true,
         "type": "scatter",
         "x": [
          "Finance"
         ],
         "xaxis": "x",
         "y": [
          33800
         ],
         "yaxis": "y"
        },
        {
         "hovertemplate": "Industry=%{x}<br>Year=2009<br>Employment=%{marker.size}<extra></extra>",
         "ids": [
          "Real_Estate"
         ],
         "legendgroup": "Real_Estate",
         "marker": {
          "color": "#FF6692",
          "size": [
           13500
          ],
          "sizemode": "area",
          "sizeref": 67.953125,
          "symbol": "circle"
         },
         "mode": "markers",
         "name": "Real_Estate",
         "showlegend": true,
         "type": "scatter",
         "x": [
          "Real_Estate"
         ],
         "xaxis": "x",
         "y": [
          13500
         ],
         "yaxis": "y"
        },
        {
         "hovertemplate": "Industry=%{x}<br>Year=2009<br>Employment=%{marker.size}<extra></extra>",
         "ids": [
          "Professional_Service"
         ],
         "legendgroup": "Professional_Service",
         "marker": {
          "color": "#B6E880",
          "size": [
           144800
          ],
          "sizemode": "area",
          "sizeref": 67.953125,
          "symbol": "circle"
         },
         "mode": "markers",
         "name": "Professional_Service",
         "showlegend": true,
         "type": "scatter",
         "x": [
          "Professional_Service"
         ],
         "xaxis": "x",
         "y": [
          144800
         ],
         "yaxis": "y"
        },
        {
         "hovertemplate": "Industry=%{x}<br>Year=2009<br>Employment=%{marker.size}<extra></extra>",
         "ids": [
          "Public_Adminstration"
         ],
         "legendgroup": "Public_Adminstration",
         "marker": {
          "color": "#FF97FF",
          "size": [
           415600
          ],
          "sizemode": "area",
          "sizeref": 67.953125,
          "symbol": "circle"
         },
         "mode": "markers",
         "name": "Public_Adminstration",
         "showlegend": true,
         "type": "scatter",
         "x": [
          "Public_Adminstration"
         ],
         "xaxis": "x",
         "y": [
          415600
         ],
         "yaxis": "y"
        },
        {
         "hovertemplate": "Industry=%{x}<br>Year=2009<br>Employment=%{marker.size}<extra></extra>",
         "ids": [
          "Other_Service"
         ],
         "legendgroup": "Other_Service",
         "marker": {
          "color": "#FECB52",
          "size": [
           64200
          ],
          "sizemode": "area",
          "sizeref": 67.953125,
          "symbol": "circle"
         },
         "mode": "markers",
         "name": "Other_Service",
         "showlegend": true,
         "type": "scatter",
         "x": [
          "Other_Service"
         ],
         "xaxis": "x",
         "y": [
          64200
         ],
         "yaxis": "y"
        }
       ],
       "frames": [
        {
         "data": [
          {
           "hovertemplate": "Industry=%{x}<br>Year=2009<br>Employment=%{marker.size}<extra></extra>",
           "ids": [
            "Agriculture"
           ],
           "legendgroup": "Agriculture",
           "marker": {
            "color": "#636efa",
            "size": [
             37700
            ],
            "sizemode": "area",
            "sizeref": 67.953125,
            "symbol": "circle"
           },
           "mode": "markers",
           "name": "Agriculture",
           "showlegend": true,
           "type": "scatter",
           "x": [
            "Agriculture"
           ],
           "xaxis": "x",
           "y": [
            37700
           ],
           "yaxis": "y"
          },
          {
           "hovertemplate": "Industry=%{x}<br>Year=2009<br>Employment=%{marker.size}<extra></extra>",
           "ids": [
            "Production "
           ],
           "legendgroup": "Production ",
           "marker": {
            "color": "#EF553B",
            "size": [
             156700
            ],
            "sizemode": "area",
            "sizeref": 67.953125,
            "symbol": "circle"
           },
           "mode": "markers",
           "name": "Production ",
           "showlegend": true,
           "type": "scatter",
           "x": [
            "Production "
           ],
           "xaxis": "x",
           "y": [
            156700
           ],
           "yaxis": "y"
          },
          {
           "hovertemplate": "Industry=%{x}<br>Year=2009<br>Employment=%{marker.size}<extra></extra>",
           "ids": [
            "Construction "
           ],
           "legendgroup": "Construction ",
           "marker": {
            "color": "#00cc96",
            "size": [
             96600
            ],
            "sizemode": "area",
            "sizeref": 67.953125,
            "symbol": "circle"
           },
           "mode": "markers",
           "name": "Construction ",
           "showlegend": true,
           "type": "scatter",
           "x": [
            "Construction "
           ],
           "xaxis": "x",
           "y": [
            96600
           ],
           "yaxis": "y"
          },
          {
           "hovertemplate": "Industry=%{x}<br>Year=2009<br>Employment=%{marker.size}<extra></extra>",
           "ids": [
            "Retail"
           ],
           "legendgroup": "Retail",
           "marker": {
            "color": "#ab63fa",
            "size": [
             345400
            ],
            "sizemode": "area",
            "sizeref": 67.953125,
            "symbol": "circle"
           },
           "mode": "markers",
           "name": "Retail",
           "showlegend": true,
           "type": "scatter",
           "x": [
            "Retail"
           ],
           "xaxis": "x",
           "y": [
            345400
           ],
           "yaxis": "y"
          },
          {
           "hovertemplate": "Industry=%{x}<br>Year=2009<br>Employment=%{marker.size}<extra></extra>",
           "ids": [
            "ICT"
           ],
           "legendgroup": "ICT",
           "marker": {
            "color": "#FFA15A",
            "size": [
             27800
            ],
            "sizemode": "area",
            "sizeref": 67.953125,
            "symbol": "circle"
           },
           "mode": "markers",
           "name": "ICT",
           "showlegend": true,
           "type": "scatter",
           "x": [
            "ICT"
           ],
           "xaxis": "x",
           "y": [
            27800
           ],
           "yaxis": "y"
          },
          {
           "hovertemplate": "Industry=%{x}<br>Year=2009<br>Employment=%{marker.size}<extra></extra>",
           "ids": [
            "Finance"
           ],
           "legendgroup": "Finance",
           "marker": {
            "color": "#19d3f3",
            "size": [
             33800
            ],
            "sizemode": "area",
            "sizeref": 67.953125,
            "symbol": "circle"
           },
           "mode": "markers",
           "name": "Finance",
           "showlegend": true,
           "type": "scatter",
           "x": [
            "Finance"
           ],
           "xaxis": "x",
           "y": [
            33800
           ],
           "yaxis": "y"
          },
          {
           "hovertemplate": "Industry=%{x}<br>Year=2009<br>Employment=%{marker.size}<extra></extra>",
           "ids": [
            "Real_Estate"
           ],
           "legendgroup": "Real_Estate",
           "marker": {
            "color": "#FF6692",
            "size": [
             13500
            ],
            "sizemode": "area",
            "sizeref": 67.953125,
            "symbol": "circle"
           },
           "mode": "markers",
           "name": "Real_Estate",
           "showlegend": true,
           "type": "scatter",
           "x": [
            "Real_Estate"
           ],
           "xaxis": "x",
           "y": [
            13500
           ],
           "yaxis": "y"
          },
          {
           "hovertemplate": "Industry=%{x}<br>Year=2009<br>Employment=%{marker.size}<extra></extra>",
           "ids": [
            "Professional_Service"
           ],
           "legendgroup": "Professional_Service",
           "marker": {
            "color": "#B6E880",
            "size": [
             144800
            ],
            "sizemode": "area",
            "sizeref": 67.953125,
            "symbol": "circle"
           },
           "mode": "markers",
           "name": "Professional_Service",
           "showlegend": true,
           "type": "scatter",
           "x": [
            "Professional_Service"
           ],
           "xaxis": "x",
           "y": [
            144800
           ],
           "yaxis": "y"
          },
          {
           "hovertemplate": "Industry=%{x}<br>Year=2009<br>Employment=%{marker.size}<extra></extra>",
           "ids": [
            "Public_Adminstration"
           ],
           "legendgroup": "Public_Adminstration",
           "marker": {
            "color": "#FF97FF",
            "size": [
             415600
            ],
            "sizemode": "area",
            "sizeref": 67.953125,
            "symbol": "circle"
           },
           "mode": "markers",
           "name": "Public_Adminstration",
           "showlegend": true,
           "type": "scatter",
           "x": [
            "Public_Adminstration"
           ],
           "xaxis": "x",
           "y": [
            415600
           ],
           "yaxis": "y"
          },
          {
           "hovertemplate": "Industry=%{x}<br>Year=2009<br>Employment=%{marker.size}<extra></extra>",
           "ids": [
            "Other_Service"
           ],
           "legendgroup": "Other_Service",
           "marker": {
            "color": "#FECB52",
            "size": [
             64200
            ],
            "sizemode": "area",
            "sizeref": 67.953125,
            "symbol": "circle"
           },
           "mode": "markers",
           "name": "Other_Service",
           "showlegend": true,
           "type": "scatter",
           "x": [
            "Other_Service"
           ],
           "xaxis": "x",
           "y": [
            64200
           ],
           "yaxis": "y"
          }
         ],
         "name": "2009"
        },
        {
         "data": [
          {
           "hovertemplate": "Industry=%{x}<br>Year=2010<br>Employment=%{marker.size}<extra></extra>",
           "ids": [
            "Agriculture"
           ],
           "legendgroup": "Agriculture",
           "marker": {
            "color": "#636efa",
            "size": [
             38200
            ],
            "sizemode": "area",
            "sizeref": 67.953125,
            "symbol": "circle"
           },
           "mode": "markers",
           "name": "Agriculture",
           "showlegend": true,
           "type": "scatter",
           "x": [
            "Agriculture"
           ],
           "xaxis": "x",
           "y": [
            38200
           ],
           "yaxis": "y"
          },
          {
           "hovertemplate": "Industry=%{x}<br>Year=2010<br>Employment=%{marker.size}<extra></extra>",
           "ids": [
            "Production "
           ],
           "legendgroup": "Production ",
           "marker": {
            "color": "#EF553B",
            "size": [
             149800
            ],
            "sizemode": "area",
            "sizeref": 67.953125,
            "symbol": "circle"
           },
           "mode": "markers",
           "name": "Production ",
           "showlegend": true,
           "type": "scatter",
           "x": [
            "Production "
           ],
           "xaxis": "x",
           "y": [
            149800
           ],
           "yaxis": "y"
          },
          {
           "hovertemplate": "Industry=%{x}<br>Year=2010<br>Employment=%{marker.size}<extra></extra>",
           "ids": [
            "Construction "
           ],
           "legendgroup": "Construction ",
           "marker": {
            "color": "#00cc96",
            "size": [
             93200
            ],
            "sizemode": "area",
            "sizeref": 67.953125,
            "symbol": "circle"
           },
           "mode": "markers",
           "name": "Construction ",
           "showlegend": true,
           "type": "scatter",
           "x": [
            "Construction "
           ],
           "xaxis": "x",
           "y": [
            93200
           ],
           "yaxis": "y"
          },
          {
           "hovertemplate": "Industry=%{x}<br>Year=2010<br>Employment=%{marker.size}<extra></extra>",
           "ids": [
            "Retail"
           ],
           "legendgroup": "Retail",
           "marker": {
            "color": "#ab63fa",
            "size": [
             344500
            ],
            "sizemode": "area",
            "sizeref": 67.953125,
            "symbol": "circle"
           },
           "mode": "markers",
           "name": "Retail",
           "showlegend": true,
           "type": "scatter",
           "x": [
            "Retail"
           ],
           "xaxis": "x",
           "y": [
            344500
           ],
           "yaxis": "y"
          },
          {
           "hovertemplate": "Industry=%{x}<br>Year=2010<br>Employment=%{marker.size}<extra></extra>",
           "ids": [
            "ICT"
           ],
           "legendgroup": "ICT",
           "marker": {
            "color": "#FFA15A",
            "size": [
             27900
            ],
            "sizemode": "area",
            "sizeref": 67.953125,
            "symbol": "circle"
           },
           "mode": "markers",
           "name": "ICT",
           "showlegend": true,
           "type": "scatter",
           "x": [
            "ICT"
           ],
           "xaxis": "x",
           "y": [
            27900
           ],
           "yaxis": "y"
          },
          {
           "hovertemplate": "Industry=%{x}<br>Year=2010<br>Employment=%{marker.size}<extra></extra>",
           "ids": [
            "Finance"
           ],
           "legendgroup": "Finance",
           "marker": {
            "color": "#19d3f3",
            "size": [
             29800
            ],
            "sizemode": "area",
            "sizeref": 67.953125,
            "symbol": "circle"
           },
           "mode": "markers",
           "name": "Finance",
           "showlegend": true,
           "type": "scatter",
           "x": [
            "Finance"
           ],
           "xaxis": "x",
           "y": [
            29800
           ],
           "yaxis": "y"
          },
          {
           "hovertemplate": "Industry=%{x}<br>Year=2010<br>Employment=%{marker.size}<extra></extra>",
           "ids": [
            "Real_Estate"
           ],
           "legendgroup": "Real_Estate",
           "marker": {
            "color": "#FF6692",
            "size": [
             14600
            ],
            "sizemode": "area",
            "sizeref": 67.953125,
            "symbol": "circle"
           },
           "mode": "markers",
           "name": "Real_Estate",
           "showlegend": true,
           "type": "scatter",
           "x": [
            "Real_Estate"
           ],
           "xaxis": "x",
           "y": [
            14600
           ],
           "yaxis": "y"
          },
          {
           "hovertemplate": "Industry=%{x}<br>Year=2010<br>Employment=%{marker.size}<extra></extra>",
           "ids": [
            "Professional_Service"
           ],
           "legendgroup": "Professional_Service",
           "marker": {
            "color": "#B6E880",
            "size": [
             145800
            ],
            "sizemode": "area",
            "sizeref": 67.953125,
            "symbol": "circle"
           },
           "mode": "markers",
           "name": "Professional_Service",
           "showlegend": true,
           "type": "scatter",
           "x": [
            "Professional_Service"
           ],
           "xaxis": "x",
           "y": [
            145800
           ],
           "yaxis": "y"
          },
          {
           "hovertemplate": "Industry=%{x}<br>Year=2010<br>Employment=%{marker.size}<extra></extra>",
           "ids": [
            "Public_Adminstration"
           ],
           "legendgroup": "Public_Adminstration",
           "marker": {
            "color": "#FF97FF",
            "size": [
             418600
            ],
            "sizemode": "area",
            "sizeref": 67.953125,
            "symbol": "circle"
           },
           "mode": "markers",
           "name": "Public_Adminstration",
           "showlegend": true,
           "type": "scatter",
           "x": [
            "Public_Adminstration"
           ],
           "xaxis": "x",
           "y": [
            418600
           ],
           "yaxis": "y"
          },
          {
           "hovertemplate": "Industry=%{x}<br>Year=2010<br>Employment=%{marker.size}<extra></extra>",
           "ids": [
            "Other_Service"
           ],
           "legendgroup": "Other_Service",
           "marker": {
            "color": "#FECB52",
            "size": [
             68000
            ],
            "sizemode": "area",
            "sizeref": 67.953125,
            "symbol": "circle"
           },
           "mode": "markers",
           "name": "Other_Service",
           "showlegend": true,
           "type": "scatter",
           "x": [
            "Other_Service"
           ],
           "xaxis": "x",
           "y": [
            68000
           ],
           "yaxis": "y"
          }
         ],
         "name": "2010"
        },
        {
         "data": [
          {
           "hovertemplate": "Industry=%{x}<br>Year=2011<br>Employment=%{marker.size}<extra></extra>",
           "ids": [
            "Agriculture"
           ],
           "legendgroup": "Agriculture",
           "marker": {
            "color": "#636efa",
            "size": [
             36100
            ],
            "sizemode": "area",
            "sizeref": 67.953125,
            "symbol": "circle"
           },
           "mode": "markers",
           "name": "Agriculture",
           "showlegend": true,
           "type": "scatter",
           "x": [
            "Agriculture"
           ],
           "xaxis": "x",
           "y": [
            36100
           ],
           "yaxis": "y"
          },
          {
           "hovertemplate": "Industry=%{x}<br>Year=2011<br>Employment=%{marker.size}<extra></extra>",
           "ids": [
            "Production "
           ],
           "legendgroup": "Production ",
           "marker": {
            "color": "#EF553B",
            "size": [
             158600
            ],
            "sizemode": "area",
            "sizeref": 67.953125,
            "symbol": "circle"
           },
           "mode": "markers",
           "name": "Production ",
           "showlegend": true,
           "type": "scatter",
           "x": [
            "Production "
           ],
           "xaxis": "x",
           "y": [
            158600
           ],
           "yaxis": "y"
          },
          {
           "hovertemplate": "Industry=%{x}<br>Year=2011<br>Employment=%{marker.size}<extra></extra>",
           "ids": [
            "Construction "
           ],
           "legendgroup": "Construction ",
           "marker": {
            "color": "#00cc96",
            "size": [
             90000
            ],
            "sizemode": "area",
            "sizeref": 67.953125,
            "symbol": "circle"
           },
           "mode": "markers",
           "name": "Construction ",
           "showlegend": true,
           "type": "scatter",
           "x": [
            "Construction "
           ],
           "xaxis": "x",
           "y": [
            90000
           ],
           "yaxis": "y"
          },
          {
           "hovertemplate": "Industry=%{x}<br>Year=2011<br>Employment=%{marker.size}<extra></extra>",
           "ids": [
            "Retail"
           ],
           "legendgroup": "Retail",
           "marker": {
            "color": "#ab63fa",
            "size": [
             343100
            ],
            "sizemode": "area",
            "sizeref": 67.953125,
            "symbol": "circle"
           },
           "mode": "markers",
           "name": "Retail",
           "showlegend": true,
           "type": "scatter",
           "x": [
            "Retail"
           ],
           "xaxis": "x",
           "y": [
            343100
           ],
           "yaxis": "y"
          },
          {
           "hovertemplate": "Industry=%{x}<br>Year=2011<br>Employment=%{marker.size}<extra></extra>",
           "ids": [
            "ICT"
           ],
           "legendgroup": "ICT",
           "marker": {
            "color": "#FFA15A",
            "size": [
             26400
            ],
            "sizemode": "area",
            "sizeref": 67.953125,
            "symbol": "circle"
           },
           "mode": "markers",
           "name": "ICT",
           "showlegend": true,
           "type": "scatter",
           "x": [
            "ICT"
           ],
           "xaxis": "x",
           "y": [
            26400
           ],
           "yaxis": "y"
          },
          {
           "hovertemplate": "Industry=%{x}<br>Year=2011<br>Employment=%{marker.size}<extra></extra>",
           "ids": [
            "Finance"
           ],
           "legendgroup": "Finance",
           "marker": {
            "color": "#19d3f3",
            "size": [
             33200
            ],
            "sizemode": "area",
            "sizeref": 67.953125,
            "symbol": "circle"
           },
           "mode": "markers",
           "name": "Finance",
           "showlegend": true,
           "type": "scatter",
           "x": [
            "Finance"
           ],
           "xaxis": "x",
           "y": [
            33200
           ],
           "yaxis": "y"
          },
          {
           "hovertemplate": "Industry=%{x}<br>Year=2011<br>Employment=%{marker.size}<extra></extra>",
           "ids": [
            "Real_Estate"
           ],
           "legendgroup": "Real_Estate",
           "marker": {
            "color": "#FF6692",
            "size": [
             17600
            ],
            "sizemode": "area",
            "sizeref": 67.953125,
            "symbol": "circle"
           },
           "mode": "markers",
           "name": "Real_Estate",
           "showlegend": true,
           "type": "scatter",
           "x": [
            "Real_Estate"
           ],
           "xaxis": "x",
           "y": [
            17600
           ],
           "yaxis": "y"
          },
          {
           "hovertemplate": "Industry=%{x}<br>Year=2011<br>Employment=%{marker.size}<extra></extra>",
           "ids": [
            "Professional_Service"
           ],
           "legendgroup": "Professional_Service",
           "marker": {
            "color": "#B6E880",
            "size": [
             143600
            ],
            "sizemode": "area",
            "sizeref": 67.953125,
            "symbol": "circle"
           },
           "mode": "markers",
           "name": "Professional_Service",
           "showlegend": true,
           "type": "scatter",
           "x": [
            "Professional_Service"
           ],
           "xaxis": "x",
           "y": [
            143600
           ],
           "yaxis": "y"
          },
          {
           "hovertemplate": "Industry=%{x}<br>Year=2011<br>Employment=%{marker.size}<extra></extra>",
           "ids": [
            "Public_Adminstration"
           ],
           "legendgroup": "Public_Adminstration",
           "marker": {
            "color": "#FF97FF",
            "size": [
             425600
            ],
            "sizemode": "area",
            "sizeref": 67.953125,
            "symbol": "circle"
           },
           "mode": "markers",
           "name": "Public_Adminstration",
           "showlegend": true,
           "type": "scatter",
           "x": [
            "Public_Adminstration"
           ],
           "xaxis": "x",
           "y": [
            425600
           ],
           "yaxis": "y"
          },
          {
           "hovertemplate": "Industry=%{x}<br>Year=2011<br>Employment=%{marker.size}<extra></extra>",
           "ids": [
            "Other_Service"
           ],
           "legendgroup": "Other_Service",
           "marker": {
            "color": "#FECB52",
            "size": [
             72400
            ],
            "sizemode": "area",
            "sizeref": 67.953125,
            "symbol": "circle"
           },
           "mode": "markers",
           "name": "Other_Service",
           "showlegend": true,
           "type": "scatter",
           "x": [
            "Other_Service"
           ],
           "xaxis": "x",
           "y": [
            72400
           ],
           "yaxis": "y"
          }
         ],
         "name": "2011"
        },
        {
         "data": [
          {
           "hovertemplate": "Industry=%{x}<br>Year=2012<br>Employment=%{marker.size}<extra></extra>",
           "ids": [
            "Agriculture"
           ],
           "legendgroup": "Agriculture",
           "marker": {
            "color": "#636efa",
            "size": [
             36100
            ],
            "sizemode": "area",
            "sizeref": 67.953125,
            "symbol": "circle"
           },
           "mode": "markers",
           "name": "Agriculture",
           "showlegend": true,
           "type": "scatter",
           "x": [
            "Agriculture"
           ],
           "xaxis": "x",
           "y": [
            36100
           ],
           "yaxis": "y"
          },
          {
           "hovertemplate": "Industry=%{x}<br>Year=2012<br>Employment=%{marker.size}<extra></extra>",
           "ids": [
            "Production "
           ],
           "legendgroup": "Production ",
           "marker": {
            "color": "#EF553B",
            "size": [
             154400
            ],
            "sizemode": "area",
            "sizeref": 67.953125,
            "symbol": "circle"
           },
           "mode": "markers",
           "name": "Production ",
           "showlegend": true,
           "type": "scatter",
           "x": [
            "Production "
           ],
           "xaxis": "x",
           "y": [
            154400
           ],
           "yaxis": "y"
          },
          {
           "hovertemplate": "Industry=%{x}<br>Year=2012<br>Employment=%{marker.size}<extra></extra>",
           "ids": [
            "Construction "
           ],
           "legendgroup": "Construction ",
           "marker": {
            "color": "#00cc96",
            "size": [
             91300
            ],
            "sizemode": "area",
            "sizeref": 67.953125,
            "symbol": "circle"
           },
           "mode": "markers",
           "name": "Construction ",
           "showlegend": true,
           "type": "scatter",
           "x": [
            "Construction "
           ],
           "xaxis": "x",
           "y": [
            91300
           ],
           "yaxis": "y"
          },
          {
           "hovertemplate": "Industry=%{x}<br>Year=2012<br>Employment=%{marker.size}<extra></extra>",
           "ids": [
            "Retail"
           ],
           "legendgroup": "Retail",
           "marker": {
            "color": "#ab63fa",
            "size": [
             347300
            ],
            "sizemode": "area",
            "sizeref": 67.953125,
            "symbol": "circle"
           },
           "mode": "markers",
           "name": "Retail",
           "showlegend": true,
           "type": "scatter",
           "x": [
            "Retail"
           ],
           "xaxis": "x",
           "y": [
            347300
           ],
           "yaxis": "y"
          },
          {
           "hovertemplate": "Industry=%{x}<br>Year=2012<br>Employment=%{marker.size}<extra></extra>",
           "ids": [
            "ICT"
           ],
           "legendgroup": "ICT",
           "marker": {
            "color": "#FFA15A",
            "size": [
             27200
            ],
            "sizemode": "area",
            "sizeref": 67.953125,
            "symbol": "circle"
           },
           "mode": "markers",
           "name": "ICT",
           "showlegend": true,
           "type": "scatter",
           "x": [
            "ICT"
           ],
           "xaxis": "x",
           "y": [
            27200
           ],
           "yaxis": "y"
          },
          {
           "hovertemplate": "Industry=%{x}<br>Year=2012<br>Employment=%{marker.size}<extra></extra>",
           "ids": [
            "Finance"
           ],
           "legendgroup": "Finance",
           "marker": {
            "color": "#19d3f3",
            "size": [
             31100
            ],
            "sizemode": "area",
            "sizeref": 67.953125,
            "symbol": "circle"
           },
           "mode": "markers",
           "name": "Finance",
           "showlegend": true,
           "type": "scatter",
           "x": [
            "Finance"
           ],
           "xaxis": "x",
           "y": [
            31100
           ],
           "yaxis": "y"
          },
          {
           "hovertemplate": "Industry=%{x}<br>Year=2012<br>Employment=%{marker.size}<extra></extra>",
           "ids": [
            "Real_Estate"
           ],
           "legendgroup": "Real_Estate",
           "marker": {
            "color": "#FF6692",
            "size": [
             18800
            ],
            "sizemode": "area",
            "sizeref": 67.953125,
            "symbol": "circle"
           },
           "mode": "markers",
           "name": "Real_Estate",
           "showlegend": true,
           "type": "scatter",
           "x": [
            "Real_Estate"
           ],
           "xaxis": "x",
           "y": [
            18800
           ],
           "yaxis": "y"
          },
          {
           "hovertemplate": "Industry=%{x}<br>Year=2012<br>Employment=%{marker.size}<extra></extra>",
           "ids": [
            "Professional_Service"
           ],
           "legendgroup": "Professional_Service",
           "marker": {
            "color": "#B6E880",
            "size": [
             137300
            ],
            "sizemode": "area",
            "sizeref": 67.953125,
            "symbol": "circle"
           },
           "mode": "markers",
           "name": "Professional_Service",
           "showlegend": true,
           "type": "scatter",
           "x": [
            "Professional_Service"
           ],
           "xaxis": "x",
           "y": [
            137300
           ],
           "yaxis": "y"
          },
          {
           "hovertemplate": "Industry=%{x}<br>Year=2012<br>Employment=%{marker.size}<extra></extra>",
           "ids": [
            "Public_Adminstration"
           ],
           "legendgroup": "Public_Adminstration",
           "marker": {
            "color": "#FF97FF",
            "size": [
             421000
            ],
            "sizemode": "area",
            "sizeref": 67.953125,
            "symbol": "circle"
           },
           "mode": "markers",
           "name": "Public_Adminstration",
           "showlegend": true,
           "type": "scatter",
           "x": [
            "Public_Adminstration"
           ],
           "xaxis": "x",
           "y": [
            421000
           ],
           "yaxis": "y"
          },
          {
           "hovertemplate": "Industry=%{x}<br>Year=2012<br>Employment=%{marker.size}<extra></extra>",
           "ids": [
            "Other_Service"
           ],
           "legendgroup": "Other_Service",
           "marker": {
            "color": "#FECB52",
            "size": [
             72800
            ],
            "sizemode": "area",
            "sizeref": 67.953125,
            "symbol": "circle"
           },
           "mode": "markers",
           "name": "Other_Service",
           "showlegend": true,
           "type": "scatter",
           "x": [
            "Other_Service"
           ],
           "xaxis": "x",
           "y": [
            72800
           ],
           "yaxis": "y"
          }
         ],
         "name": "2012"
        },
        {
         "data": [
          {
           "hovertemplate": "Industry=%{x}<br>Year=2013<br>Employment=%{marker.size}<extra></extra>",
           "ids": [
            "Agriculture"
           ],
           "legendgroup": "Agriculture",
           "marker": {
            "color": "#636efa",
            "size": [
             36800
            ],
            "sizemode": "area",
            "sizeref": 67.953125,
            "symbol": "circle"
           },
           "mode": "markers",
           "name": "Agriculture",
           "showlegend": true,
           "type": "scatter",
           "x": [
            "Agriculture"
           ],
           "xaxis": "x",
           "y": [
            36800
           ],
           "yaxis": "y"
          },
          {
           "hovertemplate": "Industry=%{x}<br>Year=2013<br>Employment=%{marker.size}<extra></extra>",
           "ids": [
            "Production "
           ],
           "legendgroup": "Production ",
           "marker": {
            "color": "#EF553B",
            "size": [
             164200
            ],
            "sizemode": "area",
            "sizeref": 67.953125,
            "symbol": "circle"
           },
           "mode": "markers",
           "name": "Production ",
           "showlegend": true,
           "type": "scatter",
           "x": [
            "Production "
           ],
           "xaxis": "x",
           "y": [
            164200
           ],
           "yaxis": "y"
          },
          {
           "hovertemplate": "Industry=%{x}<br>Year=2013<br>Employment=%{marker.size}<extra></extra>",
           "ids": [
            "Construction "
           ],
           "legendgroup": "Construction ",
           "marker": {
            "color": "#00cc96",
            "size": [
             89300
            ],
            "sizemode": "area",
            "sizeref": 67.953125,
            "symbol": "circle"
           },
           "mode": "markers",
           "name": "Construction ",
           "showlegend": true,
           "type": "scatter",
           "x": [
            "Construction "
           ],
           "xaxis": "x",
           "y": [
            89300
           ],
           "yaxis": "y"
          },
          {
           "hovertemplate": "Industry=%{x}<br>Year=2013<br>Employment=%{marker.size}<extra></extra>",
           "ids": [
            "Retail"
           ],
           "legendgroup": "Retail",
           "marker": {
            "color": "#ab63fa",
            "size": [
             345100
            ],
            "sizemode": "area",
            "sizeref": 67.953125,
            "symbol": "circle"
           },
           "mode": "markers",
           "name": "Retail",
           "showlegend": true,
           "type": "scatter",
           "x": [
            "Retail"
           ],
           "xaxis": "x",
           "y": [
            345100
           ],
           "yaxis": "y"
          },
          {
           "hovertemplate": "Industry=%{x}<br>Year=2013<br>Employment=%{marker.size}<extra></extra>",
           "ids": [
            "ICT"
           ],
           "legendgroup": "ICT",
           "marker": {
            "color": "#FFA15A",
            "size": [
             26900
            ],
            "sizemode": "area",
            "sizeref": 67.953125,
            "symbol": "circle"
           },
           "mode": "markers",
           "name": "ICT",
           "showlegend": true,
           "type": "scatter",
           "x": [
            "ICT"
           ],
           "xaxis": "x",
           "y": [
            26900
           ],
           "yaxis": "y"
          },
          {
           "hovertemplate": "Industry=%{x}<br>Year=2013<br>Employment=%{marker.size}<extra></extra>",
           "ids": [
            "Finance"
           ],
           "legendgroup": "Finance",
           "marker": {
            "color": "#19d3f3",
            "size": [
             32400
            ],
            "sizemode": "area",
            "sizeref": 67.953125,
            "symbol": "circle"
           },
           "mode": "markers",
           "name": "Finance",
           "showlegend": true,
           "type": "scatter",
           "x": [
            "Finance"
           ],
           "xaxis": "x",
           "y": [
            32400
           ],
           "yaxis": "y"
          },
          {
           "hovertemplate": "Industry=%{x}<br>Year=2013<br>Employment=%{marker.size}<extra></extra>",
           "ids": [
            "Real_Estate"
           ],
           "legendgroup": "Real_Estate",
           "marker": {
            "color": "#FF6692",
            "size": [
             18000
            ],
            "sizemode": "area",
            "sizeref": 67.953125,
            "symbol": "circle"
           },
           "mode": "markers",
           "name": "Real_Estate",
           "showlegend": true,
           "type": "scatter",
           "x": [
            "Real_Estate"
           ],
           "xaxis": "x",
           "y": [
            18000
           ],
           "yaxis": "y"
          },
          {
           "hovertemplate": "Industry=%{x}<br>Year=2013<br>Employment=%{marker.size}<extra></extra>",
           "ids": [
            "Professional_Service"
           ],
           "legendgroup": "Professional_Service",
           "marker": {
            "color": "#B6E880",
            "size": [
             149900
            ],
            "sizemode": "area",
            "sizeref": 67.953125,
            "symbol": "circle"
           },
           "mode": "markers",
           "name": "Professional_Service",
           "showlegend": true,
           "type": "scatter",
           "x": [
            "Professional_Service"
           ],
           "xaxis": "x",
           "y": [
            149900
           ],
           "yaxis": "y"
          },
          {
           "hovertemplate": "Industry=%{x}<br>Year=2013<br>Employment=%{marker.size}<extra></extra>",
           "ids": [
            "Public_Adminstration"
           ],
           "legendgroup": "Public_Adminstration",
           "marker": {
            "color": "#FF97FF",
            "size": [
             427000
            ],
            "sizemode": "area",
            "sizeref": 67.953125,
            "symbol": "circle"
           },
           "mode": "markers",
           "name": "Public_Adminstration",
           "showlegend": true,
           "type": "scatter",
           "x": [
            "Public_Adminstration"
           ],
           "xaxis": "x",
           "y": [
            427000
           ],
           "yaxis": "y"
          },
          {
           "hovertemplate": "Industry=%{x}<br>Year=2013<br>Employment=%{marker.size}<extra></extra>",
           "ids": [
            "Other_Service"
           ],
           "legendgroup": "Other_Service",
           "marker": {
            "color": "#FECB52",
            "size": [
             75500
            ],
            "sizemode": "area",
            "sizeref": 67.953125,
            "symbol": "circle"
           },
           "mode": "markers",
           "name": "Other_Service",
           "showlegend": true,
           "type": "scatter",
           "x": [
            "Other_Service"
           ],
           "xaxis": "x",
           "y": [
            75500
           ],
           "yaxis": "y"
          }
         ],
         "name": "2013"
        },
        {
         "data": [
          {
           "hovertemplate": "Industry=%{x}<br>Year=2014<br>Employment=%{marker.size}<extra></extra>",
           "ids": [
            "Agriculture"
           ],
           "legendgroup": "Agriculture",
           "marker": {
            "color": "#636efa",
            "size": [
             42700
            ],
            "sizemode": "area",
            "sizeref": 67.953125,
            "symbol": "circle"
           },
           "mode": "markers",
           "name": "Agriculture",
           "showlegend": true,
           "type": "scatter",
           "x": [
            "Agriculture"
           ],
           "xaxis": "x",
           "y": [
            42700
           ],
           "yaxis": "y"
          },
          {
           "hovertemplate": "Industry=%{x}<br>Year=2014<br>Employment=%{marker.size}<extra></extra>",
           "ids": [
            "Production "
           ],
           "legendgroup": "Production ",
           "marker": {
            "color": "#EF553B",
            "size": [
             173300
            ],
            "sizemode": "area",
            "sizeref": 67.953125,
            "symbol": "circle"
           },
           "mode": "markers",
           "name": "Production ",
           "showlegend": true,
           "type": "scatter",
           "x": [
            "Production "
           ],
           "xaxis": "x",
           "y": [
            173300
           ],
           "yaxis": "y"
          },
          {
           "hovertemplate": "Industry=%{x}<br>Year=2014<br>Employment=%{marker.size}<extra></extra>",
           "ids": [
            "Construction "
           ],
           "legendgroup": "Construction ",
           "marker": {
            "color": "#00cc96",
            "size": [
             97000
            ],
            "sizemode": "area",
            "sizeref": 67.953125,
            "symbol": "circle"
           },
           "mode": "markers",
           "name": "Construction ",
           "showlegend": true,
           "type": "scatter",
           "x": [
            "Construction "
           ],
           "xaxis": "x",
           "y": [
            97000
           ],
           "yaxis": "y"
          },
          {
           "hovertemplate": "Industry=%{x}<br>Year=2014<br>Employment=%{marker.size}<extra></extra>",
           "ids": [
            "Retail"
           ],
           "legendgroup": "Retail",
           "marker": {
            "color": "#ab63fa",
            "size": [
             337300
            ],
            "sizemode": "area",
            "sizeref": 67.953125,
            "symbol": "circle"
           },
           "mode": "markers",
           "name": "Retail",
           "showlegend": true,
           "type": "scatter",
           "x": [
            "Retail"
           ],
           "xaxis": "x",
           "y": [
            337300
           ],
           "yaxis": "y"
          },
          {
           "hovertemplate": "Industry=%{x}<br>Year=2014<br>Employment=%{marker.size}<extra></extra>",
           "ids": [
            "ICT"
           ],
           "legendgroup": "ICT",
           "marker": {
            "color": "#FFA15A",
            "size": [
             35700
            ],
            "sizemode": "area",
            "sizeref": 67.953125,
            "symbol": "circle"
           },
           "mode": "markers",
           "name": "ICT",
           "showlegend": true,
           "type": "scatter",
           "x": [
            "ICT"
           ],
           "xaxis": "x",
           "y": [
            35700
           ],
           "yaxis": "y"
          },
          {
           "hovertemplate": "Industry=%{x}<br>Year=2014<br>Employment=%{marker.size}<extra></extra>",
           "ids": [
            "Finance"
           ],
           "legendgroup": "Finance",
           "marker": {
            "color": "#19d3f3",
            "size": [
             32400
            ],
            "sizemode": "area",
            "sizeref": 67.953125,
            "symbol": "circle"
           },
           "mode": "markers",
           "name": "Finance",
           "showlegend": true,
           "type": "scatter",
           "x": [
            "Finance"
           ],
           "xaxis": "x",
           "y": [
            32400
           ],
           "yaxis": "y"
          },
          {
           "hovertemplate": "Industry=%{x}<br>Year=2014<br>Employment=%{marker.size}<extra></extra>",
           "ids": [
            "Real_Estate"
           ],
           "legendgroup": "Real_Estate",
           "marker": {
            "color": "#FF6692",
            "size": [
             22200
            ],
            "sizemode": "area",
            "sizeref": 67.953125,
            "symbol": "circle"
           },
           "mode": "markers",
           "name": "Real_Estate",
           "showlegend": true,
           "type": "scatter",
           "x": [
            "Real_Estate"
           ],
           "xaxis": "x",
           "y": [
            22200
           ],
           "yaxis": "y"
          },
          {
           "hovertemplate": "Industry=%{x}<br>Year=2014<br>Employment=%{marker.size}<extra></extra>",
           "ids": [
            "Professional_Service"
           ],
           "legendgroup": "Professional_Service",
           "marker": {
            "color": "#B6E880",
            "size": [
             152900
            ],
            "sizemode": "area",
            "sizeref": 67.953125,
            "symbol": "circle"
           },
           "mode": "markers",
           "name": "Professional_Service",
           "showlegend": true,
           "type": "scatter",
           "x": [
            "Professional_Service"
           ],
           "xaxis": "x",
           "y": [
            152900
           ],
           "yaxis": "y"
          },
          {
           "hovertemplate": "Industry=%{x}<br>Year=2014<br>Employment=%{marker.size}<extra></extra>",
           "ids": [
            "Public_Adminstration"
           ],
           "legendgroup": "Public_Adminstration",
           "marker": {
            "color": "#FF97FF",
            "size": [
             427600
            ],
            "sizemode": "area",
            "sizeref": 67.953125,
            "symbol": "circle"
           },
           "mode": "markers",
           "name": "Public_Adminstration",
           "showlegend": true,
           "type": "scatter",
           "x": [
            "Public_Adminstration"
           ],
           "xaxis": "x",
           "y": [
            427600
           ],
           "yaxis": "y"
          },
          {
           "hovertemplate": "Industry=%{x}<br>Year=2014<br>Employment=%{marker.size}<extra></extra>",
           "ids": [
            "Other_Service"
           ],
           "legendgroup": "Other_Service",
           "marker": {
            "color": "#FECB52",
            "size": [
             73300
            ],
            "sizemode": "area",
            "sizeref": 67.953125,
            "symbol": "circle"
           },
           "mode": "markers",
           "name": "Other_Service",
           "showlegend": true,
           "type": "scatter",
           "x": [
            "Other_Service"
           ],
           "xaxis": "x",
           "y": [
            73300
           ],
           "yaxis": "y"
          }
         ],
         "name": "2014"
        },
        {
         "data": [
          {
           "hovertemplate": "Industry=%{x}<br>Year=2015<br>Employment=%{marker.size}<extra></extra>",
           "ids": [
            "Agriculture"
           ],
           "legendgroup": "Agriculture",
           "marker": {
            "color": "#636efa",
            "size": [
             40700
            ],
            "sizemode": "area",
            "sizeref": 67.953125,
            "symbol": "circle"
           },
           "mode": "markers",
           "name": "Agriculture",
           "showlegend": true,
           "type": "scatter",
           "x": [
            "Agriculture"
           ],
           "xaxis": "x",
           "y": [
            40700
           ],
           "yaxis": "y"
          },
          {
           "hovertemplate": "Industry=%{x}<br>Year=2015<br>Employment=%{marker.size}<extra></extra>",
           "ids": [
            "Production "
           ],
           "legendgroup": "Production ",
           "marker": {
            "color": "#EF553B",
            "size": [
             172300
            ],
            "sizemode": "area",
            "sizeref": 67.953125,
            "symbol": "circle"
           },
           "mode": "markers",
           "name": "Production ",
           "showlegend": true,
           "type": "scatter",
           "x": [
            "Production "
           ],
           "xaxis": "x",
           "y": [
            172300
           ],
           "yaxis": "y"
          },
          {
           "hovertemplate": "Industry=%{x}<br>Year=2015<br>Employment=%{marker.size}<extra></extra>",
           "ids": [
            "Construction "
           ],
           "legendgroup": "Construction ",
           "marker": {
            "color": "#00cc96",
            "size": [
             92600
            ],
            "sizemode": "area",
            "sizeref": 67.953125,
            "symbol": "circle"
           },
           "mode": "markers",
           "name": "Construction ",
           "showlegend": true,
           "type": "scatter",
           "x": [
            "Construction "
           ],
           "xaxis": "x",
           "y": [
            92600
           ],
           "yaxis": "y"
          },
          {
           "hovertemplate": "Industry=%{x}<br>Year=2015<br>Employment=%{marker.size}<extra></extra>",
           "ids": [
            "Retail"
           ],
           "legendgroup": "Retail",
           "marker": {
            "color": "#ab63fa",
            "size": [
             357700
            ],
            "sizemode": "area",
            "sizeref": 67.953125,
            "symbol": "circle"
           },
           "mode": "markers",
           "name": "Retail",
           "showlegend": true,
           "type": "scatter",
           "x": [
            "Retail"
           ],
           "xaxis": "x",
           "y": [
            357700
           ],
           "yaxis": "y"
          },
          {
           "hovertemplate": "Industry=%{x}<br>Year=2015<br>Employment=%{marker.size}<extra></extra>",
           "ids": [
            "ICT"
           ],
           "legendgroup": "ICT",
           "marker": {
            "color": "#FFA15A",
            "size": [
             24000
            ],
            "sizemode": "area",
            "sizeref": 67.953125,
            "symbol": "circle"
           },
           "mode": "markers",
           "name": "ICT",
           "showlegend": true,
           "type": "scatter",
           "x": [
            "ICT"
           ],
           "xaxis": "x",
           "y": [
            24000
           ],
           "yaxis": "y"
          },
          {
           "hovertemplate": "Industry=%{x}<br>Year=2015<br>Employment=%{marker.size}<extra></extra>",
           "ids": [
            "Finance"
           ],
           "legendgroup": "Finance",
           "marker": {
            "color": "#19d3f3",
            "size": [
             30800
            ],
            "sizemode": "area",
            "sizeref": 67.953125,
            "symbol": "circle"
           },
           "mode": "markers",
           "name": "Finance",
           "showlegend": true,
           "type": "scatter",
           "x": [
            "Finance"
           ],
           "xaxis": "x",
           "y": [
            30800
           ],
           "yaxis": "y"
          },
          {
           "hovertemplate": "Industry=%{x}<br>Year=2015<br>Employment=%{marker.size}<extra></extra>",
           "ids": [
            "Real_Estate"
           ],
           "legendgroup": "Real_Estate",
           "marker": {
            "color": "#FF6692",
            "size": [
             19100
            ],
            "sizemode": "area",
            "sizeref": 67.953125,
            "symbol": "circle"
           },
           "mode": "markers",
           "name": "Real_Estate",
           "showlegend": true,
           "type": "scatter",
           "x": [
            "Real_Estate"
           ],
           "xaxis": "x",
           "y": [
            19100
           ],
           "yaxis": "y"
          },
          {
           "hovertemplate": "Industry=%{x}<br>Year=2015<br>Employment=%{marker.size}<extra></extra>",
           "ids": [
            "Professional_Service"
           ],
           "legendgroup": "Professional_Service",
           "marker": {
            "color": "#B6E880",
            "size": [
             166200
            ],
            "sizemode": "area",
            "sizeref": 67.953125,
            "symbol": "circle"
           },
           "mode": "markers",
           "name": "Professional_Service",
           "showlegend": true,
           "type": "scatter",
           "x": [
            "Professional_Service"
           ],
           "xaxis": "x",
           "y": [
            166200
           ],
           "yaxis": "y"
          },
          {
           "hovertemplate": "Industry=%{x}<br>Year=2015<br>Employment=%{marker.size}<extra></extra>",
           "ids": [
            "Public_Adminstration"
           ],
           "legendgroup": "Public_Adminstration",
           "marker": {
            "color": "#FF97FF",
            "size": [
             423200
            ],
            "sizemode": "area",
            "sizeref": 67.953125,
            "symbol": "circle"
           },
           "mode": "markers",
           "name": "Public_Adminstration",
           "showlegend": true,
           "type": "scatter",
           "x": [
            "Public_Adminstration"
           ],
           "xaxis": "x",
           "y": [
            423200
           ],
           "yaxis": "y"
          },
          {
           "hovertemplate": "Industry=%{x}<br>Year=2015<br>Employment=%{marker.size}<extra></extra>",
           "ids": [
            "Other_Service"
           ],
           "legendgroup": "Other_Service",
           "marker": {
            "color": "#FECB52",
            "size": [
             77200
            ],
            "sizemode": "area",
            "sizeref": 67.953125,
            "symbol": "circle"
           },
           "mode": "markers",
           "name": "Other_Service",
           "showlegend": true,
           "type": "scatter",
           "x": [
            "Other_Service"
           ],
           "xaxis": "x",
           "y": [
            77200
           ],
           "yaxis": "y"
          }
         ],
         "name": "2015"
        },
        {
         "data": [
          {
           "hovertemplate": "Industry=%{x}<br>Year=2016<br>Employment=%{marker.size}<extra></extra>",
           "ids": [
            "Agriculture"
           ],
           "legendgroup": "Agriculture",
           "marker": {
            "color": "#636efa",
            "size": [
             43200
            ],
            "sizemode": "area",
            "sizeref": 67.953125,
            "symbol": "circle"
           },
           "mode": "markers",
           "name": "Agriculture",
           "showlegend": true,
           "type": "scatter",
           "x": [
            "Agriculture"
           ],
           "xaxis": "x",
           "y": [
            43200
           ],
           "yaxis": "y"
          },
          {
           "hovertemplate": "Industry=%{x}<br>Year=2016<br>Employment=%{marker.size}<extra></extra>",
           "ids": [
            "Production "
           ],
           "legendgroup": "Production ",
           "marker": {
            "color": "#EF553B",
            "size": [
             162500
            ],
            "sizemode": "area",
            "sizeref": 67.953125,
            "symbol": "circle"
           },
           "mode": "markers",
           "name": "Production ",
           "showlegend": true,
           "type": "scatter",
           "x": [
            "Production "
           ],
           "xaxis": "x",
           "y": [
            162500
           ],
           "yaxis": "y"
          },
          {
           "hovertemplate": "Industry=%{x}<br>Year=2016<br>Employment=%{marker.size}<extra></extra>",
           "ids": [
            "Construction "
           ],
           "legendgroup": "Construction ",
           "marker": {
            "color": "#00cc96",
            "size": [
             102700
            ],
            "sizemode": "area",
            "sizeref": 67.953125,
            "symbol": "circle"
           },
           "mode": "markers",
           "name": "Construction ",
           "showlegend": true,
           "type": "scatter",
           "x": [
            "Construction "
           ],
           "xaxis": "x",
           "y": [
            102700
           ],
           "yaxis": "y"
          },
          {
           "hovertemplate": "Industry=%{x}<br>Year=2016<br>Employment=%{marker.size}<extra></extra>",
           "ids": [
            "Retail"
           ],
           "legendgroup": "Retail",
           "marker": {
            "color": "#ab63fa",
            "size": [
             360200
            ],
            "sizemode": "area",
            "sizeref": 67.953125,
            "symbol": "circle"
           },
           "mode": "markers",
           "name": "Retail",
           "showlegend": true,
           "type": "scatter",
           "x": [
            "Retail"
           ],
           "xaxis": "x",
           "y": [
            360200
           ],
           "yaxis": "y"
          },
          {
           "hovertemplate": "Industry=%{x}<br>Year=2016<br>Employment=%{marker.size}<extra></extra>",
           "ids": [
            "ICT"
           ],
           "legendgroup": "ICT",
           "marker": {
            "color": "#FFA15A",
            "size": [
             34400
            ],
            "sizemode": "area",
            "sizeref": 67.953125,
            "symbol": "circle"
           },
           "mode": "markers",
           "name": "ICT",
           "showlegend": true,
           "type": "scatter",
           "x": [
            "ICT"
           ],
           "xaxis": "x",
           "y": [
            34400
           ],
           "yaxis": "y"
          },
          {
           "hovertemplate": "Industry=%{x}<br>Year=2016<br>Employment=%{marker.size}<extra></extra>",
           "ids": [
            "Finance"
           ],
           "legendgroup": "Finance",
           "marker": {
            "color": "#19d3f3",
            "size": [
             31000
            ],
            "sizemode": "area",
            "sizeref": 67.953125,
            "symbol": "circle"
           },
           "mode": "markers",
           "name": "Finance",
           "showlegend": true,
           "type": "scatter",
           "x": [
            "Finance"
           ],
           "xaxis": "x",
           "y": [
            31000
           ],
           "yaxis": "y"
          },
          {
           "hovertemplate": "Industry=%{x}<br>Year=2016<br>Employment=%{marker.size}<extra></extra>",
           "ids": [
            "Real_Estate"
           ],
           "legendgroup": "Real_Estate",
           "marker": {
            "color": "#FF6692",
            "size": [
             22700
            ],
            "sizemode": "area",
            "sizeref": 67.953125,
            "symbol": "circle"
           },
           "mode": "markers",
           "name": "Real_Estate",
           "showlegend": true,
           "type": "scatter",
           "x": [
            "Real_Estate"
           ],
           "xaxis": "x",
           "y": [
            22700
           ],
           "yaxis": "y"
          },
          {
           "hovertemplate": "Industry=%{x}<br>Year=2016<br>Employment=%{marker.size}<extra></extra>",
           "ids": [
            "Professional_Service"
           ],
           "legendgroup": "Professional_Service",
           "marker": {
            "color": "#B6E880",
            "size": [
             161200
            ],
            "sizemode": "area",
            "sizeref": 67.953125,
            "symbol": "circle"
           },
           "mode": "markers",
           "name": "Professional_Service",
           "showlegend": true,
           "type": "scatter",
           "x": [
            "Professional_Service"
           ],
           "xaxis": "x",
           "y": [
            161200
           ],
           "yaxis": "y"
          },
          {
           "hovertemplate": "Industry=%{x}<br>Year=2016<br>Employment=%{marker.size}<extra></extra>",
           "ids": [
            "Public_Adminstration"
           ],
           "legendgroup": "Public_Adminstration",
           "marker": {
            "color": "#FF97FF",
            "size": [
             418500
            ],
            "sizemode": "area",
            "sizeref": 67.953125,
            "symbol": "circle"
           },
           "mode": "markers",
           "name": "Public_Adminstration",
           "showlegend": true,
           "type": "scatter",
           "x": [
            "Public_Adminstration"
           ],
           "xaxis": "x",
           "y": [
            418500
           ],
           "yaxis": "y"
          },
          {
           "hovertemplate": "Industry=%{x}<br>Year=2016<br>Employment=%{marker.size}<extra></extra>",
           "ids": [
            "Other_Service"
           ],
           "legendgroup": "Other_Service",
           "marker": {
            "color": "#FECB52",
            "size": [
             72400
            ],
            "sizemode": "area",
            "sizeref": 67.953125,
            "symbol": "circle"
           },
           "mode": "markers",
           "name": "Other_Service",
           "showlegend": true,
           "type": "scatter",
           "x": [
            "Other_Service"
           ],
           "xaxis": "x",
           "y": [
            72400
           ],
           "yaxis": "y"
          }
         ],
         "name": "2016"
        },
        {
         "data": [
          {
           "hovertemplate": "Industry=%{x}<br>Year=2017<br>Employment=%{marker.size}<extra></extra>",
           "ids": [
            "Agriculture"
           ],
           "legendgroup": "Agriculture",
           "marker": {
            "color": "#636efa",
            "size": [
             40200
            ],
            "sizemode": "area",
            "sizeref": 67.953125,
            "symbol": "circle"
           },
           "mode": "markers",
           "name": "Agriculture",
           "showlegend": true,
           "type": "scatter",
           "x": [
            "Agriculture"
           ],
           "xaxis": "x",
           "y": [
            40200
           ],
           "yaxis": "y"
          },
          {
           "hovertemplate": "Industry=%{x}<br>Year=2017<br>Employment=%{marker.size}<extra></extra>",
           "ids": [
            "Production "
           ],
           "legendgroup": "Production ",
           "marker": {
            "color": "#EF553B",
            "size": [
             165100
            ],
            "sizemode": "area",
            "sizeref": 67.953125,
            "symbol": "circle"
           },
           "mode": "markers",
           "name": "Production ",
           "showlegend": true,
           "type": "scatter",
           "x": [
            "Production "
           ],
           "xaxis": "x",
           "y": [
            165100
           ],
           "yaxis": "y"
          },
          {
           "hovertemplate": "Industry=%{x}<br>Year=2017<br>Employment=%{marker.size}<extra></extra>",
           "ids": [
            "Construction "
           ],
           "legendgroup": "Construction ",
           "marker": {
            "color": "#00cc96",
            "size": [
             90800
            ],
            "sizemode": "area",
            "sizeref": 67.953125,
            "symbol": "circle"
           },
           "mode": "markers",
           "name": "Construction ",
           "showlegend": true,
           "type": "scatter",
           "x": [
            "Construction "
           ],
           "xaxis": "x",
           "y": [
            90800
           ],
           "yaxis": "y"
          },
          {
           "hovertemplate": "Industry=%{x}<br>Year=2017<br>Employment=%{marker.size}<extra></extra>",
           "ids": [
            "Retail"
           ],
           "legendgroup": "Retail",
           "marker": {
            "color": "#ab63fa",
            "size": [
             333500
            ],
            "sizemode": "area",
            "sizeref": 67.953125,
            "symbol": "circle"
           },
           "mode": "markers",
           "name": "Retail",
           "showlegend": true,
           "type": "scatter",
           "x": [
            "Retail"
           ],
           "xaxis": "x",
           "y": [
            333500
           ],
           "yaxis": "y"
          },
          {
           "hovertemplate": "Industry=%{x}<br>Year=2017<br>Employment=%{marker.size}<extra></extra>",
           "ids": [
            "ICT"
           ],
           "legendgroup": "ICT",
           "marker": {
            "color": "#FFA15A",
            "size": [
             58900
            ],
            "sizemode": "area",
            "sizeref": 67.953125,
            "symbol": "circle"
           },
           "mode": "markers",
           "name": "ICT",
           "showlegend": true,
           "type": "scatter",
           "x": [
            "ICT"
           ],
           "xaxis": "x",
           "y": [
            58900
           ],
           "yaxis": "y"
          },
          {
           "hovertemplate": "Industry=%{x}<br>Year=2017<br>Employment=%{marker.size}<extra></extra>",
           "ids": [
            "Finance"
           ],
           "legendgroup": "Finance",
           "marker": {
            "color": "#19d3f3",
            "size": [
             32100
            ],
            "sizemode": "area",
            "sizeref": 67.953125,
            "symbol": "circle"
           },
           "mode": "markers",
           "name": "Finance",
           "showlegend": true,
           "type": "scatter",
           "x": [
            "Finance"
           ],
           "xaxis": "x",
           "y": [
            32100
           ],
           "yaxis": "y"
          },
          {
           "hovertemplate": "Industry=%{x}<br>Year=2017<br>Employment=%{marker.size}<extra></extra>",
           "ids": [
            "Real_Estate"
           ],
           "legendgroup": "Real_Estate",
           "marker": {
            "color": "#FF6692",
            "size": [
             18200
            ],
            "sizemode": "area",
            "sizeref": 67.953125,
            "symbol": "circle"
           },
           "mode": "markers",
           "name": "Real_Estate",
           "showlegend": true,
           "type": "scatter",
           "x": [
            "Real_Estate"
           ],
           "xaxis": "x",
           "y": [
            18200
           ],
           "yaxis": "y"
          },
          {
           "hovertemplate": "Industry=%{x}<br>Year=2017<br>Employment=%{marker.size}<extra></extra>",
           "ids": [
            "Professional_Service"
           ],
           "legendgroup": "Professional_Service",
           "marker": {
            "color": "#B6E880",
            "size": [
             176400
            ],
            "sizemode": "area",
            "sizeref": 67.953125,
            "symbol": "circle"
           },
           "mode": "markers",
           "name": "Professional_Service",
           "showlegend": true,
           "type": "scatter",
           "x": [
            "Professional_Service"
           ],
           "xaxis": "x",
           "y": [
            176400
           ],
           "yaxis": "y"
          },
          {
           "hovertemplate": "Industry=%{x}<br>Year=2017<br>Employment=%{marker.size}<extra></extra>",
           "ids": [
            "Public_Adminstration"
           ],
           "legendgroup": "Public_Adminstration",
           "marker": {
            "color": "#FF97FF",
            "size": [
             424500
            ],
            "sizemode": "area",
            "sizeref": 67.953125,
            "symbol": "circle"
           },
           "mode": "markers",
           "name": "Public_Adminstration",
           "showlegend": true,
           "type": "scatter",
           "x": [
            "Public_Adminstration"
           ],
           "xaxis": "x",
           "y": [
            424500
           ],
           "yaxis": "y"
          },
          {
           "hovertemplate": "Industry=%{x}<br>Year=2017<br>Employment=%{marker.size}<extra></extra>",
           "ids": [
            "Other_Service"
           ],
           "legendgroup": "Other_Service",
           "marker": {
            "color": "#FECB52",
            "size": [
             83200
            ],
            "sizemode": "area",
            "sizeref": 67.953125,
            "symbol": "circle"
           },
           "mode": "markers",
           "name": "Other_Service",
           "showlegend": true,
           "type": "scatter",
           "x": [
            "Other_Service"
           ],
           "xaxis": "x",
           "y": [
            83200
           ],
           "yaxis": "y"
          }
         ],
         "name": "2017"
        },
        {
         "data": [
          {
           "hovertemplate": "Industry=%{x}<br>Year=2018<br>Employment=%{marker.size}<extra></extra>",
           "ids": [
            "Agriculture"
           ],
           "legendgroup": "Agriculture",
           "marker": {
            "color": "#636efa",
            "size": [
             41100
            ],
            "sizemode": "area",
            "sizeref": 67.953125,
            "symbol": "circle"
           },
           "mode": "markers",
           "name": "Agriculture",
           "showlegend": true,
           "type": "scatter",
           "x": [
            "Agriculture"
           ],
           "xaxis": "x",
           "y": [
            41100
           ],
           "yaxis": "y"
          },
          {
           "hovertemplate": "Industry=%{x}<br>Year=2018<br>Employment=%{marker.size}<extra></extra>",
           "ids": [
            "Production "
           ],
           "legendgroup": "Production ",
           "marker": {
            "color": "#EF553B",
            "size": [
             165700
            ],
            "sizemode": "area",
            "sizeref": 67.953125,
            "symbol": "circle"
           },
           "mode": "markers",
           "name": "Production ",
           "showlegend": true,
           "type": "scatter",
           "x": [
            "Production "
           ],
           "xaxis": "x",
           "y": [
            165700
           ],
           "yaxis": "y"
          },
          {
           "hovertemplate": "Industry=%{x}<br>Year=2018<br>Employment=%{marker.size}<extra></extra>",
           "ids": [
            "Construction "
           ],
           "legendgroup": "Construction ",
           "marker": {
            "color": "#00cc96",
            "size": [
             101800
            ],
            "sizemode": "area",
            "sizeref": 67.953125,
            "symbol": "circle"
           },
           "mode": "markers",
           "name": "Construction ",
           "showlegend": true,
           "type": "scatter",
           "x": [
            "Construction "
           ],
           "xaxis": "x",
           "y": [
            101800
           ],
           "yaxis": "y"
          },
          {
           "hovertemplate": "Industry=%{x}<br>Year=2018<br>Employment=%{marker.size}<extra></extra>",
           "ids": [
            "Retail"
           ],
           "legendgroup": "Retail",
           "marker": {
            "color": "#ab63fa",
            "size": [
             347600
            ],
            "sizemode": "area",
            "sizeref": 67.953125,
            "symbol": "circle"
           },
           "mode": "markers",
           "name": "Retail",
           "showlegend": true,
           "type": "scatter",
           "x": [
            "Retail"
           ],
           "xaxis": "x",
           "y": [
            347600
           ],
           "yaxis": "y"
          },
          {
           "hovertemplate": "Industry=%{x}<br>Year=2018<br>Employment=%{marker.size}<extra></extra>",
           "ids": [
            "ICT"
           ],
           "legendgroup": "ICT",
           "marker": {
            "color": "#FFA15A",
            "size": [
             31500
            ],
            "sizemode": "area",
            "sizeref": 67.953125,
            "symbol": "circle"
           },
           "mode": "markers",
           "name": "ICT",
           "showlegend": true,
           "type": "scatter",
           "x": [
            "ICT"
           ],
           "xaxis": "x",
           "y": [
            31500
           ],
           "yaxis": "y"
          },
          {
           "hovertemplate": "Industry=%{x}<br>Year=2018<br>Employment=%{marker.size}<extra></extra>",
           "ids": [
            "Finance"
           ],
           "legendgroup": "Finance",
           "marker": {
            "color": "#19d3f3",
            "size": [
             35500
            ],
            "sizemode": "area",
            "sizeref": 67.953125,
            "symbol": "circle"
           },
           "mode": "markers",
           "name": "Finance",
           "showlegend": true,
           "type": "scatter",
           "x": [
            "Finance"
           ],
           "xaxis": "x",
           "y": [
            35500
           ],
           "yaxis": "y"
          },
          {
           "hovertemplate": "Industry=%{x}<br>Year=2018<br>Employment=%{marker.size}<extra></extra>",
           "ids": [
            "Real_Estate"
           ],
           "legendgroup": "Real_Estate",
           "marker": {
            "color": "#FF6692",
            "size": [
             25200
            ],
            "sizemode": "area",
            "sizeref": 67.953125,
            "symbol": "circle"
           },
           "mode": "markers",
           "name": "Real_Estate",
           "showlegend": true,
           "type": "scatter",
           "x": [
            "Real_Estate"
           ],
           "xaxis": "x",
           "y": [
            25200
           ],
           "yaxis": "y"
          },
          {
           "hovertemplate": "Industry=%{x}<br>Year=2018<br>Employment=%{marker.size}<extra></extra>",
           "ids": [
            "Professional_Service"
           ],
           "legendgroup": "Professional_Service",
           "marker": {
            "color": "#B6E880",
            "size": [
             187100
            ],
            "sizemode": "area",
            "sizeref": 67.953125,
            "symbol": "circle"
           },
           "mode": "markers",
           "name": "Professional_Service",
           "showlegend": true,
           "type": "scatter",
           "x": [
            "Professional_Service"
           ],
           "xaxis": "x",
           "y": [
            187100
           ],
           "yaxis": "y"
          },
          {
           "hovertemplate": "Industry=%{x}<br>Year=2018<br>Employment=%{marker.size}<extra></extra>",
           "ids": [
            "Public_Adminstration"
           ],
           "legendgroup": "Public_Adminstration",
           "marker": {
            "color": "#FF97FF",
            "size": [
             434900
            ],
            "sizemode": "area",
            "sizeref": 67.953125,
            "symbol": "circle"
           },
           "mode": "markers",
           "name": "Public_Adminstration",
           "showlegend": true,
           "type": "scatter",
           "x": [
            "Public_Adminstration"
           ],
           "xaxis": "x",
           "y": [
            434900
           ],
           "yaxis": "y"
          },
          {
           "hovertemplate": "Industry=%{x}<br>Year=2018<br>Employment=%{marker.size}<extra></extra>",
           "ids": [
            "Other_Service"
           ],
           "legendgroup": "Other_Service",
           "marker": {
            "color": "#FECB52",
            "size": [
             81800
            ],
            "sizemode": "area",
            "sizeref": 67.953125,
            "symbol": "circle"
           },
           "mode": "markers",
           "name": "Other_Service",
           "showlegend": true,
           "type": "scatter",
           "x": [
            "Other_Service"
           ],
           "xaxis": "x",
           "y": [
            81800
           ],
           "yaxis": "y"
          }
         ],
         "name": "2018"
        }
       ],
       "layout": {
        "legend": {
         "itemsizing": "constant",
         "title": {
          "text": "Industry"
         },
         "tracegroupgap": 0
        },
        "margin": {
         "b": 20,
         "l": 20,
         "r": 20,
         "t": 20
        },
        "paper_bgcolor": "white",
        "sliders": [
         {
          "active": 0,
          "currentvalue": {
           "prefix": "Year="
          },
          "len": 0.9,
          "pad": {
           "b": 10,
           "t": 60
          },
          "steps": [
           {
            "args": [
             [
              "2009"
             ],
             {
              "frame": {
               "duration": 0,
               "redraw": false
              },
              "fromcurrent": true,
              "mode": "immediate",
              "transition": {
               "duration": 0,
               "easing": "linear"
              }
             }
            ],
            "label": "2009",
            "method": "animate"
           },
           {
            "args": [
             [
              "2010"
             ],
             {
              "frame": {
               "duration": 0,
               "redraw": false
              },
              "fromcurrent": true,
              "mode": "immediate",
              "transition": {
               "duration": 0,
               "easing": "linear"
              }
             }
            ],
            "label": "2010",
            "method": "animate"
           },
           {
            "args": [
             [
              "2011"
             ],
             {
              "frame": {
               "duration": 0,
               "redraw": false
              },
              "fromcurrent": true,
              "mode": "immediate",
              "transition": {
               "duration": 0,
               "easing": "linear"
              }
             }
            ],
            "label": "2011",
            "method": "animate"
           },
           {
            "args": [
             [
              "2012"
             ],
             {
              "frame": {
               "duration": 0,
               "redraw": false
              },
              "fromcurrent": true,
              "mode": "immediate",
              "transition": {
               "duration": 0,
               "easing": "linear"
              }
             }
            ],
            "label": "2012",
            "method": "animate"
           },
           {
            "args": [
             [
              "2013"
             ],
             {
              "frame": {
               "duration": 0,
               "redraw": false
              },
              "fromcurrent": true,
              "mode": "immediate",
              "transition": {
               "duration": 0,
               "easing": "linear"
              }
             }
            ],
            "label": "2013",
            "method": "animate"
           },
           {
            "args": [
             [
              "2014"
             ],
             {
              "frame": {
               "duration": 0,
               "redraw": false
              },
              "fromcurrent": true,
              "mode": "immediate",
              "transition": {
               "duration": 0,
               "easing": "linear"
              }
             }
            ],
            "label": "2014",
            "method": "animate"
           },
           {
            "args": [
             [
              "2015"
             ],
             {
              "frame": {
               "duration": 0,
               "redraw": false
              },
              "fromcurrent": true,
              "mode": "immediate",
              "transition": {
               "duration": 0,
               "easing": "linear"
              }
             }
            ],
            "label": "2015",
            "method": "animate"
           },
           {
            "args": [
             [
              "2016"
             ],
             {
              "frame": {
               "duration": 0,
               "redraw": false
              },
              "fromcurrent": true,
              "mode": "immediate",
              "transition": {
               "duration": 0,
               "easing": "linear"
              }
             }
            ],
            "label": "2016",
            "method": "animate"
           },
           {
            "args": [
             [
              "2017"
             ],
             {
              "frame": {
               "duration": 0,
               "redraw": false
              },
              "fromcurrent": true,
              "mode": "immediate",
              "transition": {
               "duration": 0,
               "easing": "linear"
              }
             }
            ],
            "label": "2017",
            "method": "animate"
           },
           {
            "args": [
             [
              "2018"
             ],
             {
              "frame": {
               "duration": 0,
               "redraw": false
              },
              "fromcurrent": true,
              "mode": "immediate",
              "transition": {
               "duration": 0,
               "easing": "linear"
              }
             }
            ],
            "label": "2018",
            "method": "animate"
           }
          ],
          "x": 0.1,
          "xanchor": "left",
          "y": 0,
          "yanchor": "top"
         }
        ],
        "template": {
         "data": {
          "bar": [
           {
            "error_x": {
             "color": "#2a3f5f"
            },
            "error_y": {
             "color": "#2a3f5f"
            },
            "marker": {
             "line": {
              "color": "#E5ECF6",
              "width": 0.5
             }
            },
            "type": "bar"
           }
          ],
          "barpolar": [
           {
            "marker": {
             "line": {
              "color": "#E5ECF6",
              "width": 0.5
             }
            },
            "type": "barpolar"
           }
          ],
          "carpet": [
           {
            "aaxis": {
             "endlinecolor": "#2a3f5f",
             "gridcolor": "white",
             "linecolor": "white",
             "minorgridcolor": "white",
             "startlinecolor": "#2a3f5f"
            },
            "baxis": {
             "endlinecolor": "#2a3f5f",
             "gridcolor": "white",
             "linecolor": "white",
             "minorgridcolor": "white",
             "startlinecolor": "#2a3f5f"
            },
            "type": "carpet"
           }
          ],
          "choropleth": [
           {
            "colorbar": {
             "outlinewidth": 0,
             "ticks": ""
            },
            "type": "choropleth"
           }
          ],
          "contour": [
           {
            "colorbar": {
             "outlinewidth": 0,
             "ticks": ""
            },
            "colorscale": [
             [
              0,
              "#0d0887"
             ],
             [
              0.1111111111111111,
              "#46039f"
             ],
             [
              0.2222222222222222,
              "#7201a8"
             ],
             [
              0.3333333333333333,
              "#9c179e"
             ],
             [
              0.4444444444444444,
              "#bd3786"
             ],
             [
              0.5555555555555556,
              "#d8576b"
             ],
             [
              0.6666666666666666,
              "#ed7953"
             ],
             [
              0.7777777777777778,
              "#fb9f3a"
             ],
             [
              0.8888888888888888,
              "#fdca26"
             ],
             [
              1,
              "#f0f921"
             ]
            ],
            "type": "contour"
           }
          ],
          "contourcarpet": [
           {
            "colorbar": {
             "outlinewidth": 0,
             "ticks": ""
            },
            "type": "contourcarpet"
           }
          ],
          "heatmap": [
           {
            "colorbar": {
             "outlinewidth": 0,
             "ticks": ""
            },
            "colorscale": [
             [
              0,
              "#0d0887"
             ],
             [
              0.1111111111111111,
              "#46039f"
             ],
             [
              0.2222222222222222,
              "#7201a8"
             ],
             [
              0.3333333333333333,
              "#9c179e"
             ],
             [
              0.4444444444444444,
              "#bd3786"
             ],
             [
              0.5555555555555556,
              "#d8576b"
             ],
             [
              0.6666666666666666,
              "#ed7953"
             ],
             [
              0.7777777777777778,
              "#fb9f3a"
             ],
             [
              0.8888888888888888,
              "#fdca26"
             ],
             [
              1,
              "#f0f921"
             ]
            ],
            "type": "heatmap"
           }
          ],
          "heatmapgl": [
           {
            "colorbar": {
             "outlinewidth": 0,
             "ticks": ""
            },
            "colorscale": [
             [
              0,
              "#0d0887"
             ],
             [
              0.1111111111111111,
              "#46039f"
             ],
             [
              0.2222222222222222,
              "#7201a8"
             ],
             [
              0.3333333333333333,
              "#9c179e"
             ],
             [
              0.4444444444444444,
              "#bd3786"
             ],
             [
              0.5555555555555556,
              "#d8576b"
             ],
             [
              0.6666666666666666,
              "#ed7953"
             ],
             [
              0.7777777777777778,
              "#fb9f3a"
             ],
             [
              0.8888888888888888,
              "#fdca26"
             ],
             [
              1,
              "#f0f921"
             ]
            ],
            "type": "heatmapgl"
           }
          ],
          "histogram": [
           {
            "marker": {
             "colorbar": {
              "outlinewidth": 0,
              "ticks": ""
             }
            },
            "type": "histogram"
           }
          ],
          "histogram2d": [
           {
            "colorbar": {
             "outlinewidth": 0,
             "ticks": ""
            },
            "colorscale": [
             [
              0,
              "#0d0887"
             ],
             [
              0.1111111111111111,
              "#46039f"
             ],
             [
              0.2222222222222222,
              "#7201a8"
             ],
             [
              0.3333333333333333,
              "#9c179e"
             ],
             [
              0.4444444444444444,
              "#bd3786"
             ],
             [
              0.5555555555555556,
              "#d8576b"
             ],
             [
              0.6666666666666666,
              "#ed7953"
             ],
             [
              0.7777777777777778,
              "#fb9f3a"
             ],
             [
              0.8888888888888888,
              "#fdca26"
             ],
             [
              1,
              "#f0f921"
             ]
            ],
            "type": "histogram2d"
           }
          ],
          "histogram2dcontour": [
           {
            "colorbar": {
             "outlinewidth": 0,
             "ticks": ""
            },
            "colorscale": [
             [
              0,
              "#0d0887"
             ],
             [
              0.1111111111111111,
              "#46039f"
             ],
             [
              0.2222222222222222,
              "#7201a8"
             ],
             [
              0.3333333333333333,
              "#9c179e"
             ],
             [
              0.4444444444444444,
              "#bd3786"
             ],
             [
              0.5555555555555556,
              "#d8576b"
             ],
             [
              0.6666666666666666,
              "#ed7953"
             ],
             [
              0.7777777777777778,
              "#fb9f3a"
             ],
             [
              0.8888888888888888,
              "#fdca26"
             ],
             [
              1,
              "#f0f921"
             ]
            ],
            "type": "histogram2dcontour"
           }
          ],
          "mesh3d": [
           {
            "colorbar": {
             "outlinewidth": 0,
             "ticks": ""
            },
            "type": "mesh3d"
           }
          ],
          "parcoords": [
           {
            "line": {
             "colorbar": {
              "outlinewidth": 0,
              "ticks": ""
             }
            },
            "type": "parcoords"
           }
          ],
          "pie": [
           {
            "automargin": true,
            "type": "pie"
           }
          ],
          "scatter": [
           {
            "marker": {
             "colorbar": {
              "outlinewidth": 0,
              "ticks": ""
             }
            },
            "type": "scatter"
           }
          ],
          "scatter3d": [
           {
            "line": {
             "colorbar": {
              "outlinewidth": 0,
              "ticks": ""
             }
            },
            "marker": {
             "colorbar": {
              "outlinewidth": 0,
              "ticks": ""
             }
            },
            "type": "scatter3d"
           }
          ],
          "scattercarpet": [
           {
            "marker": {
             "colorbar": {
              "outlinewidth": 0,
              "ticks": ""
             }
            },
            "type": "scattercarpet"
           }
          ],
          "scattergeo": [
           {
            "marker": {
             "colorbar": {
              "outlinewidth": 0,
              "ticks": ""
             }
            },
            "type": "scattergeo"
           }
          ],
          "scattergl": [
           {
            "marker": {
             "colorbar": {
              "outlinewidth": 0,
              "ticks": ""
             }
            },
            "type": "scattergl"
           }
          ],
          "scattermapbox": [
           {
            "marker": {
             "colorbar": {
              "outlinewidth": 0,
              "ticks": ""
             }
            },
            "type": "scattermapbox"
           }
          ],
          "scatterpolar": [
           {
            "marker": {
             "colorbar": {
              "outlinewidth": 0,
              "ticks": ""
             }
            },
            "type": "scatterpolar"
           }
          ],
          "scatterpolargl": [
           {
            "marker": {
             "colorbar": {
              "outlinewidth": 0,
              "ticks": ""
             }
            },
            "type": "scatterpolargl"
           }
          ],
          "scatterternary": [
           {
            "marker": {
             "colorbar": {
              "outlinewidth": 0,
              "ticks": ""
             }
            },
            "type": "scatterternary"
           }
          ],
          "surface": [
           {
            "colorbar": {
             "outlinewidth": 0,
             "ticks": ""
            },
            "colorscale": [
             [
              0,
              "#0d0887"
             ],
             [
              0.1111111111111111,
              "#46039f"
             ],
             [
              0.2222222222222222,
              "#7201a8"
             ],
             [
              0.3333333333333333,
              "#9c179e"
             ],
             [
              0.4444444444444444,
              "#bd3786"
             ],
             [
              0.5555555555555556,
              "#d8576b"
             ],
             [
              0.6666666666666666,
              "#ed7953"
             ],
             [
              0.7777777777777778,
              "#fb9f3a"
             ],
             [
              0.8888888888888888,
              "#fdca26"
             ],
             [
              1,
              "#f0f921"
             ]
            ],
            "type": "surface"
           }
          ],
          "table": [
           {
            "cells": {
             "fill": {
              "color": "#EBF0F8"
             },
             "line": {
              "color": "white"
             }
            },
            "header": {
             "fill": {
              "color": "#C8D4E3"
             },
             "line": {
              "color": "white"
             }
            },
            "type": "table"
           }
          ]
         },
         "layout": {
          "annotationdefaults": {
           "arrowcolor": "#2a3f5f",
           "arrowhead": 0,
           "arrowwidth": 1
          },
          "coloraxis": {
           "colorbar": {
            "outlinewidth": 0,
            "ticks": ""
           }
          },
          "colorscale": {
           "diverging": [
            [
             0,
             "#8e0152"
            ],
            [
             0.1,
             "#c51b7d"
            ],
            [
             0.2,
             "#de77ae"
            ],
            [
             0.3,
             "#f1b6da"
            ],
            [
             0.4,
             "#fde0ef"
            ],
            [
             0.5,
             "#f7f7f7"
            ],
            [
             0.6,
             "#e6f5d0"
            ],
            [
             0.7,
             "#b8e186"
            ],
            [
             0.8,
             "#7fbc41"
            ],
            [
             0.9,
             "#4d9221"
            ],
            [
             1,
             "#276419"
            ]
           ],
           "sequential": [
            [
             0,
             "#0d0887"
            ],
            [
             0.1111111111111111,
             "#46039f"
            ],
            [
             0.2222222222222222,
             "#7201a8"
            ],
            [
             0.3333333333333333,
             "#9c179e"
            ],
            [
             0.4444444444444444,
             "#bd3786"
            ],
            [
             0.5555555555555556,
             "#d8576b"
            ],
            [
             0.6666666666666666,
             "#ed7953"
            ],
            [
             0.7777777777777778,
             "#fb9f3a"
            ],
            [
             0.8888888888888888,
             "#fdca26"
            ],
            [
             1,
             "#f0f921"
            ]
           ],
           "sequentialminus": [
            [
             0,
             "#0d0887"
            ],
            [
             0.1111111111111111,
             "#46039f"
            ],
            [
             0.2222222222222222,
             "#7201a8"
            ],
            [
             0.3333333333333333,
             "#9c179e"
            ],
            [
             0.4444444444444444,
             "#bd3786"
            ],
            [
             0.5555555555555556,
             "#d8576b"
            ],
            [
             0.6666666666666666,
             "#ed7953"
            ],
            [
             0.7777777777777778,
             "#fb9f3a"
            ],
            [
             0.8888888888888888,
             "#fdca26"
            ],
            [
             1,
             "#f0f921"
            ]
           ]
          },
          "colorway": [
           "#636efa",
           "#EF553B",
           "#00cc96",
           "#ab63fa",
           "#FFA15A",
           "#19d3f3",
           "#FF6692",
           "#B6E880",
           "#FF97FF",
           "#FECB52"
          ],
          "font": {
           "color": "#2a3f5f"
          },
          "geo": {
           "bgcolor": "white",
           "lakecolor": "white",
           "landcolor": "#E5ECF6",
           "showlakes": true,
           "showland": true,
           "subunitcolor": "white"
          },
          "hoverlabel": {
           "align": "left"
          },
          "hovermode": "closest",
          "mapbox": {
           "style": "light"
          },
          "paper_bgcolor": "white",
          "plot_bgcolor": "#E5ECF6",
          "polar": {
           "angularaxis": {
            "gridcolor": "white",
            "linecolor": "white",
            "ticks": ""
           },
           "bgcolor": "#E5ECF6",
           "radialaxis": {
            "gridcolor": "white",
            "linecolor": "white",
            "ticks": ""
           }
          },
          "scene": {
           "xaxis": {
            "backgroundcolor": "#E5ECF6",
            "gridcolor": "white",
            "gridwidth": 2,
            "linecolor": "white",
            "showbackground": true,
            "ticks": "",
            "zerolinecolor": "white"
           },
           "yaxis": {
            "backgroundcolor": "#E5ECF6",
            "gridcolor": "white",
            "gridwidth": 2,
            "linecolor": "white",
            "showbackground": true,
            "ticks": "",
            "zerolinecolor": "white"
           },
           "zaxis": {
            "backgroundcolor": "#E5ECF6",
            "gridcolor": "white",
            "gridwidth": 2,
            "linecolor": "white",
            "showbackground": true,
            "ticks": "",
            "zerolinecolor": "white"
           }
          },
          "shapedefaults": {
           "line": {
            "color": "#2a3f5f"
           }
          },
          "ternary": {
           "aaxis": {
            "gridcolor": "white",
            "linecolor": "white",
            "ticks": ""
           },
           "baxis": {
            "gridcolor": "white",
            "linecolor": "white",
            "ticks": ""
           },
           "bgcolor": "#E5ECF6",
           "caxis": {
            "gridcolor": "white",
            "linecolor": "white",
            "ticks": ""
           }
          },
          "title": {
           "x": 0.05
          },
          "xaxis": {
           "automargin": true,
           "gridcolor": "white",
           "linecolor": "white",
           "ticks": "",
           "title": {
            "standoff": 15
           },
           "zerolinecolor": "white",
           "zerolinewidth": 2
          },
          "yaxis": {
           "automargin": true,
           "gridcolor": "white",
           "linecolor": "white",
           "ticks": "",
           "title": {
            "standoff": 15
           },
           "zerolinecolor": "white",
           "zerolinewidth": 2
          }
         }
        },
        "updatemenus": [
         {
          "buttons": [
           {
            "args": [
             null,
             {
              "frame": {
               "duration": 500,
               "redraw": false
              },
              "fromcurrent": true,
              "mode": "immediate",
              "transition": {
               "duration": 500,
               "easing": "linear"
              }
             }
            ],
            "label": "&#9654;",
            "method": "animate"
           },
           {
            "args": [
             [
              null
             ],
             {
              "frame": {
               "duration": 0,
               "redraw": false
              },
              "fromcurrent": true,
              "mode": "immediate",
              "transition": {
               "duration": 0,
               "easing": "linear"
              }
             }
            ],
            "label": "&#9724;",
            "method": "animate"
           }
          ],
          "direction": "left",
          "pad": {
           "r": 10,
           "t": 70
          },
          "showactive": false,
          "type": "buttons",
          "x": 0.1,
          "xanchor": "right",
          "y": 0,
          "yanchor": "top"
         }
        ],
        "xaxis": {
         "anchor": "y",
         "categoryarray": [
          "Agriculture",
          "Production ",
          "Construction ",
          "Retail",
          "ICT",
          "Finance",
          "Real_Estate",
          "Professional_Service",
          "Public_Adminstration",
          "Other_Service"
         ],
         "categoryorder": "array",
         "domain": [
          0,
          1
         ],
         "title": {
          "text": "Industry"
         }
        },
        "yaxis": {
         "anchor": "x",
         "domain": [
          0,
          1
         ],
         "title": {
          "text": "Employment"
         }
        }
       }
      },
      "text/html": [
       "<div>\n",
       "        \n",
       "        \n",
       "            <div id=\"0f0cc300-6cfc-4f92-88eb-2bff0c0c7337\" class=\"plotly-graph-div\" style=\"height:525px; width:100%;\"></div>\n",
       "            <script type=\"text/javascript\">\n",
       "                require([\"plotly\"], function(Plotly) {\n",
       "                    window.PLOTLYENV=window.PLOTLYENV || {};\n",
       "                    \n",
       "                if (document.getElementById(\"0f0cc300-6cfc-4f92-88eb-2bff0c0c7337\")) {\n",
       "                    Plotly.newPlot(\n",
       "                        '0f0cc300-6cfc-4f92-88eb-2bff0c0c7337',\n",
       "                        [{\"hovertemplate\": \"Industry=%{x}<br>Year=2009<br>Employment=%{marker.size}<extra></extra>\", \"ids\": [\"Agriculture\"], \"legendgroup\": \"Agriculture\", \"marker\": {\"color\": \"#636efa\", \"size\": [37700], \"sizemode\": \"area\", \"sizeref\": 67.953125, \"symbol\": \"circle\"}, \"mode\": \"markers\", \"name\": \"Agriculture\", \"showlegend\": true, \"type\": \"scatter\", \"x\": [\"Agriculture\"], \"xaxis\": \"x\", \"y\": [37700], \"yaxis\": \"y\"}, {\"hovertemplate\": \"Industry=%{x}<br>Year=2009<br>Employment=%{marker.size}<extra></extra>\", \"ids\": [\"Production \"], \"legendgroup\": \"Production \", \"marker\": {\"color\": \"#EF553B\", \"size\": [156700], \"sizemode\": \"area\", \"sizeref\": 67.953125, \"symbol\": \"circle\"}, \"mode\": \"markers\", \"name\": \"Production \", \"showlegend\": true, \"type\": \"scatter\", \"x\": [\"Production \"], \"xaxis\": \"x\", \"y\": [156700], \"yaxis\": \"y\"}, {\"hovertemplate\": \"Industry=%{x}<br>Year=2009<br>Employment=%{marker.size}<extra></extra>\", \"ids\": [\"Construction \"], \"legendgroup\": \"Construction \", \"marker\": {\"color\": \"#00cc96\", \"size\": [96600], \"sizemode\": \"area\", \"sizeref\": 67.953125, \"symbol\": \"circle\"}, \"mode\": \"markers\", \"name\": \"Construction \", \"showlegend\": true, \"type\": \"scatter\", \"x\": [\"Construction \"], \"xaxis\": \"x\", \"y\": [96600], \"yaxis\": \"y\"}, {\"hovertemplate\": \"Industry=%{x}<br>Year=2009<br>Employment=%{marker.size}<extra></extra>\", \"ids\": [\"Retail\"], \"legendgroup\": \"Retail\", \"marker\": {\"color\": \"#ab63fa\", \"size\": [345400], \"sizemode\": \"area\", \"sizeref\": 67.953125, \"symbol\": \"circle\"}, \"mode\": \"markers\", \"name\": \"Retail\", \"showlegend\": true, \"type\": \"scatter\", \"x\": [\"Retail\"], \"xaxis\": \"x\", \"y\": [345400], \"yaxis\": \"y\"}, {\"hovertemplate\": \"Industry=%{x}<br>Year=2009<br>Employment=%{marker.size}<extra></extra>\", \"ids\": [\"ICT\"], \"legendgroup\": \"ICT\", \"marker\": {\"color\": \"#FFA15A\", \"size\": [27800], \"sizemode\": \"area\", \"sizeref\": 67.953125, \"symbol\": \"circle\"}, \"mode\": \"markers\", \"name\": \"ICT\", \"showlegend\": true, \"type\": \"scatter\", \"x\": [\"ICT\"], \"xaxis\": \"x\", \"y\": [27800], \"yaxis\": \"y\"}, {\"hovertemplate\": \"Industry=%{x}<br>Year=2009<br>Employment=%{marker.size}<extra></extra>\", \"ids\": [\"Finance\"], \"legendgroup\": \"Finance\", \"marker\": {\"color\": \"#19d3f3\", \"size\": [33800], \"sizemode\": \"area\", \"sizeref\": 67.953125, \"symbol\": \"circle\"}, \"mode\": \"markers\", \"name\": \"Finance\", \"showlegend\": true, \"type\": \"scatter\", \"x\": [\"Finance\"], \"xaxis\": \"x\", \"y\": [33800], \"yaxis\": \"y\"}, {\"hovertemplate\": \"Industry=%{x}<br>Year=2009<br>Employment=%{marker.size}<extra></extra>\", \"ids\": [\"Real_Estate\"], \"legendgroup\": \"Real_Estate\", \"marker\": {\"color\": \"#FF6692\", \"size\": [13500], \"sizemode\": \"area\", \"sizeref\": 67.953125, \"symbol\": \"circle\"}, \"mode\": \"markers\", \"name\": \"Real_Estate\", \"showlegend\": true, \"type\": \"scatter\", \"x\": [\"Real_Estate\"], \"xaxis\": \"x\", \"y\": [13500], \"yaxis\": \"y\"}, {\"hovertemplate\": \"Industry=%{x}<br>Year=2009<br>Employment=%{marker.size}<extra></extra>\", \"ids\": [\"Professional_Service\"], \"legendgroup\": \"Professional_Service\", \"marker\": {\"color\": \"#B6E880\", \"size\": [144800], \"sizemode\": \"area\", \"sizeref\": 67.953125, \"symbol\": \"circle\"}, \"mode\": \"markers\", \"name\": \"Professional_Service\", \"showlegend\": true, \"type\": \"scatter\", \"x\": [\"Professional_Service\"], \"xaxis\": \"x\", \"y\": [144800], \"yaxis\": \"y\"}, {\"hovertemplate\": \"Industry=%{x}<br>Year=2009<br>Employment=%{marker.size}<extra></extra>\", \"ids\": [\"Public_Adminstration\"], \"legendgroup\": \"Public_Adminstration\", \"marker\": {\"color\": \"#FF97FF\", \"size\": [415600], \"sizemode\": \"area\", \"sizeref\": 67.953125, \"symbol\": \"circle\"}, \"mode\": \"markers\", \"name\": \"Public_Adminstration\", \"showlegend\": true, \"type\": \"scatter\", \"x\": [\"Public_Adminstration\"], \"xaxis\": \"x\", \"y\": [415600], \"yaxis\": \"y\"}, {\"hovertemplate\": \"Industry=%{x}<br>Year=2009<br>Employment=%{marker.size}<extra></extra>\", \"ids\": [\"Other_Service\"], \"legendgroup\": \"Other_Service\", \"marker\": {\"color\": \"#FECB52\", \"size\": [64200], \"sizemode\": \"area\", \"sizeref\": 67.953125, \"symbol\": \"circle\"}, \"mode\": \"markers\", \"name\": \"Other_Service\", \"showlegend\": true, \"type\": \"scatter\", \"x\": [\"Other_Service\"], \"xaxis\": \"x\", \"y\": [64200], \"yaxis\": \"y\"}],\n",
       "                        {\"legend\": {\"itemsizing\": \"constant\", \"title\": {\"text\": \"Industry\"}, \"tracegroupgap\": 0}, \"margin\": {\"b\": 20, \"l\": 20, \"r\": 20, \"t\": 20}, \"paper_bgcolor\": \"white\", \"sliders\": [{\"active\": 0, \"currentvalue\": {\"prefix\": \"Year=\"}, \"len\": 0.9, \"pad\": {\"b\": 10, \"t\": 60}, \"steps\": [{\"args\": [[\"2009\"], {\"frame\": {\"duration\": 0, \"redraw\": false}, \"fromcurrent\": true, \"mode\": \"immediate\", \"transition\": {\"duration\": 0, \"easing\": \"linear\"}}], \"label\": \"2009\", \"method\": \"animate\"}, {\"args\": [[\"2010\"], {\"frame\": {\"duration\": 0, \"redraw\": false}, \"fromcurrent\": true, \"mode\": \"immediate\", \"transition\": {\"duration\": 0, \"easing\": \"linear\"}}], \"label\": \"2010\", \"method\": \"animate\"}, {\"args\": [[\"2011\"], {\"frame\": {\"duration\": 0, \"redraw\": false}, \"fromcurrent\": true, \"mode\": \"immediate\", \"transition\": {\"duration\": 0, \"easing\": \"linear\"}}], \"label\": \"2011\", \"method\": \"animate\"}, {\"args\": [[\"2012\"], {\"frame\": {\"duration\": 0, \"redraw\": false}, \"fromcurrent\": true, \"mode\": \"immediate\", \"transition\": {\"duration\": 0, \"easing\": \"linear\"}}], \"label\": \"2012\", \"method\": \"animate\"}, {\"args\": [[\"2013\"], {\"frame\": {\"duration\": 0, \"redraw\": false}, \"fromcurrent\": true, \"mode\": \"immediate\", \"transition\": {\"duration\": 0, \"easing\": \"linear\"}}], \"label\": \"2013\", \"method\": \"animate\"}, {\"args\": [[\"2014\"], {\"frame\": {\"duration\": 0, \"redraw\": false}, \"fromcurrent\": true, \"mode\": \"immediate\", \"transition\": {\"duration\": 0, \"easing\": \"linear\"}}], \"label\": \"2014\", \"method\": \"animate\"}, {\"args\": [[\"2015\"], {\"frame\": {\"duration\": 0, \"redraw\": false}, \"fromcurrent\": true, \"mode\": \"immediate\", \"transition\": {\"duration\": 0, \"easing\": \"linear\"}}], \"label\": \"2015\", \"method\": \"animate\"}, {\"args\": [[\"2016\"], {\"frame\": {\"duration\": 0, \"redraw\": false}, \"fromcurrent\": true, \"mode\": \"immediate\", \"transition\": {\"duration\": 0, \"easing\": \"linear\"}}], \"label\": \"2016\", \"method\": \"animate\"}, {\"args\": [[\"2017\"], {\"frame\": {\"duration\": 0, \"redraw\": false}, \"fromcurrent\": true, \"mode\": \"immediate\", \"transition\": {\"duration\": 0, \"easing\": \"linear\"}}], \"label\": \"2017\", \"method\": \"animate\"}, {\"args\": [[\"2018\"], {\"frame\": {\"duration\": 0, \"redraw\": false}, \"fromcurrent\": true, \"mode\": \"immediate\", \"transition\": {\"duration\": 0, \"easing\": \"linear\"}}], \"label\": \"2018\", \"method\": \"animate\"}], \"x\": 0.1, \"xanchor\": \"left\", \"y\": 0, \"yanchor\": \"top\"}], \"template\": {\"data\": {\"bar\": [{\"error_x\": {\"color\": \"#2a3f5f\"}, \"error_y\": {\"color\": \"#2a3f5f\"}, \"marker\": {\"line\": {\"color\": \"#E5ECF6\", \"width\": 0.5}}, \"type\": \"bar\"}], \"barpolar\": [{\"marker\": {\"line\": {\"color\": \"#E5ECF6\", \"width\": 0.5}}, \"type\": \"barpolar\"}], \"carpet\": [{\"aaxis\": {\"endlinecolor\": \"#2a3f5f\", \"gridcolor\": \"white\", \"linecolor\": \"white\", \"minorgridcolor\": \"white\", \"startlinecolor\": \"#2a3f5f\"}, \"baxis\": {\"endlinecolor\": \"#2a3f5f\", \"gridcolor\": \"white\", \"linecolor\": \"white\", \"minorgridcolor\": \"white\", \"startlinecolor\": \"#2a3f5f\"}, \"type\": \"carpet\"}], \"choropleth\": [{\"colorbar\": {\"outlinewidth\": 0, \"ticks\": \"\"}, \"type\": \"choropleth\"}], \"contour\": [{\"colorbar\": {\"outlinewidth\": 0, \"ticks\": \"\"}, \"colorscale\": [[0.0, \"#0d0887\"], [0.1111111111111111, \"#46039f\"], [0.2222222222222222, \"#7201a8\"], [0.3333333333333333, \"#9c179e\"], [0.4444444444444444, \"#bd3786\"], [0.5555555555555556, \"#d8576b\"], [0.6666666666666666, \"#ed7953\"], [0.7777777777777778, \"#fb9f3a\"], [0.8888888888888888, \"#fdca26\"], [1.0, \"#f0f921\"]], \"type\": \"contour\"}], \"contourcarpet\": [{\"colorbar\": {\"outlinewidth\": 0, \"ticks\": \"\"}, \"type\": \"contourcarpet\"}], \"heatmap\": [{\"colorbar\": {\"outlinewidth\": 0, \"ticks\": \"\"}, \"colorscale\": [[0.0, \"#0d0887\"], [0.1111111111111111, \"#46039f\"], [0.2222222222222222, \"#7201a8\"], [0.3333333333333333, \"#9c179e\"], [0.4444444444444444, \"#bd3786\"], [0.5555555555555556, \"#d8576b\"], [0.6666666666666666, \"#ed7953\"], [0.7777777777777778, \"#fb9f3a\"], [0.8888888888888888, \"#fdca26\"], [1.0, \"#f0f921\"]], \"type\": \"heatmap\"}], \"heatmapgl\": [{\"colorbar\": {\"outlinewidth\": 0, \"ticks\": \"\"}, \"colorscale\": [[0.0, \"#0d0887\"], [0.1111111111111111, \"#46039f\"], [0.2222222222222222, \"#7201a8\"], [0.3333333333333333, \"#9c179e\"], [0.4444444444444444, \"#bd3786\"], [0.5555555555555556, \"#d8576b\"], [0.6666666666666666, \"#ed7953\"], [0.7777777777777778, \"#fb9f3a\"], [0.8888888888888888, \"#fdca26\"], [1.0, \"#f0f921\"]], \"type\": \"heatmapgl\"}], \"histogram\": [{\"marker\": {\"colorbar\": {\"outlinewidth\": 0, \"ticks\": \"\"}}, \"type\": \"histogram\"}], \"histogram2d\": [{\"colorbar\": {\"outlinewidth\": 0, \"ticks\": \"\"}, \"colorscale\": [[0.0, \"#0d0887\"], [0.1111111111111111, \"#46039f\"], [0.2222222222222222, \"#7201a8\"], [0.3333333333333333, \"#9c179e\"], [0.4444444444444444, \"#bd3786\"], [0.5555555555555556, \"#d8576b\"], [0.6666666666666666, \"#ed7953\"], [0.7777777777777778, \"#fb9f3a\"], [0.8888888888888888, \"#fdca26\"], [1.0, \"#f0f921\"]], \"type\": \"histogram2d\"}], \"histogram2dcontour\": [{\"colorbar\": {\"outlinewidth\": 0, \"ticks\": \"\"}, \"colorscale\": [[0.0, \"#0d0887\"], [0.1111111111111111, \"#46039f\"], [0.2222222222222222, \"#7201a8\"], [0.3333333333333333, \"#9c179e\"], [0.4444444444444444, \"#bd3786\"], [0.5555555555555556, \"#d8576b\"], [0.6666666666666666, \"#ed7953\"], [0.7777777777777778, \"#fb9f3a\"], [0.8888888888888888, \"#fdca26\"], [1.0, \"#f0f921\"]], \"type\": \"histogram2dcontour\"}], \"mesh3d\": [{\"colorbar\": {\"outlinewidth\": 0, \"ticks\": \"\"}, \"type\": \"mesh3d\"}], \"parcoords\": [{\"line\": {\"colorbar\": {\"outlinewidth\": 0, \"ticks\": \"\"}}, \"type\": \"parcoords\"}], \"pie\": [{\"automargin\": true, \"type\": \"pie\"}], \"scatter\": [{\"marker\": {\"colorbar\": {\"outlinewidth\": 0, \"ticks\": \"\"}}, \"type\": \"scatter\"}], \"scatter3d\": [{\"line\": {\"colorbar\": {\"outlinewidth\": 0, \"ticks\": \"\"}}, \"marker\": {\"colorbar\": {\"outlinewidth\": 0, \"ticks\": \"\"}}, \"type\": \"scatter3d\"}], \"scattercarpet\": [{\"marker\": {\"colorbar\": {\"outlinewidth\": 0, \"ticks\": \"\"}}, \"type\": \"scattercarpet\"}], \"scattergeo\": [{\"marker\": {\"colorbar\": {\"outlinewidth\": 0, \"ticks\": \"\"}}, \"type\": \"scattergeo\"}], \"scattergl\": [{\"marker\": {\"colorbar\": {\"outlinewidth\": 0, \"ticks\": \"\"}}, \"type\": \"scattergl\"}], \"scattermapbox\": [{\"marker\": {\"colorbar\": {\"outlinewidth\": 0, \"ticks\": \"\"}}, \"type\": \"scattermapbox\"}], \"scatterpolar\": [{\"marker\": {\"colorbar\": {\"outlinewidth\": 0, \"ticks\": \"\"}}, \"type\": \"scatterpolar\"}], \"scatterpolargl\": [{\"marker\": {\"colorbar\": {\"outlinewidth\": 0, \"ticks\": \"\"}}, \"type\": \"scatterpolargl\"}], \"scatterternary\": [{\"marker\": {\"colorbar\": {\"outlinewidth\": 0, \"ticks\": \"\"}}, \"type\": \"scatterternary\"}], \"surface\": [{\"colorbar\": {\"outlinewidth\": 0, \"ticks\": \"\"}, \"colorscale\": [[0.0, \"#0d0887\"], [0.1111111111111111, \"#46039f\"], [0.2222222222222222, \"#7201a8\"], [0.3333333333333333, \"#9c179e\"], [0.4444444444444444, \"#bd3786\"], [0.5555555555555556, \"#d8576b\"], [0.6666666666666666, \"#ed7953\"], [0.7777777777777778, \"#fb9f3a\"], [0.8888888888888888, \"#fdca26\"], [1.0, \"#f0f921\"]], \"type\": \"surface\"}], \"table\": [{\"cells\": {\"fill\": {\"color\": \"#EBF0F8\"}, \"line\": {\"color\": \"white\"}}, \"header\": {\"fill\": {\"color\": \"#C8D4E3\"}, \"line\": {\"color\": \"white\"}}, \"type\": \"table\"}]}, \"layout\": {\"annotationdefaults\": {\"arrowcolor\": \"#2a3f5f\", \"arrowhead\": 0, \"arrowwidth\": 1}, \"coloraxis\": {\"colorbar\": {\"outlinewidth\": 0, \"ticks\": \"\"}}, \"colorscale\": {\"diverging\": [[0, \"#8e0152\"], [0.1, \"#c51b7d\"], [0.2, \"#de77ae\"], [0.3, \"#f1b6da\"], [0.4, \"#fde0ef\"], [0.5, \"#f7f7f7\"], [0.6, \"#e6f5d0\"], [0.7, \"#b8e186\"], [0.8, \"#7fbc41\"], [0.9, \"#4d9221\"], [1, \"#276419\"]], \"sequential\": [[0.0, \"#0d0887\"], [0.1111111111111111, \"#46039f\"], [0.2222222222222222, \"#7201a8\"], [0.3333333333333333, \"#9c179e\"], [0.4444444444444444, \"#bd3786\"], [0.5555555555555556, \"#d8576b\"], [0.6666666666666666, \"#ed7953\"], [0.7777777777777778, \"#fb9f3a\"], [0.8888888888888888, \"#fdca26\"], [1.0, \"#f0f921\"]], \"sequentialminus\": [[0.0, \"#0d0887\"], [0.1111111111111111, \"#46039f\"], [0.2222222222222222, \"#7201a8\"], [0.3333333333333333, \"#9c179e\"], [0.4444444444444444, \"#bd3786\"], [0.5555555555555556, \"#d8576b\"], [0.6666666666666666, \"#ed7953\"], [0.7777777777777778, \"#fb9f3a\"], [0.8888888888888888, \"#fdca26\"], [1.0, \"#f0f921\"]]}, \"colorway\": [\"#636efa\", \"#EF553B\", \"#00cc96\", \"#ab63fa\", \"#FFA15A\", \"#19d3f3\", \"#FF6692\", \"#B6E880\", \"#FF97FF\", \"#FECB52\"], \"font\": {\"color\": \"#2a3f5f\"}, \"geo\": {\"bgcolor\": \"white\", \"lakecolor\": \"white\", \"landcolor\": \"#E5ECF6\", \"showlakes\": true, \"showland\": true, \"subunitcolor\": \"white\"}, \"hoverlabel\": {\"align\": \"left\"}, \"hovermode\": \"closest\", \"mapbox\": {\"style\": \"light\"}, \"paper_bgcolor\": \"white\", \"plot_bgcolor\": \"#E5ECF6\", \"polar\": {\"angularaxis\": {\"gridcolor\": \"white\", \"linecolor\": \"white\", \"ticks\": \"\"}, \"bgcolor\": \"#E5ECF6\", \"radialaxis\": {\"gridcolor\": \"white\", \"linecolor\": \"white\", \"ticks\": \"\"}}, \"scene\": {\"xaxis\": {\"backgroundcolor\": \"#E5ECF6\", \"gridcolor\": \"white\", \"gridwidth\": 2, \"linecolor\": \"white\", \"showbackground\": true, \"ticks\": \"\", \"zerolinecolor\": \"white\"}, \"yaxis\": {\"backgroundcolor\": \"#E5ECF6\", \"gridcolor\": \"white\", \"gridwidth\": 2, \"linecolor\": \"white\", \"showbackground\": true, \"ticks\": \"\", \"zerolinecolor\": \"white\"}, \"zaxis\": {\"backgroundcolor\": \"#E5ECF6\", \"gridcolor\": \"white\", \"gridwidth\": 2, \"linecolor\": \"white\", \"showbackground\": true, \"ticks\": \"\", \"zerolinecolor\": \"white\"}}, \"shapedefaults\": {\"line\": {\"color\": \"#2a3f5f\"}}, \"ternary\": {\"aaxis\": {\"gridcolor\": \"white\", \"linecolor\": \"white\", \"ticks\": \"\"}, \"baxis\": {\"gridcolor\": \"white\", \"linecolor\": \"white\", \"ticks\": \"\"}, \"bgcolor\": \"#E5ECF6\", \"caxis\": {\"gridcolor\": \"white\", \"linecolor\": \"white\", \"ticks\": \"\"}}, \"title\": {\"x\": 0.05}, \"xaxis\": {\"automargin\": true, \"gridcolor\": \"white\", \"linecolor\": \"white\", \"ticks\": \"\", \"title\": {\"standoff\": 15}, \"zerolinecolor\": \"white\", \"zerolinewidth\": 2}, \"yaxis\": {\"automargin\": true, \"gridcolor\": \"white\", \"linecolor\": \"white\", \"ticks\": \"\", \"title\": {\"standoff\": 15}, \"zerolinecolor\": \"white\", \"zerolinewidth\": 2}}}, \"updatemenus\": [{\"buttons\": [{\"args\": [null, {\"frame\": {\"duration\": 500, \"redraw\": false}, \"fromcurrent\": true, \"mode\": \"immediate\", \"transition\": {\"duration\": 500, \"easing\": \"linear\"}}], \"label\": \"&#9654;\", \"method\": \"animate\"}, {\"args\": [[null], {\"frame\": {\"duration\": 0, \"redraw\": false}, \"fromcurrent\": true, \"mode\": \"immediate\", \"transition\": {\"duration\": 0, \"easing\": \"linear\"}}], \"label\": \"&#9724;\", \"method\": \"animate\"}], \"direction\": \"left\", \"pad\": {\"r\": 10, \"t\": 70}, \"showactive\": false, \"type\": \"buttons\", \"x\": 0.1, \"xanchor\": \"right\", \"y\": 0, \"yanchor\": \"top\"}], \"xaxis\": {\"anchor\": \"y\", \"categoryarray\": [\"Agriculture\", \"Production \", \"Construction \", \"Retail\", \"ICT\", \"Finance\", \"Real_Estate\", \"Professional_Service\", \"Public_Adminstration\", \"Other_Service\"], \"categoryorder\": \"array\", \"domain\": [0.0, 1.0], \"title\": {\"text\": \"Industry\"}}, \"yaxis\": {\"anchor\": \"x\", \"domain\": [0.0, 1.0], \"title\": {\"text\": \"Employment\"}}},\n",
       "                        {\"responsive\": true}\n",
       "                    ).then(function(){\n",
       "                            Plotly.addFrames('0f0cc300-6cfc-4f92-88eb-2bff0c0c7337', [{\"data\": [{\"hovertemplate\": \"Industry=%{x}<br>Year=2009<br>Employment=%{marker.size}<extra></extra>\", \"ids\": [\"Agriculture\"], \"legendgroup\": \"Agriculture\", \"marker\": {\"color\": \"#636efa\", \"size\": [37700], \"sizemode\": \"area\", \"sizeref\": 67.953125, \"symbol\": \"circle\"}, \"mode\": \"markers\", \"name\": \"Agriculture\", \"showlegend\": true, \"x\": [\"Agriculture\"], \"xaxis\": \"x\", \"y\": [37700], \"yaxis\": \"y\", \"type\": \"scatter\"}, {\"hovertemplate\": \"Industry=%{x}<br>Year=2009<br>Employment=%{marker.size}<extra></extra>\", \"ids\": [\"Production \"], \"legendgroup\": \"Production \", \"marker\": {\"color\": \"#EF553B\", \"size\": [156700], \"sizemode\": \"area\", \"sizeref\": 67.953125, \"symbol\": \"circle\"}, \"mode\": \"markers\", \"name\": \"Production \", \"showlegend\": true, \"x\": [\"Production \"], \"xaxis\": \"x\", \"y\": [156700], \"yaxis\": \"y\", \"type\": \"scatter\"}, {\"hovertemplate\": \"Industry=%{x}<br>Year=2009<br>Employment=%{marker.size}<extra></extra>\", \"ids\": [\"Construction \"], \"legendgroup\": \"Construction \", \"marker\": {\"color\": \"#00cc96\", \"size\": [96600], \"sizemode\": \"area\", \"sizeref\": 67.953125, \"symbol\": \"circle\"}, \"mode\": \"markers\", \"name\": \"Construction \", \"showlegend\": true, \"x\": [\"Construction \"], \"xaxis\": \"x\", \"y\": [96600], \"yaxis\": \"y\", \"type\": \"scatter\"}, {\"hovertemplate\": \"Industry=%{x}<br>Year=2009<br>Employment=%{marker.size}<extra></extra>\", \"ids\": [\"Retail\"], \"legendgroup\": \"Retail\", \"marker\": {\"color\": \"#ab63fa\", \"size\": [345400], \"sizemode\": \"area\", \"sizeref\": 67.953125, \"symbol\": \"circle\"}, \"mode\": \"markers\", \"name\": \"Retail\", \"showlegend\": true, \"x\": [\"Retail\"], \"xaxis\": \"x\", \"y\": [345400], \"yaxis\": \"y\", \"type\": \"scatter\"}, {\"hovertemplate\": \"Industry=%{x}<br>Year=2009<br>Employment=%{marker.size}<extra></extra>\", \"ids\": [\"ICT\"], \"legendgroup\": \"ICT\", \"marker\": {\"color\": \"#FFA15A\", \"size\": [27800], \"sizemode\": \"area\", \"sizeref\": 67.953125, \"symbol\": \"circle\"}, \"mode\": \"markers\", \"name\": \"ICT\", \"showlegend\": true, \"x\": [\"ICT\"], \"xaxis\": \"x\", \"y\": [27800], \"yaxis\": \"y\", \"type\": \"scatter\"}, {\"hovertemplate\": \"Industry=%{x}<br>Year=2009<br>Employment=%{marker.size}<extra></extra>\", \"ids\": [\"Finance\"], \"legendgroup\": \"Finance\", \"marker\": {\"color\": \"#19d3f3\", \"size\": [33800], \"sizemode\": \"area\", \"sizeref\": 67.953125, \"symbol\": \"circle\"}, \"mode\": \"markers\", \"name\": \"Finance\", \"showlegend\": true, \"x\": [\"Finance\"], \"xaxis\": \"x\", \"y\": [33800], \"yaxis\": \"y\", \"type\": \"scatter\"}, {\"hovertemplate\": \"Industry=%{x}<br>Year=2009<br>Employment=%{marker.size}<extra></extra>\", \"ids\": [\"Real_Estate\"], \"legendgroup\": \"Real_Estate\", \"marker\": {\"color\": \"#FF6692\", \"size\": [13500], \"sizemode\": \"area\", \"sizeref\": 67.953125, \"symbol\": \"circle\"}, \"mode\": \"markers\", \"name\": \"Real_Estate\", \"showlegend\": true, \"x\": [\"Real_Estate\"], \"xaxis\": \"x\", \"y\": [13500], \"yaxis\": \"y\", \"type\": \"scatter\"}, {\"hovertemplate\": \"Industry=%{x}<br>Year=2009<br>Employment=%{marker.size}<extra></extra>\", \"ids\": [\"Professional_Service\"], \"legendgroup\": \"Professional_Service\", \"marker\": {\"color\": \"#B6E880\", \"size\": [144800], \"sizemode\": \"area\", \"sizeref\": 67.953125, \"symbol\": \"circle\"}, \"mode\": \"markers\", \"name\": \"Professional_Service\", \"showlegend\": true, \"x\": [\"Professional_Service\"], \"xaxis\": \"x\", \"y\": [144800], \"yaxis\": \"y\", \"type\": \"scatter\"}, {\"hovertemplate\": \"Industry=%{x}<br>Year=2009<br>Employment=%{marker.size}<extra></extra>\", \"ids\": [\"Public_Adminstration\"], \"legendgroup\": \"Public_Adminstration\", \"marker\": {\"color\": \"#FF97FF\", \"size\": [415600], \"sizemode\": \"area\", \"sizeref\": 67.953125, \"symbol\": \"circle\"}, \"mode\": \"markers\", \"name\": \"Public_Adminstration\", \"showlegend\": true, \"x\": [\"Public_Adminstration\"], \"xaxis\": \"x\", \"y\": [415600], \"yaxis\": \"y\", \"type\": \"scatter\"}, {\"hovertemplate\": \"Industry=%{x}<br>Year=2009<br>Employment=%{marker.size}<extra></extra>\", \"ids\": [\"Other_Service\"], \"legendgroup\": \"Other_Service\", \"marker\": {\"color\": \"#FECB52\", \"size\": [64200], \"sizemode\": \"area\", \"sizeref\": 67.953125, \"symbol\": \"circle\"}, \"mode\": \"markers\", \"name\": \"Other_Service\", \"showlegend\": true, \"x\": [\"Other_Service\"], \"xaxis\": \"x\", \"y\": [64200], \"yaxis\": \"y\", \"type\": \"scatter\"}], \"name\": \"2009\"}, {\"data\": [{\"hovertemplate\": \"Industry=%{x}<br>Year=2010<br>Employment=%{marker.size}<extra></extra>\", \"ids\": [\"Agriculture\"], \"legendgroup\": \"Agriculture\", \"marker\": {\"color\": \"#636efa\", \"size\": [38200], \"sizemode\": \"area\", \"sizeref\": 67.953125, \"symbol\": \"circle\"}, \"mode\": \"markers\", \"name\": \"Agriculture\", \"showlegend\": true, \"x\": [\"Agriculture\"], \"xaxis\": \"x\", \"y\": [38200], \"yaxis\": \"y\", \"type\": \"scatter\"}, {\"hovertemplate\": \"Industry=%{x}<br>Year=2010<br>Employment=%{marker.size}<extra></extra>\", \"ids\": [\"Production \"], \"legendgroup\": \"Production \", \"marker\": {\"color\": \"#EF553B\", \"size\": [149800], \"sizemode\": \"area\", \"sizeref\": 67.953125, \"symbol\": \"circle\"}, \"mode\": \"markers\", \"name\": \"Production \", \"showlegend\": true, \"x\": [\"Production \"], \"xaxis\": \"x\", \"y\": [149800], \"yaxis\": \"y\", \"type\": \"scatter\"}, {\"hovertemplate\": \"Industry=%{x}<br>Year=2010<br>Employment=%{marker.size}<extra></extra>\", \"ids\": [\"Construction \"], \"legendgroup\": \"Construction \", \"marker\": {\"color\": \"#00cc96\", \"size\": [93200], \"sizemode\": \"area\", \"sizeref\": 67.953125, \"symbol\": \"circle\"}, \"mode\": \"markers\", \"name\": \"Construction \", \"showlegend\": true, \"x\": [\"Construction \"], \"xaxis\": \"x\", \"y\": [93200], \"yaxis\": \"y\", \"type\": \"scatter\"}, {\"hovertemplate\": \"Industry=%{x}<br>Year=2010<br>Employment=%{marker.size}<extra></extra>\", \"ids\": [\"Retail\"], \"legendgroup\": \"Retail\", \"marker\": {\"color\": \"#ab63fa\", \"size\": [344500], \"sizemode\": \"area\", \"sizeref\": 67.953125, \"symbol\": \"circle\"}, \"mode\": \"markers\", \"name\": \"Retail\", \"showlegend\": true, \"x\": [\"Retail\"], \"xaxis\": \"x\", \"y\": [344500], \"yaxis\": \"y\", \"type\": \"scatter\"}, {\"hovertemplate\": \"Industry=%{x}<br>Year=2010<br>Employment=%{marker.size}<extra></extra>\", \"ids\": [\"ICT\"], \"legendgroup\": \"ICT\", \"marker\": {\"color\": \"#FFA15A\", \"size\": [27900], \"sizemode\": \"area\", \"sizeref\": 67.953125, \"symbol\": \"circle\"}, \"mode\": \"markers\", \"name\": \"ICT\", \"showlegend\": true, \"x\": [\"ICT\"], \"xaxis\": \"x\", \"y\": [27900], \"yaxis\": \"y\", \"type\": \"scatter\"}, {\"hovertemplate\": \"Industry=%{x}<br>Year=2010<br>Employment=%{marker.size}<extra></extra>\", \"ids\": [\"Finance\"], \"legendgroup\": \"Finance\", \"marker\": {\"color\": \"#19d3f3\", \"size\": [29800], \"sizemode\": \"area\", \"sizeref\": 67.953125, \"symbol\": \"circle\"}, \"mode\": \"markers\", \"name\": \"Finance\", \"showlegend\": true, \"x\": [\"Finance\"], \"xaxis\": \"x\", \"y\": [29800], \"yaxis\": \"y\", \"type\": \"scatter\"}, {\"hovertemplate\": \"Industry=%{x}<br>Year=2010<br>Employment=%{marker.size}<extra></extra>\", \"ids\": [\"Real_Estate\"], \"legendgroup\": \"Real_Estate\", \"marker\": {\"color\": \"#FF6692\", \"size\": [14600], \"sizemode\": \"area\", \"sizeref\": 67.953125, \"symbol\": \"circle\"}, \"mode\": \"markers\", \"name\": \"Real_Estate\", \"showlegend\": true, \"x\": [\"Real_Estate\"], \"xaxis\": \"x\", \"y\": [14600], \"yaxis\": \"y\", \"type\": \"scatter\"}, {\"hovertemplate\": \"Industry=%{x}<br>Year=2010<br>Employment=%{marker.size}<extra></extra>\", \"ids\": [\"Professional_Service\"], \"legendgroup\": \"Professional_Service\", \"marker\": {\"color\": \"#B6E880\", \"size\": [145800], \"sizemode\": \"area\", \"sizeref\": 67.953125, \"symbol\": \"circle\"}, \"mode\": \"markers\", \"name\": \"Professional_Service\", \"showlegend\": true, \"x\": [\"Professional_Service\"], \"xaxis\": \"x\", \"y\": [145800], \"yaxis\": \"y\", \"type\": \"scatter\"}, {\"hovertemplate\": \"Industry=%{x}<br>Year=2010<br>Employment=%{marker.size}<extra></extra>\", \"ids\": [\"Public_Adminstration\"], \"legendgroup\": \"Public_Adminstration\", \"marker\": {\"color\": \"#FF97FF\", \"size\": [418600], \"sizemode\": \"area\", \"sizeref\": 67.953125, \"symbol\": \"circle\"}, \"mode\": \"markers\", \"name\": \"Public_Adminstration\", \"showlegend\": true, \"x\": [\"Public_Adminstration\"], \"xaxis\": \"x\", \"y\": [418600], \"yaxis\": \"y\", \"type\": \"scatter\"}, {\"hovertemplate\": \"Industry=%{x}<br>Year=2010<br>Employment=%{marker.size}<extra></extra>\", \"ids\": [\"Other_Service\"], \"legendgroup\": \"Other_Service\", \"marker\": {\"color\": \"#FECB52\", \"size\": [68000], \"sizemode\": \"area\", \"sizeref\": 67.953125, \"symbol\": \"circle\"}, \"mode\": \"markers\", \"name\": \"Other_Service\", \"showlegend\": true, \"x\": [\"Other_Service\"], \"xaxis\": \"x\", \"y\": [68000], \"yaxis\": \"y\", \"type\": \"scatter\"}], \"name\": \"2010\"}, {\"data\": [{\"hovertemplate\": \"Industry=%{x}<br>Year=2011<br>Employment=%{marker.size}<extra></extra>\", \"ids\": [\"Agriculture\"], \"legendgroup\": \"Agriculture\", \"marker\": {\"color\": \"#636efa\", \"size\": [36100], \"sizemode\": \"area\", \"sizeref\": 67.953125, \"symbol\": \"circle\"}, \"mode\": \"markers\", \"name\": \"Agriculture\", \"showlegend\": true, \"x\": [\"Agriculture\"], \"xaxis\": \"x\", \"y\": [36100], \"yaxis\": \"y\", \"type\": \"scatter\"}, {\"hovertemplate\": \"Industry=%{x}<br>Year=2011<br>Employment=%{marker.size}<extra></extra>\", \"ids\": [\"Production \"], \"legendgroup\": \"Production \", \"marker\": {\"color\": \"#EF553B\", \"size\": [158600], \"sizemode\": \"area\", \"sizeref\": 67.953125, \"symbol\": \"circle\"}, \"mode\": \"markers\", \"name\": \"Production \", \"showlegend\": true, \"x\": [\"Production \"], \"xaxis\": \"x\", \"y\": [158600], \"yaxis\": \"y\", \"type\": \"scatter\"}, {\"hovertemplate\": \"Industry=%{x}<br>Year=2011<br>Employment=%{marker.size}<extra></extra>\", \"ids\": [\"Construction \"], \"legendgroup\": \"Construction \", \"marker\": {\"color\": \"#00cc96\", \"size\": [90000], \"sizemode\": \"area\", \"sizeref\": 67.953125, \"symbol\": \"circle\"}, \"mode\": \"markers\", \"name\": \"Construction \", \"showlegend\": true, \"x\": [\"Construction \"], \"xaxis\": \"x\", \"y\": [90000], \"yaxis\": \"y\", \"type\": \"scatter\"}, {\"hovertemplate\": \"Industry=%{x}<br>Year=2011<br>Employment=%{marker.size}<extra></extra>\", \"ids\": [\"Retail\"], \"legendgroup\": \"Retail\", \"marker\": {\"color\": \"#ab63fa\", \"size\": [343100], \"sizemode\": \"area\", \"sizeref\": 67.953125, \"symbol\": \"circle\"}, \"mode\": \"markers\", \"name\": \"Retail\", \"showlegend\": true, \"x\": [\"Retail\"], \"xaxis\": \"x\", \"y\": [343100], \"yaxis\": \"y\", \"type\": \"scatter\"}, {\"hovertemplate\": \"Industry=%{x}<br>Year=2011<br>Employment=%{marker.size}<extra></extra>\", \"ids\": [\"ICT\"], \"legendgroup\": \"ICT\", \"marker\": {\"color\": \"#FFA15A\", \"size\": [26400], \"sizemode\": \"area\", \"sizeref\": 67.953125, \"symbol\": \"circle\"}, \"mode\": \"markers\", \"name\": \"ICT\", \"showlegend\": true, \"x\": [\"ICT\"], \"xaxis\": \"x\", \"y\": [26400], \"yaxis\": \"y\", \"type\": \"scatter\"}, {\"hovertemplate\": \"Industry=%{x}<br>Year=2011<br>Employment=%{marker.size}<extra></extra>\", \"ids\": [\"Finance\"], \"legendgroup\": \"Finance\", \"marker\": {\"color\": \"#19d3f3\", \"size\": [33200], \"sizemode\": \"area\", \"sizeref\": 67.953125, \"symbol\": \"circle\"}, \"mode\": \"markers\", \"name\": \"Finance\", \"showlegend\": true, \"x\": [\"Finance\"], \"xaxis\": \"x\", \"y\": [33200], \"yaxis\": \"y\", \"type\": \"scatter\"}, {\"hovertemplate\": \"Industry=%{x}<br>Year=2011<br>Employment=%{marker.size}<extra></extra>\", \"ids\": [\"Real_Estate\"], \"legendgroup\": \"Real_Estate\", \"marker\": {\"color\": \"#FF6692\", \"size\": [17600], \"sizemode\": \"area\", \"sizeref\": 67.953125, \"symbol\": \"circle\"}, \"mode\": \"markers\", \"name\": \"Real_Estate\", \"showlegend\": true, \"x\": [\"Real_Estate\"], \"xaxis\": \"x\", \"y\": [17600], \"yaxis\": \"y\", \"type\": \"scatter\"}, {\"hovertemplate\": \"Industry=%{x}<br>Year=2011<br>Employment=%{marker.size}<extra></extra>\", \"ids\": [\"Professional_Service\"], \"legendgroup\": \"Professional_Service\", \"marker\": {\"color\": \"#B6E880\", \"size\": [143600], \"sizemode\": \"area\", \"sizeref\": 67.953125, \"symbol\": \"circle\"}, \"mode\": \"markers\", \"name\": \"Professional_Service\", \"showlegend\": true, \"x\": [\"Professional_Service\"], \"xaxis\": \"x\", \"y\": [143600], \"yaxis\": \"y\", \"type\": \"scatter\"}, {\"hovertemplate\": \"Industry=%{x}<br>Year=2011<br>Employment=%{marker.size}<extra></extra>\", \"ids\": [\"Public_Adminstration\"], \"legendgroup\": \"Public_Adminstration\", \"marker\": {\"color\": \"#FF97FF\", \"size\": [425600], \"sizemode\": \"area\", \"sizeref\": 67.953125, \"symbol\": \"circle\"}, \"mode\": \"markers\", \"name\": \"Public_Adminstration\", \"showlegend\": true, \"x\": [\"Public_Adminstration\"], \"xaxis\": \"x\", \"y\": [425600], \"yaxis\": \"y\", \"type\": \"scatter\"}, {\"hovertemplate\": \"Industry=%{x}<br>Year=2011<br>Employment=%{marker.size}<extra></extra>\", \"ids\": [\"Other_Service\"], \"legendgroup\": \"Other_Service\", \"marker\": {\"color\": \"#FECB52\", \"size\": [72400], \"sizemode\": \"area\", \"sizeref\": 67.953125, \"symbol\": \"circle\"}, \"mode\": \"markers\", \"name\": \"Other_Service\", \"showlegend\": true, \"x\": [\"Other_Service\"], \"xaxis\": \"x\", \"y\": [72400], \"yaxis\": \"y\", \"type\": \"scatter\"}], \"name\": \"2011\"}, {\"data\": [{\"hovertemplate\": \"Industry=%{x}<br>Year=2012<br>Employment=%{marker.size}<extra></extra>\", \"ids\": [\"Agriculture\"], \"legendgroup\": \"Agriculture\", \"marker\": {\"color\": \"#636efa\", \"size\": [36100], \"sizemode\": \"area\", \"sizeref\": 67.953125, \"symbol\": \"circle\"}, \"mode\": \"markers\", \"name\": \"Agriculture\", \"showlegend\": true, \"x\": [\"Agriculture\"], \"xaxis\": \"x\", \"y\": [36100], \"yaxis\": \"y\", \"type\": \"scatter\"}, {\"hovertemplate\": \"Industry=%{x}<br>Year=2012<br>Employment=%{marker.size}<extra></extra>\", \"ids\": [\"Production \"], \"legendgroup\": \"Production \", \"marker\": {\"color\": \"#EF553B\", \"size\": [154400], \"sizemode\": \"area\", \"sizeref\": 67.953125, \"symbol\": \"circle\"}, \"mode\": \"markers\", \"name\": \"Production \", \"showlegend\": true, \"x\": [\"Production \"], \"xaxis\": \"x\", \"y\": [154400], \"yaxis\": \"y\", \"type\": \"scatter\"}, {\"hovertemplate\": \"Industry=%{x}<br>Year=2012<br>Employment=%{marker.size}<extra></extra>\", \"ids\": [\"Construction \"], \"legendgroup\": \"Construction \", \"marker\": {\"color\": \"#00cc96\", \"size\": [91300], \"sizemode\": \"area\", \"sizeref\": 67.953125, \"symbol\": \"circle\"}, \"mode\": \"markers\", \"name\": \"Construction \", \"showlegend\": true, \"x\": [\"Construction \"], \"xaxis\": \"x\", \"y\": [91300], \"yaxis\": \"y\", \"type\": \"scatter\"}, {\"hovertemplate\": \"Industry=%{x}<br>Year=2012<br>Employment=%{marker.size}<extra></extra>\", \"ids\": [\"Retail\"], \"legendgroup\": \"Retail\", \"marker\": {\"color\": \"#ab63fa\", \"size\": [347300], \"sizemode\": \"area\", \"sizeref\": 67.953125, \"symbol\": \"circle\"}, \"mode\": \"markers\", \"name\": \"Retail\", \"showlegend\": true, \"x\": [\"Retail\"], \"xaxis\": \"x\", \"y\": [347300], \"yaxis\": \"y\", \"type\": \"scatter\"}, {\"hovertemplate\": \"Industry=%{x}<br>Year=2012<br>Employment=%{marker.size}<extra></extra>\", \"ids\": [\"ICT\"], \"legendgroup\": \"ICT\", \"marker\": {\"color\": \"#FFA15A\", \"size\": [27200], \"sizemode\": \"area\", \"sizeref\": 67.953125, \"symbol\": \"circle\"}, \"mode\": \"markers\", \"name\": \"ICT\", \"showlegend\": true, \"x\": [\"ICT\"], \"xaxis\": \"x\", \"y\": [27200], \"yaxis\": \"y\", \"type\": \"scatter\"}, {\"hovertemplate\": \"Industry=%{x}<br>Year=2012<br>Employment=%{marker.size}<extra></extra>\", \"ids\": [\"Finance\"], \"legendgroup\": \"Finance\", \"marker\": {\"color\": \"#19d3f3\", \"size\": [31100], \"sizemode\": \"area\", \"sizeref\": 67.953125, \"symbol\": \"circle\"}, \"mode\": \"markers\", \"name\": \"Finance\", \"showlegend\": true, \"x\": [\"Finance\"], \"xaxis\": \"x\", \"y\": [31100], \"yaxis\": \"y\", \"type\": \"scatter\"}, {\"hovertemplate\": \"Industry=%{x}<br>Year=2012<br>Employment=%{marker.size}<extra></extra>\", \"ids\": [\"Real_Estate\"], \"legendgroup\": \"Real_Estate\", \"marker\": {\"color\": \"#FF6692\", \"size\": [18800], \"sizemode\": \"area\", \"sizeref\": 67.953125, \"symbol\": \"circle\"}, \"mode\": \"markers\", \"name\": \"Real_Estate\", \"showlegend\": true, \"x\": [\"Real_Estate\"], \"xaxis\": \"x\", \"y\": [18800], \"yaxis\": \"y\", \"type\": \"scatter\"}, {\"hovertemplate\": \"Industry=%{x}<br>Year=2012<br>Employment=%{marker.size}<extra></extra>\", \"ids\": [\"Professional_Service\"], \"legendgroup\": \"Professional_Service\", \"marker\": {\"color\": \"#B6E880\", \"size\": [137300], \"sizemode\": \"area\", \"sizeref\": 67.953125, \"symbol\": \"circle\"}, \"mode\": \"markers\", \"name\": \"Professional_Service\", \"showlegend\": true, \"x\": [\"Professional_Service\"], \"xaxis\": \"x\", \"y\": [137300], \"yaxis\": \"y\", \"type\": \"scatter\"}, {\"hovertemplate\": \"Industry=%{x}<br>Year=2012<br>Employment=%{marker.size}<extra></extra>\", \"ids\": [\"Public_Adminstration\"], \"legendgroup\": \"Public_Adminstration\", \"marker\": {\"color\": \"#FF97FF\", \"size\": [421000], \"sizemode\": \"area\", \"sizeref\": 67.953125, \"symbol\": \"circle\"}, \"mode\": \"markers\", \"name\": \"Public_Adminstration\", \"showlegend\": true, \"x\": [\"Public_Adminstration\"], \"xaxis\": \"x\", \"y\": [421000], \"yaxis\": \"y\", \"type\": \"scatter\"}, {\"hovertemplate\": \"Industry=%{x}<br>Year=2012<br>Employment=%{marker.size}<extra></extra>\", \"ids\": [\"Other_Service\"], \"legendgroup\": \"Other_Service\", \"marker\": {\"color\": \"#FECB52\", \"size\": [72800], \"sizemode\": \"area\", \"sizeref\": 67.953125, \"symbol\": \"circle\"}, \"mode\": \"markers\", \"name\": \"Other_Service\", \"showlegend\": true, \"x\": [\"Other_Service\"], \"xaxis\": \"x\", \"y\": [72800], \"yaxis\": \"y\", \"type\": \"scatter\"}], \"name\": \"2012\"}, {\"data\": [{\"hovertemplate\": \"Industry=%{x}<br>Year=2013<br>Employment=%{marker.size}<extra></extra>\", \"ids\": [\"Agriculture\"], \"legendgroup\": \"Agriculture\", \"marker\": {\"color\": \"#636efa\", \"size\": [36800], \"sizemode\": \"area\", \"sizeref\": 67.953125, \"symbol\": \"circle\"}, \"mode\": \"markers\", \"name\": \"Agriculture\", \"showlegend\": true, \"x\": [\"Agriculture\"], \"xaxis\": \"x\", \"y\": [36800], \"yaxis\": \"y\", \"type\": \"scatter\"}, {\"hovertemplate\": \"Industry=%{x}<br>Year=2013<br>Employment=%{marker.size}<extra></extra>\", \"ids\": [\"Production \"], \"legendgroup\": \"Production \", \"marker\": {\"color\": \"#EF553B\", \"size\": [164200], \"sizemode\": \"area\", \"sizeref\": 67.953125, \"symbol\": \"circle\"}, \"mode\": \"markers\", \"name\": \"Production \", \"showlegend\": true, \"x\": [\"Production \"], \"xaxis\": \"x\", \"y\": [164200], \"yaxis\": \"y\", \"type\": \"scatter\"}, {\"hovertemplate\": \"Industry=%{x}<br>Year=2013<br>Employment=%{marker.size}<extra></extra>\", \"ids\": [\"Construction \"], \"legendgroup\": \"Construction \", \"marker\": {\"color\": \"#00cc96\", \"size\": [89300], \"sizemode\": \"area\", \"sizeref\": 67.953125, \"symbol\": \"circle\"}, \"mode\": \"markers\", \"name\": \"Construction \", \"showlegend\": true, \"x\": [\"Construction \"], \"xaxis\": \"x\", \"y\": [89300], \"yaxis\": \"y\", \"type\": \"scatter\"}, {\"hovertemplate\": \"Industry=%{x}<br>Year=2013<br>Employment=%{marker.size}<extra></extra>\", \"ids\": [\"Retail\"], \"legendgroup\": \"Retail\", \"marker\": {\"color\": \"#ab63fa\", \"size\": [345100], \"sizemode\": \"area\", \"sizeref\": 67.953125, \"symbol\": \"circle\"}, \"mode\": \"markers\", \"name\": \"Retail\", \"showlegend\": true, \"x\": [\"Retail\"], \"xaxis\": \"x\", \"y\": [345100], \"yaxis\": \"y\", \"type\": \"scatter\"}, {\"hovertemplate\": \"Industry=%{x}<br>Year=2013<br>Employment=%{marker.size}<extra></extra>\", \"ids\": [\"ICT\"], \"legendgroup\": \"ICT\", \"marker\": {\"color\": \"#FFA15A\", \"size\": [26900], \"sizemode\": \"area\", \"sizeref\": 67.953125, \"symbol\": \"circle\"}, \"mode\": \"markers\", \"name\": \"ICT\", \"showlegend\": true, \"x\": [\"ICT\"], \"xaxis\": \"x\", \"y\": [26900], \"yaxis\": \"y\", \"type\": \"scatter\"}, {\"hovertemplate\": \"Industry=%{x}<br>Year=2013<br>Employment=%{marker.size}<extra></extra>\", \"ids\": [\"Finance\"], \"legendgroup\": \"Finance\", \"marker\": {\"color\": \"#19d3f3\", \"size\": [32400], \"sizemode\": \"area\", \"sizeref\": 67.953125, \"symbol\": \"circle\"}, \"mode\": \"markers\", \"name\": \"Finance\", \"showlegend\": true, \"x\": [\"Finance\"], \"xaxis\": \"x\", \"y\": [32400], \"yaxis\": \"y\", \"type\": \"scatter\"}, {\"hovertemplate\": \"Industry=%{x}<br>Year=2013<br>Employment=%{marker.size}<extra></extra>\", \"ids\": [\"Real_Estate\"], \"legendgroup\": \"Real_Estate\", \"marker\": {\"color\": \"#FF6692\", \"size\": [18000], \"sizemode\": \"area\", \"sizeref\": 67.953125, \"symbol\": \"circle\"}, \"mode\": \"markers\", \"name\": \"Real_Estate\", \"showlegend\": true, \"x\": [\"Real_Estate\"], \"xaxis\": \"x\", \"y\": [18000], \"yaxis\": \"y\", \"type\": \"scatter\"}, {\"hovertemplate\": \"Industry=%{x}<br>Year=2013<br>Employment=%{marker.size}<extra></extra>\", \"ids\": [\"Professional_Service\"], \"legendgroup\": \"Professional_Service\", \"marker\": {\"color\": \"#B6E880\", \"size\": [149900], \"sizemode\": \"area\", \"sizeref\": 67.953125, \"symbol\": \"circle\"}, \"mode\": \"markers\", \"name\": \"Professional_Service\", \"showlegend\": true, \"x\": [\"Professional_Service\"], \"xaxis\": \"x\", \"y\": [149900], \"yaxis\": \"y\", \"type\": \"scatter\"}, {\"hovertemplate\": \"Industry=%{x}<br>Year=2013<br>Employment=%{marker.size}<extra></extra>\", \"ids\": [\"Public_Adminstration\"], \"legendgroup\": \"Public_Adminstration\", \"marker\": {\"color\": \"#FF97FF\", \"size\": [427000], \"sizemode\": \"area\", \"sizeref\": 67.953125, \"symbol\": \"circle\"}, \"mode\": \"markers\", \"name\": \"Public_Adminstration\", \"showlegend\": true, \"x\": [\"Public_Adminstration\"], \"xaxis\": \"x\", \"y\": [427000], \"yaxis\": \"y\", \"type\": \"scatter\"}, {\"hovertemplate\": \"Industry=%{x}<br>Year=2013<br>Employment=%{marker.size}<extra></extra>\", \"ids\": [\"Other_Service\"], \"legendgroup\": \"Other_Service\", \"marker\": {\"color\": \"#FECB52\", \"size\": [75500], \"sizemode\": \"area\", \"sizeref\": 67.953125, \"symbol\": \"circle\"}, \"mode\": \"markers\", \"name\": \"Other_Service\", \"showlegend\": true, \"x\": [\"Other_Service\"], \"xaxis\": \"x\", \"y\": [75500], \"yaxis\": \"y\", \"type\": \"scatter\"}], \"name\": \"2013\"}, {\"data\": [{\"hovertemplate\": \"Industry=%{x}<br>Year=2014<br>Employment=%{marker.size}<extra></extra>\", \"ids\": [\"Agriculture\"], \"legendgroup\": \"Agriculture\", \"marker\": {\"color\": \"#636efa\", \"size\": [42700], \"sizemode\": \"area\", \"sizeref\": 67.953125, \"symbol\": \"circle\"}, \"mode\": \"markers\", \"name\": \"Agriculture\", \"showlegend\": true, \"x\": [\"Agriculture\"], \"xaxis\": \"x\", \"y\": [42700], \"yaxis\": \"y\", \"type\": \"scatter\"}, {\"hovertemplate\": \"Industry=%{x}<br>Year=2014<br>Employment=%{marker.size}<extra></extra>\", \"ids\": [\"Production \"], \"legendgroup\": \"Production \", \"marker\": {\"color\": \"#EF553B\", \"size\": [173300], \"sizemode\": \"area\", \"sizeref\": 67.953125, \"symbol\": \"circle\"}, \"mode\": \"markers\", \"name\": \"Production \", \"showlegend\": true, \"x\": [\"Production \"], \"xaxis\": \"x\", \"y\": [173300], \"yaxis\": \"y\", \"type\": \"scatter\"}, {\"hovertemplate\": \"Industry=%{x}<br>Year=2014<br>Employment=%{marker.size}<extra></extra>\", \"ids\": [\"Construction \"], \"legendgroup\": \"Construction \", \"marker\": {\"color\": \"#00cc96\", \"size\": [97000], \"sizemode\": \"area\", \"sizeref\": 67.953125, \"symbol\": \"circle\"}, \"mode\": \"markers\", \"name\": \"Construction \", \"showlegend\": true, \"x\": [\"Construction \"], \"xaxis\": \"x\", \"y\": [97000], \"yaxis\": \"y\", \"type\": \"scatter\"}, {\"hovertemplate\": \"Industry=%{x}<br>Year=2014<br>Employment=%{marker.size}<extra></extra>\", \"ids\": [\"Retail\"], \"legendgroup\": \"Retail\", \"marker\": {\"color\": \"#ab63fa\", \"size\": [337300], \"sizemode\": \"area\", \"sizeref\": 67.953125, \"symbol\": \"circle\"}, \"mode\": \"markers\", \"name\": \"Retail\", \"showlegend\": true, \"x\": [\"Retail\"], \"xaxis\": \"x\", \"y\": [337300], \"yaxis\": \"y\", \"type\": \"scatter\"}, {\"hovertemplate\": \"Industry=%{x}<br>Year=2014<br>Employment=%{marker.size}<extra></extra>\", \"ids\": [\"ICT\"], \"legendgroup\": \"ICT\", \"marker\": {\"color\": \"#FFA15A\", \"size\": [35700], \"sizemode\": \"area\", \"sizeref\": 67.953125, \"symbol\": \"circle\"}, \"mode\": \"markers\", \"name\": \"ICT\", \"showlegend\": true, \"x\": [\"ICT\"], \"xaxis\": \"x\", \"y\": [35700], \"yaxis\": \"y\", \"type\": \"scatter\"}, {\"hovertemplate\": \"Industry=%{x}<br>Year=2014<br>Employment=%{marker.size}<extra></extra>\", \"ids\": [\"Finance\"], \"legendgroup\": \"Finance\", \"marker\": {\"color\": \"#19d3f3\", \"size\": [32400], \"sizemode\": \"area\", \"sizeref\": 67.953125, \"symbol\": \"circle\"}, \"mode\": \"markers\", \"name\": \"Finance\", \"showlegend\": true, \"x\": [\"Finance\"], \"xaxis\": \"x\", \"y\": [32400], \"yaxis\": \"y\", \"type\": \"scatter\"}, {\"hovertemplate\": \"Industry=%{x}<br>Year=2014<br>Employment=%{marker.size}<extra></extra>\", \"ids\": [\"Real_Estate\"], \"legendgroup\": \"Real_Estate\", \"marker\": {\"color\": \"#FF6692\", \"size\": [22200], \"sizemode\": \"area\", \"sizeref\": 67.953125, \"symbol\": \"circle\"}, \"mode\": \"markers\", \"name\": \"Real_Estate\", \"showlegend\": true, \"x\": [\"Real_Estate\"], \"xaxis\": \"x\", \"y\": [22200], \"yaxis\": \"y\", \"type\": \"scatter\"}, {\"hovertemplate\": \"Industry=%{x}<br>Year=2014<br>Employment=%{marker.size}<extra></extra>\", \"ids\": [\"Professional_Service\"], \"legendgroup\": \"Professional_Service\", \"marker\": {\"color\": \"#B6E880\", \"size\": [152900], \"sizemode\": \"area\", \"sizeref\": 67.953125, \"symbol\": \"circle\"}, \"mode\": \"markers\", \"name\": \"Professional_Service\", \"showlegend\": true, \"x\": [\"Professional_Service\"], \"xaxis\": \"x\", \"y\": [152900], \"yaxis\": \"y\", \"type\": \"scatter\"}, {\"hovertemplate\": \"Industry=%{x}<br>Year=2014<br>Employment=%{marker.size}<extra></extra>\", \"ids\": [\"Public_Adminstration\"], \"legendgroup\": \"Public_Adminstration\", \"marker\": {\"color\": \"#FF97FF\", \"size\": [427600], \"sizemode\": \"area\", \"sizeref\": 67.953125, \"symbol\": \"circle\"}, \"mode\": \"markers\", \"name\": \"Public_Adminstration\", \"showlegend\": true, \"x\": [\"Public_Adminstration\"], \"xaxis\": \"x\", \"y\": [427600], \"yaxis\": \"y\", \"type\": \"scatter\"}, {\"hovertemplate\": \"Industry=%{x}<br>Year=2014<br>Employment=%{marker.size}<extra></extra>\", \"ids\": [\"Other_Service\"], \"legendgroup\": \"Other_Service\", \"marker\": {\"color\": \"#FECB52\", \"size\": [73300], \"sizemode\": \"area\", \"sizeref\": 67.953125, \"symbol\": \"circle\"}, \"mode\": \"markers\", \"name\": \"Other_Service\", \"showlegend\": true, \"x\": [\"Other_Service\"], \"xaxis\": \"x\", \"y\": [73300], \"yaxis\": \"y\", \"type\": \"scatter\"}], \"name\": \"2014\"}, {\"data\": [{\"hovertemplate\": \"Industry=%{x}<br>Year=2015<br>Employment=%{marker.size}<extra></extra>\", \"ids\": [\"Agriculture\"], \"legendgroup\": \"Agriculture\", \"marker\": {\"color\": \"#636efa\", \"size\": [40700], \"sizemode\": \"area\", \"sizeref\": 67.953125, \"symbol\": \"circle\"}, \"mode\": \"markers\", \"name\": \"Agriculture\", \"showlegend\": true, \"x\": [\"Agriculture\"], \"xaxis\": \"x\", \"y\": [40700], \"yaxis\": \"y\", \"type\": \"scatter\"}, {\"hovertemplate\": \"Industry=%{x}<br>Year=2015<br>Employment=%{marker.size}<extra></extra>\", \"ids\": [\"Production \"], \"legendgroup\": \"Production \", \"marker\": {\"color\": \"#EF553B\", \"size\": [172300], \"sizemode\": \"area\", \"sizeref\": 67.953125, \"symbol\": \"circle\"}, \"mode\": \"markers\", \"name\": \"Production \", \"showlegend\": true, \"x\": [\"Production \"], \"xaxis\": \"x\", \"y\": [172300], \"yaxis\": \"y\", \"type\": \"scatter\"}, {\"hovertemplate\": \"Industry=%{x}<br>Year=2015<br>Employment=%{marker.size}<extra></extra>\", \"ids\": [\"Construction \"], \"legendgroup\": \"Construction \", \"marker\": {\"color\": \"#00cc96\", \"size\": [92600], \"sizemode\": \"area\", \"sizeref\": 67.953125, \"symbol\": \"circle\"}, \"mode\": \"markers\", \"name\": \"Construction \", \"showlegend\": true, \"x\": [\"Construction \"], \"xaxis\": \"x\", \"y\": [92600], \"yaxis\": \"y\", \"type\": \"scatter\"}, {\"hovertemplate\": \"Industry=%{x}<br>Year=2015<br>Employment=%{marker.size}<extra></extra>\", \"ids\": [\"Retail\"], \"legendgroup\": \"Retail\", \"marker\": {\"color\": \"#ab63fa\", \"size\": [357700], \"sizemode\": \"area\", \"sizeref\": 67.953125, \"symbol\": \"circle\"}, \"mode\": \"markers\", \"name\": \"Retail\", \"showlegend\": true, \"x\": [\"Retail\"], \"xaxis\": \"x\", \"y\": [357700], \"yaxis\": \"y\", \"type\": \"scatter\"}, {\"hovertemplate\": \"Industry=%{x}<br>Year=2015<br>Employment=%{marker.size}<extra></extra>\", \"ids\": [\"ICT\"], \"legendgroup\": \"ICT\", \"marker\": {\"color\": \"#FFA15A\", \"size\": [24000], \"sizemode\": \"area\", \"sizeref\": 67.953125, \"symbol\": \"circle\"}, \"mode\": \"markers\", \"name\": \"ICT\", \"showlegend\": true, \"x\": [\"ICT\"], \"xaxis\": \"x\", \"y\": [24000], \"yaxis\": \"y\", \"type\": \"scatter\"}, {\"hovertemplate\": \"Industry=%{x}<br>Year=2015<br>Employment=%{marker.size}<extra></extra>\", \"ids\": [\"Finance\"], \"legendgroup\": \"Finance\", \"marker\": {\"color\": \"#19d3f3\", \"size\": [30800], \"sizemode\": \"area\", \"sizeref\": 67.953125, \"symbol\": \"circle\"}, \"mode\": \"markers\", \"name\": \"Finance\", \"showlegend\": true, \"x\": [\"Finance\"], \"xaxis\": \"x\", \"y\": [30800], \"yaxis\": \"y\", \"type\": \"scatter\"}, {\"hovertemplate\": \"Industry=%{x}<br>Year=2015<br>Employment=%{marker.size}<extra></extra>\", \"ids\": [\"Real_Estate\"], \"legendgroup\": \"Real_Estate\", \"marker\": {\"color\": \"#FF6692\", \"size\": [19100], \"sizemode\": \"area\", \"sizeref\": 67.953125, \"symbol\": \"circle\"}, \"mode\": \"markers\", \"name\": \"Real_Estate\", \"showlegend\": true, \"x\": [\"Real_Estate\"], \"xaxis\": \"x\", \"y\": [19100], \"yaxis\": \"y\", \"type\": \"scatter\"}, {\"hovertemplate\": \"Industry=%{x}<br>Year=2015<br>Employment=%{marker.size}<extra></extra>\", \"ids\": [\"Professional_Service\"], \"legendgroup\": \"Professional_Service\", \"marker\": {\"color\": \"#B6E880\", \"size\": [166200], \"sizemode\": \"area\", \"sizeref\": 67.953125, \"symbol\": \"circle\"}, \"mode\": \"markers\", \"name\": \"Professional_Service\", \"showlegend\": true, \"x\": [\"Professional_Service\"], \"xaxis\": \"x\", \"y\": [166200], \"yaxis\": \"y\", \"type\": \"scatter\"}, {\"hovertemplate\": \"Industry=%{x}<br>Year=2015<br>Employment=%{marker.size}<extra></extra>\", \"ids\": [\"Public_Adminstration\"], \"legendgroup\": \"Public_Adminstration\", \"marker\": {\"color\": \"#FF97FF\", \"size\": [423200], \"sizemode\": \"area\", \"sizeref\": 67.953125, \"symbol\": \"circle\"}, \"mode\": \"markers\", \"name\": \"Public_Adminstration\", \"showlegend\": true, \"x\": [\"Public_Adminstration\"], \"xaxis\": \"x\", \"y\": [423200], \"yaxis\": \"y\", \"type\": \"scatter\"}, {\"hovertemplate\": \"Industry=%{x}<br>Year=2015<br>Employment=%{marker.size}<extra></extra>\", \"ids\": [\"Other_Service\"], \"legendgroup\": \"Other_Service\", \"marker\": {\"color\": \"#FECB52\", \"size\": [77200], \"sizemode\": \"area\", \"sizeref\": 67.953125, \"symbol\": \"circle\"}, \"mode\": \"markers\", \"name\": \"Other_Service\", \"showlegend\": true, \"x\": [\"Other_Service\"], \"xaxis\": \"x\", \"y\": [77200], \"yaxis\": \"y\", \"type\": \"scatter\"}], \"name\": \"2015\"}, {\"data\": [{\"hovertemplate\": \"Industry=%{x}<br>Year=2016<br>Employment=%{marker.size}<extra></extra>\", \"ids\": [\"Agriculture\"], \"legendgroup\": \"Agriculture\", \"marker\": {\"color\": \"#636efa\", \"size\": [43200], \"sizemode\": \"area\", \"sizeref\": 67.953125, \"symbol\": \"circle\"}, \"mode\": \"markers\", \"name\": \"Agriculture\", \"showlegend\": true, \"x\": [\"Agriculture\"], \"xaxis\": \"x\", \"y\": [43200], \"yaxis\": \"y\", \"type\": \"scatter\"}, {\"hovertemplate\": \"Industry=%{x}<br>Year=2016<br>Employment=%{marker.size}<extra></extra>\", \"ids\": [\"Production \"], \"legendgroup\": \"Production \", \"marker\": {\"color\": \"#EF553B\", \"size\": [162500], \"sizemode\": \"area\", \"sizeref\": 67.953125, \"symbol\": \"circle\"}, \"mode\": \"markers\", \"name\": \"Production \", \"showlegend\": true, \"x\": [\"Production \"], \"xaxis\": \"x\", \"y\": [162500], \"yaxis\": \"y\", \"type\": \"scatter\"}, {\"hovertemplate\": \"Industry=%{x}<br>Year=2016<br>Employment=%{marker.size}<extra></extra>\", \"ids\": [\"Construction \"], \"legendgroup\": \"Construction \", \"marker\": {\"color\": \"#00cc96\", \"size\": [102700], \"sizemode\": \"area\", \"sizeref\": 67.953125, \"symbol\": \"circle\"}, \"mode\": \"markers\", \"name\": \"Construction \", \"showlegend\": true, \"x\": [\"Construction \"], \"xaxis\": \"x\", \"y\": [102700], \"yaxis\": \"y\", \"type\": \"scatter\"}, {\"hovertemplate\": \"Industry=%{x}<br>Year=2016<br>Employment=%{marker.size}<extra></extra>\", \"ids\": [\"Retail\"], \"legendgroup\": \"Retail\", \"marker\": {\"color\": \"#ab63fa\", \"size\": [360200], \"sizemode\": \"area\", \"sizeref\": 67.953125, \"symbol\": \"circle\"}, \"mode\": \"markers\", \"name\": \"Retail\", \"showlegend\": true, \"x\": [\"Retail\"], \"xaxis\": \"x\", \"y\": [360200], \"yaxis\": \"y\", \"type\": \"scatter\"}, {\"hovertemplate\": \"Industry=%{x}<br>Year=2016<br>Employment=%{marker.size}<extra></extra>\", \"ids\": [\"ICT\"], \"legendgroup\": \"ICT\", \"marker\": {\"color\": \"#FFA15A\", \"size\": [34400], \"sizemode\": \"area\", \"sizeref\": 67.953125, \"symbol\": \"circle\"}, \"mode\": \"markers\", \"name\": \"ICT\", \"showlegend\": true, \"x\": [\"ICT\"], \"xaxis\": \"x\", \"y\": [34400], \"yaxis\": \"y\", \"type\": \"scatter\"}, {\"hovertemplate\": \"Industry=%{x}<br>Year=2016<br>Employment=%{marker.size}<extra></extra>\", \"ids\": [\"Finance\"], \"legendgroup\": \"Finance\", \"marker\": {\"color\": \"#19d3f3\", \"size\": [31000], \"sizemode\": \"area\", \"sizeref\": 67.953125, \"symbol\": \"circle\"}, \"mode\": \"markers\", \"name\": \"Finance\", \"showlegend\": true, \"x\": [\"Finance\"], \"xaxis\": \"x\", \"y\": [31000], \"yaxis\": \"y\", \"type\": \"scatter\"}, {\"hovertemplate\": \"Industry=%{x}<br>Year=2016<br>Employment=%{marker.size}<extra></extra>\", \"ids\": [\"Real_Estate\"], \"legendgroup\": \"Real_Estate\", \"marker\": {\"color\": \"#FF6692\", \"size\": [22700], \"sizemode\": \"area\", \"sizeref\": 67.953125, \"symbol\": \"circle\"}, \"mode\": \"markers\", \"name\": \"Real_Estate\", \"showlegend\": true, \"x\": [\"Real_Estate\"], \"xaxis\": \"x\", \"y\": [22700], \"yaxis\": \"y\", \"type\": \"scatter\"}, {\"hovertemplate\": \"Industry=%{x}<br>Year=2016<br>Employment=%{marker.size}<extra></extra>\", \"ids\": [\"Professional_Service\"], \"legendgroup\": \"Professional_Service\", \"marker\": {\"color\": \"#B6E880\", \"size\": [161200], \"sizemode\": \"area\", \"sizeref\": 67.953125, \"symbol\": \"circle\"}, \"mode\": \"markers\", \"name\": \"Professional_Service\", \"showlegend\": true, \"x\": [\"Professional_Service\"], \"xaxis\": \"x\", \"y\": [161200], \"yaxis\": \"y\", \"type\": \"scatter\"}, {\"hovertemplate\": \"Industry=%{x}<br>Year=2016<br>Employment=%{marker.size}<extra></extra>\", \"ids\": [\"Public_Adminstration\"], \"legendgroup\": \"Public_Adminstration\", \"marker\": {\"color\": \"#FF97FF\", \"size\": [418500], \"sizemode\": \"area\", \"sizeref\": 67.953125, \"symbol\": \"circle\"}, \"mode\": \"markers\", \"name\": \"Public_Adminstration\", \"showlegend\": true, \"x\": [\"Public_Adminstration\"], \"xaxis\": \"x\", \"y\": [418500], \"yaxis\": \"y\", \"type\": \"scatter\"}, {\"hovertemplate\": \"Industry=%{x}<br>Year=2016<br>Employment=%{marker.size}<extra></extra>\", \"ids\": [\"Other_Service\"], \"legendgroup\": \"Other_Service\", \"marker\": {\"color\": \"#FECB52\", \"size\": [72400], \"sizemode\": \"area\", \"sizeref\": 67.953125, \"symbol\": \"circle\"}, \"mode\": \"markers\", \"name\": \"Other_Service\", \"showlegend\": true, \"x\": [\"Other_Service\"], \"xaxis\": \"x\", \"y\": [72400], \"yaxis\": \"y\", \"type\": \"scatter\"}], \"name\": \"2016\"}, {\"data\": [{\"hovertemplate\": \"Industry=%{x}<br>Year=2017<br>Employment=%{marker.size}<extra></extra>\", \"ids\": [\"Agriculture\"], \"legendgroup\": \"Agriculture\", \"marker\": {\"color\": \"#636efa\", \"size\": [40200], \"sizemode\": \"area\", \"sizeref\": 67.953125, \"symbol\": \"circle\"}, \"mode\": \"markers\", \"name\": \"Agriculture\", \"showlegend\": true, \"x\": [\"Agriculture\"], \"xaxis\": \"x\", \"y\": [40200], \"yaxis\": \"y\", \"type\": \"scatter\"}, {\"hovertemplate\": \"Industry=%{x}<br>Year=2017<br>Employment=%{marker.size}<extra></extra>\", \"ids\": [\"Production \"], \"legendgroup\": \"Production \", \"marker\": {\"color\": \"#EF553B\", \"size\": [165100], \"sizemode\": \"area\", \"sizeref\": 67.953125, \"symbol\": \"circle\"}, \"mode\": \"markers\", \"name\": \"Production \", \"showlegend\": true, \"x\": [\"Production \"], \"xaxis\": \"x\", \"y\": [165100], \"yaxis\": \"y\", \"type\": \"scatter\"}, {\"hovertemplate\": \"Industry=%{x}<br>Year=2017<br>Employment=%{marker.size}<extra></extra>\", \"ids\": [\"Construction \"], \"legendgroup\": \"Construction \", \"marker\": {\"color\": \"#00cc96\", \"size\": [90800], \"sizemode\": \"area\", \"sizeref\": 67.953125, \"symbol\": \"circle\"}, \"mode\": \"markers\", \"name\": \"Construction \", \"showlegend\": true, \"x\": [\"Construction \"], \"xaxis\": \"x\", \"y\": [90800], \"yaxis\": \"y\", \"type\": \"scatter\"}, {\"hovertemplate\": \"Industry=%{x}<br>Year=2017<br>Employment=%{marker.size}<extra></extra>\", \"ids\": [\"Retail\"], \"legendgroup\": \"Retail\", \"marker\": {\"color\": \"#ab63fa\", \"size\": [333500], \"sizemode\": \"area\", \"sizeref\": 67.953125, \"symbol\": \"circle\"}, \"mode\": \"markers\", \"name\": \"Retail\", \"showlegend\": true, \"x\": [\"Retail\"], \"xaxis\": \"x\", \"y\": [333500], \"yaxis\": \"y\", \"type\": \"scatter\"}, {\"hovertemplate\": \"Industry=%{x}<br>Year=2017<br>Employment=%{marker.size}<extra></extra>\", \"ids\": [\"ICT\"], \"legendgroup\": \"ICT\", \"marker\": {\"color\": \"#FFA15A\", \"size\": [58900], \"sizemode\": \"area\", \"sizeref\": 67.953125, \"symbol\": \"circle\"}, \"mode\": \"markers\", \"name\": \"ICT\", \"showlegend\": true, \"x\": [\"ICT\"], \"xaxis\": \"x\", \"y\": [58900], \"yaxis\": \"y\", \"type\": \"scatter\"}, {\"hovertemplate\": \"Industry=%{x}<br>Year=2017<br>Employment=%{marker.size}<extra></extra>\", \"ids\": [\"Finance\"], \"legendgroup\": \"Finance\", \"marker\": {\"color\": \"#19d3f3\", \"size\": [32100], \"sizemode\": \"area\", \"sizeref\": 67.953125, \"symbol\": \"circle\"}, \"mode\": \"markers\", \"name\": \"Finance\", \"showlegend\": true, \"x\": [\"Finance\"], \"xaxis\": \"x\", \"y\": [32100], \"yaxis\": \"y\", \"type\": \"scatter\"}, {\"hovertemplate\": \"Industry=%{x}<br>Year=2017<br>Employment=%{marker.size}<extra></extra>\", \"ids\": [\"Real_Estate\"], \"legendgroup\": \"Real_Estate\", \"marker\": {\"color\": \"#FF6692\", \"size\": [18200], \"sizemode\": \"area\", \"sizeref\": 67.953125, \"symbol\": \"circle\"}, \"mode\": \"markers\", \"name\": \"Real_Estate\", \"showlegend\": true, \"x\": [\"Real_Estate\"], \"xaxis\": \"x\", \"y\": [18200], \"yaxis\": \"y\", \"type\": \"scatter\"}, {\"hovertemplate\": \"Industry=%{x}<br>Year=2017<br>Employment=%{marker.size}<extra></extra>\", \"ids\": [\"Professional_Service\"], \"legendgroup\": \"Professional_Service\", \"marker\": {\"color\": \"#B6E880\", \"size\": [176400], \"sizemode\": \"area\", \"sizeref\": 67.953125, \"symbol\": \"circle\"}, \"mode\": \"markers\", \"name\": \"Professional_Service\", \"showlegend\": true, \"x\": [\"Professional_Service\"], \"xaxis\": \"x\", \"y\": [176400], \"yaxis\": \"y\", \"type\": \"scatter\"}, {\"hovertemplate\": \"Industry=%{x}<br>Year=2017<br>Employment=%{marker.size}<extra></extra>\", \"ids\": [\"Public_Adminstration\"], \"legendgroup\": \"Public_Adminstration\", \"marker\": {\"color\": \"#FF97FF\", \"size\": [424500], \"sizemode\": \"area\", \"sizeref\": 67.953125, \"symbol\": \"circle\"}, \"mode\": \"markers\", \"name\": \"Public_Adminstration\", \"showlegend\": true, \"x\": [\"Public_Adminstration\"], \"xaxis\": \"x\", \"y\": [424500], \"yaxis\": \"y\", \"type\": \"scatter\"}, {\"hovertemplate\": \"Industry=%{x}<br>Year=2017<br>Employment=%{marker.size}<extra></extra>\", \"ids\": [\"Other_Service\"], \"legendgroup\": \"Other_Service\", \"marker\": {\"color\": \"#FECB52\", \"size\": [83200], \"sizemode\": \"area\", \"sizeref\": 67.953125, \"symbol\": \"circle\"}, \"mode\": \"markers\", \"name\": \"Other_Service\", \"showlegend\": true, \"x\": [\"Other_Service\"], \"xaxis\": \"x\", \"y\": [83200], \"yaxis\": \"y\", \"type\": \"scatter\"}], \"name\": \"2017\"}, {\"data\": [{\"hovertemplate\": \"Industry=%{x}<br>Year=2018<br>Employment=%{marker.size}<extra></extra>\", \"ids\": [\"Agriculture\"], \"legendgroup\": \"Agriculture\", \"marker\": {\"color\": \"#636efa\", \"size\": [41100], \"sizemode\": \"area\", \"sizeref\": 67.953125, \"symbol\": \"circle\"}, \"mode\": \"markers\", \"name\": \"Agriculture\", \"showlegend\": true, \"x\": [\"Agriculture\"], \"xaxis\": \"x\", \"y\": [41100], \"yaxis\": \"y\", \"type\": \"scatter\"}, {\"hovertemplate\": \"Industry=%{x}<br>Year=2018<br>Employment=%{marker.size}<extra></extra>\", \"ids\": [\"Production \"], \"legendgroup\": \"Production \", \"marker\": {\"color\": \"#EF553B\", \"size\": [165700], \"sizemode\": \"area\", \"sizeref\": 67.953125, \"symbol\": \"circle\"}, \"mode\": \"markers\", \"name\": \"Production \", \"showlegend\": true, \"x\": [\"Production \"], \"xaxis\": \"x\", \"y\": [165700], \"yaxis\": \"y\", \"type\": \"scatter\"}, {\"hovertemplate\": \"Industry=%{x}<br>Year=2018<br>Employment=%{marker.size}<extra></extra>\", \"ids\": [\"Construction \"], \"legendgroup\": \"Construction \", \"marker\": {\"color\": \"#00cc96\", \"size\": [101800], \"sizemode\": \"area\", \"sizeref\": 67.953125, \"symbol\": \"circle\"}, \"mode\": \"markers\", \"name\": \"Construction \", \"showlegend\": true, \"x\": [\"Construction \"], \"xaxis\": \"x\", \"y\": [101800], \"yaxis\": \"y\", \"type\": \"scatter\"}, {\"hovertemplate\": \"Industry=%{x}<br>Year=2018<br>Employment=%{marker.size}<extra></extra>\", \"ids\": [\"Retail\"], \"legendgroup\": \"Retail\", \"marker\": {\"color\": \"#ab63fa\", \"size\": [347600], \"sizemode\": \"area\", \"sizeref\": 67.953125, \"symbol\": \"circle\"}, \"mode\": \"markers\", \"name\": \"Retail\", \"showlegend\": true, \"x\": [\"Retail\"], \"xaxis\": \"x\", \"y\": [347600], \"yaxis\": \"y\", \"type\": \"scatter\"}, {\"hovertemplate\": \"Industry=%{x}<br>Year=2018<br>Employment=%{marker.size}<extra></extra>\", \"ids\": [\"ICT\"], \"legendgroup\": \"ICT\", \"marker\": {\"color\": \"#FFA15A\", \"size\": [31500], \"sizemode\": \"area\", \"sizeref\": 67.953125, \"symbol\": \"circle\"}, \"mode\": \"markers\", \"name\": \"ICT\", \"showlegend\": true, \"x\": [\"ICT\"], \"xaxis\": \"x\", \"y\": [31500], \"yaxis\": \"y\", \"type\": \"scatter\"}, {\"hovertemplate\": \"Industry=%{x}<br>Year=2018<br>Employment=%{marker.size}<extra></extra>\", \"ids\": [\"Finance\"], \"legendgroup\": \"Finance\", \"marker\": {\"color\": \"#19d3f3\", \"size\": [35500], \"sizemode\": \"area\", \"sizeref\": 67.953125, \"symbol\": \"circle\"}, \"mode\": \"markers\", \"name\": \"Finance\", \"showlegend\": true, \"x\": [\"Finance\"], \"xaxis\": \"x\", \"y\": [35500], \"yaxis\": \"y\", \"type\": \"scatter\"}, {\"hovertemplate\": \"Industry=%{x}<br>Year=2018<br>Employment=%{marker.size}<extra></extra>\", \"ids\": [\"Real_Estate\"], \"legendgroup\": \"Real_Estate\", \"marker\": {\"color\": \"#FF6692\", \"size\": [25200], \"sizemode\": \"area\", \"sizeref\": 67.953125, \"symbol\": \"circle\"}, \"mode\": \"markers\", \"name\": \"Real_Estate\", \"showlegend\": true, \"x\": [\"Real_Estate\"], \"xaxis\": \"x\", \"y\": [25200], \"yaxis\": \"y\", \"type\": \"scatter\"}, {\"hovertemplate\": \"Industry=%{x}<br>Year=2018<br>Employment=%{marker.size}<extra></extra>\", \"ids\": [\"Professional_Service\"], \"legendgroup\": \"Professional_Service\", \"marker\": {\"color\": \"#B6E880\", \"size\": [187100], \"sizemode\": \"area\", \"sizeref\": 67.953125, \"symbol\": \"circle\"}, \"mode\": \"markers\", \"name\": \"Professional_Service\", \"showlegend\": true, \"x\": [\"Professional_Service\"], \"xaxis\": \"x\", \"y\": [187100], \"yaxis\": \"y\", \"type\": \"scatter\"}, {\"hovertemplate\": \"Industry=%{x}<br>Year=2018<br>Employment=%{marker.size}<extra></extra>\", \"ids\": [\"Public_Adminstration\"], \"legendgroup\": \"Public_Adminstration\", \"marker\": {\"color\": \"#FF97FF\", \"size\": [434900], \"sizemode\": \"area\", \"sizeref\": 67.953125, \"symbol\": \"circle\"}, \"mode\": \"markers\", \"name\": \"Public_Adminstration\", \"showlegend\": true, \"x\": [\"Public_Adminstration\"], \"xaxis\": \"x\", \"y\": [434900], \"yaxis\": \"y\", \"type\": \"scatter\"}, {\"hovertemplate\": \"Industry=%{x}<br>Year=2018<br>Employment=%{marker.size}<extra></extra>\", \"ids\": [\"Other_Service\"], \"legendgroup\": \"Other_Service\", \"marker\": {\"color\": \"#FECB52\", \"size\": [81800], \"sizemode\": \"area\", \"sizeref\": 67.953125, \"symbol\": \"circle\"}, \"mode\": \"markers\", \"name\": \"Other_Service\", \"showlegend\": true, \"x\": [\"Other_Service\"], \"xaxis\": \"x\", \"y\": [81800], \"yaxis\": \"y\", \"type\": \"scatter\"}], \"name\": \"2018\"}]);\n",
       "                        }).then(function(){\n",
       "                            \n",
       "var gd = document.getElementById('0f0cc300-6cfc-4f92-88eb-2bff0c0c7337');\n",
       "var x = new MutationObserver(function (mutations, observer) {{\n",
       "        var display = window.getComputedStyle(gd).display;\n",
       "        if (!display || display === 'none') {{\n",
       "            console.log([gd, 'removed!']);\n",
       "            Plotly.purge(gd);\n",
       "            observer.disconnect();\n",
       "        }}\n",
       "}});\n",
       "\n",
       "// Listen for the removal of the full notebook cells\n",
       "var notebookContainer = gd.closest('#notebook-container');\n",
       "if (notebookContainer) {{\n",
       "    x.observe(notebookContainer, {childList: true});\n",
       "}}\n",
       "\n",
       "// Listen for the clearing of the current output cell\n",
       "var outputEl = gd.closest('.output');\n",
       "if (outputEl) {{\n",
       "    x.observe(outputEl, {childList: true});\n",
       "}}\n",
       "\n",
       "                        })\n",
       "                };\n",
       "                });\n",
       "            </script>\n",
       "        </div>"
      ]
     },
     "metadata": {},
     "output_type": "display_data"
    }
   ],
   "source": [
    "#Note - The graph for this is visible unless we ran the code because of high resolution of this plot\n",
    "\n",
    "import plotly.express as px\n",
    "plt.rcParams['figure.figsize'] = [10,25]\n",
    "df_visual = exp_df.drop(columns = 'hlsum')\n",
    "df_visual['Industry'] = df_visual.Industry\n",
    "df_visual = pd.melt(df_visual, id_vars = ['Industry'])\n",
    "df_visual.columns = ['Industry', 'Year', 'Employment']\n",
    "fig3 = px.scatter(df_visual, x = 'Industry', y = 'Employment', animation_frame=\"Year\", color = 'Industry',  \n",
    "                  animation_group=\"Industry\", size = 'Employment',size_max=80)\n",
    "fig3.update_layout(margin=dict(l=20, r=20, t=20, b=20),paper_bgcolor=\"white\")\n",
    "fig3.show()\n"
   ]
  },
  {
   "cell_type": "markdown",
   "metadata": {},
   "source": [
    "## 4.\tPCA/Correlation \n",
    "\n",
    "#### 4.1.\tUndertake a PCA (PC=2; columns should be like PC1, PC2, Industry) and produce a scatter plot.  Write your interpretation about the plot and in relation to the analysis of section 2 & 3 (for example which industries are correlated over the years as well as in PCA etc.)\n"
   ]
  },
  {
   "cell_type": "markdown",
   "metadata": {},
   "source": [
    "Principal Component Analysis (PCA) is a dimensionality-reduction technique that is often used to transform a high-dimensional dataset into a smaller-dimensional subspace prior to running a machine learning algorithm on the data.\n",
    "\n",
    "<blockquote>\n",
    "<p><span style=\"color:red\">References</span></p>\n",
    "\n",
    "Wold, Svante,[Principal component analysis](https://www.sciencedirect.com/science/article/abs/pii/0169743987800849) Kim Esbensen, and Paul Geladi. \"Principal component analysis.\" Chemometrics and intelligent laboratory systems 2.1-3 (1987): 37-52."
   ]
  },
  {
   "cell_type": "code",
   "execution_count": 16,
   "metadata": {
    "ExecuteTime": {
     "end_time": "2020-05-23T20:55:22.137283Z",
     "start_time": "2020-05-23T20:55:22.121927Z"
    }
   },
   "outputs": [
    {
     "data": {
      "text/plain": [
       "Index(['Industry', '2009', '2010', '2011', '2012', '2013', '2014', '2015',\n",
       "       '2016', '2017', '2018', 'hlsum'],\n",
       "      dtype='object')"
      ]
     },
     "execution_count": 16,
     "metadata": {},
     "output_type": "execute_result"
    }
   ],
   "source": [
    "exp_df.columns"
   ]
  },
  {
   "cell_type": "code",
   "execution_count": 17,
   "metadata": {
    "ExecuteTime": {
     "end_time": "2020-05-23T20:55:22.155213Z",
     "start_time": "2020-05-23T20:55:22.139895Z"
    }
   },
   "outputs": [],
   "source": [
    "pca_data=exp_df.drop(\"Industry\",axis=1)"
   ]
  },
  {
   "cell_type": "code",
   "execution_count": 18,
   "metadata": {
    "ExecuteTime": {
     "end_time": "2020-05-23T20:55:22.219568Z",
     "start_time": "2020-05-23T20:55:22.157242Z"
    }
   },
   "outputs": [
    {
     "data": {
      "text/html": [
       "<div>\n",
       "<style scoped>\n",
       "    .dataframe tbody tr th:only-of-type {\n",
       "        vertical-align: middle;\n",
       "    }\n",
       "\n",
       "    .dataframe tbody tr th {\n",
       "        vertical-align: top;\n",
       "    }\n",
       "\n",
       "    .dataframe thead th {\n",
       "        text-align: right;\n",
       "    }\n",
       "</style>\n",
       "<table border=\"1\" class=\"dataframe\">\n",
       "  <thead>\n",
       "    <tr style=\"text-align: right;\">\n",
       "      <th></th>\n",
       "      <th>PC1</th>\n",
       "      <th>PC2</th>\n",
       "      <th>Industry</th>\n",
       "    </tr>\n",
       "  </thead>\n",
       "  <tbody>\n",
       "    <tr>\n",
       "      <th>1</th>\n",
       "      <td>-1.035128e+06</td>\n",
       "      <td>-8150.175903</td>\n",
       "      <td>Agriculture</td>\n",
       "    </tr>\n",
       "    <tr>\n",
       "      <th>2</th>\n",
       "      <td>2.547009e+05</td>\n",
       "      <td>912.090422</td>\n",
       "      <td>Production</td>\n",
       "    </tr>\n",
       "    <tr>\n",
       "      <th>3</th>\n",
       "      <td>-4.556565e+05</td>\n",
       "      <td>-8786.485643</td>\n",
       "      <td>Construction</td>\n",
       "    </tr>\n",
       "    <tr>\n",
       "      <th>4</th>\n",
       "      <td>2.183607e+06</td>\n",
       "      <td>-15875.620328</td>\n",
       "      <td>Retail</td>\n",
       "    </tr>\n",
       "    <tr>\n",
       "      <th>5</th>\n",
       "      <td>-1.110841e+06</td>\n",
       "      <td>10286.599883</td>\n",
       "      <td>ICT</td>\n",
       "    </tr>\n",
       "    <tr>\n",
       "      <th>6</th>\n",
       "      <td>-1.109275e+06</td>\n",
       "      <td>-10292.744210</td>\n",
       "      <td>Finance</td>\n",
       "    </tr>\n",
       "    <tr>\n",
       "      <th>7</th>\n",
       "      <td>-1.247917e+06</td>\n",
       "      <td>-7408.952446</td>\n",
       "      <td>Real_Estate</td>\n",
       "    </tr>\n",
       "    <tr>\n",
       "      <th>8</th>\n",
       "      <td>1.944876e+05</td>\n",
       "      <td>33478.821294</td>\n",
       "      <td>Professional_Service</td>\n",
       "    </tr>\n",
       "    <tr>\n",
       "      <th>9</th>\n",
       "      <td>2.996166e+06</td>\n",
       "      <td>2770.445986</td>\n",
       "      <td>Public_Adminstration</td>\n",
       "    </tr>\n",
       "    <tr>\n",
       "      <th>10</th>\n",
       "      <td>-6.701449e+05</td>\n",
       "      <td>3066.020945</td>\n",
       "      <td>Other_Service</td>\n",
       "    </tr>\n",
       "  </tbody>\n",
       "</table>\n",
       "</div>"
      ],
      "text/plain": [
       "             PC1           PC2              Industry\n",
       "1  -1.035128e+06  -8150.175903           Agriculture\n",
       "2   2.547009e+05    912.090422           Production \n",
       "3  -4.556565e+05  -8786.485643         Construction \n",
       "4   2.183607e+06 -15875.620328                Retail\n",
       "5  -1.110841e+06  10286.599883                   ICT\n",
       "6  -1.109275e+06 -10292.744210               Finance\n",
       "7  -1.247917e+06  -7408.952446           Real_Estate\n",
       "8   1.944876e+05  33478.821294  Professional_Service\n",
       "9   2.996166e+06   2770.445986  Public_Adminstration\n",
       "10 -6.701449e+05   3066.020945         Other_Service"
      ]
     },
     "execution_count": 18,
     "metadata": {},
     "output_type": "execute_result"
    }
   ],
   "source": [
    "\n",
    "pca = PCA(n_components=2)\n",
    "principalComponents = pca.fit_transform(pca_data)\n",
    "PCA_components = pd.DataFrame(data = principalComponents,columns = ['PC1', 'PC2'])\n",
    "PCA_components.index += 1\n",
    "PCA_components['Industry'] = exp_df1['Industry']\n",
    "PCA_components\n"
   ]
  },
  {
   "cell_type": "code",
   "execution_count": 19,
   "metadata": {
    "ExecuteTime": {
     "end_time": "2020-05-23T21:56:38.617310Z",
     "start_time": "2020-05-23T21:56:38.041486Z"
    }
   },
   "outputs": [
    {
     "data": {
      "image/png": "[encoded data removed]",
      "text/plain": [
       "<Figure size 1080x432 with 1 Axes>"
      ]
     },
     "metadata": {
      "needs_background": "light"
     },
     "output_type": "display_data"
    }
   ],
   "source": [
    "plt.rcParams['figure.figsize'] = [15,6]\n",
    "sns.scatterplot(x = PCA_components['PC1'], y = PCA_components['PC2'],hue=PCA_components.Industry)\n",
    "plt.grid(True)"
   ]
  },
  {
   "cell_type": "markdown",
   "metadata": {},
   "source": [
    "#### Analysis:\n",
    "\n",
    "In above code principal component analysis does just what it advertises the principal components of the dataset.It transformed the data into a lower-dimensional subspace into a new coordinate system named as ( PC1, PC2). In the new coordinate system, the first axis corresponds to the first principal component, which is the component that explains the greatest amount of the variance in the data [0.999908]. When plotted a scatter plot the analysis shows similar interpretation like above for example industries like Public administration has largest number of employes and Industries like Real estate and Finance and other services are clustered together which likely has same information\n",
    "\n",
    "- By looking at above PCA graph we can assume that this data may have 3 clusters. "
   ]
  },
  {
   "cell_type": "markdown",
   "metadata": {},
   "source": [
    "### 4.2. Make a year wise correlation for each industry.  Does the aforementioned industries are also correlated over the years? Explain your answer. "
   ]
  },
  {
   "cell_type": "markdown",
   "metadata": {},
   "source": [
    "Correlation Feature Selection evaluates subsets of features on the basis of the following hypothesis: \"Good feature subsets contain features highly correlated with the target, yet uncorrelated to each other\".\n",
    "\n",
    "\n",
    "<blockquote>\n",
    "<p><span style=\"color:red\">References</span></p>\n",
    "\n",
    "M. Hall 1999, [Correlation-based Feature Selection for Machine Learning](http://www.cs.waikato.ac.nz/~mhall/thesis.pdf)\n",
    "\n",
    "Senliol, Baris, et al. \"Fast Correlation Based Filter (FCBF) with a different search strategy.\" Computer and Information Sciences."
   ]
  },
  {
   "cell_type": "code",
   "execution_count": 20,
   "metadata": {
    "ExecuteTime": {
     "end_time": "2020-05-23T21:53:30.020529Z",
     "start_time": "2020-05-23T21:53:29.986606Z"
    }
   },
   "outputs": [
    {
     "data": {
      "text/html": [
       "<div>\n",
       "<style scoped>\n",
       "    .dataframe tbody tr th:only-of-type {\n",
       "        vertical-align: middle;\n",
       "    }\n",
       "\n",
       "    .dataframe tbody tr th {\n",
       "        vertical-align: top;\n",
       "    }\n",
       "\n",
       "    .dataframe thead th {\n",
       "        text-align: right;\n",
       "    }\n",
       "</style>\n",
       "<table border=\"1\" class=\"dataframe\">\n",
       "  <thead>\n",
       "    <tr style=\"text-align: right;\">\n",
       "      <th></th>\n",
       "      <th>2009</th>\n",
       "      <th>2010</th>\n",
       "      <th>2011</th>\n",
       "      <th>2012</th>\n",
       "      <th>2013</th>\n",
       "      <th>2014</th>\n",
       "      <th>2015</th>\n",
       "      <th>2016</th>\n",
       "      <th>2017</th>\n",
       "      <th>2018</th>\n",
       "    </tr>\n",
       "  </thead>\n",
       "  <tbody>\n",
       "    <tr>\n",
       "      <th>2009</th>\n",
       "      <td>1.000000</td>\n",
       "      <td>0.999727</td>\n",
       "      <td>0.999414</td>\n",
       "      <td>0.999368</td>\n",
       "      <td>0.999193</td>\n",
       "      <td>0.998697</td>\n",
       "      <td>0.998396</td>\n",
       "      <td>0.999272</td>\n",
       "      <td>0.994614</td>\n",
       "      <td>0.996296</td>\n",
       "    </tr>\n",
       "    <tr>\n",
       "      <th>2010</th>\n",
       "      <td>0.999727</td>\n",
       "      <td>1.000000</td>\n",
       "      <td>0.999572</td>\n",
       "      <td>0.999578</td>\n",
       "      <td>0.999329</td>\n",
       "      <td>0.998561</td>\n",
       "      <td>0.998301</td>\n",
       "      <td>0.999244</td>\n",
       "      <td>0.995403</td>\n",
       "      <td>0.996858</td>\n",
       "    </tr>\n",
       "    <tr>\n",
       "      <th>2011</th>\n",
       "      <td>0.999414</td>\n",
       "      <td>0.999572</td>\n",
       "      <td>1.000000</td>\n",
       "      <td>0.999740</td>\n",
       "      <td>0.999859</td>\n",
       "      <td>0.999218</td>\n",
       "      <td>0.998314</td>\n",
       "      <td>0.998368</td>\n",
       "      <td>0.995285</td>\n",
       "      <td>0.996524</td>\n",
       "    </tr>\n",
       "    <tr>\n",
       "      <th>2012</th>\n",
       "      <td>0.999368</td>\n",
       "      <td>0.999578</td>\n",
       "      <td>0.999740</td>\n",
       "      <td>1.000000</td>\n",
       "      <td>0.999387</td>\n",
       "      <td>0.998415</td>\n",
       "      <td>0.997753</td>\n",
       "      <td>0.998475</td>\n",
       "      <td>0.993935</td>\n",
       "      <td>0.995168</td>\n",
       "    </tr>\n",
       "    <tr>\n",
       "      <th>2013</th>\n",
       "      <td>0.999193</td>\n",
       "      <td>0.999329</td>\n",
       "      <td>0.999859</td>\n",
       "      <td>0.999387</td>\n",
       "      <td>1.000000</td>\n",
       "      <td>0.999440</td>\n",
       "      <td>0.998973</td>\n",
       "      <td>0.998499</td>\n",
       "      <td>0.996068</td>\n",
       "      <td>0.997286</td>\n",
       "    </tr>\n",
       "    <tr>\n",
       "      <th>2014</th>\n",
       "      <td>0.998697</td>\n",
       "      <td>0.998561</td>\n",
       "      <td>0.999218</td>\n",
       "      <td>0.998415</td>\n",
       "      <td>0.999440</td>\n",
       "      <td>1.000000</td>\n",
       "      <td>0.998214</td>\n",
       "      <td>0.997781</td>\n",
       "      <td>0.996494</td>\n",
       "      <td>0.996945</td>\n",
       "    </tr>\n",
       "    <tr>\n",
       "      <th>2015</th>\n",
       "      <td>0.998396</td>\n",
       "      <td>0.998301</td>\n",
       "      <td>0.998314</td>\n",
       "      <td>0.997753</td>\n",
       "      <td>0.998973</td>\n",
       "      <td>0.998214</td>\n",
       "      <td>1.000000</td>\n",
       "      <td>0.999051</td>\n",
       "      <td>0.995520</td>\n",
       "      <td>0.998101</td>\n",
       "    </tr>\n",
       "    <tr>\n",
       "      <th>2016</th>\n",
       "      <td>0.999272</td>\n",
       "      <td>0.999244</td>\n",
       "      <td>0.998368</td>\n",
       "      <td>0.998475</td>\n",
       "      <td>0.998499</td>\n",
       "      <td>0.997781</td>\n",
       "      <td>0.999051</td>\n",
       "      <td>1.000000</td>\n",
       "      <td>0.995094</td>\n",
       "      <td>0.997167</td>\n",
       "    </tr>\n",
       "    <tr>\n",
       "      <th>2017</th>\n",
       "      <td>0.994614</td>\n",
       "      <td>0.995403</td>\n",
       "      <td>0.995285</td>\n",
       "      <td>0.993935</td>\n",
       "      <td>0.996068</td>\n",
       "      <td>0.996494</td>\n",
       "      <td>0.995520</td>\n",
       "      <td>0.995094</td>\n",
       "      <td>1.000000</td>\n",
       "      <td>0.997204</td>\n",
       "    </tr>\n",
       "    <tr>\n",
       "      <th>2018</th>\n",
       "      <td>0.996296</td>\n",
       "      <td>0.996858</td>\n",
       "      <td>0.996524</td>\n",
       "      <td>0.995168</td>\n",
       "      <td>0.997286</td>\n",
       "      <td>0.996945</td>\n",
       "      <td>0.998101</td>\n",
       "      <td>0.997167</td>\n",
       "      <td>0.997204</td>\n",
       "      <td>1.000000</td>\n",
       "    </tr>\n",
       "  </tbody>\n",
       "</table>\n",
       "</div>"
      ],
      "text/plain": [
       "          2009      2010      2011      2012      2013      2014      2015  \\\n",
       "2009  1.000000  0.999727  0.999414  0.999368  0.999193  0.998697  0.998396   \n",
       "2010  0.999727  1.000000  0.999572  0.999578  0.999329  0.998561  0.998301   \n",
       "2011  0.999414  0.999572  1.000000  0.999740  0.999859  0.999218  0.998314   \n",
       "2012  0.999368  0.999578  0.999740  1.000000  0.999387  0.998415  0.997753   \n",
       "2013  0.999193  0.999329  0.999859  0.999387  1.000000  0.999440  0.998973   \n",
       "2014  0.998697  0.998561  0.999218  0.998415  0.999440  1.000000  0.998214   \n",
       "2015  0.998396  0.998301  0.998314  0.997753  0.998973  0.998214  1.000000   \n",
       "2016  0.999272  0.999244  0.998368  0.998475  0.998499  0.997781  0.999051   \n",
       "2017  0.994614  0.995403  0.995285  0.993935  0.996068  0.996494  0.995520   \n",
       "2018  0.996296  0.996858  0.996524  0.995168  0.997286  0.996945  0.998101   \n",
       "\n",
       "          2016      2017      2018  \n",
       "2009  0.999272  0.994614  0.996296  \n",
       "2010  0.999244  0.995403  0.996858  \n",
       "2011  0.998368  0.995285  0.996524  \n",
       "2012  0.998475  0.993935  0.995168  \n",
       "2013  0.998499  0.996068  0.997286  \n",
       "2014  0.997781  0.996494  0.996945  \n",
       "2015  0.999051  0.995520  0.998101  \n",
       "2016  1.000000  0.995094  0.997167  \n",
       "2017  0.995094  1.000000  0.997204  \n",
       "2018  0.997167  0.997204  1.000000  "
      ]
     },
     "execution_count": 20,
     "metadata": {},
     "output_type": "execute_result"
    }
   ],
   "source": [
    "corr_1=exp_df.drop([\"hlsum\"],axis=1)\n",
    "pearsoncorr = corr_1.corr(method='pearson')\n",
    "pearsoncorr"
   ]
  },
  {
   "cell_type": "code",
   "execution_count": 21,
   "metadata": {
    "ExecuteTime": {
     "end_time": "2020-05-23T21:53:48.539008Z",
     "start_time": "2020-05-23T21:53:47.725058Z"
    }
   },
   "outputs": [
    {
     "data": {
      "text/plain": [
       "<matplotlib.axes._subplots.AxesSubplot at 0x1e95a0069d0>"
      ]
     },
     "execution_count": 21,
     "metadata": {},
     "output_type": "execute_result"
    },
    {
     "data": {
      "image/png": "[encoded data removed]",
      "text/plain": [
       "<Figure size 1080x432 with 2 Axes>"
      ]
     },
     "metadata": {
      "needs_background": "light"
     },
     "output_type": "display_data"
    }
   ],
   "source": [
    "sns.heatmap(pearsoncorr)"
   ]
  },
  {
   "cell_type": "markdown",
   "metadata": {},
   "source": [
    "##### Analysis:\n",
    "\n",
    "In this case, the person correlation coefficient technique is implemented in order to evaluate the direction of correlation ( whether positive or negative) between the two variables and  here the coefficient typically defined by ρ which assumes only values between-1 and 1. In this portion,the year wise correlation was calculated on the basis of values from 2009 to 2018, the correlation was calculated and the magnitude of the correlation was determined.\n",
    "\n",
    "Interpreting the value of ρ\n",
    "\n",
    "- 0.9 to 1 positive or negative indicates a very strong correlation.\n",
    "- 0.7 to 0.9 positive or negative indicates a strong correlation.\n",
    "\n",
    "Correlation co-efficient close to 1 means that there’s a very strong positive correlation between the variables. \n"
   ]
  },
  {
   "cell_type": "markdown",
   "metadata": {},
   "source": [
    "## 5) Clustering (k means & hierarchical)\n",
    "\n",
    "#### 5.1.\tUsing the best and worst performing year column’s employment data (2.3) undertake a K means clustering analysis (K=2 & 3) and identify industries cluster together.  Write your own interpretation (~100 words).\n",
    "\n",
    "\n",
    "- clustering can be considered the most important unsupervised learning problem it deals with finding a structure in a collection of unlabeled data.\n",
    "\n",
    "- clustering could be the process of organizing objects into groups whose members are similar in some way\n"
   ]
  },
  {
   "cell_type": "markdown",
   "metadata": {},
   "source": [
    "\n",
    "\n",
    "\n",
    "<blockquote>\n",
    "<p><span style=\"color:red\">References</span></p>\n",
    "\n",
    "[Scikit-learn learning for clustering](https://scikit-learn.org/stable/install.html)\n",
    "\n",
    "\n"
   ]
  },
  {
   "cell_type": "code",
   "execution_count": 22,
   "metadata": {
    "ExecuteTime": {
     "end_time": "2020-05-23T20:55:22.646805Z",
     "start_time": "2020-05-23T20:55:22.631184Z"
    }
   },
   "outputs": [
    {
     "data": {
      "text/html": [
       "<div>\n",
       "<style scoped>\n",
       "    .dataframe tbody tr th:only-of-type {\n",
       "        vertical-align: middle;\n",
       "    }\n",
       "\n",
       "    .dataframe tbody tr th {\n",
       "        vertical-align: top;\n",
       "    }\n",
       "\n",
       "    .dataframe thead th {\n",
       "        text-align: right;\n",
       "    }\n",
       "</style>\n",
       "<table border=\"1\" class=\"dataframe\">\n",
       "  <thead>\n",
       "    <tr style=\"text-align: right;\">\n",
       "      <th></th>\n",
       "      <th>Worst_year</th>\n",
       "      <th>best_year</th>\n",
       "    </tr>\n",
       "  </thead>\n",
       "  <tbody>\n",
       "    <tr>\n",
       "      <th>1</th>\n",
       "      <td>38200</td>\n",
       "      <td>41100</td>\n",
       "    </tr>\n",
       "    <tr>\n",
       "      <th>2</th>\n",
       "      <td>149800</td>\n",
       "      <td>165700</td>\n",
       "    </tr>\n",
       "    <tr>\n",
       "      <th>3</th>\n",
       "      <td>93200</td>\n",
       "      <td>101800</td>\n",
       "    </tr>\n",
       "    <tr>\n",
       "      <th>4</th>\n",
       "      <td>344500</td>\n",
       "      <td>347600</td>\n",
       "    </tr>\n",
       "    <tr>\n",
       "      <th>5</th>\n",
       "      <td>27900</td>\n",
       "      <td>31500</td>\n",
       "    </tr>\n",
       "    <tr>\n",
       "      <th>6</th>\n",
       "      <td>29800</td>\n",
       "      <td>35500</td>\n",
       "    </tr>\n",
       "    <tr>\n",
       "      <th>7</th>\n",
       "      <td>14600</td>\n",
       "      <td>25200</td>\n",
       "    </tr>\n",
       "    <tr>\n",
       "      <th>8</th>\n",
       "      <td>145800</td>\n",
       "      <td>187100</td>\n",
       "    </tr>\n",
       "    <tr>\n",
       "      <th>9</th>\n",
       "      <td>418600</td>\n",
       "      <td>434900</td>\n",
       "    </tr>\n",
       "    <tr>\n",
       "      <th>10</th>\n",
       "      <td>68000</td>\n",
       "      <td>81800</td>\n",
       "    </tr>\n",
       "  </tbody>\n",
       "</table>\n",
       "</div>"
      ],
      "text/plain": [
       "    Worst_year  best_year\n",
       "1        38200      41100\n",
       "2       149800     165700\n",
       "3        93200     101800\n",
       "4       344500     347600\n",
       "5        27900      31500\n",
       "6        29800      35500\n",
       "7        14600      25200\n",
       "8       145800     187100\n",
       "9       418600     434900\n",
       "10       68000      81800"
      ]
     },
     "execution_count": 22,
     "metadata": {},
     "output_type": "execute_result"
    }
   ],
   "source": [
    "years_to_select =[\"2010\",\"2018\"]\n",
    "data=exp_df1[years_to_select]\n",
    "cluster_data=data.rename(columns={'2010':'Worst_year','2018':'best_year'})\n",
    "cluster_data"
   ]
  },
  {
   "cell_type": "markdown",
   "metadata": {},
   "source": [
    "#### Scaling data\n",
    "The magnitude of the variables affects different machine learning algorithms for different reasons. In this section, I will cover a few standard ways of setting the magnitude of the variables to the same range of values.\n",
    "\n",
    "\n",
    "#### Normalisation"
   ]
  },
  {
   "cell_type": "code",
   "execution_count": 23,
   "metadata": {
    "ExecuteTime": {
     "end_time": "2020-05-23T20:55:22.662681Z",
     "start_time": "2020-05-23T20:55:22.649820Z"
    }
   },
   "outputs": [
    {
     "data": {
      "text/plain": [
       "array([[0.05841584, 0.03880888],\n",
       "       [0.33465347, 0.34293385],\n",
       "       [0.19455446, 0.18696607],\n",
       "       [0.81658416, 0.78691726],\n",
       "       [0.03292079, 0.01537711],\n",
       "       [0.03762376, 0.02514035],\n",
       "       [0.        , 0.        ],\n",
       "       [0.32475248, 0.3951672 ],\n",
       "       [1.        , 1.        ],\n",
       "       [0.13217822, 0.13814987]])"
      ]
     },
     "execution_count": 23,
     "metadata": {},
     "output_type": "execute_result"
    }
   ],
   "source": [
    "## Importing libraries\n",
    "from sklearn.preprocessing import  MinMaxScaler\n",
    "scaler = MinMaxScaler()\n",
    "scaler.fit(cluster_data)\n",
    "to_cluster = scaler.transform(cluster_data)\n",
    "to_cluster"
   ]
  },
  {
   "cell_type": "code",
   "execution_count": 24,
   "metadata": {
    "ExecuteTime": {
     "end_time": "2020-05-23T20:55:22.686083Z",
     "start_time": "2020-05-23T20:55:22.669503Z"
    }
   },
   "outputs": [
    {
     "name": "stdout",
     "output_type": "stream",
     "text": [
      "mean: [0.29316832 0.29294606]\n",
      "std: [0.32954885 0.33033951]\n",
      "Min values: [0. 0.]\n",
      "Max values: [1. 1.]\n"
     ]
    }
   ],
   "source": [
    "#let's have a look at the scaled training dataset: mean and standard deviation\n",
    "print('mean:',to_cluster.mean(axis=0))\n",
    "print('std:', to_cluster.std(axis=0))\n",
    "\n",
    "# let's look at the new minimum and maximum values\n",
    "print('Min values:', to_cluster.min(axis=0))\n",
    "print('Max values:', to_cluster.max(axis=0))"
   ]
  },
  {
   "cell_type": "markdown",
   "metadata": {},
   "source": [
    "After MinMaxScaling, the distributions are not centered in zero and the standard deviation is not 1 as when normalising the data.But the minimum and maximum values are standarised across variables, different from what occurs with standarisation."
   ]
  },
  {
   "cell_type": "code",
   "execution_count": 25,
   "metadata": {
    "ExecuteTime": {
     "end_time": "2020-05-23T20:55:24.800191Z",
     "start_time": "2020-05-23T20:55:22.689076Z"
    }
   },
   "outputs": [
    {
     "data": {
      "text/plain": [
       "<seaborn.axisgrid.JointGrid at 0x1e952cb48b0>"
      ]
     },
     "execution_count": 25,
     "metadata": {},
     "output_type": "execute_result"
    },
    {
     "data": {
      "image/png": "[encoded data removed]",
      "text/plain": [
       "<Figure size 432x432 with 3 Axes>"
      ]
     },
     "metadata": {
      "needs_background": "light"
     },
     "output_type": "display_data"
    }
   ],
   "source": [
    "# let's look at how transformed best performece year looks like compared to the original variable (2018)\n",
    "sns.jointplot(exp_df1[\"2018\"], to_cluster[:,1], kind='kde')"
   ]
  },
  {
   "cell_type": "markdown",
   "metadata": {},
   "source": [
    "As we can see from the above plot, MinMaxScaler is very sensitive to the presence of outliers. It compressed all inliers in the narrow range [0, 0.01] limiting the spread of the variable, and therefore, very likely it would affect the predictive power of this feature."
   ]
  },
  {
   "cell_type": "markdown",
   "metadata": {},
   "source": [
    "### Kmeans\n",
    "\n",
    "The _k-means algorithm_ is an example of an expectation maximization algorithm.\n",
    "Such algorithms generally have a form in which we need to find some parameters,\n",
    "but in order to find those parameters, we need to know some other values that\n",
    "we can't observe directly.\n"
   ]
  },
  {
   "cell_type": "markdown",
   "metadata": {},
   "source": [
    "<blockquote>\n",
    "<p><span style=\"color:Blue\">References</span></p>\n",
    "\n",
    "Xu, R. and Wunsch, D.[Clustering Techniques](https://books.google.it/books?hl=en&lr=&id=kYC3YCyl_tkC&oi=fnd&pg=PR5&dq=clustering&ots=qje1AA8f0A&sig=MCvgLqBN9Wy9vNg4WSJijBEF68o&redir_esc=y#v=onepage&q=clustering&f=false) 2008. Clustering (Vol. 10). John Wiley & Sons."
   ]
  },
  {
   "cell_type": "code",
   "execution_count": 26,
   "metadata": {
    "ExecuteTime": {
     "end_time": "2020-05-23T20:55:26.280931Z",
     "start_time": "2020-05-23T20:55:24.803207Z"
    }
   },
   "outputs": [
    {
     "data": {
      "text/plain": [
       "<seaborn.axisgrid.PairGrid at 0x1e95a4ec940>"
      ]
     },
     "execution_count": 26,
     "metadata": {},
     "output_type": "execute_result"
    },
    {
     "data": {
      "image/png": "[encoded data removed]",
      "text/plain": [
       "<Figure size 360x360 with 6 Axes>"
      ]
     },
     "metadata": {
      "needs_background": "light"
     },
     "output_type": "display_data"
    }
   ],
   "source": [
    "sns.pairplot(pd.DataFrame(to_cluster))"
   ]
  },
  {
   "cell_type": "markdown",
   "metadata": {},
   "source": [
    "#### Observe the pairplots\n",
    "In this simple example you can easily see from the pairplots that the two most interesting columns are `0` and `1`."
   ]
  },
  {
   "cell_type": "code",
   "execution_count": 27,
   "metadata": {
    "ExecuteTime": {
     "end_time": "2020-05-23T20:55:26.602711Z",
     "start_time": "2020-05-23T20:55:26.284180Z"
    }
   },
   "outputs": [
    {
     "data": {
      "image/png": "[encoded data removed]",
      "text/plain": [
       "<Figure size 1080x432 with 1 Axes>"
      ]
     },
     "metadata": {
      "needs_background": "light"
     },
     "output_type": "display_data"
    }
   ],
   "source": [
    "focus = [0,1] # storing here the interesting columns will make easier to try\n",
    "              # with other columns\n",
    "plt.scatter(to_cluster[:,focus[0]], to_cluster[:,focus[1]], c='white',edgecolors='red',marker='o' ,s=50)              \n",
    "plt.grid()                       \n",
    "plt.show()"
   ]
  },
  {
   "cell_type": "code",
   "execution_count": 28,
   "metadata": {
    "ExecuteTime": {
     "end_time": "2020-05-23T20:59:14.671196Z",
     "start_time": "2020-05-23T20:59:14.652649Z"
    }
   },
   "outputs": [],
   "source": [
    "def plot_clusters(X, y, dim, points,\n",
    "                  labels_prefix = 'cluster', \n",
    "                  points_name = 'centroids',\n",
    "                  colors = cm.tab10,points_color = cm.tab10(10)):\n",
    "\n",
    "    labels = np.unique(y)\n",
    "    for i in range(len(labels)):\n",
    "        color = colors(i / len(labels)) # choose a color from the map\n",
    "        plt.scatter(X[y==labels[i],dim[0]], \n",
    "                    X[y==labels[i],dim[1]], \n",
    "                    s=10, \n",
    "                    c = [color], # scatter requires a sequence of colors\n",
    "                    marker='s', \n",
    "                    label=labels_prefix+str(labels[i]))\n",
    "    plt.scatter(points[:,dim[0]], \n",
    "                points[:,dim[1]], \n",
    "                s=50, \n",
    "                marker='*', \n",
    "                c=[points_color], \n",
    "                label=points_name)\n",
    "    plt.legend()\n",
    "    plt.grid()\n",
    "    plt.show()   "
   ]
  },
  {
   "cell_type": "markdown",
   "metadata": {},
   "source": [
    "####  Elbow method "
   ]
  },
  {
   "cell_type": "markdown",
   "metadata": {},
   "source": [
    "The elbow method is used to determine the optimal number of clusters in k-means clustering. The elbow method plots the value of the cost function produced by different values of k. The below diagram shows how the elbow method works:-"
   ]
  },
  {
   "cell_type": "code",
   "execution_count": 29,
   "metadata": {
    "ExecuteTime": {
     "end_time": "2020-05-23T21:57:26.749993Z",
     "start_time": "2020-05-23T21:57:25.589015Z"
    }
   },
   "outputs": [
    {
     "data": {
      "image/png": "[encoded data removed]",
      "text/plain": [
       "<Figure size 1080x432 with 2 Axes>"
      ]
     },
     "metadata": {
      "needs_background": "light"
     },
     "output_type": "display_data"
    }
   ],
   "source": [
    "k_range = range(2,10)\n",
    "distortions = []\n",
    "silhouette_scores = []\n",
    "for i in k_range:\n",
    "    km = KMeans(n_clusters=i, init='k-means++', n_init=10, max_iter=300, random_state=42)\n",
    "    y_km = km.fit_predict(to_cluster)\n",
    "    distortions.append(km.inertia_)\n",
    "    silhouette_scores.append(silhouette_score(to_cluster,y_km))\n",
    "\n",
    "fig, ax1 = plt.subplots()\n",
    "\n",
    "color = 'tab:red'\n",
    "ax1.set_xlabel('Number of clusters')\n",
    "ax1.set_ylabel('Inertia', color=color)\n",
    "ax1.plot(k_range, distortions, color=color)\n",
    "ax1.tick_params(axis='y', labelcolor=color)\n",
    "\n",
    "ax2 = ax1.twinx()  \n",
    "\n",
    "color = 'tab:blue'\n",
    "ax2.set_ylabel('Silhouette scores', color=color)  # we already handled the x-label with ax1\n",
    "ax2.plot(k_range, silhouette_scores, color=color)\n",
    "ax2.tick_params(axis='y', labelcolor=color)\n",
    "ax2.set_ylim(0,1) # the axis for silhouette is [0,1]\n",
    "plt.grid(True)\n",
    "fig.tight_layout() \n",
    "plt.show()"
   ]
  },
  {
   "cell_type": "code",
   "execution_count": 30,
   "metadata": {
    "ExecuteTime": {
     "end_time": "2020-05-23T20:55:27.775796Z",
     "start_time": "2020-05-23T20:55:27.766494Z"
    }
   },
   "outputs": [
    {
     "data": {
      "text/plain": [
       "[0.32978485837671684,\n",
       " 0.09671494152469647,\n",
       " 0.046628393239139365,\n",
       " 0.007105579984598559,\n",
       " 0.0039686714425583944,\n",
       " 0.0020583838271917318,\n",
       " 0.0006452080441935931,\n",
       " 5.8719406087057025e-05]"
      ]
     },
     "execution_count": 30,
     "metadata": {},
     "output_type": "execute_result"
    }
   ],
   "source": [
    "distortions"
   ]
  },
  {
   "cell_type": "code",
   "execution_count": 31,
   "metadata": {
    "ExecuteTime": {
     "end_time": "2020-05-23T20:55:27.790796Z",
     "start_time": "2020-05-23T20:55:27.780743Z"
    }
   },
   "outputs": [
    {
     "data": {
      "text/plain": [
       "[0.754602956292608,\n",
       " 0.6772479402646634,\n",
       " 0.7227856620628639,\n",
       " 0.5971096635768023,\n",
       " 0.4560283499533311,\n",
       " 0.308534006772258,\n",
       " 0.15554199909199812,\n",
       " 0.125151716911917]"
      ]
     },
     "execution_count": 31,
     "metadata": {},
     "output_type": "execute_result"
    }
   ],
   "source": [
    "silhouette_scores"
   ]
  },
  {
   "cell_type": "markdown",
   "metadata": {},
   "source": [
    "### K-Means model with two clusters"
   ]
  },
  {
   "cell_type": "code",
   "execution_count": 32,
   "metadata": {
    "ExecuteTime": {
     "end_time": "2020-05-23T20:57:46.344074Z",
     "start_time": "2020-05-23T20:57:46.271125Z"
    }
   },
   "outputs": [
    {
     "data": {
      "text/plain": [
       "array([[0.13938738, 0.14281792],\n",
       "       [0.90829208, 0.89345863]])"
      ]
     },
     "execution_count": 32,
     "metadata": {},
     "output_type": "execute_result"
    }
   ],
   "source": [
    "km = KMeans(n_clusters=2, \n",
    "            init='k-means++', \n",
    "            n_init=10, \n",
    "            max_iter=300,\n",
    "            tol=1e-04,\n",
    "            random_state=42)\n",
    "y_km = km.fit_predict(to_cluster)\n",
    "km.cluster_centers_"
   ]
  },
  {
   "cell_type": "code",
   "execution_count": 33,
   "metadata": {
    "ExecuteTime": {
     "end_time": "2020-05-23T20:58:40.765294Z",
     "start_time": "2020-05-23T20:58:40.724518Z"
    }
   },
   "outputs": [
    {
     "data": {
      "image/png": "[encoded data removed]",
      "text/plain": [
       "<Figure size 1080x432 with 1 Axes>"
      ]
     },
     "metadata": {
      "needs_background": "light"
     },
     "output_type": "display_data"
    }
   ],
   "source": [
    "from plot_clusters import plot_clusters\n",
    "plot_clusters(to_cluster,y_km, dim=(focus[0],focus[1]),points = km.cluster_centers_)"
   ]
  },
  {
   "cell_type": "code",
   "execution_count": 34,
   "metadata": {
    "ExecuteTime": {
     "end_time": "2020-05-23T20:55:28.543201Z",
     "start_time": "2020-05-23T20:55:11.623Z"
    }
   },
   "outputs": [
    {
     "name": "stdout",
     "output_type": "stream",
     "text": [
      "Distortion: 0.33\n"
     ]
    }
   ],
   "source": [
    "\n",
    "print('Distortion: %.2f' % km.inertia_)"
   ]
  },
  {
   "cell_type": "markdown",
   "metadata": {},
   "source": [
    "### K-Means model with three clusters"
   ]
  },
  {
   "cell_type": "code",
   "execution_count": 35,
   "metadata": {
    "ExecuteTime": {
     "end_time": "2020-05-23T21:12:05.880943Z",
     "start_time": "2020-05-23T21:12:05.819562Z"
    }
   },
   "outputs": [
    {
     "data": {
      "text/plain": [
       "array([[0.07594884, 0.06740705],\n",
       "       [0.90829208, 0.89345863],\n",
       "       [0.32970297, 0.36905052]])"
      ]
     },
     "execution_count": 35,
     "metadata": {},
     "output_type": "execute_result"
    }
   ],
   "source": [
    "km = KMeans(n_clusters=3, \n",
    "            init='k-means++', \n",
    "            n_init=10, \n",
    "            max_iter=300,\n",
    "            tol=1e-04,\n",
    "            random_state=42)\n",
    "y_km = km.fit_predict(to_cluster)\n",
    "km.cluster_centers_"
   ]
  },
  {
   "cell_type": "code",
   "execution_count": 36,
   "metadata": {
    "ExecuteTime": {
     "end_time": "2020-05-23T20:55:28.546956Z",
     "start_time": "2020-05-23T20:55:11.703Z"
    }
   },
   "outputs": [
    {
     "data": {
      "image/png": "[encoded data removed]",
      "text/plain": [
       "<Figure size 1080x432 with 1 Axes>"
      ]
     },
     "metadata": {
      "needs_background": "light"
     },
     "output_type": "display_data"
    }
   ],
   "source": [
    "from plot_clusters import plot_clusters\n",
    "plot_clusters(to_cluster,y_km, dim=(focus[0],focus[1]),points = km.cluster_centers_)"
   ]
  },
  {
   "cell_type": "code",
   "execution_count": 37,
   "metadata": {
    "ExecuteTime": {
     "end_time": "2020-05-23T21:10:32.030874Z",
     "start_time": "2020-05-23T21:10:32.022891Z"
    }
   },
   "outputs": [
    {
     "name": "stdout",
     "output_type": "stream",
     "text": [
      "Distortion: 0.10\n"
     ]
    }
   ],
   "source": [
    "\n",
    "print('Distortion: %.2f' % km.inertia_)"
   ]
  },
  {
   "cell_type": "markdown",
   "metadata": {},
   "source": [
    "#### Solution:\n",
    "\n",
    "The purpose of clustering is therefore to evaluate the inherent grouping in the set of unmarked data. It can be seen that there is no absolute best criterion regardless of the final goal of clustering. The scaling technique (MinMaxScaler) was applied. Both inliers within the narrow range [0, 0.01] have been compressed to restrict the distribution of the variable and are thus most likely to be affect the predictive capacity of this function.\n",
    "\n",
    "We can see that, as the number of clusters increases , the average distortion decreases For example for K=2 the (Distortion: 0.33) and for K=3 (Distortion: 0.10,) Then each cluster will have fewer constituent instances, and the instances will be closer to their respective centroids and Improvements in average distortion will, however, decline as k increases. The value of the number of clusters at which the change of the distortion decreases most is called the elbow at which we are located.\n",
    "\n",
    "When I plotted the scatter plot with K=2 and K=3 with cluster centers the Industries which are very less performed in 2 and 3 section formed one cluster and other Industires  formed sepearete cluster with their centroids."
   ]
  },
  {
   "cell_type": "markdown",
   "metadata": {},
   "source": [
    "### Dendogram"
   ]
  },
  {
   "cell_type": "markdown",
   "metadata": {},
   "source": [
    "<blockquote>\n",
    "<p><span style=\"color:red\">References</span></p>\n",
    "\n",
    "\n",
    "[1] Thirathon, N., 2004.[ Heirachial Clustering techniques](https://dspace.mit.edu/handle/1721.1/17981) Cyclic exchange neighborhood search technique for the K-means clustering problem (Doctoral dissertation, Massachusetts Institute of Technology)."
   ]
  },
  {
   "cell_type": "code",
   "execution_count": 38,
   "metadata": {
    "ExecuteTime": {
     "end_time": "2020-05-23T21:57:41.497303Z",
     "start_time": "2020-05-23T21:57:40.966233Z"
    }
   },
   "outputs": [
    {
     "data": {
      "image/png": "[encoded data removed]",
      "text/plain": [
       "<Figure size 1080x432 with 1 Axes>"
      ]
     },
     "metadata": {
      "needs_background": "light"
     },
     "output_type": "display_data"
    }
   ],
   "source": [
    "from scipy.cluster.hierarchy import ward, dendrogram\n",
    "plt.figure()\n",
    "dendrogram(ward(to_cluster))\n",
    "plt.grid(True)\n",
    "plt.show()"
   ]
  },
  {
   "cell_type": "markdown",
   "metadata": {},
   "source": [
    "We can see the values of 0s and 1s and 2s in the output since we defined 3 clusters. 0 represents the points that belong to the first cluster and 1 represents points in the second cluster. Let’s now visualize the two clusters:"
   ]
  },
  {
   "cell_type": "code",
   "execution_count": 39,
   "metadata": {
    "ExecuteTime": {
     "end_time": "2020-05-23T21:01:57.241379Z",
     "start_time": "2020-05-23T21:01:57.219828Z"
    }
   },
   "outputs": [
    {
     "data": {
      "text/plain": [
       "array([0, 2, 0, 1, 0, 0, 0, 2, 1, 0], dtype=int64)"
      ]
     },
     "execution_count": 39,
     "metadata": {},
     "output_type": "execute_result"
    }
   ],
   "source": [
    "from sklearn.cluster import AgglomerativeClustering\n",
    "cluster = AgglomerativeClustering(n_clusters=3, affinity='euclidean', linkage='ward')  \n",
    "hei=cluster.fit_predict(to_cluster)\n",
    "hei"
   ]
  },
  {
   "cell_type": "code",
   "execution_count": 40,
   "metadata": {},
   "outputs": [
    {
     "data": {
      "image/png": "[encoded data removed]",
      "text/plain": [
       "<Figure size 1080x432 with 1 Axes>"
      ]
     },
     "metadata": {
      "needs_background": "light"
     },
     "output_type": "display_data"
    }
   ],
   "source": [
    "plt.title('AgglomerativeClustering for industries')\n",
    "# Visualising the clusters\n",
    "plt.scatter(to_cluster[hei == 0, 0], to_cluster[hei == 0, 1], s = 50, c = 'red', label = ' Low performed Inidustries')\n",
    "plt.scatter(to_cluster[hei == 1, 0], to_cluster[hei == 1, 1], s = 50, c = 'blue', label = ' High performence Industries')\n",
    "plt.scatter(to_cluster[hei == 2, 0], to_cluster[hei == 2, 1], s = 50, c = 'pink', label = 'Medium performed Industries')\n",
    "plt.legend()\n",
    "plt.show()"
   ]
  },
  {
   "cell_type": "markdown",
   "metadata": {},
   "source": [
    "\n",
    "**Analysis**:\n",
    "\n",
    "\n",
    "In this section we analyzed a Hierarchical cluster analysis which is an unsupervised clustering algorithm which involves creating clusters that have predominant ordering from top to bottom.\n",
    "\n",
    "Here dendograms shows the \n",
    "\n",
    "1. distance between data points represents dissimilarities.\n",
    "2. Height of the blocks represents the distance between clusters.\n",
    "\n",
    "The scatter diagram was plotted with (n clusters=3) and based on the graph I found that the result was pretty similar to the kmeans."
   ]
  },
  {
   "cell_type": "markdown",
   "metadata": {},
   "source": [
    "# Discussion\n",
    "\n",
    "Downloaded the datasets from  Employment of Wales(Total) against year 2009-2018 and later loaded the data using pandas techniques and concated all as wales total employment only and checked for missing values In our final dataset and Then filled all NaN value with mean value. Then I have started data analysis on the data set after creating dataframe. \n",
    "\n",
    "Analysis:\n",
    "\n",
    "Started the analysis by finding the highest and lowest workers industry compared to the period 2009 to 2018 and the final result is Public Administration is the highest worker industry and Real Estate as the lowest worker industry and when dealing with the growth of industries over the period I started the analysis by measuring data, which has more percent change of employees as the highest growing industry which results ICT and analyzied for the best and worst years against employability. In this analysis, I have seen 2010 has a lowest rate and 2018 has a highest  rate against its employability count.\n",
    "\n",
    "- Principal component analysis technique is applied and reduced dimensions of the dataset to two and named as (PC1,PC2) and analyzed relation by plotting a scatter plot and found that three clusters might be formed and industries which has similar range performece formed one cluster and Industries like ICT which is far in analysis has formed other cluster \n",
    "\n",
    "- Person correlation coeffeicent is applied in order to find the correlated year with respect to industries and found that Correlation co-efficient close to 1 means that there’s a very strong positive correlation between the two variables. \n",
    "\n",
    "- To perform clustering intially I scaled down the data using normalization technique is utilised to bring all the variables to a more homogeneous scale and it is synonym of centering the distribution. This means subtracting the mean of the variable to each observation. This procedure will \"center\" the new distribution at zero (the new mean of the variable will now be zero) and perfomed elbow method and found that Kvalues as (2 and 3).\n",
    "\n",
    "- By taking K=2,3 Fitted the Kmeans with respect to cluster centers and here algorithm groups similar objects into groups called clusters and the endpoint is a set of clusters or groups, where each cluster is distinct from each other cluster, and the objects within each cluster are broadly similar to each other.\n",
    "\n",
    "- Dendogram is plotted to indentify similar sets of data and fitted the AgglomerativeClustering with 3 clusters and scatter diagram is plotted with respect to industires poerformece\n",
    "\n"
   ]
  },
  {
   "cell_type": "markdown",
   "metadata": {},
   "source": [
    "\n",
    "**References**:\n",
    "\n",
    "Idris, Ivan, [Python Data Analysis Cookbook](https://www.oreilly.com/library/view/python-data-analysis/9781785282287/) Python Data Analysis CookbookIdris, Ivan. Python Data Analysis Cookbook. Packt Publishing Ltd, 2016\n",
    "\n",
    "\n",
    "[2] Wold, Svante,[Principal component analysis](https://www.sciencedirect.com/science/article/abs/pii/0169743987800849) Kim Esbensen, and Paul Geladi. \"Principal component analysis.\" Chemometrics and intelligent laboratory systems 2.1-3 (1987): 37-52.\n",
    "\n",
    "[3] M. Hall 1999, [Correlation-based Feature Selection for Machine Learning](http://www.cs.waikato.ac.nz/~mhall/thesis.pdf)\n",
    "Senliol, Baris, et al. \"Fast Correlation Based Filter (FCBF) with a different search strategy.\" Computer and Information Sciences.\n",
    "\n",
    "[4] [Plotly Express in Python](https://plotly.com/python/plotly-express/)\n",
    "\n",
    "[5] [Pands Melt Function](https://pandas.pydata.org/docs/reference/api/pandas.melt.html)\n",
    "\n",
    "[6] [iloc in pandas](https://pandas.pydata.org/pandas-docs/stable/reference/api/pandas.DataFrame.iloc.html)\n",
    "\n",
    "[7] [CONCAT in pandas](https://pandas.pydata.org/pandas-docs/stable/reference/api/pandas.concat.html)\n",
    "\n",
    "[8] Tufféry [Datamining and Data analysis ](https://books.google.it/books?hl=en&lr=&id=5MTBlxZUKiIC&oi=fnd&pg=PR17&dq=Stephane+Tuffery,+Data+mining+and+statistics+for+decision+making,+Wiley+Series+in+Computational+Statistics,+2011&ots=cf5ilUaH5x&sig=ePp_TYmeE42qdMnqa6v8a2TIgYQ&redir_esc=y#v=onepage&q=Stephane%20Tuffery%2C%20Data%20mining%20and%20statistics%20for%20decision%20making%2C%20Wiley%20Series%20in%20Computational%20Statistics%2C%202011&f=false) 2011. Data mining and statistics for decision making. John Wiley & Sons.\n",
    "\n",
    "[9] Xu, R. and Wunsch, D.[Clustering Techniques](https://books.google.it/books?hl=en&lr=&id=kYC3YCyl_tkC&oi=fnd&pg=PR5&dq=clustering&ots=qje1AA8f0A&sig=MCvgLqBN9Wy9vNg4WSJijBEF68o&redir_esc=y#v=onepage&q=clustering&f=false) 2008. Clustering (Vol. 10). John Wiley & Sons.\n",
    "\n",
    "[10] Thirathon, N., 2004.[ Heirachial Clustering techniques](https://dspace.mit.edu/handle/1721.1/17981) Cyclic exchange neighborhood search technique for the K-means clustering problem (Doctoral dissertation, Massachusetts Institute of Technology).\n",
    "\n",
    "[11] [CONCAT in pandas](https://pandas.pydata.org/pandas-docs/stable/reference/api/pandas.concat.html)\n",
    "Hawkins, D.M., 1980. [Identification of outliers](https://link.springer.com/book/10.1007%2F978-94-015-3994-4) ((Vol. 11). London: Chapman and Hall."
   ]
  },
  {
   "cell_type": "code",
   "execution_count": null,
   "metadata": {},
   "outputs": [],
   "source": []
  }
 ],
 "metadata": {
  "kernelspec": {
   "display_name": "Python 3",
   "language": "python",
   "name": "python3"
  },
  "language_info": {
   "codemirror_mode": {
    "name": "ipython",
    "version": 3
   },
   "file_extension": ".py",
   "mimetype": "text/x-python",
   "name": "python",
   "nbconvert_exporter": "python",
   "pygments_lexer": "ipython3",
   "version": "3.8.1"
  },
  "latex_envs": {
   "LaTeX_envs_menu_present": true,
   "autoclose": false,
   "autocomplete": true,
   "bibliofile": "biblio.bib",
   "cite_by": "apalike",
   "current_citInitial": 1,
   "eqLabelWithNumbers": true,
   "eqNumInitial": 1,
   "hotkeys": {
    "equation": "Ctrl-E",
    "itemize": "Ctrl-I"
   },
   "labels_anchors": false,
   "latex_user_defs": false,
   "report_style_numbering": false,
   "user_envs_cfg": false
  },
  "toc": {
   "base_numbering": 1,
   "nav_menu": {},
   "number_sections": true,
   "sideBar": true,
   "skip_h1_title": false,
   "title_cell": "Table of Contents",
   "title_sidebar": "Contents",
   "toc_cell": false,
   "toc_position": {},
   "toc_section_display": true,
   "toc_window_display": false
  }
 },
 "nbformat": 4,
 "nbformat_minor": 2
}
