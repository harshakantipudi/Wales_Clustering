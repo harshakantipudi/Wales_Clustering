{
 "cells": [
  {
   "cell_type": "markdown",
   "metadata": {},
   "source": [
    "# St20173906 CIS7031 WRIT1"
   ]
  },
  {
   "cell_type": "markdown",
   "metadata": {},
   "source": [
    "## Programming for Data Analytics\n",
    "\n"
   ]
  },
  {
   "cell_type": "markdown",
   "metadata": {},
   "source": [
    "# Breakdown of this notebook:\n",
    " **Importing the Libraries**\n",
    "\n",
    "\n",
    "1)  **Data processing :** <br>\n",
    " - Renaming the columns.\n",
    " - Cleaning individual columns.\n",
    " - Remove the NaN values from the dataset and replacing with Mean\n",
    "\n",
    "2) **Data analysis:** <br>\n",
    "\n",
    "3). **Visual analysis:** Using plots to find relations between the features.\n",
    " - scatter/bubble plot using Plotly express. \n",
    " \n",
    "4) **Correlation :** Using plots to find relations between the features.\n",
    "\n",
    "5) **Clustering (k means & hierarchical):** \n",
    "\n",
    "6) **Discussion (k means & hierarchical):** \n",
    "    "
   ]
  },
  {
   "cell_type": "code",
   "execution_count": 1,
   "metadata": {
    "ExecuteTime": {
     "end_time": "2020-05-16T21:26:42.625040Z",
     "start_time": "2020-05-16T21:26:39.887733Z"
    }
   },
   "outputs": [],
   "source": [
    "\n",
    "# Import Libraries\n",
    "import numpy as np\n",
    "import pandas as pd\n",
    "import seaborn as sns\n",
    "import matplotlib.pyplot as plt\n",
    "from matplotlib import rcParams\n",
    "import warnings\n",
    "warnings.filterwarnings('ignore')\n",
    "%matplotlib inline\n",
    "from sklearn.decomposition import PCA\n",
    "from mpl_toolkits.mplot3d import Axes3D\n",
    "import plotly.graph_objects as go\n",
    "fig = go.Figure()\n",
    "from sklearn.cluster import KMeans\n",
    "from sklearn.metrics import silhouette_score, silhouette_samples\n",
    "from sklearn import decomposition"
   ]
  },
  {
   "cell_type": "markdown",
   "metadata": {},
   "source": [
    "### 1) Data processing :\n",
    "\n",
    "#### Loading and cleaning the datasets individually"
   ]
  },
  {
   "cell_type": "code",
   "execution_count": 2,
   "metadata": {},
   "outputs": [],
   "source": [
    "import glob            \n",
    "path = \"C:/Users/kvsha/Projects/wales/Excel files/Employee dataset/\"\n",
    "all_files = glob.glob(path + \"20*.csv\")\n",
    "\n",
    "li = []\n",
    "\n",
    "for filename in all_files:\n",
    "    df = pd.read_csv(filename, index_col=None, header=0)\n",
    "    li.append(df)\n",
    "\n",
    "data = pd.concat(li, axis=1, ignore_index=True)"
   ]
  },
  {
   "cell_type": "code",
   "execution_count": 3,
   "metadata": {},
   "outputs": [
    {
     "data": {
      "text/html": [
       "<div>\n",
       "<style scoped>\n",
       "    .dataframe tbody tr th:only-of-type {\n",
       "        vertical-align: middle;\n",
       "    }\n",
       "\n",
       "    .dataframe tbody tr th {\n",
       "        vertical-align: top;\n",
       "    }\n",
       "\n",
       "    .dataframe thead th {\n",
       "        text-align: right;\n",
       "    }\n",
       "</style>\n",
       "<table border=\"1\" class=\"dataframe\">\n",
       "  <thead>\n",
       "    <tr style=\"text-align: right;\">\n",
       "      <th></th>\n",
       "      <th>0</th>\n",
       "      <th>1</th>\n",
       "      <th>2</th>\n",
       "      <th>3</th>\n",
       "      <th>4</th>\n",
       "      <th>5</th>\n",
       "      <th>6</th>\n",
       "      <th>7</th>\n",
       "      <th>8</th>\n",
       "      <th>9</th>\n",
       "      <th>...</th>\n",
       "      <th>20</th>\n",
       "      <th>21</th>\n",
       "      <th>22</th>\n",
       "      <th>23</th>\n",
       "      <th>24</th>\n",
       "      <th>25</th>\n",
       "      <th>26</th>\n",
       "      <th>27</th>\n",
       "      <th>28</th>\n",
       "      <th>29</th>\n",
       "    </tr>\n",
       "  </thead>\n",
       "  <tbody>\n",
       "    <tr>\n",
       "      <th>0</th>\n",
       "      <td>All industries</td>\n",
       "      <td>NaN</td>\n",
       "      <td>1336300</td>\n",
       "      <td>All industries</td>\n",
       "      <td>NaN</td>\n",
       "      <td>1330500</td>\n",
       "      <td>All industries</td>\n",
       "      <td>NaN</td>\n",
       "      <td>1346700</td>\n",
       "      <td>All industries</td>\n",
       "      <td>...</td>\n",
       "      <td>1403800</td>\n",
       "      <td>All industries</td>\n",
       "      <td>NaN</td>\n",
       "      <td>1408900</td>\n",
       "      <td>All industries</td>\n",
       "      <td>NaN</td>\n",
       "      <td>1422800</td>\n",
       "      <td>All industries</td>\n",
       "      <td>NaN</td>\n",
       "      <td>1452100</td>\n",
       "    </tr>\n",
       "    <tr>\n",
       "      <th>1</th>\n",
       "      <td>All industries</td>\n",
       "      <td>Agriculture, forestry and fishing</td>\n",
       "      <td>37700</td>\n",
       "      <td>All industries</td>\n",
       "      <td>Agriculture, forestry and fishing</td>\n",
       "      <td>38200</td>\n",
       "      <td>All industries</td>\n",
       "      <td>Agriculture, forestry and fishing</td>\n",
       "      <td>36100</td>\n",
       "      <td>All industries</td>\n",
       "      <td>...</td>\n",
       "      <td>40700</td>\n",
       "      <td>All industries</td>\n",
       "      <td>Agriculture, forestry and fishing</td>\n",
       "      <td>43200</td>\n",
       "      <td>All industries</td>\n",
       "      <td>Agriculture, forestry and fishing</td>\n",
       "      <td>40200</td>\n",
       "      <td>All industries</td>\n",
       "      <td>Agriculture, forestry and fishing</td>\n",
       "      <td>41100</td>\n",
       "    </tr>\n",
       "    <tr>\n",
       "      <th>2</th>\n",
       "      <td>NaN</td>\n",
       "      <td>Production</td>\n",
       "      <td>156700</td>\n",
       "      <td>NaN</td>\n",
       "      <td>Production</td>\n",
       "      <td>149800</td>\n",
       "      <td>NaN</td>\n",
       "      <td>Production</td>\n",
       "      <td>158600</td>\n",
       "      <td>NaN</td>\n",
       "      <td>...</td>\n",
       "      <td>172300</td>\n",
       "      <td>NaN</td>\n",
       "      <td>Production</td>\n",
       "      <td>162500</td>\n",
       "      <td>NaN</td>\n",
       "      <td>Production</td>\n",
       "      <td>165100</td>\n",
       "      <td>NaN</td>\n",
       "      <td>Production</td>\n",
       "      <td>165700</td>\n",
       "    </tr>\n",
       "    <tr>\n",
       "      <th>3</th>\n",
       "      <td>NaN</td>\n",
       "      <td>Construction</td>\n",
       "      <td>96600</td>\n",
       "      <td>NaN</td>\n",
       "      <td>Construction</td>\n",
       "      <td>93200</td>\n",
       "      <td>NaN</td>\n",
       "      <td>Construction</td>\n",
       "      <td>90000</td>\n",
       "      <td>NaN</td>\n",
       "      <td>...</td>\n",
       "      <td>92600</td>\n",
       "      <td>NaN</td>\n",
       "      <td>Construction</td>\n",
       "      <td>102700</td>\n",
       "      <td>NaN</td>\n",
       "      <td>Construction</td>\n",
       "      <td>90800</td>\n",
       "      <td>NaN</td>\n",
       "      <td>Construction</td>\n",
       "      <td>101800</td>\n",
       "    </tr>\n",
       "    <tr>\n",
       "      <th>4</th>\n",
       "      <td>NaN</td>\n",
       "      <td>Wholesale, retail, transport, hotels and food</td>\n",
       "      <td>345400</td>\n",
       "      <td>NaN</td>\n",
       "      <td>Wholesale, retail, transport, hotels and food</td>\n",
       "      <td>344500</td>\n",
       "      <td>NaN</td>\n",
       "      <td>Wholesale, retail, transport, hotels and food</td>\n",
       "      <td>343100</td>\n",
       "      <td>NaN</td>\n",
       "      <td>...</td>\n",
       "      <td>357700</td>\n",
       "      <td>NaN</td>\n",
       "      <td>Wholesale, retail, transport, hotels and food</td>\n",
       "      <td>360200</td>\n",
       "      <td>NaN</td>\n",
       "      <td>Wholesale, retail, transport, hotels and food</td>\n",
       "      <td>333500</td>\n",
       "      <td>NaN</td>\n",
       "      <td>Wholesale, retail, transport, hotels and food</td>\n",
       "      <td>347600</td>\n",
       "    </tr>\n",
       "    <tr>\n",
       "      <th>5</th>\n",
       "      <td>NaN</td>\n",
       "      <td>Information and communication</td>\n",
       "      <td>27800</td>\n",
       "      <td>NaN</td>\n",
       "      <td>Information and communication</td>\n",
       "      <td>27900</td>\n",
       "      <td>NaN</td>\n",
       "      <td>Information and communication</td>\n",
       "      <td>26400</td>\n",
       "      <td>NaN</td>\n",
       "      <td>...</td>\n",
       "      <td>24000</td>\n",
       "      <td>NaN</td>\n",
       "      <td>Information and communication</td>\n",
       "      <td>34400</td>\n",
       "      <td>NaN</td>\n",
       "      <td>Information and communication</td>\n",
       "      <td>58900</td>\n",
       "      <td>NaN</td>\n",
       "      <td>Information and communication</td>\n",
       "      <td>31500</td>\n",
       "    </tr>\n",
       "    <tr>\n",
       "      <th>6</th>\n",
       "      <td>NaN</td>\n",
       "      <td>Finance and insurance activities</td>\n",
       "      <td>33800</td>\n",
       "      <td>NaN</td>\n",
       "      <td>Finance and insurance activities</td>\n",
       "      <td>29800</td>\n",
       "      <td>NaN</td>\n",
       "      <td>Finance and insurance activities</td>\n",
       "      <td>33200</td>\n",
       "      <td>NaN</td>\n",
       "      <td>...</td>\n",
       "      <td>30800</td>\n",
       "      <td>NaN</td>\n",
       "      <td>Finance and insurance activities</td>\n",
       "      <td>31000</td>\n",
       "      <td>NaN</td>\n",
       "      <td>Finance and insurance activities</td>\n",
       "      <td>32100</td>\n",
       "      <td>NaN</td>\n",
       "      <td>Finance and insurance activities</td>\n",
       "      <td>35500</td>\n",
       "    </tr>\n",
       "    <tr>\n",
       "      <th>7</th>\n",
       "      <td>NaN</td>\n",
       "      <td>Real estate activities</td>\n",
       "      <td>13500</td>\n",
       "      <td>NaN</td>\n",
       "      <td>Real estate activities</td>\n",
       "      <td>14600</td>\n",
       "      <td>NaN</td>\n",
       "      <td>Real estate activities</td>\n",
       "      <td>17600</td>\n",
       "      <td>NaN</td>\n",
       "      <td>...</td>\n",
       "      <td>19100</td>\n",
       "      <td>NaN</td>\n",
       "      <td>Real estate activities</td>\n",
       "      <td>22700</td>\n",
       "      <td>NaN</td>\n",
       "      <td>Real estate activities</td>\n",
       "      <td>18200</td>\n",
       "      <td>NaN</td>\n",
       "      <td>Real estate activities</td>\n",
       "      <td>25200</td>\n",
       "    </tr>\n",
       "    <tr>\n",
       "      <th>8</th>\n",
       "      <td>NaN</td>\n",
       "      <td>Professional, scientific and technical activit...</td>\n",
       "      <td>144800</td>\n",
       "      <td>NaN</td>\n",
       "      <td>Professional, scientific and technical activit...</td>\n",
       "      <td>145800</td>\n",
       "      <td>NaN</td>\n",
       "      <td>Professional, scientific and technical activit...</td>\n",
       "      <td>143600</td>\n",
       "      <td>NaN</td>\n",
       "      <td>...</td>\n",
       "      <td>166200</td>\n",
       "      <td>NaN</td>\n",
       "      <td>Professional, scientific and technical activit...</td>\n",
       "      <td>161200</td>\n",
       "      <td>NaN</td>\n",
       "      <td>Professional, scientific and technical activit...</td>\n",
       "      <td>176400</td>\n",
       "      <td>NaN</td>\n",
       "      <td>Professional, scientific and technical activit...</td>\n",
       "      <td>187100</td>\n",
       "    </tr>\n",
       "    <tr>\n",
       "      <th>9</th>\n",
       "      <td>NaN</td>\n",
       "      <td>Public administration, defence, education and ...</td>\n",
       "      <td>415600</td>\n",
       "      <td>NaN</td>\n",
       "      <td>Public administration, defence, education and ...</td>\n",
       "      <td>418600</td>\n",
       "      <td>NaN</td>\n",
       "      <td>Public administration, defence, education and ...</td>\n",
       "      <td>425600</td>\n",
       "      <td>NaN</td>\n",
       "      <td>...</td>\n",
       "      <td>423200</td>\n",
       "      <td>NaN</td>\n",
       "      <td>Public administration, defence, education and ...</td>\n",
       "      <td>418500</td>\n",
       "      <td>NaN</td>\n",
       "      <td>Public administration, defence, education and ...</td>\n",
       "      <td>424500</td>\n",
       "      <td>NaN</td>\n",
       "      <td>Public administration, defence, education and ...</td>\n",
       "      <td>434900</td>\n",
       "    </tr>\n",
       "    <tr>\n",
       "      <th>10</th>\n",
       "      <td>NaN</td>\n",
       "      <td>Other service activities</td>\n",
       "      <td>64200</td>\n",
       "      <td>NaN</td>\n",
       "      <td>Other service activities</td>\n",
       "      <td>68000</td>\n",
       "      <td>NaN</td>\n",
       "      <td>Other service activities</td>\n",
       "      <td>72400</td>\n",
       "      <td>NaN</td>\n",
       "      <td>...</td>\n",
       "      <td>77200</td>\n",
       "      <td>NaN</td>\n",
       "      <td>Other service activities</td>\n",
       "      <td>72400</td>\n",
       "      <td>NaN</td>\n",
       "      <td>Other service activities</td>\n",
       "      <td>83200</td>\n",
       "      <td>NaN</td>\n",
       "      <td>Other service activities</td>\n",
       "      <td>81800</td>\n",
       "    </tr>\n",
       "  </tbody>\n",
       "</table>\n",
       "<p>11 rows × 30 columns</p>\n",
       "</div>"
      ],
      "text/plain": [
       "                 0                                                  1   \\\n",
       "0   All industries                                                 NaN   \n",
       "1   All industries                  Agriculture, forestry and fishing    \n",
       "2               NaN                                        Production    \n",
       "3               NaN                                      Construction    \n",
       "4               NaN     Wholesale, retail, transport, hotels and food    \n",
       "5               NaN                     Information and communication    \n",
       "6               NaN                  Finance and insurance activities    \n",
       "7               NaN                            Real estate activities    \n",
       "8               NaN  Professional, scientific and technical activit...   \n",
       "9               NaN  Public administration, defence, education and ...   \n",
       "10              NaN                          Other service activities    \n",
       "\n",
       "         2                3   \\\n",
       "0   1336300  All industries    \n",
       "1     37700  All industries    \n",
       "2    156700              NaN   \n",
       "3     96600              NaN   \n",
       "4    345400              NaN   \n",
       "5     27800              NaN   \n",
       "6     33800              NaN   \n",
       "7     13500              NaN   \n",
       "8    144800              NaN   \n",
       "9    415600              NaN   \n",
       "10    64200              NaN   \n",
       "\n",
       "                                                   4        5   \\\n",
       "0                                                 NaN  1330500   \n",
       "1                  Agriculture, forestry and fishing     38200   \n",
       "2                                         Production    149800   \n",
       "3                                       Construction     93200   \n",
       "4      Wholesale, retail, transport, hotels and food    344500   \n",
       "5                      Information and communication     27900   \n",
       "6                   Finance and insurance activities     29800   \n",
       "7                             Real estate activities     14600   \n",
       "8   Professional, scientific and technical activit...   145800   \n",
       "9   Public administration, defence, education and ...   418600   \n",
       "10                          Other service activities     68000   \n",
       "\n",
       "                 6                                                  7   \\\n",
       "0   All industries                                                 NaN   \n",
       "1   All industries                  Agriculture, forestry and fishing    \n",
       "2               NaN                                        Production    \n",
       "3               NaN                                      Construction    \n",
       "4               NaN     Wholesale, retail, transport, hotels and food    \n",
       "5               NaN                     Information and communication    \n",
       "6               NaN                  Finance and insurance activities    \n",
       "7               NaN                            Real estate activities    \n",
       "8               NaN  Professional, scientific and technical activit...   \n",
       "9               NaN  Public administration, defence, education and ...   \n",
       "10              NaN                          Other service activities    \n",
       "\n",
       "         8                9   ...       20               21  \\\n",
       "0   1346700  All industries   ...  1403800  All industries    \n",
       "1     36100  All industries   ...    40700  All industries    \n",
       "2    158600              NaN  ...   172300              NaN   \n",
       "3     90000              NaN  ...    92600              NaN   \n",
       "4    343100              NaN  ...   357700              NaN   \n",
       "5     26400              NaN  ...    24000              NaN   \n",
       "6     33200              NaN  ...    30800              NaN   \n",
       "7     17600              NaN  ...    19100              NaN   \n",
       "8    143600              NaN  ...   166200              NaN   \n",
       "9    425600              NaN  ...   423200              NaN   \n",
       "10    72400              NaN  ...    77200              NaN   \n",
       "\n",
       "                                                   22       23  \\\n",
       "0                                                 NaN  1408900   \n",
       "1                  Agriculture, forestry and fishing     43200   \n",
       "2                                         Production    162500   \n",
       "3                                       Construction    102700   \n",
       "4      Wholesale, retail, transport, hotels and food    360200   \n",
       "5                      Information and communication     34400   \n",
       "6                   Finance and insurance activities     31000   \n",
       "7                             Real estate activities     22700   \n",
       "8   Professional, scientific and technical activit...   161200   \n",
       "9   Public administration, defence, education and ...   418500   \n",
       "10                          Other service activities     72400   \n",
       "\n",
       "                 24                                                 25  \\\n",
       "0   All industries                                                 NaN   \n",
       "1   All industries                  Agriculture, forestry and fishing    \n",
       "2               NaN                                        Production    \n",
       "3               NaN                                      Construction    \n",
       "4               NaN     Wholesale, retail, transport, hotels and food    \n",
       "5               NaN                     Information and communication    \n",
       "6               NaN                  Finance and insurance activities    \n",
       "7               NaN                            Real estate activities    \n",
       "8               NaN  Professional, scientific and technical activit...   \n",
       "9               NaN  Public administration, defence, education and ...   \n",
       "10              NaN                          Other service activities    \n",
       "\n",
       "         26               27  \\\n",
       "0   1422800  All industries    \n",
       "1     40200  All industries    \n",
       "2    165100              NaN   \n",
       "3     90800              NaN   \n",
       "4    333500              NaN   \n",
       "5     58900              NaN   \n",
       "6     32100              NaN   \n",
       "7     18200              NaN   \n",
       "8    176400              NaN   \n",
       "9    424500              NaN   \n",
       "10    83200              NaN   \n",
       "\n",
       "                                                   28       29  \n",
       "0                                                 NaN  1452100  \n",
       "1                  Agriculture, forestry and fishing     41100  \n",
       "2                                         Production    165700  \n",
       "3                                       Construction    101800  \n",
       "4      Wholesale, retail, transport, hotels and food    347600  \n",
       "5                      Information and communication     31500  \n",
       "6                   Finance and insurance activities     35500  \n",
       "7                             Real estate activities     25200  \n",
       "8   Professional, scientific and technical activit...   187100  \n",
       "9   Public administration, defence, education and ...   434900  \n",
       "10                          Other service activities     81800  \n",
       "\n",
       "[11 rows x 30 columns]"
      ]
     },
     "execution_count": 3,
     "metadata": {},
     "output_type": "execute_result"
    }
   ],
   "source": [
    "data"
   ]
  },
  {
   "cell_type": "code",
   "execution_count": 4,
   "metadata": {},
   "outputs": [
    {
     "data": {
      "text/html": [
       "<div>\n",
       "<style scoped>\n",
       "    .dataframe tbody tr th:only-of-type {\n",
       "        vertical-align: middle;\n",
       "    }\n",
       "\n",
       "    .dataframe tbody tr th {\n",
       "        vertical-align: top;\n",
       "    }\n",
       "\n",
       "    .dataframe thead th {\n",
       "        text-align: right;\n",
       "    }\n",
       "</style>\n",
       "<table border=\"1\" class=\"dataframe\">\n",
       "  <thead>\n",
       "    <tr style=\"text-align: right;\">\n",
       "      <th></th>\n",
       "      <th>Industry</th>\n",
       "      <th>2009</th>\n",
       "      <th>2010</th>\n",
       "      <th>2011</th>\n",
       "      <th>2012</th>\n",
       "      <th>2013</th>\n",
       "      <th>2014</th>\n",
       "      <th>2015</th>\n",
       "      <th>2016</th>\n",
       "      <th>2017</th>\n",
       "      <th>2018</th>\n",
       "    </tr>\n",
       "  </thead>\n",
       "  <tbody>\n",
       "    <tr>\n",
       "      <th>1</th>\n",
       "      <td>Agriculture, forestry and fishing</td>\n",
       "      <td>37700</td>\n",
       "      <td>38200</td>\n",
       "      <td>36100</td>\n",
       "      <td>36100</td>\n",
       "      <td>36800</td>\n",
       "      <td>42700</td>\n",
       "      <td>40700</td>\n",
       "      <td>43200</td>\n",
       "      <td>40200</td>\n",
       "      <td>41100</td>\n",
       "    </tr>\n",
       "    <tr>\n",
       "      <th>2</th>\n",
       "      <td>Production</td>\n",
       "      <td>156700</td>\n",
       "      <td>149800</td>\n",
       "      <td>158600</td>\n",
       "      <td>154400</td>\n",
       "      <td>164200</td>\n",
       "      <td>173300</td>\n",
       "      <td>172300</td>\n",
       "      <td>162500</td>\n",
       "      <td>165100</td>\n",
       "      <td>165700</td>\n",
       "    </tr>\n",
       "    <tr>\n",
       "      <th>3</th>\n",
       "      <td>Construction</td>\n",
       "      <td>96600</td>\n",
       "      <td>93200</td>\n",
       "      <td>90000</td>\n",
       "      <td>91300</td>\n",
       "      <td>89300</td>\n",
       "      <td>97000</td>\n",
       "      <td>92600</td>\n",
       "      <td>102700</td>\n",
       "      <td>90800</td>\n",
       "      <td>101800</td>\n",
       "    </tr>\n",
       "    <tr>\n",
       "      <th>4</th>\n",
       "      <td>Wholesale, retail, transport, hotels and food</td>\n",
       "      <td>345400</td>\n",
       "      <td>344500</td>\n",
       "      <td>343100</td>\n",
       "      <td>347300</td>\n",
       "      <td>345100</td>\n",
       "      <td>337300</td>\n",
       "      <td>357700</td>\n",
       "      <td>360200</td>\n",
       "      <td>333500</td>\n",
       "      <td>347600</td>\n",
       "    </tr>\n",
       "    <tr>\n",
       "      <th>5</th>\n",
       "      <td>Information and communication</td>\n",
       "      <td>27800</td>\n",
       "      <td>27900</td>\n",
       "      <td>26400</td>\n",
       "      <td>27200</td>\n",
       "      <td>26900</td>\n",
       "      <td>35700</td>\n",
       "      <td>24000</td>\n",
       "      <td>34400</td>\n",
       "      <td>58900</td>\n",
       "      <td>31500</td>\n",
       "    </tr>\n",
       "    <tr>\n",
       "      <th>6</th>\n",
       "      <td>Finance and insurance activities</td>\n",
       "      <td>33800</td>\n",
       "      <td>29800</td>\n",
       "      <td>33200</td>\n",
       "      <td>31100</td>\n",
       "      <td>32400</td>\n",
       "      <td>32400</td>\n",
       "      <td>30800</td>\n",
       "      <td>31000</td>\n",
       "      <td>32100</td>\n",
       "      <td>35500</td>\n",
       "    </tr>\n",
       "    <tr>\n",
       "      <th>7</th>\n",
       "      <td>Real estate activities</td>\n",
       "      <td>13500</td>\n",
       "      <td>14600</td>\n",
       "      <td>17600</td>\n",
       "      <td>18800</td>\n",
       "      <td>18000</td>\n",
       "      <td>22200</td>\n",
       "      <td>19100</td>\n",
       "      <td>22700</td>\n",
       "      <td>18200</td>\n",
       "      <td>25200</td>\n",
       "    </tr>\n",
       "    <tr>\n",
       "      <th>8</th>\n",
       "      <td>Professional, scientific and technical activit...</td>\n",
       "      <td>144800</td>\n",
       "      <td>145800</td>\n",
       "      <td>143600</td>\n",
       "      <td>137300</td>\n",
       "      <td>149900</td>\n",
       "      <td>152900</td>\n",
       "      <td>166200</td>\n",
       "      <td>161200</td>\n",
       "      <td>176400</td>\n",
       "      <td>187100</td>\n",
       "    </tr>\n",
       "    <tr>\n",
       "      <th>9</th>\n",
       "      <td>Public administration, defence, education and ...</td>\n",
       "      <td>415600</td>\n",
       "      <td>418600</td>\n",
       "      <td>425600</td>\n",
       "      <td>421000</td>\n",
       "      <td>427000</td>\n",
       "      <td>427600</td>\n",
       "      <td>423200</td>\n",
       "      <td>418500</td>\n",
       "      <td>424500</td>\n",
       "      <td>434900</td>\n",
       "    </tr>\n",
       "    <tr>\n",
       "      <th>10</th>\n",
       "      <td>Other service activities</td>\n",
       "      <td>64200</td>\n",
       "      <td>68000</td>\n",
       "      <td>72400</td>\n",
       "      <td>72800</td>\n",
       "      <td>75500</td>\n",
       "      <td>73300</td>\n",
       "      <td>77200</td>\n",
       "      <td>72400</td>\n",
       "      <td>83200</td>\n",
       "      <td>81800</td>\n",
       "    </tr>\n",
       "  </tbody>\n",
       "</table>\n",
       "</div>"
      ],
      "text/plain": [
       "                                             Industry    2009    2010    2011  \\\n",
       "1                  Agriculture, forestry and fishing    37700   38200   36100   \n",
       "2                                         Production   156700  149800  158600   \n",
       "3                                       Construction    96600   93200   90000   \n",
       "4      Wholesale, retail, transport, hotels and food   345400  344500  343100   \n",
       "5                      Information and communication    27800   27900   26400   \n",
       "6                   Finance and insurance activities    33800   29800   33200   \n",
       "7                             Real estate activities    13500   14600   17600   \n",
       "8   Professional, scientific and technical activit...  144800  145800  143600   \n",
       "9   Public administration, defence, education and ...  415600  418600  425600   \n",
       "10                          Other service activities    64200   68000   72400   \n",
       "\n",
       "      2012    2013    2014    2015    2016    2017    2018  \n",
       "1    36100   36800   42700   40700   43200   40200   41100  \n",
       "2   154400  164200  173300  172300  162500  165100  165700  \n",
       "3    91300   89300   97000   92600  102700   90800  101800  \n",
       "4   347300  345100  337300  357700  360200  333500  347600  \n",
       "5    27200   26900   35700   24000   34400   58900   31500  \n",
       "6    31100   32400   32400   30800   31000   32100   35500  \n",
       "7    18800   18000   22200   19100   22700   18200   25200  \n",
       "8   137300  149900  152900  166200  161200  176400  187100  \n",
       "9   421000  427000  427600  423200  418500  424500  434900  \n",
       "10   72800   75500   73300   77200   72400   83200   81800  "
      ]
     },
     "execution_count": 4,
     "metadata": {},
     "output_type": "execute_result"
    }
   ],
   "source": [
    "df=data.drop(columns = [0,3,4,6,7,9,10,12,13,15,16,18,19,21,22,24,25,27,28],axis = 1)\n",
    "concat=df.drop(df.index[[0]])\n",
    "concat.rename(columns={1:'Industry',2:'2009',5:'2010', 8:'2011',11:'2012',14:'2013',17:'2014', 20:'2015',23:'2016',26:'2017',29:'2018'}, inplace=True)\n",
    "concat"
   ]
  },
  {
   "cell_type": "markdown",
   "metadata": {},
   "source": [
    "### Concanating the all the available data source data files into single file"
   ]
  },
  {
   "cell_type": "markdown",
   "metadata": {},
   "source": [
    "### 1.2 Checking for Null Values:\n"
   ]
  },
  {
   "cell_type": "code",
   "execution_count": 5,
   "metadata": {},
   "outputs": [
    {
     "data": {
      "text/html": [
       "<div>\n",
       "<style scoped>\n",
       "    .dataframe tbody tr th:only-of-type {\n",
       "        vertical-align: middle;\n",
       "    }\n",
       "\n",
       "    .dataframe tbody tr th {\n",
       "        vertical-align: top;\n",
       "    }\n",
       "\n",
       "    .dataframe thead th {\n",
       "        text-align: right;\n",
       "    }\n",
       "</style>\n",
       "<table border=\"1\" class=\"dataframe\">\n",
       "  <thead>\n",
       "    <tr style=\"text-align: right;\">\n",
       "      <th></th>\n",
       "      <th>Industry</th>\n",
       "      <th>2009</th>\n",
       "      <th>2010</th>\n",
       "      <th>2011</th>\n",
       "      <th>2012</th>\n",
       "      <th>2013</th>\n",
       "      <th>2014</th>\n",
       "      <th>2015</th>\n",
       "      <th>2016</th>\n",
       "      <th>2017</th>\n",
       "      <th>2018</th>\n",
       "    </tr>\n",
       "  </thead>\n",
       "  <tbody>\n",
       "    <tr>\n",
       "      <th>1</th>\n",
       "      <td>False</td>\n",
       "      <td>False</td>\n",
       "      <td>False</td>\n",
       "      <td>False</td>\n",
       "      <td>False</td>\n",
       "      <td>False</td>\n",
       "      <td>False</td>\n",
       "      <td>False</td>\n",
       "      <td>False</td>\n",
       "      <td>False</td>\n",
       "      <td>False</td>\n",
       "    </tr>\n",
       "    <tr>\n",
       "      <th>2</th>\n",
       "      <td>False</td>\n",
       "      <td>False</td>\n",
       "      <td>False</td>\n",
       "      <td>False</td>\n",
       "      <td>False</td>\n",
       "      <td>False</td>\n",
       "      <td>False</td>\n",
       "      <td>False</td>\n",
       "      <td>False</td>\n",
       "      <td>False</td>\n",
       "      <td>False</td>\n",
       "    </tr>\n",
       "    <tr>\n",
       "      <th>3</th>\n",
       "      <td>False</td>\n",
       "      <td>False</td>\n",
       "      <td>False</td>\n",
       "      <td>False</td>\n",
       "      <td>False</td>\n",
       "      <td>False</td>\n",
       "      <td>False</td>\n",
       "      <td>False</td>\n",
       "      <td>False</td>\n",
       "      <td>False</td>\n",
       "      <td>False</td>\n",
       "    </tr>\n",
       "    <tr>\n",
       "      <th>4</th>\n",
       "      <td>False</td>\n",
       "      <td>False</td>\n",
       "      <td>False</td>\n",
       "      <td>False</td>\n",
       "      <td>False</td>\n",
       "      <td>False</td>\n",
       "      <td>False</td>\n",
       "      <td>False</td>\n",
       "      <td>False</td>\n",
       "      <td>False</td>\n",
       "      <td>False</td>\n",
       "    </tr>\n",
       "    <tr>\n",
       "      <th>5</th>\n",
       "      <td>False</td>\n",
       "      <td>False</td>\n",
       "      <td>False</td>\n",
       "      <td>False</td>\n",
       "      <td>False</td>\n",
       "      <td>False</td>\n",
       "      <td>False</td>\n",
       "      <td>False</td>\n",
       "      <td>False</td>\n",
       "      <td>False</td>\n",
       "      <td>False</td>\n",
       "    </tr>\n",
       "    <tr>\n",
       "      <th>6</th>\n",
       "      <td>False</td>\n",
       "      <td>False</td>\n",
       "      <td>False</td>\n",
       "      <td>False</td>\n",
       "      <td>False</td>\n",
       "      <td>False</td>\n",
       "      <td>False</td>\n",
       "      <td>False</td>\n",
       "      <td>False</td>\n",
       "      <td>False</td>\n",
       "      <td>False</td>\n",
       "    </tr>\n",
       "    <tr>\n",
       "      <th>7</th>\n",
       "      <td>False</td>\n",
       "      <td>False</td>\n",
       "      <td>False</td>\n",
       "      <td>False</td>\n",
       "      <td>False</td>\n",
       "      <td>False</td>\n",
       "      <td>False</td>\n",
       "      <td>False</td>\n",
       "      <td>False</td>\n",
       "      <td>False</td>\n",
       "      <td>False</td>\n",
       "    </tr>\n",
       "    <tr>\n",
       "      <th>8</th>\n",
       "      <td>False</td>\n",
       "      <td>False</td>\n",
       "      <td>False</td>\n",
       "      <td>False</td>\n",
       "      <td>False</td>\n",
       "      <td>False</td>\n",
       "      <td>False</td>\n",
       "      <td>False</td>\n",
       "      <td>False</td>\n",
       "      <td>False</td>\n",
       "      <td>False</td>\n",
       "    </tr>\n",
       "    <tr>\n",
       "      <th>9</th>\n",
       "      <td>False</td>\n",
       "      <td>False</td>\n",
       "      <td>False</td>\n",
       "      <td>False</td>\n",
       "      <td>False</td>\n",
       "      <td>False</td>\n",
       "      <td>False</td>\n",
       "      <td>False</td>\n",
       "      <td>False</td>\n",
       "      <td>False</td>\n",
       "      <td>False</td>\n",
       "    </tr>\n",
       "    <tr>\n",
       "      <th>10</th>\n",
       "      <td>False</td>\n",
       "      <td>False</td>\n",
       "      <td>False</td>\n",
       "      <td>False</td>\n",
       "      <td>False</td>\n",
       "      <td>False</td>\n",
       "      <td>False</td>\n",
       "      <td>False</td>\n",
       "      <td>False</td>\n",
       "      <td>False</td>\n",
       "      <td>False</td>\n",
       "    </tr>\n",
       "  </tbody>\n",
       "</table>\n",
       "</div>"
      ],
      "text/plain": [
       "    Industry   2009   2010   2011   2012   2013   2014   2015   2016   2017  \\\n",
       "1      False  False  False  False  False  False  False  False  False  False   \n",
       "2      False  False  False  False  False  False  False  False  False  False   \n",
       "3      False  False  False  False  False  False  False  False  False  False   \n",
       "4      False  False  False  False  False  False  False  False  False  False   \n",
       "5      False  False  False  False  False  False  False  False  False  False   \n",
       "6      False  False  False  False  False  False  False  False  False  False   \n",
       "7      False  False  False  False  False  False  False  False  False  False   \n",
       "8      False  False  False  False  False  False  False  False  False  False   \n",
       "9      False  False  False  False  False  False  False  False  False  False   \n",
       "10     False  False  False  False  False  False  False  False  False  False   \n",
       "\n",
       "     2018  \n",
       "1   False  \n",
       "2   False  \n",
       "3   False  \n",
       "4   False  \n",
       "5   False  \n",
       "6   False  \n",
       "7   False  \n",
       "8   False  \n",
       "9   False  \n",
       "10  False  "
      ]
     },
     "execution_count": 5,
     "metadata": {},
     "output_type": "execute_result"
    }
   ],
   "source": [
    "concat.isnull()"
   ]
  },
  {
   "cell_type": "code",
   "execution_count": 6,
   "metadata": {},
   "outputs": [
    {
     "data": {
      "text/plain": [
       "<matplotlib.axes._subplots.AxesSubplot at 0x23e6e49caf0>"
      ]
     },
     "execution_count": 6,
     "metadata": {},
     "output_type": "execute_result"
    },
    {
     "data": {
      "image/png": "[encoded data removed]",
      "text/plain": [
       "<Figure size 432x288 with 2 Axes>"
      ]
     },
     "metadata": {
      "needs_background": "light"
     },
     "output_type": "display_data"
    }
   ],
   "source": [
    "sns.heatmap(concat.isnull(),yticklabels=False,cmap='viridis')"
   ]
  },
  {
   "cell_type": "markdown",
   "metadata": {},
   "source": [
    "- Wherever we find the NAN values in the dataframe we replace them using the mean values.Now we calculate mean for each industry with respect to Rows."
   ]
  },
  {
   "cell_type": "code",
   "execution_count": 7,
   "metadata": {},
   "outputs": [
    {
     "data": {
      "text/html": [
       "<div>\n",
       "<style scoped>\n",
       "    .dataframe tbody tr th:only-of-type {\n",
       "        vertical-align: middle;\n",
       "    }\n",
       "\n",
       "    .dataframe tbody tr th {\n",
       "        vertical-align: top;\n",
       "    }\n",
       "\n",
       "    .dataframe thead th {\n",
       "        text-align: right;\n",
       "    }\n",
       "</style>\n",
       "<table border=\"1\" class=\"dataframe\">\n",
       "  <thead>\n",
       "    <tr style=\"text-align: right;\">\n",
       "      <th></th>\n",
       "      <th>Industry</th>\n",
       "      <th>2009</th>\n",
       "      <th>2010</th>\n",
       "      <th>2011</th>\n",
       "      <th>2012</th>\n",
       "      <th>2013</th>\n",
       "      <th>2014</th>\n",
       "      <th>2015</th>\n",
       "      <th>2016</th>\n",
       "      <th>2017</th>\n",
       "      <th>2018</th>\n",
       "    </tr>\n",
       "  </thead>\n",
       "  <tbody>\n",
       "    <tr>\n",
       "      <th>1</th>\n",
       "      <td>Agriculture, forestry and fishing</td>\n",
       "      <td>37700</td>\n",
       "      <td>38200</td>\n",
       "      <td>36100</td>\n",
       "      <td>36100</td>\n",
       "      <td>36800</td>\n",
       "      <td>42700</td>\n",
       "      <td>40700</td>\n",
       "      <td>43200</td>\n",
       "      <td>40200</td>\n",
       "      <td>41100</td>\n",
       "    </tr>\n",
       "    <tr>\n",
       "      <th>2</th>\n",
       "      <td>Production</td>\n",
       "      <td>156700</td>\n",
       "      <td>149800</td>\n",
       "      <td>158600</td>\n",
       "      <td>154400</td>\n",
       "      <td>164200</td>\n",
       "      <td>173300</td>\n",
       "      <td>172300</td>\n",
       "      <td>162500</td>\n",
       "      <td>165100</td>\n",
       "      <td>165700</td>\n",
       "    </tr>\n",
       "    <tr>\n",
       "      <th>3</th>\n",
       "      <td>Construction</td>\n",
       "      <td>96600</td>\n",
       "      <td>93200</td>\n",
       "      <td>90000</td>\n",
       "      <td>91300</td>\n",
       "      <td>89300</td>\n",
       "      <td>97000</td>\n",
       "      <td>92600</td>\n",
       "      <td>102700</td>\n",
       "      <td>90800</td>\n",
       "      <td>101800</td>\n",
       "    </tr>\n",
       "    <tr>\n",
       "      <th>4</th>\n",
       "      <td>Wholesale, retail, transport, hotels and food</td>\n",
       "      <td>345400</td>\n",
       "      <td>344500</td>\n",
       "      <td>343100</td>\n",
       "      <td>347300</td>\n",
       "      <td>345100</td>\n",
       "      <td>337300</td>\n",
       "      <td>357700</td>\n",
       "      <td>360200</td>\n",
       "      <td>333500</td>\n",
       "      <td>347600</td>\n",
       "    </tr>\n",
       "    <tr>\n",
       "      <th>5</th>\n",
       "      <td>Information and communication</td>\n",
       "      <td>27800</td>\n",
       "      <td>27900</td>\n",
       "      <td>26400</td>\n",
       "      <td>27200</td>\n",
       "      <td>26900</td>\n",
       "      <td>35700</td>\n",
       "      <td>24000</td>\n",
       "      <td>34400</td>\n",
       "      <td>58900</td>\n",
       "      <td>31500</td>\n",
       "    </tr>\n",
       "    <tr>\n",
       "      <th>6</th>\n",
       "      <td>Finance and insurance activities</td>\n",
       "      <td>33800</td>\n",
       "      <td>29800</td>\n",
       "      <td>33200</td>\n",
       "      <td>31100</td>\n",
       "      <td>32400</td>\n",
       "      <td>32400</td>\n",
       "      <td>30800</td>\n",
       "      <td>31000</td>\n",
       "      <td>32100</td>\n",
       "      <td>35500</td>\n",
       "    </tr>\n",
       "    <tr>\n",
       "      <th>7</th>\n",
       "      <td>Real estate activities</td>\n",
       "      <td>13500</td>\n",
       "      <td>14600</td>\n",
       "      <td>17600</td>\n",
       "      <td>18800</td>\n",
       "      <td>18000</td>\n",
       "      <td>22200</td>\n",
       "      <td>19100</td>\n",
       "      <td>22700</td>\n",
       "      <td>18200</td>\n",
       "      <td>25200</td>\n",
       "    </tr>\n",
       "    <tr>\n",
       "      <th>8</th>\n",
       "      <td>Professional, scientific and technical activit...</td>\n",
       "      <td>144800</td>\n",
       "      <td>145800</td>\n",
       "      <td>143600</td>\n",
       "      <td>137300</td>\n",
       "      <td>149900</td>\n",
       "      <td>152900</td>\n",
       "      <td>166200</td>\n",
       "      <td>161200</td>\n",
       "      <td>176400</td>\n",
       "      <td>187100</td>\n",
       "    </tr>\n",
       "    <tr>\n",
       "      <th>9</th>\n",
       "      <td>Public administration, defence, education and ...</td>\n",
       "      <td>415600</td>\n",
       "      <td>418600</td>\n",
       "      <td>425600</td>\n",
       "      <td>421000</td>\n",
       "      <td>427000</td>\n",
       "      <td>427600</td>\n",
       "      <td>423200</td>\n",
       "      <td>418500</td>\n",
       "      <td>424500</td>\n",
       "      <td>434900</td>\n",
       "    </tr>\n",
       "    <tr>\n",
       "      <th>10</th>\n",
       "      <td>Other service activities</td>\n",
       "      <td>64200</td>\n",
       "      <td>68000</td>\n",
       "      <td>72400</td>\n",
       "      <td>72800</td>\n",
       "      <td>75500</td>\n",
       "      <td>73300</td>\n",
       "      <td>77200</td>\n",
       "      <td>72400</td>\n",
       "      <td>83200</td>\n",
       "      <td>81800</td>\n",
       "    </tr>\n",
       "  </tbody>\n",
       "</table>\n",
       "</div>"
      ],
      "text/plain": [
       "                                             Industry    2009    2010    2011  \\\n",
       "1                  Agriculture, forestry and fishing    37700   38200   36100   \n",
       "2                                         Production   156700  149800  158600   \n",
       "3                                       Construction    96600   93200   90000   \n",
       "4      Wholesale, retail, transport, hotels and food   345400  344500  343100   \n",
       "5                      Information and communication    27800   27900   26400   \n",
       "6                   Finance and insurance activities    33800   29800   33200   \n",
       "7                             Real estate activities    13500   14600   17600   \n",
       "8   Professional, scientific and technical activit...  144800  145800  143600   \n",
       "9   Public administration, defence, education and ...  415600  418600  425600   \n",
       "10                          Other service activities    64200   68000   72400   \n",
       "\n",
       "      2012    2013    2014    2015    2016    2017    2018  \n",
       "1    36100   36800   42700   40700   43200   40200   41100  \n",
       "2   154400  164200  173300  172300  162500  165100  165700  \n",
       "3    91300   89300   97000   92600  102700   90800  101800  \n",
       "4   347300  345100  337300  357700  360200  333500  347600  \n",
       "5    27200   26900   35700   24000   34400   58900   31500  \n",
       "6    31100   32400   32400   30800   31000   32100   35500  \n",
       "7    18800   18000   22200   19100   22700   18200   25200  \n",
       "8   137300  149900  152900  166200  161200  176400  187100  \n",
       "9   421000  427000  427600  423200  418500  424500  434900  \n",
       "10   72800   75500   73300   77200   72400   83200   81800  "
      ]
     },
     "execution_count": 7,
     "metadata": {},
     "output_type": "execute_result"
    }
   ],
   "source": [
    "#calculating mean\n",
    "dataset_mean=concat.mean(axis=1)\n",
    "\n",
    "#Replacing the null values with mean value\n",
    "concat=concat.fillna(dataset_mean)\n",
    "concat\n"
   ]
  },
  {
   "cell_type": "markdown",
   "metadata": {},
   "source": [
    "- Replacing all the NAN values with mean value.However as there are no NAN values present in the dataframe even after applying mean to NAN values,the datafram doesnot changes."
   ]
  },
  {
   "cell_type": "markdown",
   "metadata": {},
   "source": [
    "####  1.3  Updating Industry Names:"
   ]
  },
  {
   "cell_type": "markdown",
   "metadata": {},
   "source": [
    " In the wales total employment dataset there are few other sub-categories under a major industry. Each sub category member of employees associated with each category is also presented in the dataset. However, based on total employees in a major industry a modified dataset has been created. In the first column of the dataset, 10 major industries are listed and in the right side 10 years, values are given (from 2009 to 2018)"
   ]
  },
  {
   "cell_type": "code",
   "execution_count": 8,
   "metadata": {
    "scrolled": true
   },
   "outputs": [
    {
     "data": {
      "text/html": [
       "<div>\n",
       "<style scoped>\n",
       "    .dataframe tbody tr th:only-of-type {\n",
       "        vertical-align: middle;\n",
       "    }\n",
       "\n",
       "    .dataframe tbody tr th {\n",
       "        vertical-align: top;\n",
       "    }\n",
       "\n",
       "    .dataframe thead th {\n",
       "        text-align: right;\n",
       "    }\n",
       "</style>\n",
       "<table border=\"1\" class=\"dataframe\">\n",
       "  <thead>\n",
       "    <tr style=\"text-align: right;\">\n",
       "      <th></th>\n",
       "      <th>Industry</th>\n",
       "      <th>2009</th>\n",
       "      <th>2010</th>\n",
       "      <th>2011</th>\n",
       "      <th>2012</th>\n",
       "      <th>2013</th>\n",
       "      <th>2014</th>\n",
       "      <th>2015</th>\n",
       "      <th>2016</th>\n",
       "      <th>2017</th>\n",
       "      <th>2018</th>\n",
       "    </tr>\n",
       "  </thead>\n",
       "  <tbody>\n",
       "    <tr>\n",
       "      <th>1</th>\n",
       "      <td>Agriculture</td>\n",
       "      <td>37700</td>\n",
       "      <td>38200</td>\n",
       "      <td>36100</td>\n",
       "      <td>36100</td>\n",
       "      <td>36800</td>\n",
       "      <td>42700</td>\n",
       "      <td>40700</td>\n",
       "      <td>43200</td>\n",
       "      <td>40200</td>\n",
       "      <td>41100</td>\n",
       "    </tr>\n",
       "    <tr>\n",
       "      <th>2</th>\n",
       "      <td>Production</td>\n",
       "      <td>156700</td>\n",
       "      <td>149800</td>\n",
       "      <td>158600</td>\n",
       "      <td>154400</td>\n",
       "      <td>164200</td>\n",
       "      <td>173300</td>\n",
       "      <td>172300</td>\n",
       "      <td>162500</td>\n",
       "      <td>165100</td>\n",
       "      <td>165700</td>\n",
       "    </tr>\n",
       "    <tr>\n",
       "      <th>3</th>\n",
       "      <td>Construction</td>\n",
       "      <td>96600</td>\n",
       "      <td>93200</td>\n",
       "      <td>90000</td>\n",
       "      <td>91300</td>\n",
       "      <td>89300</td>\n",
       "      <td>97000</td>\n",
       "      <td>92600</td>\n",
       "      <td>102700</td>\n",
       "      <td>90800</td>\n",
       "      <td>101800</td>\n",
       "    </tr>\n",
       "    <tr>\n",
       "      <th>4</th>\n",
       "      <td>Retail</td>\n",
       "      <td>345400</td>\n",
       "      <td>344500</td>\n",
       "      <td>343100</td>\n",
       "      <td>347300</td>\n",
       "      <td>345100</td>\n",
       "      <td>337300</td>\n",
       "      <td>357700</td>\n",
       "      <td>360200</td>\n",
       "      <td>333500</td>\n",
       "      <td>347600</td>\n",
       "    </tr>\n",
       "    <tr>\n",
       "      <th>5</th>\n",
       "      <td>ICT</td>\n",
       "      <td>27800</td>\n",
       "      <td>27900</td>\n",
       "      <td>26400</td>\n",
       "      <td>27200</td>\n",
       "      <td>26900</td>\n",
       "      <td>35700</td>\n",
       "      <td>24000</td>\n",
       "      <td>34400</td>\n",
       "      <td>58900</td>\n",
       "      <td>31500</td>\n",
       "    </tr>\n",
       "    <tr>\n",
       "      <th>6</th>\n",
       "      <td>Finance</td>\n",
       "      <td>33800</td>\n",
       "      <td>29800</td>\n",
       "      <td>33200</td>\n",
       "      <td>31100</td>\n",
       "      <td>32400</td>\n",
       "      <td>32400</td>\n",
       "      <td>30800</td>\n",
       "      <td>31000</td>\n",
       "      <td>32100</td>\n",
       "      <td>35500</td>\n",
       "    </tr>\n",
       "    <tr>\n",
       "      <th>7</th>\n",
       "      <td>Real_Estate</td>\n",
       "      <td>13500</td>\n",
       "      <td>14600</td>\n",
       "      <td>17600</td>\n",
       "      <td>18800</td>\n",
       "      <td>18000</td>\n",
       "      <td>22200</td>\n",
       "      <td>19100</td>\n",
       "      <td>22700</td>\n",
       "      <td>18200</td>\n",
       "      <td>25200</td>\n",
       "    </tr>\n",
       "    <tr>\n",
       "      <th>8</th>\n",
       "      <td>Professional_Service</td>\n",
       "      <td>144800</td>\n",
       "      <td>145800</td>\n",
       "      <td>143600</td>\n",
       "      <td>137300</td>\n",
       "      <td>149900</td>\n",
       "      <td>152900</td>\n",
       "      <td>166200</td>\n",
       "      <td>161200</td>\n",
       "      <td>176400</td>\n",
       "      <td>187100</td>\n",
       "    </tr>\n",
       "    <tr>\n",
       "      <th>9</th>\n",
       "      <td>Public_Adminstration</td>\n",
       "      <td>415600</td>\n",
       "      <td>418600</td>\n",
       "      <td>425600</td>\n",
       "      <td>421000</td>\n",
       "      <td>427000</td>\n",
       "      <td>427600</td>\n",
       "      <td>423200</td>\n",
       "      <td>418500</td>\n",
       "      <td>424500</td>\n",
       "      <td>434900</td>\n",
       "    </tr>\n",
       "    <tr>\n",
       "      <th>10</th>\n",
       "      <td>Other_Service</td>\n",
       "      <td>64200</td>\n",
       "      <td>68000</td>\n",
       "      <td>72400</td>\n",
       "      <td>72800</td>\n",
       "      <td>75500</td>\n",
       "      <td>73300</td>\n",
       "      <td>77200</td>\n",
       "      <td>72400</td>\n",
       "      <td>83200</td>\n",
       "      <td>81800</td>\n",
       "    </tr>\n",
       "  </tbody>\n",
       "</table>\n",
       "</div>"
      ],
      "text/plain": [
       "                Industry    2009    2010    2011    2012    2013    2014  \\\n",
       "1            Agriculture   37700   38200   36100   36100   36800   42700   \n",
       "2            Production   156700  149800  158600  154400  164200  173300   \n",
       "3          Construction    96600   93200   90000   91300   89300   97000   \n",
       "4                 Retail  345400  344500  343100  347300  345100  337300   \n",
       "5                    ICT   27800   27900   26400   27200   26900   35700   \n",
       "6                Finance   33800   29800   33200   31100   32400   32400   \n",
       "7            Real_Estate   13500   14600   17600   18800   18000   22200   \n",
       "8   Professional_Service  144800  145800  143600  137300  149900  152900   \n",
       "9   Public_Adminstration  415600  418600  425600  421000  427000  427600   \n",
       "10         Other_Service   64200   68000   72400   72800   75500   73300   \n",
       "\n",
       "      2015    2016    2017    2018  \n",
       "1    40700   43200   40200   41100  \n",
       "2   172300  162500  165100  165700  \n",
       "3    92600  102700   90800  101800  \n",
       "4   357700  360200  333500  347600  \n",
       "5    24000   34400   58900   31500  \n",
       "6    30800   31000   32100   35500  \n",
       "7    19100   22700   18200   25200  \n",
       "8   166200  161200  176400  187100  \n",
       "9   423200  418500  424500  434900  \n",
       "10   77200   72400   83200   81800  "
      ]
     },
     "execution_count": 8,
     "metadata": {},
     "output_type": "execute_result"
    }
   ],
   "source": [
    "concat[\"Industry\"]= concat[\"Industry\"].replace({'Agriculture, forestry and fishing ': 'Agriculture'})\n",
    "\n",
    "concat[\"Industry\"]= concat[\"Industry\"].replace({'Wholesale, retail, transport, hotels and food ': 'Retail'})\n",
    "\n",
    "concat[\"Industry\"]= concat[\"Industry\"].replace({'Information and communication ': 'ICT'})\n",
    "\n",
    "concat[\"Industry\"]= concat[\"Industry\"].replace({'Finance and insurance activities ': 'Finance'})\n",
    "\n",
    "concat[\"Industry\"]= concat[\"Industry\"].replace({'Real estate activities ': 'Real_Estate'})\n",
    "\n",
    "concat[\"Industry\"]= concat[\"Industry\"].replace({'Public administration, defence, education and health ': 'Public_Adminstration'})\n",
    "\n",
    "concat[\"Industry\"]= concat[\"Industry\"].replace({'Other service activities ': 'Other_Service'})\n",
    "\n",
    "concat[\"Industry\"]= concat[\"Industry\"].replace({'Professional, scientific and technical activities; administrative and support service activities ' : 'Professional_Service'})\n",
    "\n",
    "concat[\"Industry\"]= concat[\"Industry\"].replace({'administrative and support service activities ': 'Professional_Service'})\n",
    "\n",
    "concat"
   ]
  },
  {
   "cell_type": "markdown",
   "metadata": {},
   "source": [
    "### 2. Data Analysis\n",
    "#### 2.1.\tWhich industry employed highest and lowest workers over the period?r)\n"
   ]
  },
  {
   "cell_type": "code",
   "execution_count": 9,
   "metadata": {},
   "outputs": [
    {
     "data": {
      "text/html": [
       "<div>\n",
       "<style scoped>\n",
       "    .dataframe tbody tr th:only-of-type {\n",
       "        vertical-align: middle;\n",
       "    }\n",
       "\n",
       "    .dataframe tbody tr th {\n",
       "        vertical-align: top;\n",
       "    }\n",
       "\n",
       "    .dataframe thead th {\n",
       "        text-align: right;\n",
       "    }\n",
       "</style>\n",
       "<table border=\"1\" class=\"dataframe\">\n",
       "  <thead>\n",
       "    <tr style=\"text-align: right;\">\n",
       "      <th></th>\n",
       "      <th>Industry</th>\n",
       "      <th>2009</th>\n",
       "      <th>2010</th>\n",
       "      <th>2011</th>\n",
       "      <th>2012</th>\n",
       "      <th>2013</th>\n",
       "      <th>2014</th>\n",
       "      <th>2015</th>\n",
       "      <th>2016</th>\n",
       "      <th>2017</th>\n",
       "      <th>2018</th>\n",
       "    </tr>\n",
       "  </thead>\n",
       "  <tbody>\n",
       "    <tr>\n",
       "      <th>1</th>\n",
       "      <td>Agriculture</td>\n",
       "      <td>37700</td>\n",
       "      <td>38200</td>\n",
       "      <td>36100</td>\n",
       "      <td>36100</td>\n",
       "      <td>36800</td>\n",
       "      <td>42700</td>\n",
       "      <td>40700</td>\n",
       "      <td>43200</td>\n",
       "      <td>40200</td>\n",
       "      <td>41100</td>\n",
       "    </tr>\n",
       "    <tr>\n",
       "      <th>2</th>\n",
       "      <td>Production</td>\n",
       "      <td>156700</td>\n",
       "      <td>149800</td>\n",
       "      <td>158600</td>\n",
       "      <td>154400</td>\n",
       "      <td>164200</td>\n",
       "      <td>173300</td>\n",
       "      <td>172300</td>\n",
       "      <td>162500</td>\n",
       "      <td>165100</td>\n",
       "      <td>165700</td>\n",
       "    </tr>\n",
       "    <tr>\n",
       "      <th>3</th>\n",
       "      <td>Construction</td>\n",
       "      <td>96600</td>\n",
       "      <td>93200</td>\n",
       "      <td>90000</td>\n",
       "      <td>91300</td>\n",
       "      <td>89300</td>\n",
       "      <td>97000</td>\n",
       "      <td>92600</td>\n",
       "      <td>102700</td>\n",
       "      <td>90800</td>\n",
       "      <td>101800</td>\n",
       "    </tr>\n",
       "    <tr>\n",
       "      <th>4</th>\n",
       "      <td>Retail</td>\n",
       "      <td>345400</td>\n",
       "      <td>344500</td>\n",
       "      <td>343100</td>\n",
       "      <td>347300</td>\n",
       "      <td>345100</td>\n",
       "      <td>337300</td>\n",
       "      <td>357700</td>\n",
       "      <td>360200</td>\n",
       "      <td>333500</td>\n",
       "      <td>347600</td>\n",
       "    </tr>\n",
       "    <tr>\n",
       "      <th>5</th>\n",
       "      <td>ICT</td>\n",
       "      <td>27800</td>\n",
       "      <td>27900</td>\n",
       "      <td>26400</td>\n",
       "      <td>27200</td>\n",
       "      <td>26900</td>\n",
       "      <td>35700</td>\n",
       "      <td>24000</td>\n",
       "      <td>34400</td>\n",
       "      <td>58900</td>\n",
       "      <td>31500</td>\n",
       "    </tr>\n",
       "    <tr>\n",
       "      <th>6</th>\n",
       "      <td>Finance</td>\n",
       "      <td>33800</td>\n",
       "      <td>29800</td>\n",
       "      <td>33200</td>\n",
       "      <td>31100</td>\n",
       "      <td>32400</td>\n",
       "      <td>32400</td>\n",
       "      <td>30800</td>\n",
       "      <td>31000</td>\n",
       "      <td>32100</td>\n",
       "      <td>35500</td>\n",
       "    </tr>\n",
       "    <tr>\n",
       "      <th>7</th>\n",
       "      <td>Real_Estate</td>\n",
       "      <td>13500</td>\n",
       "      <td>14600</td>\n",
       "      <td>17600</td>\n",
       "      <td>18800</td>\n",
       "      <td>18000</td>\n",
       "      <td>22200</td>\n",
       "      <td>19100</td>\n",
       "      <td>22700</td>\n",
       "      <td>18200</td>\n",
       "      <td>25200</td>\n",
       "    </tr>\n",
       "    <tr>\n",
       "      <th>8</th>\n",
       "      <td>Professional_Service</td>\n",
       "      <td>144800</td>\n",
       "      <td>145800</td>\n",
       "      <td>143600</td>\n",
       "      <td>137300</td>\n",
       "      <td>149900</td>\n",
       "      <td>152900</td>\n",
       "      <td>166200</td>\n",
       "      <td>161200</td>\n",
       "      <td>176400</td>\n",
       "      <td>187100</td>\n",
       "    </tr>\n",
       "    <tr>\n",
       "      <th>9</th>\n",
       "      <td>Public_Adminstration</td>\n",
       "      <td>415600</td>\n",
       "      <td>418600</td>\n",
       "      <td>425600</td>\n",
       "      <td>421000</td>\n",
       "      <td>427000</td>\n",
       "      <td>427600</td>\n",
       "      <td>423200</td>\n",
       "      <td>418500</td>\n",
       "      <td>424500</td>\n",
       "      <td>434900</td>\n",
       "    </tr>\n",
       "    <tr>\n",
       "      <th>10</th>\n",
       "      <td>Other_Service</td>\n",
       "      <td>64200</td>\n",
       "      <td>68000</td>\n",
       "      <td>72400</td>\n",
       "      <td>72800</td>\n",
       "      <td>75500</td>\n",
       "      <td>73300</td>\n",
       "      <td>77200</td>\n",
       "      <td>72400</td>\n",
       "      <td>83200</td>\n",
       "      <td>81800</td>\n",
       "    </tr>\n",
       "  </tbody>\n",
       "</table>\n",
       "</div>"
      ],
      "text/plain": [
       "                Industry    2009    2010    2011    2012    2013    2014  \\\n",
       "1            Agriculture   37700   38200   36100   36100   36800   42700   \n",
       "2            Production   156700  149800  158600  154400  164200  173300   \n",
       "3          Construction    96600   93200   90000   91300   89300   97000   \n",
       "4                 Retail  345400  344500  343100  347300  345100  337300   \n",
       "5                    ICT   27800   27900   26400   27200   26900   35700   \n",
       "6                Finance   33800   29800   33200   31100   32400   32400   \n",
       "7            Real_Estate   13500   14600   17600   18800   18000   22200   \n",
       "8   Professional_Service  144800  145800  143600  137300  149900  152900   \n",
       "9   Public_Adminstration  415600  418600  425600  421000  427000  427600   \n",
       "10         Other_Service   64200   68000   72400   72800   75500   73300   \n",
       "\n",
       "      2015    2016    2017    2018  \n",
       "1    40700   43200   40200   41100  \n",
       "2   172300  162500  165100  165700  \n",
       "3    92600  102700   90800  101800  \n",
       "4   357700  360200  333500  347600  \n",
       "5    24000   34400   58900   31500  \n",
       "6    30800   31000   32100   35500  \n",
       "7    19100   22700   18200   25200  \n",
       "8   166200  161200  176400  187100  \n",
       "9   423200  418500  424500  434900  \n",
       "10   77200   72400   83200   81800  "
      ]
     },
     "execution_count": 9,
     "metadata": {},
     "output_type": "execute_result"
    }
   ],
   "source": [
    "df= pd.DataFrame(concat)\n",
    "df"
   ]
  },
  {
   "cell_type": "markdown",
   "metadata": {},
   "source": [
    " - After creating the dataframe(df) calculating total number of workers for every industry who has highest and lowest employment from 2009 - 2018."
   ]
  },
  {
   "cell_type": "code",
   "execution_count": 10,
   "metadata": {},
   "outputs": [
    {
     "data": {
      "text/html": [
       "<div>\n",
       "<style scoped>\n",
       "    .dataframe tbody tr th:only-of-type {\n",
       "        vertical-align: middle;\n",
       "    }\n",
       "\n",
       "    .dataframe tbody tr th {\n",
       "        vertical-align: top;\n",
       "    }\n",
       "\n",
       "    .dataframe thead th {\n",
       "        text-align: right;\n",
       "    }\n",
       "</style>\n",
       "<table border=\"1\" class=\"dataframe\">\n",
       "  <thead>\n",
       "    <tr style=\"text-align: right;\">\n",
       "      <th></th>\n",
       "      <th>Industry</th>\n",
       "      <th>2009</th>\n",
       "      <th>2010</th>\n",
       "      <th>2011</th>\n",
       "      <th>2012</th>\n",
       "      <th>2013</th>\n",
       "      <th>2014</th>\n",
       "      <th>2015</th>\n",
       "      <th>2016</th>\n",
       "      <th>2017</th>\n",
       "      <th>2018</th>\n",
       "      <th>calculated_sum</th>\n",
       "    </tr>\n",
       "  </thead>\n",
       "  <tbody>\n",
       "    <tr>\n",
       "      <th>1</th>\n",
       "      <td>Agriculture</td>\n",
       "      <td>37700</td>\n",
       "      <td>38200</td>\n",
       "      <td>36100</td>\n",
       "      <td>36100</td>\n",
       "      <td>36800</td>\n",
       "      <td>42700</td>\n",
       "      <td>40700</td>\n",
       "      <td>43200</td>\n",
       "      <td>40200</td>\n",
       "      <td>41100</td>\n",
       "      <td>392800</td>\n",
       "    </tr>\n",
       "    <tr>\n",
       "      <th>2</th>\n",
       "      <td>Production</td>\n",
       "      <td>156700</td>\n",
       "      <td>149800</td>\n",
       "      <td>158600</td>\n",
       "      <td>154400</td>\n",
       "      <td>164200</td>\n",
       "      <td>173300</td>\n",
       "      <td>172300</td>\n",
       "      <td>162500</td>\n",
       "      <td>165100</td>\n",
       "      <td>165700</td>\n",
       "      <td>1622600</td>\n",
       "    </tr>\n",
       "    <tr>\n",
       "      <th>3</th>\n",
       "      <td>Construction</td>\n",
       "      <td>96600</td>\n",
       "      <td>93200</td>\n",
       "      <td>90000</td>\n",
       "      <td>91300</td>\n",
       "      <td>89300</td>\n",
       "      <td>97000</td>\n",
       "      <td>92600</td>\n",
       "      <td>102700</td>\n",
       "      <td>90800</td>\n",
       "      <td>101800</td>\n",
       "      <td>945300</td>\n",
       "    </tr>\n",
       "    <tr>\n",
       "      <th>4</th>\n",
       "      <td>Retail</td>\n",
       "      <td>345400</td>\n",
       "      <td>344500</td>\n",
       "      <td>343100</td>\n",
       "      <td>347300</td>\n",
       "      <td>345100</td>\n",
       "      <td>337300</td>\n",
       "      <td>357700</td>\n",
       "      <td>360200</td>\n",
       "      <td>333500</td>\n",
       "      <td>347600</td>\n",
       "      <td>3461700</td>\n",
       "    </tr>\n",
       "    <tr>\n",
       "      <th>5</th>\n",
       "      <td>ICT</td>\n",
       "      <td>27800</td>\n",
       "      <td>27900</td>\n",
       "      <td>26400</td>\n",
       "      <td>27200</td>\n",
       "      <td>26900</td>\n",
       "      <td>35700</td>\n",
       "      <td>24000</td>\n",
       "      <td>34400</td>\n",
       "      <td>58900</td>\n",
       "      <td>31500</td>\n",
       "      <td>320700</td>\n",
       "    </tr>\n",
       "    <tr>\n",
       "      <th>6</th>\n",
       "      <td>Finance</td>\n",
       "      <td>33800</td>\n",
       "      <td>29800</td>\n",
       "      <td>33200</td>\n",
       "      <td>31100</td>\n",
       "      <td>32400</td>\n",
       "      <td>32400</td>\n",
       "      <td>30800</td>\n",
       "      <td>31000</td>\n",
       "      <td>32100</td>\n",
       "      <td>35500</td>\n",
       "      <td>322100</td>\n",
       "    </tr>\n",
       "    <tr>\n",
       "      <th>7</th>\n",
       "      <td>Real_Estate</td>\n",
       "      <td>13500</td>\n",
       "      <td>14600</td>\n",
       "      <td>17600</td>\n",
       "      <td>18800</td>\n",
       "      <td>18000</td>\n",
       "      <td>22200</td>\n",
       "      <td>19100</td>\n",
       "      <td>22700</td>\n",
       "      <td>18200</td>\n",
       "      <td>25200</td>\n",
       "      <td>189900</td>\n",
       "    </tr>\n",
       "    <tr>\n",
       "      <th>8</th>\n",
       "      <td>Professional_Service</td>\n",
       "      <td>144800</td>\n",
       "      <td>145800</td>\n",
       "      <td>143600</td>\n",
       "      <td>137300</td>\n",
       "      <td>149900</td>\n",
       "      <td>152900</td>\n",
       "      <td>166200</td>\n",
       "      <td>161200</td>\n",
       "      <td>176400</td>\n",
       "      <td>187100</td>\n",
       "      <td>1565200</td>\n",
       "    </tr>\n",
       "    <tr>\n",
       "      <th>9</th>\n",
       "      <td>Public_Adminstration</td>\n",
       "      <td>415600</td>\n",
       "      <td>418600</td>\n",
       "      <td>425600</td>\n",
       "      <td>421000</td>\n",
       "      <td>427000</td>\n",
       "      <td>427600</td>\n",
       "      <td>423200</td>\n",
       "      <td>418500</td>\n",
       "      <td>424500</td>\n",
       "      <td>434900</td>\n",
       "      <td>4236500</td>\n",
       "    </tr>\n",
       "    <tr>\n",
       "      <th>10</th>\n",
       "      <td>Other_Service</td>\n",
       "      <td>64200</td>\n",
       "      <td>68000</td>\n",
       "      <td>72400</td>\n",
       "      <td>72800</td>\n",
       "      <td>75500</td>\n",
       "      <td>73300</td>\n",
       "      <td>77200</td>\n",
       "      <td>72400</td>\n",
       "      <td>83200</td>\n",
       "      <td>81800</td>\n",
       "      <td>740800</td>\n",
       "    </tr>\n",
       "  </tbody>\n",
       "</table>\n",
       "</div>"
      ],
      "text/plain": [
       "                Industry    2009    2010    2011    2012    2013    2014  \\\n",
       "1            Agriculture   37700   38200   36100   36100   36800   42700   \n",
       "2            Production   156700  149800  158600  154400  164200  173300   \n",
       "3          Construction    96600   93200   90000   91300   89300   97000   \n",
       "4                 Retail  345400  344500  343100  347300  345100  337300   \n",
       "5                    ICT   27800   27900   26400   27200   26900   35700   \n",
       "6                Finance   33800   29800   33200   31100   32400   32400   \n",
       "7            Real_Estate   13500   14600   17600   18800   18000   22200   \n",
       "8   Professional_Service  144800  145800  143600  137300  149900  152900   \n",
       "9   Public_Adminstration  415600  418600  425600  421000  427000  427600   \n",
       "10         Other_Service   64200   68000   72400   72800   75500   73300   \n",
       "\n",
       "      2015    2016    2017    2018  calculated_sum  \n",
       "1    40700   43200   40200   41100          392800  \n",
       "2   172300  162500  165100  165700         1622600  \n",
       "3    92600  102700   90800  101800          945300  \n",
       "4   357700  360200  333500  347600         3461700  \n",
       "5    24000   34400   58900   31500          320700  \n",
       "6    30800   31000   32100   35500          322100  \n",
       "7    19100   22700   18200   25200          189900  \n",
       "8   166200  161200  176400  187100         1565200  \n",
       "9   423200  418500  424500  434900         4236500  \n",
       "10   77200   72400   83200   81800          740800  "
      ]
     },
     "execution_count": 10,
     "metadata": {},
     "output_type": "execute_result"
    }
   ],
   "source": [
    "df['calculated_sum'] = df.sum(axis=1)\n",
    "df"
   ]
  },
  {
   "cell_type": "markdown",
   "metadata": {},
   "source": [
    " - From the above analysis it is clear that public administration has highest number of workers when compared to other industries.Now lets find the max value from dataframe, to get exact analysis."
   ]
  },
  {
   "cell_type": "code",
   "execution_count": 11,
   "metadata": {},
   "outputs": [
    {
     "data": {
      "text/plain": [
       "4236500"
      ]
     },
     "execution_count": 11,
     "metadata": {},
     "output_type": "execute_result"
    }
   ],
   "source": [
    "df['calculated_sum'].max()"
   ]
  },
  {
   "cell_type": "markdown",
   "metadata": {},
   "source": [
    " ###### Answer- \n",
    " \n",
    " - Public administration is largest"
   ]
  },
  {
   "cell_type": "markdown",
   "metadata": {},
   "source": [
    "        Calculating the lowest employment from the dataframe "
   ]
  },
  {
   "cell_type": "code",
   "execution_count": 12,
   "metadata": {},
   "outputs": [
    {
     "data": {
      "text/plain": [
       "189900"
      ]
     },
     "execution_count": 12,
     "metadata": {},
     "output_type": "execute_result"
    }
   ],
   "source": [
    "df['calculated_sum'].min()"
   ]
  },
  {
   "cell_type": "markdown",
   "metadata": {},
   "source": [
    "######  Answer:\n",
    "\n",
    "- Real estate industry has least number of employment.\n",
    "\n",
    "###### Visualization for largest and lowest employement"
   ]
  },
  {
   "cell_type": "code",
   "execution_count": 13,
   "metadata": {},
   "outputs": [
    {
     "data": {
      "image/png": "[encoded data removed]",
      "text/plain": [
       "<Figure size 1440x720 with 1 Axes>"
      ]
     },
     "metadata": {
      "needs_background": "light"
     },
     "output_type": "display_data"
    }
   ],
   "source": [
    "import matplotlib.pyplot as plt \n",
    "\n",
    "plt.rcParams['figure.figsize'] = [20,10]\n",
    "\n",
    "# x-coordinates of left sides of bars  \n",
    "left = df['Industry'] \n",
    "\n",
    "# heights of bars \n",
    "height = df['calculated_sum']\n",
    "\n",
    "# plotting a bar chart \n",
    "plt.bar(left, height, \n",
    "        width = 0.8, color = ['peachpuff','peru','plum','darkkhaki', 'wheat','blue','green','lime'])\n",
    "\n",
    "  # naming the x-axis \n",
    "plt.xlabel('Industries') \n",
    "# naming the y-axis \n",
    "plt.ylabel('count') \n",
    "# plot title \n",
    "plt.title('highest and lowest workers over the period?') \n",
    "  \n",
    "# function to show the plot \n",
    "plt.show() "
   ]
  },
  {
   "cell_type": "markdown",
   "metadata": {},
   "source": [
    "### Answer:\n",
    "\n",
    "- By considering 10 wales employment datasets.Initially we calculate the sum of employes for specific industries.then by using max and min functions we get the highest and lowest employment values over the period 2009-2018.From the above bar chart we can interpret that Public_Adminstration industry has higest number of workes (4236500.0 ) and where as Real_Estate industry has lowest workers (189900.0) over the period of 2009 to 2018.\n",
    "\n",
    "\n"
   ]
  },
  {
   "cell_type": "markdown",
   "metadata": {},
   "source": [
    "### 2.2 \tWhich industry has the highest and lowest overall growth over the period? "
   ]
  },
  {
   "cell_type": "code",
   "execution_count": 14,
   "metadata": {},
   "outputs": [
    {
     "data": {
      "image/png": "[encoded data removed]",
      "text/plain": [
       "<Figure size 1440x576 with 1 Axes>"
      ]
     },
     "metadata": {
      "needs_background": "light"
     },
     "output_type": "display_data"
    }
   ],
   "source": [
    "# Calculating the percentage change of growth year by year of every industrail sector\n",
    "\n",
    "df_HL = df.iloc[:, 1:].pct_change(axis =1)\n",
    "df_HL['Industry'] = pd.Series(df['Industry'])\n",
    "df_HL['percentage'] = df_HL.sum(axis=1)\n",
    "\n",
    "\n",
    "## Plotting visualizations\n",
    "\n",
    "plt.rcParams['figure.figsize'] = [20,8]\n",
    "\n",
    "# x-coordinates of left sides of bars  \n",
    "left = df['Industry']\n",
    "\n",
    "# heights of bars \n",
    "height =df_HL['percentage'] \n",
    "\n",
    "# plotting a bar chart \n",
    "plt.bar(left, height, \n",
    "        width = 0.8, color = ['yellowgreen','beige','darkgreen', 'gold', 'coral','lightsalmon','darkred','indigo','brown','red'])\n",
    "\n",
    "  # naming the x-axis \n",
    "plt.xlabel('Industries') \n",
    "# naming the y-axis \n",
    "plt.ylabel('count') \n",
    "# plot title \n",
    "plt.title('Industry with highest and lowest growth over the period?') \n",
    "  \n",
    "# function to show the plot \n",
    "plt.show() "
   ]
  },
  {
   "cell_type": "markdown",
   "metadata": {},
   "source": [
    "### Solution\n",
    "\n",
    "-Analyzed the average growth rate of workers over the period To measure it first. we calculated the percenttage growth in workers for each year indicually and based on reluts we came up to point that ICT ( 9.9 percentage) has highest complete growth when compared to others. However Real Estate is significantly lower compared to others( 7.3 percentage)\n"
   ]
  },
  {
   "cell_type": "markdown",
   "metadata": {},
   "source": [
    "### 2.3.Which years are the best and worst performing year in relation to number of employment. (highest and                    lowest employment) "
   ]
  },
  {
   "cell_type": "code",
   "execution_count": 15,
   "metadata": {},
   "outputs": [
    {
     "data": {
      "text/plain": [
       "<matplotlib.axes._subplots.AxesSubplot at 0x23e6ec1a070>"
      ]
     },
     "execution_count": 15,
     "metadata": {},
     "output_type": "execute_result"
    },
    {
     "data": {
      "image/png": "[encoded data removed]",
      "text/plain": [
       "<Figure size 1440x576 with 1 Axes>"
      ]
     },
     "metadata": {
      "needs_background": "light"
     },
     "output_type": "display_data"
    }
   ],
   "source": [
    "year_BW = df.drop(['Industry','calculated_sum'], axis =1).sum(axis = 0)\n",
    "year_BW.plot(kind='barh',color = ['b','grey','c','m','y'])"
   ]
  },
  {
   "cell_type": "markdown",
   "metadata": {},
   "source": [
    "### Solution\n",
    "\n",
    "-  Calculated the employment count by plotting barh graph with taking years as Y axis and count as X axis and above barh graph clearly represents that the year 2018 is the best performing year having with total number of employment equal to  1452200.0. On the other side 2010 is the worst performing year with employers of 1330400.0\n",
    "\n",
    "- Each year sum is plotted by different colors in above barh graph\n"
   ]
  },
  {
   "cell_type": "markdown",
   "metadata": {},
   "source": [
    "## 3. Visual analysis"
   ]
  },
  {
   "cell_type": "code",
   "execution_count": 16,
   "metadata": {},
   "outputs": [
    {
     "data": {
      "text/plain": [
       "Index(['Industry', '2009', '2010', '2011', '2012', '2013', '2014', '2015',\n",
       "       '2016', '2017', '2018', 'calculated_sum'],\n",
       "      dtype='object')"
      ]
     },
     "execution_count": 16,
     "metadata": {},
     "output_type": "execute_result"
    }
   ],
   "source": [
    "df.columns"
   ]
  },
  {
   "cell_type": "code",
   "execution_count": 17,
   "metadata": {},
   "outputs": [
    {
     "name": "stdout",
     "output_type": "stream",
     "text": [
      "Int64Index([1, 2, 3, 4, 5, 6, 7, 8, 9, 10], dtype='int64')\n"
     ]
    }
   ],
   "source": [
    "print(df.index)"
   ]
  },
  {
   "cell_type": "code",
   "execution_count": 80,
   "metadata": {},
   "outputs": [
    {
     "data": {
      "text/html": [
       "<div>\n",
       "<style scoped>\n",
       "    .dataframe tbody tr th:only-of-type {\n",
       "        vertical-align: middle;\n",
       "    }\n",
       "\n",
       "    .dataframe tbody tr th {\n",
       "        vertical-align: top;\n",
       "    }\n",
       "\n",
       "    .dataframe thead th {\n",
       "        text-align: right;\n",
       "    }\n",
       "</style>\n",
       "<table border=\"1\" class=\"dataframe\">\n",
       "  <thead>\n",
       "    <tr style=\"text-align: right;\">\n",
       "      <th></th>\n",
       "      <th>Industry</th>\n",
       "      <th>variable</th>\n",
       "      <th>value</th>\n",
       "    </tr>\n",
       "  </thead>\n",
       "  <tbody>\n",
       "    <tr>\n",
       "      <th>0</th>\n",
       "      <td>Agriculture</td>\n",
       "      <td>2009</td>\n",
       "      <td>37700</td>\n",
       "    </tr>\n",
       "    <tr>\n",
       "      <th>1</th>\n",
       "      <td>Production</td>\n",
       "      <td>2009</td>\n",
       "      <td>156700</td>\n",
       "    </tr>\n",
       "    <tr>\n",
       "      <th>2</th>\n",
       "      <td>Construction</td>\n",
       "      <td>2009</td>\n",
       "      <td>96600</td>\n",
       "    </tr>\n",
       "    <tr>\n",
       "      <th>3</th>\n",
       "      <td>Retail</td>\n",
       "      <td>2009</td>\n",
       "      <td>345400</td>\n",
       "    </tr>\n",
       "    <tr>\n",
       "      <th>4</th>\n",
       "      <td>ICT</td>\n",
       "      <td>2009</td>\n",
       "      <td>27800</td>\n",
       "    </tr>\n",
       "    <tr>\n",
       "      <th>...</th>\n",
       "      <td>...</td>\n",
       "      <td>...</td>\n",
       "      <td>...</td>\n",
       "    </tr>\n",
       "    <tr>\n",
       "      <th>95</th>\n",
       "      <td>Finance</td>\n",
       "      <td>2018</td>\n",
       "      <td>35500</td>\n",
       "    </tr>\n",
       "    <tr>\n",
       "      <th>96</th>\n",
       "      <td>Real_Estate</td>\n",
       "      <td>2018</td>\n",
       "      <td>25200</td>\n",
       "    </tr>\n",
       "    <tr>\n",
       "      <th>97</th>\n",
       "      <td>Professional_Service</td>\n",
       "      <td>2018</td>\n",
       "      <td>187100</td>\n",
       "    </tr>\n",
       "    <tr>\n",
       "      <th>98</th>\n",
       "      <td>Public_Adminstration</td>\n",
       "      <td>2018</td>\n",
       "      <td>434900</td>\n",
       "    </tr>\n",
       "    <tr>\n",
       "      <th>99</th>\n",
       "      <td>Other_Service</td>\n",
       "      <td>2018</td>\n",
       "      <td>81800</td>\n",
       "    </tr>\n",
       "  </tbody>\n",
       "</table>\n",
       "<p>100 rows × 3 columns</p>\n",
       "</div>"
      ],
      "text/plain": [
       "                Industry variable   value\n",
       "0            Agriculture     2009   37700\n",
       "1            Production      2009  156700\n",
       "2          Construction      2009   96600\n",
       "3                 Retail     2009  345400\n",
       "4                    ICT     2009   27800\n",
       "..                   ...      ...     ...\n",
       "95               Finance     2018   35500\n",
       "96           Real_Estate     2018   25200\n",
       "97  Professional_Service     2018  187100\n",
       "98  Public_Adminstration     2018  434900\n",
       "99         Other_Service     2018   81800\n",
       "\n",
       "[100 rows x 3 columns]"
      ]
     },
     "execution_count": 80,
     "metadata": {},
     "output_type": "execute_result"
    }
   ],
   "source": [
    "wales"
   ]
  },
  {
   "cell_type": "code",
   "execution_count": 107,
   "metadata": {},
   "outputs": [
    {
     "data": {
      "application/vnd.plotly.v1+json": {
       "config": {
        "plotlyServerURL": "https://plot.ly"
       },
       "data": [
        {
         "hovertemplate": "variable=2009<br>value=%{marker.color}<br>Industry=%{y}<extra></extra>",
         "ids": [
          37700,
          156700,
          96600,
          345400,
          27800,
          33800,
          13500,
          144800,
          415600,
          64200
         ],
         "legendgroup": "",
         "marker": {
          "color": [
           37700,
           156700,
           96600,
           345400,
           27800,
           33800,
           13500,
           144800,
           415600,
           64200
          ],
          "coloraxis": "coloraxis",
          "size": [
           37700,
           156700,
           96600,
           345400,
           27800,
           33800,
           13500,
           144800,
           415600,
           64200
          ],
          "sizemode": "area",
          "sizeref": 173.96,
          "symbol": "circle"
         },
         "mode": "markers",
         "name": "",
         "showlegend": false,
         "type": "scatter",
         "x": [
          37700,
          156700,
          96600,
          345400,
          27800,
          33800,
          13500,
          144800,
          415600,
          64200
         ],
         "xaxis": "x",
         "y": [
          "Agriculture",
          "Production ",
          "Construction ",
          "Retail",
          "ICT",
          "Finance",
          "Real_Estate",
          "Professional_Service",
          "Public_Adminstration",
          "Other_Service"
         ],
         "yaxis": "y"
        }
       ],
       "frames": [
        {
         "data": [
          {
           "hovertemplate": "variable=2009<br>value=%{marker.color}<br>Industry=%{y}<extra></extra>",
           "ids": [
            37700,
            156700,
            96600,
            345400,
            27800,
            33800,
            13500,
            144800,
            415600,
            64200
           ],
           "legendgroup": "",
           "marker": {
            "color": [
             37700,
             156700,
             96600,
             345400,
             27800,
             33800,
             13500,
             144800,
             415600,
             64200
            ],
            "coloraxis": "coloraxis",
            "size": [
             37700,
             156700,
             96600,
             345400,
             27800,
             33800,
             13500,
             144800,
             415600,
             64200
            ],
            "sizemode": "area",
            "sizeref": 173.96,
            "symbol": "circle"
           },
           "mode": "markers",
           "name": "",
           "showlegend": false,
           "type": "scatter",
           "x": [
            37700,
            156700,
            96600,
            345400,
            27800,
            33800,
            13500,
            144800,
            415600,
            64200
           ],
           "xaxis": "x",
           "y": [
            "Agriculture",
            "Production ",
            "Construction ",
            "Retail",
            "ICT",
            "Finance",
            "Real_Estate",
            "Professional_Service",
            "Public_Adminstration",
            "Other_Service"
           ],
           "yaxis": "y"
          }
         ],
         "name": "2009"
        },
        {
         "data": [
          {
           "hovertemplate": "variable=2010<br>value=%{marker.color}<br>Industry=%{y}<extra></extra>",
           "ids": [
            38200,
            149800,
            93200,
            344500,
            27900,
            29800,
            14600,
            145800,
            418600,
            68000
           ],
           "legendgroup": "",
           "marker": {
            "color": [
             38200,
             149800,
             93200,
             344500,
             27900,
             29800,
             14600,
             145800,
             418600,
             68000
            ],
            "coloraxis": "coloraxis",
            "size": [
             38200,
             149800,
             93200,
             344500,
             27900,
             29800,
             14600,
             145800,
             418600,
             68000
            ],
            "sizemode": "area",
            "sizeref": 173.96,
            "symbol": "circle"
           },
           "mode": "markers",
           "name": "",
           "showlegend": false,
           "type": "scatter",
           "x": [
            38200,
            149800,
            93200,
            344500,
            27900,
            29800,
            14600,
            145800,
            418600,
            68000
           ],
           "xaxis": "x",
           "y": [
            "Agriculture",
            "Production ",
            "Construction ",
            "Retail",
            "ICT",
            "Finance",
            "Real_Estate",
            "Professional_Service",
            "Public_Adminstration",
            "Other_Service"
           ],
           "yaxis": "y"
          }
         ],
         "name": "2010"
        },
        {
         "data": [
          {
           "hovertemplate": "variable=2011<br>value=%{marker.color}<br>Industry=%{y}<extra></extra>",
           "ids": [
            36100,
            158600,
            90000,
            343100,
            26400,
            33200,
            17600,
            143600,
            425600,
            72400
           ],
           "legendgroup": "",
           "marker": {
            "color": [
             36100,
             158600,
             90000,
             343100,
             26400,
             33200,
             17600,
             143600,
             425600,
             72400
            ],
            "coloraxis": "coloraxis",
            "size": [
             36100,
             158600,
             90000,
             343100,
             26400,
             33200,
             17600,
             143600,
             425600,
             72400
            ],
            "sizemode": "area",
            "sizeref": 173.96,
            "symbol": "circle"
           },
           "mode": "markers",
           "name": "",
           "showlegend": false,
           "type": "scatter",
           "x": [
            36100,
            158600,
            90000,
            343100,
            26400,
            33200,
            17600,
            143600,
            425600,
            72400
           ],
           "xaxis": "x",
           "y": [
            "Agriculture",
            "Production ",
            "Construction ",
            "Retail",
            "ICT",
            "Finance",
            "Real_Estate",
            "Professional_Service",
            "Public_Adminstration",
            "Other_Service"
           ],
           "yaxis": "y"
          }
         ],
         "name": "2011"
        },
        {
         "data": [
          {
           "hovertemplate": "variable=2012<br>value=%{marker.color}<br>Industry=%{y}<extra></extra>",
           "ids": [
            36100,
            154400,
            91300,
            347300,
            27200,
            31100,
            18800,
            137300,
            421000,
            72800
           ],
           "legendgroup": "",
           "marker": {
            "color": [
             36100,
             154400,
             91300,
             347300,
             27200,
             31100,
             18800,
             137300,
             421000,
             72800
            ],
            "coloraxis": "coloraxis",
            "size": [
             36100,
             154400,
             91300,
             347300,
             27200,
             31100,
             18800,
             137300,
             421000,
             72800
            ],
            "sizemode": "area",
            "sizeref": 173.96,
            "symbol": "circle"
           },
           "mode": "markers",
           "name": "",
           "showlegend": false,
           "type": "scatter",
           "x": [
            36100,
            154400,
            91300,
            347300,
            27200,
            31100,
            18800,
            137300,
            421000,
            72800
           ],
           "xaxis": "x",
           "y": [
            "Agriculture",
            "Production ",
            "Construction ",
            "Retail",
            "ICT",
            "Finance",
            "Real_Estate",
            "Professional_Service",
            "Public_Adminstration",
            "Other_Service"
           ],
           "yaxis": "y"
          }
         ],
         "name": "2012"
        },
        {
         "data": [
          {
           "hovertemplate": "variable=2013<br>value=%{marker.color}<br>Industry=%{y}<extra></extra>",
           "ids": [
            36800,
            164200,
            89300,
            345100,
            26900,
            32400,
            18000,
            149900,
            427000,
            75500
           ],
           "legendgroup": "",
           "marker": {
            "color": [
             36800,
             164200,
             89300,
             345100,
             26900,
             32400,
             18000,
             149900,
             427000,
             75500
            ],
            "coloraxis": "coloraxis",
            "size": [
             36800,
             164200,
             89300,
             345100,
             26900,
             32400,
             18000,
             149900,
             427000,
             75500
            ],
            "sizemode": "area",
            "sizeref": 173.96,
            "symbol": "circle"
           },
           "mode": "markers",
           "name": "",
           "showlegend": false,
           "type": "scatter",
           "x": [
            36800,
            164200,
            89300,
            345100,
            26900,
            32400,
            18000,
            149900,
            427000,
            75500
           ],
           "xaxis": "x",
           "y": [
            "Agriculture",
            "Production ",
            "Construction ",
            "Retail",
            "ICT",
            "Finance",
            "Real_Estate",
            "Professional_Service",
            "Public_Adminstration",
            "Other_Service"
           ],
           "yaxis": "y"
          }
         ],
         "name": "2013"
        },
        {
         "data": [
          {
           "hovertemplate": "variable=2014<br>value=%{marker.color}<br>Industry=%{y}<extra></extra>",
           "ids": [
            42700,
            173300,
            97000,
            337300,
            35700,
            32400,
            22200,
            152900,
            427600,
            73300
           ],
           "legendgroup": "",
           "marker": {
            "color": [
             42700,
             173300,
             97000,
             337300,
             35700,
             32400,
             22200,
             152900,
             427600,
             73300
            ],
            "coloraxis": "coloraxis",
            "size": [
             42700,
             173300,
             97000,
             337300,
             35700,
             32400,
             22200,
             152900,
             427600,
             73300
            ],
            "sizemode": "area",
            "sizeref": 173.96,
            "symbol": "circle"
           },
           "mode": "markers",
           "name": "",
           "showlegend": false,
           "type": "scatter",
           "x": [
            42700,
            173300,
            97000,
            337300,
            35700,
            32400,
            22200,
            152900,
            427600,
            73300
           ],
           "xaxis": "x",
           "y": [
            "Agriculture",
            "Production ",
            "Construction ",
            "Retail",
            "ICT",
            "Finance",
            "Real_Estate",
            "Professional_Service",
            "Public_Adminstration",
            "Other_Service"
           ],
           "yaxis": "y"
          }
         ],
         "name": "2014"
        },
        {
         "data": [
          {
           "hovertemplate": "variable=2015<br>value=%{marker.color}<br>Industry=%{y}<extra></extra>",
           "ids": [
            40700,
            172300,
            92600,
            357700,
            24000,
            30800,
            19100,
            166200,
            423200,
            77200
           ],
           "legendgroup": "",
           "marker": {
            "color": [
             40700,
             172300,
             92600,
             357700,
             24000,
             30800,
             19100,
             166200,
             423200,
             77200
            ],
            "coloraxis": "coloraxis",
            "size": [
             40700,
             172300,
             92600,
             357700,
             24000,
             30800,
             19100,
             166200,
             423200,
             77200
            ],
            "sizemode": "area",
            "sizeref": 173.96,
            "symbol": "circle"
           },
           "mode": "markers",
           "name": "",
           "showlegend": false,
           "type": "scatter",
           "x": [
            40700,
            172300,
            92600,
            357700,
            24000,
            30800,
            19100,
            166200,
            423200,
            77200
           ],
           "xaxis": "x",
           "y": [
            "Agriculture",
            "Production ",
            "Construction ",
            "Retail",
            "ICT",
            "Finance",
            "Real_Estate",
            "Professional_Service",
            "Public_Adminstration",
            "Other_Service"
           ],
           "yaxis": "y"
          }
         ],
         "name": "2015"
        },
        {
         "data": [
          {
           "hovertemplate": "variable=2016<br>value=%{marker.color}<br>Industry=%{y}<extra></extra>",
           "ids": [
            43200,
            162500,
            102700,
            360200,
            34400,
            31000,
            22700,
            161200,
            418500,
            72400
           ],
           "legendgroup": "",
           "marker": {
            "color": [
             43200,
             162500,
             102700,
             360200,
             34400,
             31000,
             22700,
             161200,
             418500,
             72400
            ],
            "coloraxis": "coloraxis",
            "size": [
             43200,
             162500,
             102700,
             360200,
             34400,
             31000,
             22700,
             161200,
             418500,
             72400
            ],
            "sizemode": "area",
            "sizeref": 173.96,
            "symbol": "circle"
           },
           "mode": "markers",
           "name": "",
           "showlegend": false,
           "type": "scatter",
           "x": [
            43200,
            162500,
            102700,
            360200,
            34400,
            31000,
            22700,
            161200,
            418500,
            72400
           ],
           "xaxis": "x",
           "y": [
            "Agriculture",
            "Production ",
            "Construction ",
            "Retail",
            "ICT",
            "Finance",
            "Real_Estate",
            "Professional_Service",
            "Public_Adminstration",
            "Other_Service"
           ],
           "yaxis": "y"
          }
         ],
         "name": "2016"
        },
        {
         "data": [
          {
           "hovertemplate": "variable=2017<br>value=%{marker.color}<br>Industry=%{y}<extra></extra>",
           "ids": [
            40200,
            165100,
            90800,
            333500,
            58900,
            32100,
            18200,
            176400,
            424500,
            83200
           ],
           "legendgroup": "",
           "marker": {
            "color": [
             40200,
             165100,
             90800,
             333500,
             58900,
             32100,
             18200,
             176400,
             424500,
             83200
            ],
            "coloraxis": "coloraxis",
            "size": [
             40200,
             165100,
             90800,
             333500,
             58900,
             32100,
             18200,
             176400,
             424500,
             83200
            ],
            "sizemode": "area",
            "sizeref": 173.96,
            "symbol": "circle"
           },
           "mode": "markers",
           "name": "",
           "showlegend": false,
           "type": "scatter",
           "x": [
            40200,
            165100,
            90800,
            333500,
            58900,
            32100,
            18200,
            176400,
            424500,
            83200
           ],
           "xaxis": "x",
           "y": [
            "Agriculture",
            "Production ",
            "Construction ",
            "Retail",
            "ICT",
            "Finance",
            "Real_Estate",
            "Professional_Service",
            "Public_Adminstration",
            "Other_Service"
           ],
           "yaxis": "y"
          }
         ],
         "name": "2017"
        },
        {
         "data": [
          {
           "hovertemplate": "variable=2018<br>value=%{marker.color}<br>Industry=%{y}<extra></extra>",
           "ids": [
            41100,
            165700,
            101800,
            347600,
            31500,
            35500,
            25200,
            187100,
            434900,
            81800
           ],
           "legendgroup": "",
           "marker": {
            "color": [
             41100,
             165700,
             101800,
             347600,
             31500,
             35500,
             25200,
             187100,
             434900,
             81800
            ],
            "coloraxis": "coloraxis",
            "size": [
             41100,
             165700,
             101800,
             347600,
             31500,
             35500,
             25200,
             187100,
             434900,
             81800
            ],
            "sizemode": "area",
            "sizeref": 173.96,
            "symbol": "circle"
           },
           "mode": "markers",
           "name": "",
           "showlegend": false,
           "type": "scatter",
           "x": [
            41100,
            165700,
            101800,
            347600,
            31500,
            35500,
            25200,
            187100,
            434900,
            81800
           ],
           "xaxis": "x",
           "y": [
            "Agriculture",
            "Production ",
            "Construction ",
            "Retail",
            "ICT",
            "Finance",
            "Real_Estate",
            "Professional_Service",
            "Public_Adminstration",
            "Other_Service"
           ],
           "yaxis": "y"
          }
         ],
         "name": "2018"
        }
       ],
       "layout": {
        "coloraxis": {
         "colorbar": {
          "title": {
           "text": "value"
          }
         },
         "colorscale": [
          [
           0,
           "#0d0887"
          ],
          [
           0.1111111111111111,
           "#46039f"
          ],
          [
           0.2222222222222222,
           "#7201a8"
          ],
          [
           0.3333333333333333,
           "#9c179e"
          ],
          [
           0.4444444444444444,
           "#bd3786"
          ],
          [
           0.5555555555555556,
           "#d8576b"
          ],
          [
           0.6666666666666666,
           "#ed7953"
          ],
          [
           0.7777777777777778,
           "#fb9f3a"
          ],
          [
           0.8888888888888888,
           "#fdca26"
          ],
          [
           1,
           "#f0f921"
          ]
         ]
        },
        "legend": {
         "itemsizing": "constant",
         "tracegroupgap": 0
        },
        "margin": {
         "t": 60
        },
        "sliders": [
         {
          "active": 0,
          "currentvalue": {
           "prefix": "variable="
          },
          "len": 0.9,
          "pad": {
           "b": 10,
           "t": 60
          },
          "steps": [
           {
            "args": [
             [
              "2009"
             ],
             {
              "frame": {
               "duration": 0,
               "redraw": false
              },
              "fromcurrent": true,
              "mode": "immediate",
              "transition": {
               "duration": 0,
               "easing": "linear"
              }
             }
            ],
            "label": "2009",
            "method": "animate"
           },
           {
            "args": [
             [
              "2010"
             ],
             {
              "frame": {
               "duration": 0,
               "redraw": false
              },
              "fromcurrent": true,
              "mode": "immediate",
              "transition": {
               "duration": 0,
               "easing": "linear"
              }
             }
            ],
            "label": "2010",
            "method": "animate"
           },
           {
            "args": [
             [
              "2011"
             ],
             {
              "frame": {
               "duration": 0,
               "redraw": false
              },
              "fromcurrent": true,
              "mode": "immediate",
              "transition": {
               "duration": 0,
               "easing": "linear"
              }
             }
            ],
            "label": "2011",
            "method": "animate"
           },
           {
            "args": [
             [
              "2012"
             ],
             {
              "frame": {
               "duration": 0,
               "redraw": false
              },
              "fromcurrent": true,
              "mode": "immediate",
              "transition": {
               "duration": 0,
               "easing": "linear"
              }
             }
            ],
            "label": "2012",
            "method": "animate"
           },
           {
            "args": [
             [
              "2013"
             ],
             {
              "frame": {
               "duration": 0,
               "redraw": false
              },
              "fromcurrent": true,
              "mode": "immediate",
              "transition": {
               "duration": 0,
               "easing": "linear"
              }
             }
            ],
            "label": "2013",
            "method": "animate"
           },
           {
            "args": [
             [
              "2014"
             ],
             {
              "frame": {
               "duration": 0,
               "redraw": false
              },
              "fromcurrent": true,
              "mode": "immediate",
              "transition": {
               "duration": 0,
               "easing": "linear"
              }
             }
            ],
            "label": "2014",
            "method": "animate"
           },
           {
            "args": [
             [
              "2015"
             ],
             {
              "frame": {
               "duration": 0,
               "redraw": false
              },
              "fromcurrent": true,
              "mode": "immediate",
              "transition": {
               "duration": 0,
               "easing": "linear"
              }
             }
            ],
            "label": "2015",
            "method": "animate"
           },
           {
            "args": [
             [
              "2016"
             ],
             {
              "frame": {
               "duration": 0,
               "redraw": false
              },
              "fromcurrent": true,
              "mode": "immediate",
              "transition": {
               "duration": 0,
               "easing": "linear"
              }
             }
            ],
            "label": "2016",
            "method": "animate"
           },
           {
            "args": [
             [
              "2017"
             ],
             {
              "frame": {
               "duration": 0,
               "redraw": false
              },
              "fromcurrent": true,
              "mode": "immediate",
              "transition": {
               "duration": 0,
               "easing": "linear"
              }
             }
            ],
            "label": "2017",
            "method": "animate"
           },
           {
            "args": [
             [
              "2018"
             ],
             {
              "frame": {
               "duration": 0,
               "redraw": false
              },
              "fromcurrent": true,
              "mode": "immediate",
              "transition": {
               "duration": 0,
               "easing": "linear"
              }
             }
            ],
            "label": "2018",
            "method": "animate"
           }
          ],
          "x": 0.1,
          "xanchor": "left",
          "y": 0,
          "yanchor": "top"
         }
        ],
        "template": {
         "data": {
          "bar": [
           {
            "error_x": {
             "color": "#f2f5fa"
            },
            "error_y": {
             "color": "#f2f5fa"
            },
            "marker": {
             "line": {
              "color": "rgb(17,17,17)",
              "width": 0.5
             }
            },
            "type": "bar"
           }
          ],
          "barpolar": [
           {
            "marker": {
             "line": {
              "color": "rgb(17,17,17)",
              "width": 0.5
             }
            },
            "type": "barpolar"
           }
          ],
          "carpet": [
           {
            "aaxis": {
             "endlinecolor": "#A2B1C6",
             "gridcolor": "#506784",
             "linecolor": "#506784",
             "minorgridcolor": "#506784",
             "startlinecolor": "#A2B1C6"
            },
            "baxis": {
             "endlinecolor": "#A2B1C6",
             "gridcolor": "#506784",
             "linecolor": "#506784",
             "minorgridcolor": "#506784",
             "startlinecolor": "#A2B1C6"
            },
            "type": "carpet"
           }
          ],
          "choropleth": [
           {
            "colorbar": {
             "outlinewidth": 0,
             "ticks": ""
            },
            "type": "choropleth"
           }
          ],
          "contour": [
           {
            "colorbar": {
             "outlinewidth": 0,
             "ticks": ""
            },
            "colorscale": [
             [
              0,
              "#0d0887"
             ],
             [
              0.1111111111111111,
              "#46039f"
             ],
             [
              0.2222222222222222,
              "#7201a8"
             ],
             [
              0.3333333333333333,
              "#9c179e"
             ],
             [
              0.4444444444444444,
              "#bd3786"
             ],
             [
              0.5555555555555556,
              "#d8576b"
             ],
             [
              0.6666666666666666,
              "#ed7953"
             ],
             [
              0.7777777777777778,
              "#fb9f3a"
             ],
             [
              0.8888888888888888,
              "#fdca26"
             ],
             [
              1,
              "#f0f921"
             ]
            ],
            "type": "contour"
           }
          ],
          "contourcarpet": [
           {
            "colorbar": {
             "outlinewidth": 0,
             "ticks": ""
            },
            "type": "contourcarpet"
           }
          ],
          "heatmap": [
           {
            "colorbar": {
             "outlinewidth": 0,
             "ticks": ""
            },
            "colorscale": [
             [
              0,
              "#0d0887"
             ],
             [
              0.1111111111111111,
              "#46039f"
             ],
             [
              0.2222222222222222,
              "#7201a8"
             ],
             [
              0.3333333333333333,
              "#9c179e"
             ],
             [
              0.4444444444444444,
              "#bd3786"
             ],
             [
              0.5555555555555556,
              "#d8576b"
             ],
             [
              0.6666666666666666,
              "#ed7953"
             ],
             [
              0.7777777777777778,
              "#fb9f3a"
             ],
             [
              0.8888888888888888,
              "#fdca26"
             ],
             [
              1,
              "#f0f921"
             ]
            ],
            "type": "heatmap"
           }
          ],
          "heatmapgl": [
           {
            "colorbar": {
             "outlinewidth": 0,
             "ticks": ""
            },
            "colorscale": [
             [
              0,
              "#0d0887"
             ],
             [
              0.1111111111111111,
              "#46039f"
             ],
             [
              0.2222222222222222,
              "#7201a8"
             ],
             [
              0.3333333333333333,
              "#9c179e"
             ],
             [
              0.4444444444444444,
              "#bd3786"
             ],
             [
              0.5555555555555556,
              "#d8576b"
             ],
             [
              0.6666666666666666,
              "#ed7953"
             ],
             [
              0.7777777777777778,
              "#fb9f3a"
             ],
             [
              0.8888888888888888,
              "#fdca26"
             ],
             [
              1,
              "#f0f921"
             ]
            ],
            "type": "heatmapgl"
           }
          ],
          "histogram": [
           {
            "marker": {
             "colorbar": {
              "outlinewidth": 0,
              "ticks": ""
             }
            },
            "type": "histogram"
           }
          ],
          "histogram2d": [
           {
            "colorbar": {
             "outlinewidth": 0,
             "ticks": ""
            },
            "colorscale": [
             [
              0,
              "#0d0887"
             ],
             [
              0.1111111111111111,
              "#46039f"
             ],
             [
              0.2222222222222222,
              "#7201a8"
             ],
             [
              0.3333333333333333,
              "#9c179e"
             ],
             [
              0.4444444444444444,
              "#bd3786"
             ],
             [
              0.5555555555555556,
              "#d8576b"
             ],
             [
              0.6666666666666666,
              "#ed7953"
             ],
             [
              0.7777777777777778,
              "#fb9f3a"
             ],
             [
              0.8888888888888888,
              "#fdca26"
             ],
             [
              1,
              "#f0f921"
             ]
            ],
            "type": "histogram2d"
           }
          ],
          "histogram2dcontour": [
           {
            "colorbar": {
             "outlinewidth": 0,
             "ticks": ""
            },
            "colorscale": [
             [
              0,
              "#0d0887"
             ],
             [
              0.1111111111111111,
              "#46039f"
             ],
             [
              0.2222222222222222,
              "#7201a8"
             ],
             [
              0.3333333333333333,
              "#9c179e"
             ],
             [
              0.4444444444444444,
              "#bd3786"
             ],
             [
              0.5555555555555556,
              "#d8576b"
             ],
             [
              0.6666666666666666,
              "#ed7953"
             ],
             [
              0.7777777777777778,
              "#fb9f3a"
             ],
             [
              0.8888888888888888,
              "#fdca26"
             ],
             [
              1,
              "#f0f921"
             ]
            ],
            "type": "histogram2dcontour"
           }
          ],
          "mesh3d": [
           {
            "colorbar": {
             "outlinewidth": 0,
             "ticks": ""
            },
            "type": "mesh3d"
           }
          ],
          "parcoords": [
           {
            "line": {
             "colorbar": {
              "outlinewidth": 0,
              "ticks": ""
             }
            },
            "type": "parcoords"
           }
          ],
          "pie": [
           {
            "automargin": true,
            "type": "pie"
           }
          ],
          "scatter": [
           {
            "marker": {
             "line": {
              "color": "#283442"
             }
            },
            "type": "scatter"
           }
          ],
          "scatter3d": [
           {
            "line": {
             "colorbar": {
              "outlinewidth": 0,
              "ticks": ""
             }
            },
            "marker": {
             "colorbar": {
              "outlinewidth": 0,
              "ticks": ""
             }
            },
            "type": "scatter3d"
           }
          ],
          "scattercarpet": [
           {
            "marker": {
             "colorbar": {
              "outlinewidth": 0,
              "ticks": ""
             }
            },
            "type": "scattercarpet"
           }
          ],
          "scattergeo": [
           {
            "marker": {
             "colorbar": {
              "outlinewidth": 0,
              "ticks": ""
             }
            },
            "type": "scattergeo"
           }
          ],
          "scattergl": [
           {
            "marker": {
             "line": {
              "color": "#283442"
             }
            },
            "type": "scattergl"
           }
          ],
          "scattermapbox": [
           {
            "marker": {
             "colorbar": {
              "outlinewidth": 0,
              "ticks": ""
             }
            },
            "type": "scattermapbox"
           }
          ],
          "scatterpolar": [
           {
            "marker": {
             "colorbar": {
              "outlinewidth": 0,
              "ticks": ""
             }
            },
            "type": "scatterpolar"
           }
          ],
          "scatterpolargl": [
           {
            "marker": {
             "colorbar": {
              "outlinewidth": 0,
              "ticks": ""
             }
            },
            "type": "scatterpolargl"
           }
          ],
          "scatterternary": [
           {
            "marker": {
             "colorbar": {
              "outlinewidth": 0,
              "ticks": ""
             }
            },
            "type": "scatterternary"
           }
          ],
          "surface": [
           {
            "colorbar": {
             "outlinewidth": 0,
             "ticks": ""
            },
            "colorscale": [
             [
              0,
              "#0d0887"
             ],
             [
              0.1111111111111111,
              "#46039f"
             ],
             [
              0.2222222222222222,
              "#7201a8"
             ],
             [
              0.3333333333333333,
              "#9c179e"
             ],
             [
              0.4444444444444444,
              "#bd3786"
             ],
             [
              0.5555555555555556,
              "#d8576b"
             ],
             [
              0.6666666666666666,
              "#ed7953"
             ],
             [
              0.7777777777777778,
              "#fb9f3a"
             ],
             [
              0.8888888888888888,
              "#fdca26"
             ],
             [
              1,
              "#f0f921"
             ]
            ],
            "type": "surface"
           }
          ],
          "table": [
           {
            "cells": {
             "fill": {
              "color": "#506784"
             },
             "line": {
              "color": "rgb(17,17,17)"
             }
            },
            "header": {
             "fill": {
              "color": "#2a3f5f"
             },
             "line": {
              "color": "rgb(17,17,17)"
             }
            },
            "type": "table"
           }
          ]
         },
         "layout": {
          "annotationdefaults": {
           "arrowcolor": "#f2f5fa",
           "arrowhead": 0,
           "arrowwidth": 1
          },
          "coloraxis": {
           "colorbar": {
            "outlinewidth": 0,
            "ticks": ""
           }
          },
          "colorscale": {
           "diverging": [
            [
             0,
             "#8e0152"
            ],
            [
             0.1,
             "#c51b7d"
            ],
            [
             0.2,
             "#de77ae"
            ],
            [
             0.3,
             "#f1b6da"
            ],
            [
             0.4,
             "#fde0ef"
            ],
            [
             0.5,
             "#f7f7f7"
            ],
            [
             0.6,
             "#e6f5d0"
            ],
            [
             0.7,
             "#b8e186"
            ],
            [
             0.8,
             "#7fbc41"
            ],
            [
             0.9,
             "#4d9221"
            ],
            [
             1,
             "#276419"
            ]
           ],
           "sequential": [
            [
             0,
             "#0d0887"
            ],
            [
             0.1111111111111111,
             "#46039f"
            ],
            [
             0.2222222222222222,
             "#7201a8"
            ],
            [
             0.3333333333333333,
             "#9c179e"
            ],
            [
             0.4444444444444444,
             "#bd3786"
            ],
            [
             0.5555555555555556,
             "#d8576b"
            ],
            [
             0.6666666666666666,
             "#ed7953"
            ],
            [
             0.7777777777777778,
             "#fb9f3a"
            ],
            [
             0.8888888888888888,
             "#fdca26"
            ],
            [
             1,
             "#f0f921"
            ]
           ],
           "sequentialminus": [
            [
             0,
             "#0d0887"
            ],
            [
             0.1111111111111111,
             "#46039f"
            ],
            [
             0.2222222222222222,
             "#7201a8"
            ],
            [
             0.3333333333333333,
             "#9c179e"
            ],
            [
             0.4444444444444444,
             "#bd3786"
            ],
            [
             0.5555555555555556,
             "#d8576b"
            ],
            [
             0.6666666666666666,
             "#ed7953"
            ],
            [
             0.7777777777777778,
             "#fb9f3a"
            ],
            [
             0.8888888888888888,
             "#fdca26"
            ],
            [
             1,
             "#f0f921"
            ]
           ]
          },
          "colorway": [
           "#636efa",
           "#EF553B",
           "#00cc96",
           "#ab63fa",
           "#FFA15A",
           "#19d3f3",
           "#FF6692",
           "#B6E880",
           "#FF97FF",
           "#FECB52"
          ],
          "font": {
           "color": "#f2f5fa"
          },
          "geo": {
           "bgcolor": "rgb(17,17,17)",
           "lakecolor": "rgb(17,17,17)",
           "landcolor": "rgb(17,17,17)",
           "showlakes": true,
           "showland": true,
           "subunitcolor": "#506784"
          },
          "hoverlabel": {
           "align": "left"
          },
          "hovermode": "closest",
          "mapbox": {
           "style": "dark"
          },
          "paper_bgcolor": "rgb(17,17,17)",
          "plot_bgcolor": "rgb(17,17,17)",
          "polar": {
           "angularaxis": {
            "gridcolor": "#506784",
            "linecolor": "#506784",
            "ticks": ""
           },
           "bgcolor": "rgb(17,17,17)",
           "radialaxis": {
            "gridcolor": "#506784",
            "linecolor": "#506784",
            "ticks": ""
           }
          },
          "scene": {
           "xaxis": {
            "backgroundcolor": "rgb(17,17,17)",
            "gridcolor": "#506784",
            "gridwidth": 2,
            "linecolor": "#506784",
            "showbackground": true,
            "ticks": "",
            "zerolinecolor": "#C8D4E3"
           },
           "yaxis": {
            "backgroundcolor": "rgb(17,17,17)",
            "gridcolor": "#506784",
            "gridwidth": 2,
            "linecolor": "#506784",
            "showbackground": true,
            "ticks": "",
            "zerolinecolor": "#C8D4E3"
           },
           "zaxis": {
            "backgroundcolor": "rgb(17,17,17)",
            "gridcolor": "#506784",
            "gridwidth": 2,
            "linecolor": "#506784",
            "showbackground": true,
            "ticks": "",
            "zerolinecolor": "#C8D4E3"
           }
          },
          "shapedefaults": {
           "line": {
            "color": "#f2f5fa"
           }
          },
          "sliderdefaults": {
           "bgcolor": "#C8D4E3",
           "bordercolor": "rgb(17,17,17)",
           "borderwidth": 1,
           "tickwidth": 0
          },
          "ternary": {
           "aaxis": {
            "gridcolor": "#506784",
            "linecolor": "#506784",
            "ticks": ""
           },
           "baxis": {
            "gridcolor": "#506784",
            "linecolor": "#506784",
            "ticks": ""
           },
           "bgcolor": "rgb(17,17,17)",
           "caxis": {
            "gridcolor": "#506784",
            "linecolor": "#506784",
            "ticks": ""
           }
          },
          "title": {
           "x": 0.05
          },
          "updatemenudefaults": {
           "bgcolor": "#506784",
           "borderwidth": 0
          },
          "xaxis": {
           "automargin": true,
           "gridcolor": "#283442",
           "linecolor": "#506784",
           "ticks": "",
           "title": {
            "standoff": 15
           },
           "zerolinecolor": "#283442",
           "zerolinewidth": 2
          },
          "yaxis": {
           "automargin": true,
           "gridcolor": "#283442",
           "linecolor": "#506784",
           "ticks": "",
           "title": {
            "standoff": 15
           },
           "zerolinecolor": "#283442",
           "zerolinewidth": 2
          }
         }
        },
        "updatemenus": [
         {
          "buttons": [
           {
            "args": [
             null,
             {
              "frame": {
               "duration": 500,
               "redraw": false
              },
              "fromcurrent": true,
              "mode": "immediate",
              "transition": {
               "duration": 500,
               "easing": "linear"
              }
             }
            ],
            "label": "&#9654;",
            "method": "animate"
           },
           {
            "args": [
             [
              null
             ],
             {
              "frame": {
               "duration": 0,
               "redraw": false
              },
              "fromcurrent": true,
              "mode": "immediate",
              "transition": {
               "duration": 0,
               "easing": "linear"
              }
             }
            ],
            "label": "&#9724;",
            "method": "animate"
           }
          ],
          "direction": "left",
          "pad": {
           "r": 10,
           "t": 70
          },
          "showactive": false,
          "type": "buttons",
          "x": 0.1,
          "xanchor": "right",
          "y": 0,
          "yanchor": "top"
         }
        ],
        "xaxis": {
         "anchor": "y",
         "domain": [
          0,
          1
         ],
         "title": {
          "text": "value"
         }
        },
        "yaxis": {
         "anchor": "x",
         "domain": [
          0,
          1
         ],
         "title": {
          "text": "Industry"
         }
        }
       }
      },
      "text/html": [
       "<div>\n",
       "        \n",
       "        \n",
       "            <div id=\"09b30ac2-e409-4e1c-b97f-bfe3014420c6\" class=\"plotly-graph-div\" style=\"height:525px; width:100%;\"></div>\n",
       "            <script type=\"text/javascript\">\n",
       "                require([\"plotly\"], function(Plotly) {\n",
       "                    window.PLOTLYENV=window.PLOTLYENV || {};\n",
       "                    \n",
       "                if (document.getElementById(\"09b30ac2-e409-4e1c-b97f-bfe3014420c6\")) {\n",
       "                    Plotly.newPlot(\n",
       "                        '09b30ac2-e409-4e1c-b97f-bfe3014420c6',\n",
       "                        [{\"hovertemplate\": \"variable=2009<br>value=%{marker.color}<br>Industry=%{y}<extra></extra>\", \"ids\": [37700, 156700, 96600, 345400, 27800, 33800, 13500, 144800, 415600, 64200], \"legendgroup\": \"\", \"marker\": {\"color\": [37700, 156700, 96600, 345400, 27800, 33800, 13500, 144800, 415600, 64200], \"coloraxis\": \"coloraxis\", \"size\": [37700, 156700, 96600, 345400, 27800, 33800, 13500, 144800, 415600, 64200], \"sizemode\": \"area\", \"sizeref\": 173.96, \"symbol\": \"circle\"}, \"mode\": \"markers\", \"name\": \"\", \"showlegend\": false, \"type\": \"scatter\", \"x\": [37700, 156700, 96600, 345400, 27800, 33800, 13500, 144800, 415600, 64200], \"xaxis\": \"x\", \"y\": [\"Agriculture\", \"Production \", \"Construction \", \"Retail\", \"ICT\", \"Finance\", \"Real_Estate\", \"Professional_Service\", \"Public_Adminstration\", \"Other_Service\"], \"yaxis\": \"y\"}],\n",
       "                        {\"coloraxis\": {\"colorbar\": {\"title\": {\"text\": \"value\"}}, \"colorscale\": [[0.0, \"#0d0887\"], [0.1111111111111111, \"#46039f\"], [0.2222222222222222, \"#7201a8\"], [0.3333333333333333, \"#9c179e\"], [0.4444444444444444, \"#bd3786\"], [0.5555555555555556, \"#d8576b\"], [0.6666666666666666, \"#ed7953\"], [0.7777777777777778, \"#fb9f3a\"], [0.8888888888888888, \"#fdca26\"], [1.0, \"#f0f921\"]]}, \"legend\": {\"itemsizing\": \"constant\", \"tracegroupgap\": 0}, \"margin\": {\"t\": 60}, \"sliders\": [{\"active\": 0, \"currentvalue\": {\"prefix\": \"variable=\"}, \"len\": 0.9, \"pad\": {\"b\": 10, \"t\": 60}, \"steps\": [{\"args\": [[\"2009\"], {\"frame\": {\"duration\": 0, \"redraw\": false}, \"fromcurrent\": true, \"mode\": \"immediate\", \"transition\": {\"duration\": 0, \"easing\": \"linear\"}}], \"label\": \"2009\", \"method\": \"animate\"}, {\"args\": [[\"2010\"], {\"frame\": {\"duration\": 0, \"redraw\": false}, \"fromcurrent\": true, \"mode\": \"immediate\", \"transition\": {\"duration\": 0, \"easing\": \"linear\"}}], \"label\": \"2010\", \"method\": \"animate\"}, {\"args\": [[\"2011\"], {\"frame\": {\"duration\": 0, \"redraw\": false}, \"fromcurrent\": true, \"mode\": \"immediate\", \"transition\": {\"duration\": 0, \"easing\": \"linear\"}}], \"label\": \"2011\", \"method\": \"animate\"}, {\"args\": [[\"2012\"], {\"frame\": {\"duration\": 0, \"redraw\": false}, \"fromcurrent\": true, \"mode\": \"immediate\", \"transition\": {\"duration\": 0, \"easing\": \"linear\"}}], \"label\": \"2012\", \"method\": \"animate\"}, {\"args\": [[\"2013\"], {\"frame\": {\"duration\": 0, \"redraw\": false}, \"fromcurrent\": true, \"mode\": \"immediate\", \"transition\": {\"duration\": 0, \"easing\": \"linear\"}}], \"label\": \"2013\", \"method\": \"animate\"}, {\"args\": [[\"2014\"], {\"frame\": {\"duration\": 0, \"redraw\": false}, \"fromcurrent\": true, \"mode\": \"immediate\", \"transition\": {\"duration\": 0, \"easing\": \"linear\"}}], \"label\": \"2014\", \"method\": \"animate\"}, {\"args\": [[\"2015\"], {\"frame\": {\"duration\": 0, \"redraw\": false}, \"fromcurrent\": true, \"mode\": \"immediate\", \"transition\": {\"duration\": 0, \"easing\": \"linear\"}}], \"label\": \"2015\", \"method\": \"animate\"}, {\"args\": [[\"2016\"], {\"frame\": {\"duration\": 0, \"redraw\": false}, \"fromcurrent\": true, \"mode\": \"immediate\", \"transition\": {\"duration\": 0, \"easing\": \"linear\"}}], \"label\": \"2016\", \"method\": \"animate\"}, {\"args\": [[\"2017\"], {\"frame\": {\"duration\": 0, \"redraw\": false}, \"fromcurrent\": true, \"mode\": \"immediate\", \"transition\": {\"duration\": 0, \"easing\": \"linear\"}}], \"label\": \"2017\", \"method\": \"animate\"}, {\"args\": [[\"2018\"], {\"frame\": {\"duration\": 0, \"redraw\": false}, \"fromcurrent\": true, \"mode\": \"immediate\", \"transition\": {\"duration\": 0, \"easing\": \"linear\"}}], \"label\": \"2018\", \"method\": \"animate\"}], \"x\": 0.1, \"xanchor\": \"left\", \"y\": 0, \"yanchor\": \"top\"}], \"template\": {\"data\": {\"bar\": [{\"error_x\": {\"color\": \"#f2f5fa\"}, \"error_y\": {\"color\": \"#f2f5fa\"}, \"marker\": {\"line\": {\"color\": \"rgb(17,17,17)\", \"width\": 0.5}}, \"type\": \"bar\"}], \"barpolar\": [{\"marker\": {\"line\": {\"color\": \"rgb(17,17,17)\", \"width\": 0.5}}, \"type\": \"barpolar\"}], \"carpet\": [{\"aaxis\": {\"endlinecolor\": \"#A2B1C6\", \"gridcolor\": \"#506784\", \"linecolor\": \"#506784\", \"minorgridcolor\": \"#506784\", \"startlinecolor\": \"#A2B1C6\"}, \"baxis\": {\"endlinecolor\": \"#A2B1C6\", \"gridcolor\": \"#506784\", \"linecolor\": \"#506784\", \"minorgridcolor\": \"#506784\", \"startlinecolor\": \"#A2B1C6\"}, \"type\": \"carpet\"}], \"choropleth\": [{\"colorbar\": {\"outlinewidth\": 0, \"ticks\": \"\"}, \"type\": \"choropleth\"}], \"contour\": [{\"colorbar\": {\"outlinewidth\": 0, \"ticks\": \"\"}, \"colorscale\": [[0.0, \"#0d0887\"], [0.1111111111111111, \"#46039f\"], [0.2222222222222222, \"#7201a8\"], [0.3333333333333333, \"#9c179e\"], [0.4444444444444444, \"#bd3786\"], [0.5555555555555556, \"#d8576b\"], [0.6666666666666666, \"#ed7953\"], [0.7777777777777778, \"#fb9f3a\"], [0.8888888888888888, \"#fdca26\"], [1.0, \"#f0f921\"]], \"type\": \"contour\"}], \"contourcarpet\": [{\"colorbar\": {\"outlinewidth\": 0, \"ticks\": \"\"}, \"type\": \"contourcarpet\"}], \"heatmap\": [{\"colorbar\": {\"outlinewidth\": 0, \"ticks\": \"\"}, \"colorscale\": [[0.0, \"#0d0887\"], [0.1111111111111111, \"#46039f\"], [0.2222222222222222, \"#7201a8\"], [0.3333333333333333, \"#9c179e\"], [0.4444444444444444, \"#bd3786\"], [0.5555555555555556, \"#d8576b\"], [0.6666666666666666, \"#ed7953\"], [0.7777777777777778, \"#fb9f3a\"], [0.8888888888888888, \"#fdca26\"], [1.0, \"#f0f921\"]], \"type\": \"heatmap\"}], \"heatmapgl\": [{\"colorbar\": {\"outlinewidth\": 0, \"ticks\": \"\"}, \"colorscale\": [[0.0, \"#0d0887\"], [0.1111111111111111, \"#46039f\"], [0.2222222222222222, \"#7201a8\"], [0.3333333333333333, \"#9c179e\"], [0.4444444444444444, \"#bd3786\"], [0.5555555555555556, \"#d8576b\"], [0.6666666666666666, \"#ed7953\"], [0.7777777777777778, \"#fb9f3a\"], [0.8888888888888888, \"#fdca26\"], [1.0, \"#f0f921\"]], \"type\": \"heatmapgl\"}], \"histogram\": [{\"marker\": {\"colorbar\": {\"outlinewidth\": 0, \"ticks\": \"\"}}, \"type\": \"histogram\"}], \"histogram2d\": [{\"colorbar\": {\"outlinewidth\": 0, \"ticks\": \"\"}, \"colorscale\": [[0.0, \"#0d0887\"], [0.1111111111111111, \"#46039f\"], [0.2222222222222222, \"#7201a8\"], [0.3333333333333333, \"#9c179e\"], [0.4444444444444444, \"#bd3786\"], [0.5555555555555556, \"#d8576b\"], [0.6666666666666666, \"#ed7953\"], [0.7777777777777778, \"#fb9f3a\"], [0.8888888888888888, \"#fdca26\"], [1.0, \"#f0f921\"]], \"type\": \"histogram2d\"}], \"histogram2dcontour\": [{\"colorbar\": {\"outlinewidth\": 0, \"ticks\": \"\"}, \"colorscale\": [[0.0, \"#0d0887\"], [0.1111111111111111, \"#46039f\"], [0.2222222222222222, \"#7201a8\"], [0.3333333333333333, \"#9c179e\"], [0.4444444444444444, \"#bd3786\"], [0.5555555555555556, \"#d8576b\"], [0.6666666666666666, \"#ed7953\"], [0.7777777777777778, \"#fb9f3a\"], [0.8888888888888888, \"#fdca26\"], [1.0, \"#f0f921\"]], \"type\": \"histogram2dcontour\"}], \"mesh3d\": [{\"colorbar\": {\"outlinewidth\": 0, \"ticks\": \"\"}, \"type\": \"mesh3d\"}], \"parcoords\": [{\"line\": {\"colorbar\": {\"outlinewidth\": 0, \"ticks\": \"\"}}, \"type\": \"parcoords\"}], \"pie\": [{\"automargin\": true, \"type\": \"pie\"}], \"scatter\": [{\"marker\": {\"line\": {\"color\": \"#283442\"}}, \"type\": \"scatter\"}], \"scatter3d\": [{\"line\": {\"colorbar\": {\"outlinewidth\": 0, \"ticks\": \"\"}}, \"marker\": {\"colorbar\": {\"outlinewidth\": 0, \"ticks\": \"\"}}, \"type\": \"scatter3d\"}], \"scattercarpet\": [{\"marker\": {\"colorbar\": {\"outlinewidth\": 0, \"ticks\": \"\"}}, \"type\": \"scattercarpet\"}], \"scattergeo\": [{\"marker\": {\"colorbar\": {\"outlinewidth\": 0, \"ticks\": \"\"}}, \"type\": \"scattergeo\"}], \"scattergl\": [{\"marker\": {\"line\": {\"color\": \"#283442\"}}, \"type\": \"scattergl\"}], \"scattermapbox\": [{\"marker\": {\"colorbar\": {\"outlinewidth\": 0, \"ticks\": \"\"}}, \"type\": \"scattermapbox\"}], \"scatterpolar\": [{\"marker\": {\"colorbar\": {\"outlinewidth\": 0, \"ticks\": \"\"}}, \"type\": \"scatterpolar\"}], \"scatterpolargl\": [{\"marker\": {\"colorbar\": {\"outlinewidth\": 0, \"ticks\": \"\"}}, \"type\": \"scatterpolargl\"}], \"scatterternary\": [{\"marker\": {\"colorbar\": {\"outlinewidth\": 0, \"ticks\": \"\"}}, \"type\": \"scatterternary\"}], \"surface\": [{\"colorbar\": {\"outlinewidth\": 0, \"ticks\": \"\"}, \"colorscale\": [[0.0, \"#0d0887\"], [0.1111111111111111, \"#46039f\"], [0.2222222222222222, \"#7201a8\"], [0.3333333333333333, \"#9c179e\"], [0.4444444444444444, \"#bd3786\"], [0.5555555555555556, \"#d8576b\"], [0.6666666666666666, \"#ed7953\"], [0.7777777777777778, \"#fb9f3a\"], [0.8888888888888888, \"#fdca26\"], [1.0, \"#f0f921\"]], \"type\": \"surface\"}], \"table\": [{\"cells\": {\"fill\": {\"color\": \"#506784\"}, \"line\": {\"color\": \"rgb(17,17,17)\"}}, \"header\": {\"fill\": {\"color\": \"#2a3f5f\"}, \"line\": {\"color\": \"rgb(17,17,17)\"}}, \"type\": \"table\"}]}, \"layout\": {\"annotationdefaults\": {\"arrowcolor\": \"#f2f5fa\", \"arrowhead\": 0, \"arrowwidth\": 1}, \"coloraxis\": {\"colorbar\": {\"outlinewidth\": 0, \"ticks\": \"\"}}, \"colorscale\": {\"diverging\": [[0, \"#8e0152\"], [0.1, \"#c51b7d\"], [0.2, \"#de77ae\"], [0.3, \"#f1b6da\"], [0.4, \"#fde0ef\"], [0.5, \"#f7f7f7\"], [0.6, \"#e6f5d0\"], [0.7, \"#b8e186\"], [0.8, \"#7fbc41\"], [0.9, \"#4d9221\"], [1, \"#276419\"]], \"sequential\": [[0.0, \"#0d0887\"], [0.1111111111111111, \"#46039f\"], [0.2222222222222222, \"#7201a8\"], [0.3333333333333333, \"#9c179e\"], [0.4444444444444444, \"#bd3786\"], [0.5555555555555556, \"#d8576b\"], [0.6666666666666666, \"#ed7953\"], [0.7777777777777778, \"#fb9f3a\"], [0.8888888888888888, \"#fdca26\"], [1.0, \"#f0f921\"]], \"sequentialminus\": [[0.0, \"#0d0887\"], [0.1111111111111111, \"#46039f\"], [0.2222222222222222, \"#7201a8\"], [0.3333333333333333, \"#9c179e\"], [0.4444444444444444, \"#bd3786\"], [0.5555555555555556, \"#d8576b\"], [0.6666666666666666, \"#ed7953\"], [0.7777777777777778, \"#fb9f3a\"], [0.8888888888888888, \"#fdca26\"], [1.0, \"#f0f921\"]]}, \"colorway\": [\"#636efa\", \"#EF553B\", \"#00cc96\", \"#ab63fa\", \"#FFA15A\", \"#19d3f3\", \"#FF6692\", \"#B6E880\", \"#FF97FF\", \"#FECB52\"], \"font\": {\"color\": \"#f2f5fa\"}, \"geo\": {\"bgcolor\": \"rgb(17,17,17)\", \"lakecolor\": \"rgb(17,17,17)\", \"landcolor\": \"rgb(17,17,17)\", \"showlakes\": true, \"showland\": true, \"subunitcolor\": \"#506784\"}, \"hoverlabel\": {\"align\": \"left\"}, \"hovermode\": \"closest\", \"mapbox\": {\"style\": \"dark\"}, \"paper_bgcolor\": \"rgb(17,17,17)\", \"plot_bgcolor\": \"rgb(17,17,17)\", \"polar\": {\"angularaxis\": {\"gridcolor\": \"#506784\", \"linecolor\": \"#506784\", \"ticks\": \"\"}, \"bgcolor\": \"rgb(17,17,17)\", \"radialaxis\": {\"gridcolor\": \"#506784\", \"linecolor\": \"#506784\", \"ticks\": \"\"}}, \"scene\": {\"xaxis\": {\"backgroundcolor\": \"rgb(17,17,17)\", \"gridcolor\": \"#506784\", \"gridwidth\": 2, \"linecolor\": \"#506784\", \"showbackground\": true, \"ticks\": \"\", \"zerolinecolor\": \"#C8D4E3\"}, \"yaxis\": {\"backgroundcolor\": \"rgb(17,17,17)\", \"gridcolor\": \"#506784\", \"gridwidth\": 2, \"linecolor\": \"#506784\", \"showbackground\": true, \"ticks\": \"\", \"zerolinecolor\": \"#C8D4E3\"}, \"zaxis\": {\"backgroundcolor\": \"rgb(17,17,17)\", \"gridcolor\": \"#506784\", \"gridwidth\": 2, \"linecolor\": \"#506784\", \"showbackground\": true, \"ticks\": \"\", \"zerolinecolor\": \"#C8D4E3\"}}, \"shapedefaults\": {\"line\": {\"color\": \"#f2f5fa\"}}, \"sliderdefaults\": {\"bgcolor\": \"#C8D4E3\", \"bordercolor\": \"rgb(17,17,17)\", \"borderwidth\": 1, \"tickwidth\": 0}, \"ternary\": {\"aaxis\": {\"gridcolor\": \"#506784\", \"linecolor\": \"#506784\", \"ticks\": \"\"}, \"baxis\": {\"gridcolor\": \"#506784\", \"linecolor\": \"#506784\", \"ticks\": \"\"}, \"bgcolor\": \"rgb(17,17,17)\", \"caxis\": {\"gridcolor\": \"#506784\", \"linecolor\": \"#506784\", \"ticks\": \"\"}}, \"title\": {\"x\": 0.05}, \"updatemenudefaults\": {\"bgcolor\": \"#506784\", \"borderwidth\": 0}, \"xaxis\": {\"automargin\": true, \"gridcolor\": \"#283442\", \"linecolor\": \"#506784\", \"ticks\": \"\", \"title\": {\"standoff\": 15}, \"zerolinecolor\": \"#283442\", \"zerolinewidth\": 2}, \"yaxis\": {\"automargin\": true, \"gridcolor\": \"#283442\", \"linecolor\": \"#506784\", \"ticks\": \"\", \"title\": {\"standoff\": 15}, \"zerolinecolor\": \"#283442\", \"zerolinewidth\": 2}}}, \"updatemenus\": [{\"buttons\": [{\"args\": [null, {\"frame\": {\"duration\": 500, \"redraw\": false}, \"fromcurrent\": true, \"mode\": \"immediate\", \"transition\": {\"duration\": 500, \"easing\": \"linear\"}}], \"label\": \"&#9654;\", \"method\": \"animate\"}, {\"args\": [[null], {\"frame\": {\"duration\": 0, \"redraw\": false}, \"fromcurrent\": true, \"mode\": \"immediate\", \"transition\": {\"duration\": 0, \"easing\": \"linear\"}}], \"label\": \"&#9724;\", \"method\": \"animate\"}], \"direction\": \"left\", \"pad\": {\"r\": 10, \"t\": 70}, \"showactive\": false, \"type\": \"buttons\", \"x\": 0.1, \"xanchor\": \"right\", \"y\": 0, \"yanchor\": \"top\"}], \"xaxis\": {\"anchor\": \"y\", \"domain\": [0.0, 1.0], \"title\": {\"text\": \"value\"}}, \"yaxis\": {\"anchor\": \"x\", \"domain\": [0.0, 1.0], \"title\": {\"text\": \"Industry\"}}},\n",
       "                        {\"responsive\": true}\n",
       "                    ).then(function(){\n",
       "                            Plotly.addFrames('09b30ac2-e409-4e1c-b97f-bfe3014420c6', [{\"data\": [{\"hovertemplate\": \"variable=2009<br>value=%{marker.color}<br>Industry=%{y}<extra></extra>\", \"ids\": [37700, 156700, 96600, 345400, 27800, 33800, 13500, 144800, 415600, 64200], \"legendgroup\": \"\", \"marker\": {\"color\": [37700, 156700, 96600, 345400, 27800, 33800, 13500, 144800, 415600, 64200], \"coloraxis\": \"coloraxis\", \"size\": [37700, 156700, 96600, 345400, 27800, 33800, 13500, 144800, 415600, 64200], \"sizemode\": \"area\", \"sizeref\": 173.96, \"symbol\": \"circle\"}, \"mode\": \"markers\", \"name\": \"\", \"showlegend\": false, \"x\": [37700, 156700, 96600, 345400, 27800, 33800, 13500, 144800, 415600, 64200], \"xaxis\": \"x\", \"y\": [\"Agriculture\", \"Production \", \"Construction \", \"Retail\", \"ICT\", \"Finance\", \"Real_Estate\", \"Professional_Service\", \"Public_Adminstration\", \"Other_Service\"], \"yaxis\": \"y\", \"type\": \"scatter\"}], \"name\": \"2009\"}, {\"data\": [{\"hovertemplate\": \"variable=2010<br>value=%{marker.color}<br>Industry=%{y}<extra></extra>\", \"ids\": [38200, 149800, 93200, 344500, 27900, 29800, 14600, 145800, 418600, 68000], \"legendgroup\": \"\", \"marker\": {\"color\": [38200, 149800, 93200, 344500, 27900, 29800, 14600, 145800, 418600, 68000], \"coloraxis\": \"coloraxis\", \"size\": [38200, 149800, 93200, 344500, 27900, 29800, 14600, 145800, 418600, 68000], \"sizemode\": \"area\", \"sizeref\": 173.96, \"symbol\": \"circle\"}, \"mode\": \"markers\", \"name\": \"\", \"showlegend\": false, \"x\": [38200, 149800, 93200, 344500, 27900, 29800, 14600, 145800, 418600, 68000], \"xaxis\": \"x\", \"y\": [\"Agriculture\", \"Production \", \"Construction \", \"Retail\", \"ICT\", \"Finance\", \"Real_Estate\", \"Professional_Service\", \"Public_Adminstration\", \"Other_Service\"], \"yaxis\": \"y\", \"type\": \"scatter\"}], \"name\": \"2010\"}, {\"data\": [{\"hovertemplate\": \"variable=2011<br>value=%{marker.color}<br>Industry=%{y}<extra></extra>\", \"ids\": [36100, 158600, 90000, 343100, 26400, 33200, 17600, 143600, 425600, 72400], \"legendgroup\": \"\", \"marker\": {\"color\": [36100, 158600, 90000, 343100, 26400, 33200, 17600, 143600, 425600, 72400], \"coloraxis\": \"coloraxis\", \"size\": [36100, 158600, 90000, 343100, 26400, 33200, 17600, 143600, 425600, 72400], \"sizemode\": \"area\", \"sizeref\": 173.96, \"symbol\": \"circle\"}, \"mode\": \"markers\", \"name\": \"\", \"showlegend\": false, \"x\": [36100, 158600, 90000, 343100, 26400, 33200, 17600, 143600, 425600, 72400], \"xaxis\": \"x\", \"y\": [\"Agriculture\", \"Production \", \"Construction \", \"Retail\", \"ICT\", \"Finance\", \"Real_Estate\", \"Professional_Service\", \"Public_Adminstration\", \"Other_Service\"], \"yaxis\": \"y\", \"type\": \"scatter\"}], \"name\": \"2011\"}, {\"data\": [{\"hovertemplate\": \"variable=2012<br>value=%{marker.color}<br>Industry=%{y}<extra></extra>\", \"ids\": [36100, 154400, 91300, 347300, 27200, 31100, 18800, 137300, 421000, 72800], \"legendgroup\": \"\", \"marker\": {\"color\": [36100, 154400, 91300, 347300, 27200, 31100, 18800, 137300, 421000, 72800], \"coloraxis\": \"coloraxis\", \"size\": [36100, 154400, 91300, 347300, 27200, 31100, 18800, 137300, 421000, 72800], \"sizemode\": \"area\", \"sizeref\": 173.96, \"symbol\": \"circle\"}, \"mode\": \"markers\", \"name\": \"\", \"showlegend\": false, \"x\": [36100, 154400, 91300, 347300, 27200, 31100, 18800, 137300, 421000, 72800], \"xaxis\": \"x\", \"y\": [\"Agriculture\", \"Production \", \"Construction \", \"Retail\", \"ICT\", \"Finance\", \"Real_Estate\", \"Professional_Service\", \"Public_Adminstration\", \"Other_Service\"], \"yaxis\": \"y\", \"type\": \"scatter\"}], \"name\": \"2012\"}, {\"data\": [{\"hovertemplate\": \"variable=2013<br>value=%{marker.color}<br>Industry=%{y}<extra></extra>\", \"ids\": [36800, 164200, 89300, 345100, 26900, 32400, 18000, 149900, 427000, 75500], \"legendgroup\": \"\", \"marker\": {\"color\": [36800, 164200, 89300, 345100, 26900, 32400, 18000, 149900, 427000, 75500], \"coloraxis\": \"coloraxis\", \"size\": [36800, 164200, 89300, 345100, 26900, 32400, 18000, 149900, 427000, 75500], \"sizemode\": \"area\", \"sizeref\": 173.96, \"symbol\": \"circle\"}, \"mode\": \"markers\", \"name\": \"\", \"showlegend\": false, \"x\": [36800, 164200, 89300, 345100, 26900, 32400, 18000, 149900, 427000, 75500], \"xaxis\": \"x\", \"y\": [\"Agriculture\", \"Production \", \"Construction \", \"Retail\", \"ICT\", \"Finance\", \"Real_Estate\", \"Professional_Service\", \"Public_Adminstration\", \"Other_Service\"], \"yaxis\": \"y\", \"type\": \"scatter\"}], \"name\": \"2013\"}, {\"data\": [{\"hovertemplate\": \"variable=2014<br>value=%{marker.color}<br>Industry=%{y}<extra></extra>\", \"ids\": [42700, 173300, 97000, 337300, 35700, 32400, 22200, 152900, 427600, 73300], \"legendgroup\": \"\", \"marker\": {\"color\": [42700, 173300, 97000, 337300, 35700, 32400, 22200, 152900, 427600, 73300], \"coloraxis\": \"coloraxis\", \"size\": [42700, 173300, 97000, 337300, 35700, 32400, 22200, 152900, 427600, 73300], \"sizemode\": \"area\", \"sizeref\": 173.96, \"symbol\": \"circle\"}, \"mode\": \"markers\", \"name\": \"\", \"showlegend\": false, \"x\": [42700, 173300, 97000, 337300, 35700, 32400, 22200, 152900, 427600, 73300], \"xaxis\": \"x\", \"y\": [\"Agriculture\", \"Production \", \"Construction \", \"Retail\", \"ICT\", \"Finance\", \"Real_Estate\", \"Professional_Service\", \"Public_Adminstration\", \"Other_Service\"], \"yaxis\": \"y\", \"type\": \"scatter\"}], \"name\": \"2014\"}, {\"data\": [{\"hovertemplate\": \"variable=2015<br>value=%{marker.color}<br>Industry=%{y}<extra></extra>\", \"ids\": [40700, 172300, 92600, 357700, 24000, 30800, 19100, 166200, 423200, 77200], \"legendgroup\": \"\", \"marker\": {\"color\": [40700, 172300, 92600, 357700, 24000, 30800, 19100, 166200, 423200, 77200], \"coloraxis\": \"coloraxis\", \"size\": [40700, 172300, 92600, 357700, 24000, 30800, 19100, 166200, 423200, 77200], \"sizemode\": \"area\", \"sizeref\": 173.96, \"symbol\": \"circle\"}, \"mode\": \"markers\", \"name\": \"\", \"showlegend\": false, \"x\": [40700, 172300, 92600, 357700, 24000, 30800, 19100, 166200, 423200, 77200], \"xaxis\": \"x\", \"y\": [\"Agriculture\", \"Production \", \"Construction \", \"Retail\", \"ICT\", \"Finance\", \"Real_Estate\", \"Professional_Service\", \"Public_Adminstration\", \"Other_Service\"], \"yaxis\": \"y\", \"type\": \"scatter\"}], \"name\": \"2015\"}, {\"data\": [{\"hovertemplate\": \"variable=2016<br>value=%{marker.color}<br>Industry=%{y}<extra></extra>\", \"ids\": [43200, 162500, 102700, 360200, 34400, 31000, 22700, 161200, 418500, 72400], \"legendgroup\": \"\", \"marker\": {\"color\": [43200, 162500, 102700, 360200, 34400, 31000, 22700, 161200, 418500, 72400], \"coloraxis\": \"coloraxis\", \"size\": [43200, 162500, 102700, 360200, 34400, 31000, 22700, 161200, 418500, 72400], \"sizemode\": \"area\", \"sizeref\": 173.96, \"symbol\": \"circle\"}, \"mode\": \"markers\", \"name\": \"\", \"showlegend\": false, \"x\": [43200, 162500, 102700, 360200, 34400, 31000, 22700, 161200, 418500, 72400], \"xaxis\": \"x\", \"y\": [\"Agriculture\", \"Production \", \"Construction \", \"Retail\", \"ICT\", \"Finance\", \"Real_Estate\", \"Professional_Service\", \"Public_Adminstration\", \"Other_Service\"], \"yaxis\": \"y\", \"type\": \"scatter\"}], \"name\": \"2016\"}, {\"data\": [{\"hovertemplate\": \"variable=2017<br>value=%{marker.color}<br>Industry=%{y}<extra></extra>\", \"ids\": [40200, 165100, 90800, 333500, 58900, 32100, 18200, 176400, 424500, 83200], \"legendgroup\": \"\", \"marker\": {\"color\": [40200, 165100, 90800, 333500, 58900, 32100, 18200, 176400, 424500, 83200], \"coloraxis\": \"coloraxis\", \"size\": [40200, 165100, 90800, 333500, 58900, 32100, 18200, 176400, 424500, 83200], \"sizemode\": \"area\", \"sizeref\": 173.96, \"symbol\": \"circle\"}, \"mode\": \"markers\", \"name\": \"\", \"showlegend\": false, \"x\": [40200, 165100, 90800, 333500, 58900, 32100, 18200, 176400, 424500, 83200], \"xaxis\": \"x\", \"y\": [\"Agriculture\", \"Production \", \"Construction \", \"Retail\", \"ICT\", \"Finance\", \"Real_Estate\", \"Professional_Service\", \"Public_Adminstration\", \"Other_Service\"], \"yaxis\": \"y\", \"type\": \"scatter\"}], \"name\": \"2017\"}, {\"data\": [{\"hovertemplate\": \"variable=2018<br>value=%{marker.color}<br>Industry=%{y}<extra></extra>\", \"ids\": [41100, 165700, 101800, 347600, 31500, 35500, 25200, 187100, 434900, 81800], \"legendgroup\": \"\", \"marker\": {\"color\": [41100, 165700, 101800, 347600, 31500, 35500, 25200, 187100, 434900, 81800], \"coloraxis\": \"coloraxis\", \"size\": [41100, 165700, 101800, 347600, 31500, 35500, 25200, 187100, 434900, 81800], \"sizemode\": \"area\", \"sizeref\": 173.96, \"symbol\": \"circle\"}, \"mode\": \"markers\", \"name\": \"\", \"showlegend\": false, \"x\": [41100, 165700, 101800, 347600, 31500, 35500, 25200, 187100, 434900, 81800], \"xaxis\": \"x\", \"y\": [\"Agriculture\", \"Production \", \"Construction \", \"Retail\", \"ICT\", \"Finance\", \"Real_Estate\", \"Professional_Service\", \"Public_Adminstration\", \"Other_Service\"], \"yaxis\": \"y\", \"type\": \"scatter\"}], \"name\": \"2018\"}]);\n",
       "                        }).then(function(){\n",
       "                            \n",
       "var gd = document.getElementById('09b30ac2-e409-4e1c-b97f-bfe3014420c6');\n",
       "var x = new MutationObserver(function (mutations, observer) {{\n",
       "        var display = window.getComputedStyle(gd).display;\n",
       "        if (!display || display === 'none') {{\n",
       "            console.log([gd, 'removed!']);\n",
       "            Plotly.purge(gd);\n",
       "            observer.disconnect();\n",
       "        }}\n",
       "}});\n",
       "\n",
       "// Listen for the removal of the full notebook cells\n",
       "var notebookContainer = gd.closest('#notebook-container');\n",
       "if (notebookContainer) {{\n",
       "    x.observe(notebookContainer, {childList: true});\n",
       "}}\n",
       "\n",
       "// Listen for the clearing of the current output cell\n",
       "var outputEl = gd.closest('.output');\n",
       "if (outputEl) {{\n",
       "    x.observe(outputEl, {childList: true});\n",
       "}}\n",
       "\n",
       "                        })\n",
       "                };\n",
       "                });\n",
       "            </script>\n",
       "        </div>"
      ]
     },
     "metadata": {},
     "output_type": "display_data"
    }
   ],
   "source": [
    "years= ['2009', '2010', '2011', '2012', '2013', '2014', '2015', '2016', '2017',\n",
    "       '2018']\n",
    "\n",
    "industry=['Agriculture', 'Construction ', 'Finance', 'ICT', 'Other_Service',\n",
    "       'Production ', 'Professional_Service', 'Public_Adminstration',\n",
    "       'Real_Estate', 'Retail'] \n",
    "\n",
    "wales = df.drop(columns = 'calculated_sum')\n",
    "wales['Industry'] = wales.Industry\n",
    "wales= pd.melt(wales, id_vars = ['Industry'])\n",
    "\n",
    "import plotly.express as px\n",
    "import plotly.io as pio\n",
    "pio.templates.default = \"plotly_white\"\n",
    "for template in [\"plotly\", \"plotly_white\", \"plotly_dark\", \"ggplot2\",\n",
    "                 \"seaborn\", \"simple_white\", \"none\"]:\n",
    "    fig.update_layout(template=template)\n",
    "fig = px.scatter(wales,x = 'value', y = 'Industry', animation_frame=\"variable\",color='value',\n",
    "                 animation_group=\"value\",size ='value',\n",
    "                 size_max=50,color_discrete_map={ \"Male\": \"RebeccaPurple\", \"Female\": \"MediumPurple\"},\n",
    "                 template=\"plotly_dark\")\n",
    "fig.show()\n"
   ]
  },
  {
   "cell_type": "markdown",
   "metadata": {},
   "source": [
    " - By using plotly_express a scatter plot diagram has been developed based on the number of employees from each industry. If a dataset consists of similar values in these situations, scatter diagrams are very helpful.Surprisingly, it can be easily determined that the values or numbers of employees from each industry are not that relative enough. Similar values always represent a congested scatter diagram. Based on the movement of each plot, movement of employment has been shown. "
   ]
  },
  {
   "cell_type": "markdown",
   "metadata": {},
   "source": [
    "## 4.\tPCA/Correlation \n",
    "\n",
    "#### 4.1.\tUndertake a PCA (PC=2; columns should be like PC1, PC2, Industry) and produce a scatter plot.  Write your interpretation about the plot and in relation to the analysis of section 2 & 3 (for example which industries are correlated over the years as well as in PCA etc.)"
   ]
  },
  {
   "cell_type": "markdown",
   "metadata": {},
   "source": [
    "PCA will find optimal number of components which capture the greatest amount of variance in the data."
   ]
  },
  {
   "cell_type": "code",
   "execution_count": 20,
   "metadata": {},
   "outputs": [],
   "source": [
    "df_pca=df.drop([\"Industry\",\"calculated_sum\"],axis=1)\n",
    "pca = decomposition.PCA(n_components=2,)\n",
    "pca.fit(df_pca)\n",
    "pca_overall=pca.fit_transform(df_pca)"
   ]
  },
  {
   "cell_type": "code",
   "execution_count": 21,
   "metadata": {},
   "outputs": [
    {
     "data": {
      "text/plain": [
       "array([[-312091.23452942,   -8151.21941986],\n",
       "       [  76819.89713599,     912.46986192],\n",
       "       [-137358.5225766 ,   -8786.80389798],\n",
       "       [ 658534.19842893,  -15872.69085371],\n",
       "       [-335201.17163604,   10284.0003331 ],\n",
       "       [-334432.78607384,  -10293.85962173],\n",
       "       [-376204.46340431,   -7409.96075726],\n",
       "       [  58629.49303694,   33479.53406698],\n",
       "       [ 903354.93466336,    2773.17367459],\n",
       "       [-202050.34504502,    3065.35661394]])"
      ]
     },
     "execution_count": 21,
     "metadata": {},
     "output_type": "execute_result"
    }
   ],
   "source": [
    "pca_overall"
   ]
  },
  {
   "cell_type": "markdown",
   "metadata": {},
   "source": [
    "- shows that the first three components explain the majority of the variance in our data. For this visualization use case, we will quickly plot just the first two. We do this to notice if there are any clear clusters."
   ]
  },
  {
   "cell_type": "code",
   "execution_count": 22,
   "metadata": {},
   "outputs": [
    {
     "data": {
      "text/html": [
       "<div>\n",
       "<style scoped>\n",
       "    .dataframe tbody tr th:only-of-type {\n",
       "        vertical-align: middle;\n",
       "    }\n",
       "\n",
       "    .dataframe tbody tr th {\n",
       "        vertical-align: top;\n",
       "    }\n",
       "\n",
       "    .dataframe thead th {\n",
       "        text-align: right;\n",
       "    }\n",
       "</style>\n",
       "<table border=\"1\" class=\"dataframe\">\n",
       "  <thead>\n",
       "    <tr style=\"text-align: right;\">\n",
       "      <th></th>\n",
       "      <th>PC1</th>\n",
       "      <th>PC2</th>\n",
       "      <th>Industry</th>\n",
       "    </tr>\n",
       "  </thead>\n",
       "  <tbody>\n",
       "    <tr>\n",
       "      <th>1</th>\n",
       "      <td>-312091.234529</td>\n",
       "      <td>-8151.219420</td>\n",
       "      <td>Agriculture</td>\n",
       "    </tr>\n",
       "    <tr>\n",
       "      <th>2</th>\n",
       "      <td>76819.897136</td>\n",
       "      <td>912.469862</td>\n",
       "      <td>Production</td>\n",
       "    </tr>\n",
       "    <tr>\n",
       "      <th>3</th>\n",
       "      <td>-137358.522577</td>\n",
       "      <td>-8786.803898</td>\n",
       "      <td>Construction</td>\n",
       "    </tr>\n",
       "    <tr>\n",
       "      <th>4</th>\n",
       "      <td>658534.198429</td>\n",
       "      <td>-15872.690854</td>\n",
       "      <td>Retail</td>\n",
       "    </tr>\n",
       "    <tr>\n",
       "      <th>5</th>\n",
       "      <td>-335201.171636</td>\n",
       "      <td>10284.000333</td>\n",
       "      <td>ICT</td>\n",
       "    </tr>\n",
       "    <tr>\n",
       "      <th>6</th>\n",
       "      <td>-334432.786074</td>\n",
       "      <td>-10293.859622</td>\n",
       "      <td>Finance</td>\n",
       "    </tr>\n",
       "    <tr>\n",
       "      <th>7</th>\n",
       "      <td>-376204.463404</td>\n",
       "      <td>-7409.960757</td>\n",
       "      <td>Real_Estate</td>\n",
       "    </tr>\n",
       "    <tr>\n",
       "      <th>8</th>\n",
       "      <td>58629.493037</td>\n",
       "      <td>33479.534067</td>\n",
       "      <td>Professional_Service</td>\n",
       "    </tr>\n",
       "    <tr>\n",
       "      <th>9</th>\n",
       "      <td>903354.934663</td>\n",
       "      <td>2773.173675</td>\n",
       "      <td>Public_Adminstration</td>\n",
       "    </tr>\n",
       "    <tr>\n",
       "      <th>10</th>\n",
       "      <td>-202050.345045</td>\n",
       "      <td>3065.356614</td>\n",
       "      <td>Other_Service</td>\n",
       "    </tr>\n",
       "  </tbody>\n",
       "</table>\n",
       "</div>"
      ],
      "text/plain": [
       "              PC1           PC2              Industry\n",
       "1  -312091.234529  -8151.219420           Agriculture\n",
       "2    76819.897136    912.469862           Production \n",
       "3  -137358.522577  -8786.803898         Construction \n",
       "4   658534.198429 -15872.690854                Retail\n",
       "5  -335201.171636  10284.000333                   ICT\n",
       "6  -334432.786074 -10293.859622               Finance\n",
       "7  -376204.463404  -7409.960757           Real_Estate\n",
       "8    58629.493037  33479.534067  Professional_Service\n",
       "9   903354.934663   2773.173675  Public_Adminstration\n",
       "10 -202050.345045   3065.356614         Other_Service"
      ]
     },
     "execution_count": 22,
     "metadata": {},
     "output_type": "execute_result"
    }
   ],
   "source": [
    "pca_overall= pd.DataFrame(data = pca_overall,columns = ['PC1', 'PC2'])\n",
    "pca_overall.index += 1\n",
    "pca_overall['Industry'] = df['Industry']\n",
    "pca_overall"
   ]
  },
  {
   "cell_type": "code",
   "execution_count": 23,
   "metadata": {},
   "outputs": [
    {
     "data": {
      "text/plain": [
       "<matplotlib.axes._subplots.AxesSubplot at 0x23e69504a30>"
      ]
     },
     "execution_count": 23,
     "metadata": {},
     "output_type": "execute_result"
    },
    {
     "data": {
      "image/png": "[encoded data removed]",
      "text/plain": [
       "<Figure size 576x360 with 1 Axes>"
      ]
     },
     "metadata": {
      "needs_background": "light"
     },
     "output_type": "display_data"
    }
   ],
   "source": [
    "plt.rcParams['figure.figsize'] = [8,5]\n",
    "sns.scatterplot(x = pca_overall['PC1'], y = pca_overall['PC2'],color='red')"
   ]
  },
  {
   "cell_type": "markdown",
   "metadata": {},
   "source": [
    "### 4.2.\tMake a year wise correlation for each industry.  Does the aforementioned industries are also correlated over the years? Explain your answer"
   ]
  },
  {
   "cell_type": "code",
   "execution_count": 24,
   "metadata": {},
   "outputs": [
    {
     "data": {
      "text/html": [
       "<div>\n",
       "<style scoped>\n",
       "    .dataframe tbody tr th:only-of-type {\n",
       "        vertical-align: middle;\n",
       "    }\n",
       "\n",
       "    .dataframe tbody tr th {\n",
       "        vertical-align: top;\n",
       "    }\n",
       "\n",
       "    .dataframe thead th {\n",
       "        text-align: right;\n",
       "    }\n",
       "</style>\n",
       "<table border=\"1\" class=\"dataframe\">\n",
       "  <thead>\n",
       "    <tr style=\"text-align: right;\">\n",
       "      <th></th>\n",
       "      <th>2009</th>\n",
       "      <th>2010</th>\n",
       "      <th>2011</th>\n",
       "      <th>2012</th>\n",
       "      <th>2013</th>\n",
       "      <th>2014</th>\n",
       "      <th>2015</th>\n",
       "      <th>2016</th>\n",
       "      <th>2017</th>\n",
       "      <th>2018</th>\n",
       "    </tr>\n",
       "  </thead>\n",
       "  <tbody>\n",
       "    <tr>\n",
       "      <th>2009</th>\n",
       "      <td>1.000000</td>\n",
       "      <td>0.999727</td>\n",
       "      <td>0.999414</td>\n",
       "      <td>0.999368</td>\n",
       "      <td>0.999193</td>\n",
       "      <td>0.998697</td>\n",
       "      <td>0.998396</td>\n",
       "      <td>0.999272</td>\n",
       "      <td>0.994614</td>\n",
       "      <td>0.996296</td>\n",
       "    </tr>\n",
       "    <tr>\n",
       "      <th>2010</th>\n",
       "      <td>0.999727</td>\n",
       "      <td>1.000000</td>\n",
       "      <td>0.999572</td>\n",
       "      <td>0.999578</td>\n",
       "      <td>0.999329</td>\n",
       "      <td>0.998561</td>\n",
       "      <td>0.998301</td>\n",
       "      <td>0.999244</td>\n",
       "      <td>0.995403</td>\n",
       "      <td>0.996858</td>\n",
       "    </tr>\n",
       "    <tr>\n",
       "      <th>2011</th>\n",
       "      <td>0.999414</td>\n",
       "      <td>0.999572</td>\n",
       "      <td>1.000000</td>\n",
       "      <td>0.999740</td>\n",
       "      <td>0.999859</td>\n",
       "      <td>0.999218</td>\n",
       "      <td>0.998314</td>\n",
       "      <td>0.998368</td>\n",
       "      <td>0.995285</td>\n",
       "      <td>0.996524</td>\n",
       "    </tr>\n",
       "    <tr>\n",
       "      <th>2012</th>\n",
       "      <td>0.999368</td>\n",
       "      <td>0.999578</td>\n",
       "      <td>0.999740</td>\n",
       "      <td>1.000000</td>\n",
       "      <td>0.999387</td>\n",
       "      <td>0.998415</td>\n",
       "      <td>0.997753</td>\n",
       "      <td>0.998475</td>\n",
       "      <td>0.993935</td>\n",
       "      <td>0.995168</td>\n",
       "    </tr>\n",
       "    <tr>\n",
       "      <th>2013</th>\n",
       "      <td>0.999193</td>\n",
       "      <td>0.999329</td>\n",
       "      <td>0.999859</td>\n",
       "      <td>0.999387</td>\n",
       "      <td>1.000000</td>\n",
       "      <td>0.999440</td>\n",
       "      <td>0.998973</td>\n",
       "      <td>0.998499</td>\n",
       "      <td>0.996068</td>\n",
       "      <td>0.997286</td>\n",
       "    </tr>\n",
       "    <tr>\n",
       "      <th>2014</th>\n",
       "      <td>0.998697</td>\n",
       "      <td>0.998561</td>\n",
       "      <td>0.999218</td>\n",
       "      <td>0.998415</td>\n",
       "      <td>0.999440</td>\n",
       "      <td>1.000000</td>\n",
       "      <td>0.998214</td>\n",
       "      <td>0.997781</td>\n",
       "      <td>0.996494</td>\n",
       "      <td>0.996945</td>\n",
       "    </tr>\n",
       "    <tr>\n",
       "      <th>2015</th>\n",
       "      <td>0.998396</td>\n",
       "      <td>0.998301</td>\n",
       "      <td>0.998314</td>\n",
       "      <td>0.997753</td>\n",
       "      <td>0.998973</td>\n",
       "      <td>0.998214</td>\n",
       "      <td>1.000000</td>\n",
       "      <td>0.999051</td>\n",
       "      <td>0.995520</td>\n",
       "      <td>0.998101</td>\n",
       "    </tr>\n",
       "    <tr>\n",
       "      <th>2016</th>\n",
       "      <td>0.999272</td>\n",
       "      <td>0.999244</td>\n",
       "      <td>0.998368</td>\n",
       "      <td>0.998475</td>\n",
       "      <td>0.998499</td>\n",
       "      <td>0.997781</td>\n",
       "      <td>0.999051</td>\n",
       "      <td>1.000000</td>\n",
       "      <td>0.995094</td>\n",
       "      <td>0.997167</td>\n",
       "    </tr>\n",
       "    <tr>\n",
       "      <th>2017</th>\n",
       "      <td>0.994614</td>\n",
       "      <td>0.995403</td>\n",
       "      <td>0.995285</td>\n",
       "      <td>0.993935</td>\n",
       "      <td>0.996068</td>\n",
       "      <td>0.996494</td>\n",
       "      <td>0.995520</td>\n",
       "      <td>0.995094</td>\n",
       "      <td>1.000000</td>\n",
       "      <td>0.997204</td>\n",
       "    </tr>\n",
       "    <tr>\n",
       "      <th>2018</th>\n",
       "      <td>0.996296</td>\n",
       "      <td>0.996858</td>\n",
       "      <td>0.996524</td>\n",
       "      <td>0.995168</td>\n",
       "      <td>0.997286</td>\n",
       "      <td>0.996945</td>\n",
       "      <td>0.998101</td>\n",
       "      <td>0.997167</td>\n",
       "      <td>0.997204</td>\n",
       "      <td>1.000000</td>\n",
       "    </tr>\n",
       "  </tbody>\n",
       "</table>\n",
       "</div>"
      ],
      "text/plain": [
       "          2009      2010      2011      2012      2013      2014      2015  \\\n",
       "2009  1.000000  0.999727  0.999414  0.999368  0.999193  0.998697  0.998396   \n",
       "2010  0.999727  1.000000  0.999572  0.999578  0.999329  0.998561  0.998301   \n",
       "2011  0.999414  0.999572  1.000000  0.999740  0.999859  0.999218  0.998314   \n",
       "2012  0.999368  0.999578  0.999740  1.000000  0.999387  0.998415  0.997753   \n",
       "2013  0.999193  0.999329  0.999859  0.999387  1.000000  0.999440  0.998973   \n",
       "2014  0.998697  0.998561  0.999218  0.998415  0.999440  1.000000  0.998214   \n",
       "2015  0.998396  0.998301  0.998314  0.997753  0.998973  0.998214  1.000000   \n",
       "2016  0.999272  0.999244  0.998368  0.998475  0.998499  0.997781  0.999051   \n",
       "2017  0.994614  0.995403  0.995285  0.993935  0.996068  0.996494  0.995520   \n",
       "2018  0.996296  0.996858  0.996524  0.995168  0.997286  0.996945  0.998101   \n",
       "\n",
       "          2016      2017      2018  \n",
       "2009  0.999272  0.994614  0.996296  \n",
       "2010  0.999244  0.995403  0.996858  \n",
       "2011  0.998368  0.995285  0.996524  \n",
       "2012  0.998475  0.993935  0.995168  \n",
       "2013  0.998499  0.996068  0.997286  \n",
       "2014  0.997781  0.996494  0.996945  \n",
       "2015  0.999051  0.995520  0.998101  \n",
       "2016  1.000000  0.995094  0.997167  \n",
       "2017  0.995094  1.000000  0.997204  \n",
       "2018  0.997167  0.997204  1.000000  "
      ]
     },
     "execution_count": 24,
     "metadata": {},
     "output_type": "execute_result"
    }
   ],
   "source": [
    "df_1=df.drop([\"calculated_sum\"],axis=1).corr()\n",
    "df_1"
   ]
  },
  {
   "cell_type": "code",
   "execution_count": 25,
   "metadata": {},
   "outputs": [
    {
     "data": {
      "text/plain": [
       "<seaborn.axisgrid.PairGrid at 0x23e6f2766d0>"
      ]
     },
     "execution_count": 25,
     "metadata": {},
     "output_type": "execute_result"
    },
    {
     "data": {
      "image/png": "[encoded data removed]",
      "text/plain": [
       "<Figure size 1800x1800 with 110 Axes>"
      ]
     },
     "metadata": {
      "needs_background": "light"
     },
     "output_type": "display_data"
    }
   ],
   "source": [
    "sns.pairplot(df_1)"
   ]
  },
  {
   "cell_type": "code",
   "execution_count": 26,
   "metadata": {},
   "outputs": [
    {
     "data": {
      "application/vnd.plotly.v1+json": {
       "config": {
        "plotlyServerURL": "https://plot.ly"
       },
       "data": [
        {
         "coloraxis": "coloraxis",
         "hovertemplate": "years: %{x}<br>Industy: %{y}<br>Industry: %{z}<extra></extra>",
         "type": "heatmap",
         "x": [
          "2009",
          "2010",
          "2011",
          "2012",
          "2013",
          "2014",
          "2015",
          "2016",
          "2017",
          "2018"
         ],
         "y": [
          "Agriculture",
          "Production",
          "Construction",
          "Retail",
          "ICT",
          "Finance",
          "Real_Estate",
          " Professional_Service",
          "Public_Adminstration",
          "Other_Service"
         ],
         "z": [
          [
           1,
           0.9997270714200522,
           0.9994135010255352,
           0.9993680001486153,
           0.9991926004156148,
           0.9986965610433234,
           0.998396307107734,
           0.999271876621761,
           0.9946142042126539,
           0.9962962675670409
          ],
          [
           0.9997270714200522,
           1,
           0.9995720428961741,
           0.9995781673500499,
           0.9993291060466096,
           0.9985610502113086,
           0.9983010470536754,
           0.999244257753345,
           0.9954032753790608,
           0.9968577613204225
          ],
          [
           0.9994135010255352,
           0.9995720428961741,
           1,
           0.9997398593028435,
           0.9998590929988882,
           0.9992179034249643,
           0.9983137263751424,
           0.9983677348249568,
           0.995285299534033,
           0.9965239514472698
          ],
          [
           0.9993680001486153,
           0.9995781673500499,
           0.9997398593028435,
           1,
           0.9993874414730624,
           0.9984152198414041,
           0.9977526612215708,
           0.9984752342269424,
           0.9939353856570401,
           0.9951681363508377
          ],
          [
           0.9991926004156148,
           0.9993291060466096,
           0.9998590929988882,
           0.9993874414730624,
           1,
           0.9994398454597497,
           0.9989731655497625,
           0.9984987434402766,
           0.9960682824530472,
           0.9972864223910397
          ],
          [
           0.9986965610433234,
           0.9985610502113086,
           0.9992179034249643,
           0.9984152198414041,
           0.9994398454597497,
           1,
           0.9982143926854308,
           0.9977814254193286,
           0.9964935802911675,
           0.996945216203315
          ],
          [
           0.998396307107734,
           0.9983010470536754,
           0.9983137263751424,
           0.9977526612215708,
           0.9989731655497625,
           0.9982143926854308,
           1,
           0.9990513355615426,
           0.9955195684279768,
           0.9981007513468203
          ],
          [
           0.999271876621761,
           0.999244257753345,
           0.9983677348249568,
           0.9984752342269424,
           0.9984987434402766,
           0.9977814254193286,
           0.9990513355615426,
           1,
           0.9950935917397873,
           0.9971670536069225
          ],
          [
           0.9946142042126539,
           0.9954032753790608,
           0.995285299534033,
           0.9939353856570401,
           0.9960682824530472,
           0.9964935802911675,
           0.9955195684279768,
           0.9950935917397873,
           1,
           0.9972040230153215
          ],
          [
           0.9962962675670409,
           0.9968577613204225,
           0.9965239514472698,
           0.9951681363508377,
           0.9972864223910397,
           0.996945216203315,
           0.9981007513468203,
           0.9971670536069225,
           0.9972040230153215,
           1
          ]
         ]
        }
       ],
       "layout": {
        "coloraxis": {
         "colorbar": {
          "title": {
           "text": "Industry"
          }
         },
         "colorscale": [
          [
           0,
           "#0d0887"
          ],
          [
           0.1111111111111111,
           "#46039f"
          ],
          [
           0.2222222222222222,
           "#7201a8"
          ],
          [
           0.3333333333333333,
           "#9c179e"
          ],
          [
           0.4444444444444444,
           "#bd3786"
          ],
          [
           0.5555555555555556,
           "#d8576b"
          ],
          [
           0.6666666666666666,
           "#ed7953"
          ],
          [
           0.7777777777777778,
           "#fb9f3a"
          ],
          [
           0.8888888888888888,
           "#fdca26"
          ],
          [
           1,
           "#f0f921"
          ]
         ]
        },
        "margin": {
         "t": 60
        },
        "template": {
         "data": {
          "bar": [
           {
            "error_x": {
             "color": "#2a3f5f"
            },
            "error_y": {
             "color": "#2a3f5f"
            },
            "marker": {
             "line": {
              "color": "#E5ECF6",
              "width": 0.5
             }
            },
            "type": "bar"
           }
          ],
          "barpolar": [
           {
            "marker": {
             "line": {
              "color": "#E5ECF6",
              "width": 0.5
             }
            },
            "type": "barpolar"
           }
          ],
          "carpet": [
           {
            "aaxis": {
             "endlinecolor": "#2a3f5f",
             "gridcolor": "white",
             "linecolor": "white",
             "minorgridcolor": "white",
             "startlinecolor": "#2a3f5f"
            },
            "baxis": {
             "endlinecolor": "#2a3f5f",
             "gridcolor": "white",
             "linecolor": "white",
             "minorgridcolor": "white",
             "startlinecolor": "#2a3f5f"
            },
            "type": "carpet"
           }
          ],
          "choropleth": [
           {
            "colorbar": {
             "outlinewidth": 0,
             "ticks": ""
            },
            "type": "choropleth"
           }
          ],
          "contour": [
           {
            "colorbar": {
             "outlinewidth": 0,
             "ticks": ""
            },
            "colorscale": [
             [
              0,
              "#0d0887"
             ],
             [
              0.1111111111111111,
              "#46039f"
             ],
             [
              0.2222222222222222,
              "#7201a8"
             ],
             [
              0.3333333333333333,
              "#9c179e"
             ],
             [
              0.4444444444444444,
              "#bd3786"
             ],
             [
              0.5555555555555556,
              "#d8576b"
             ],
             [
              0.6666666666666666,
              "#ed7953"
             ],
             [
              0.7777777777777778,
              "#fb9f3a"
             ],
             [
              0.8888888888888888,
              "#fdca26"
             ],
             [
              1,
              "#f0f921"
             ]
            ],
            "type": "contour"
           }
          ],
          "contourcarpet": [
           {
            "colorbar": {
             "outlinewidth": 0,
             "ticks": ""
            },
            "type": "contourcarpet"
           }
          ],
          "heatmap": [
           {
            "colorbar": {
             "outlinewidth": 0,
             "ticks": ""
            },
            "colorscale": [
             [
              0,
              "#0d0887"
             ],
             [
              0.1111111111111111,
              "#46039f"
             ],
             [
              0.2222222222222222,
              "#7201a8"
             ],
             [
              0.3333333333333333,
              "#9c179e"
             ],
             [
              0.4444444444444444,
              "#bd3786"
             ],
             [
              0.5555555555555556,
              "#d8576b"
             ],
             [
              0.6666666666666666,
              "#ed7953"
             ],
             [
              0.7777777777777778,
              "#fb9f3a"
             ],
             [
              0.8888888888888888,
              "#fdca26"
             ],
             [
              1,
              "#f0f921"
             ]
            ],
            "type": "heatmap"
           }
          ],
          "heatmapgl": [
           {
            "colorbar": {
             "outlinewidth": 0,
             "ticks": ""
            },
            "colorscale": [
             [
              0,
              "#0d0887"
             ],
             [
              0.1111111111111111,
              "#46039f"
             ],
             [
              0.2222222222222222,
              "#7201a8"
             ],
             [
              0.3333333333333333,
              "#9c179e"
             ],
             [
              0.4444444444444444,
              "#bd3786"
             ],
             [
              0.5555555555555556,
              "#d8576b"
             ],
             [
              0.6666666666666666,
              "#ed7953"
             ],
             [
              0.7777777777777778,
              "#fb9f3a"
             ],
             [
              0.8888888888888888,
              "#fdca26"
             ],
             [
              1,
              "#f0f921"
             ]
            ],
            "type": "heatmapgl"
           }
          ],
          "histogram": [
           {
            "marker": {
             "colorbar": {
              "outlinewidth": 0,
              "ticks": ""
             }
            },
            "type": "histogram"
           }
          ],
          "histogram2d": [
           {
            "colorbar": {
             "outlinewidth": 0,
             "ticks": ""
            },
            "colorscale": [
             [
              0,
              "#0d0887"
             ],
             [
              0.1111111111111111,
              "#46039f"
             ],
             [
              0.2222222222222222,
              "#7201a8"
             ],
             [
              0.3333333333333333,
              "#9c179e"
             ],
             [
              0.4444444444444444,
              "#bd3786"
             ],
             [
              0.5555555555555556,
              "#d8576b"
             ],
             [
              0.6666666666666666,
              "#ed7953"
             ],
             [
              0.7777777777777778,
              "#fb9f3a"
             ],
             [
              0.8888888888888888,
              "#fdca26"
             ],
             [
              1,
              "#f0f921"
             ]
            ],
            "type": "histogram2d"
           }
          ],
          "histogram2dcontour": [
           {
            "colorbar": {
             "outlinewidth": 0,
             "ticks": ""
            },
            "colorscale": [
             [
              0,
              "#0d0887"
             ],
             [
              0.1111111111111111,
              "#46039f"
             ],
             [
              0.2222222222222222,
              "#7201a8"
             ],
             [
              0.3333333333333333,
              "#9c179e"
             ],
             [
              0.4444444444444444,
              "#bd3786"
             ],
             [
              0.5555555555555556,
              "#d8576b"
             ],
             [
              0.6666666666666666,
              "#ed7953"
             ],
             [
              0.7777777777777778,
              "#fb9f3a"
             ],
             [
              0.8888888888888888,
              "#fdca26"
             ],
             [
              1,
              "#f0f921"
             ]
            ],
            "type": "histogram2dcontour"
           }
          ],
          "mesh3d": [
           {
            "colorbar": {
             "outlinewidth": 0,
             "ticks": ""
            },
            "type": "mesh3d"
           }
          ],
          "parcoords": [
           {
            "line": {
             "colorbar": {
              "outlinewidth": 0,
              "ticks": ""
             }
            },
            "type": "parcoords"
           }
          ],
          "pie": [
           {
            "automargin": true,
            "type": "pie"
           }
          ],
          "scatter": [
           {
            "marker": {
             "colorbar": {
              "outlinewidth": 0,
              "ticks": ""
             }
            },
            "type": "scatter"
           }
          ],
          "scatter3d": [
           {
            "line": {
             "colorbar": {
              "outlinewidth": 0,
              "ticks": ""
             }
            },
            "marker": {
             "colorbar": {
              "outlinewidth": 0,
              "ticks": ""
             }
            },
            "type": "scatter3d"
           }
          ],
          "scattercarpet": [
           {
            "marker": {
             "colorbar": {
              "outlinewidth": 0,
              "ticks": ""
             }
            },
            "type": "scattercarpet"
           }
          ],
          "scattergeo": [
           {
            "marker": {
             "colorbar": {
              "outlinewidth": 0,
              "ticks": ""
             }
            },
            "type": "scattergeo"
           }
          ],
          "scattergl": [
           {
            "marker": {
             "colorbar": {
              "outlinewidth": 0,
              "ticks": ""
             }
            },
            "type": "scattergl"
           }
          ],
          "scattermapbox": [
           {
            "marker": {
             "colorbar": {
              "outlinewidth": 0,
              "ticks": ""
             }
            },
            "type": "scattermapbox"
           }
          ],
          "scatterpolar": [
           {
            "marker": {
             "colorbar": {
              "outlinewidth": 0,
              "ticks": ""
             }
            },
            "type": "scatterpolar"
           }
          ],
          "scatterpolargl": [
           {
            "marker": {
             "colorbar": {
              "outlinewidth": 0,
              "ticks": ""
             }
            },
            "type": "scatterpolargl"
           }
          ],
          "scatterternary": [
           {
            "marker": {
             "colorbar": {
              "outlinewidth": 0,
              "ticks": ""
             }
            },
            "type": "scatterternary"
           }
          ],
          "surface": [
           {
            "colorbar": {
             "outlinewidth": 0,
             "ticks": ""
            },
            "colorscale": [
             [
              0,
              "#0d0887"
             ],
             [
              0.1111111111111111,
              "#46039f"
             ],
             [
              0.2222222222222222,
              "#7201a8"
             ],
             [
              0.3333333333333333,
              "#9c179e"
             ],
             [
              0.4444444444444444,
              "#bd3786"
             ],
             [
              0.5555555555555556,
              "#d8576b"
             ],
             [
              0.6666666666666666,
              "#ed7953"
             ],
             [
              0.7777777777777778,
              "#fb9f3a"
             ],
             [
              0.8888888888888888,
              "#fdca26"
             ],
             [
              1,
              "#f0f921"
             ]
            ],
            "type": "surface"
           }
          ],
          "table": [
           {
            "cells": {
             "fill": {
              "color": "#EBF0F8"
             },
             "line": {
              "color": "white"
             }
            },
            "header": {
             "fill": {
              "color": "#C8D4E3"
             },
             "line": {
              "color": "white"
             }
            },
            "type": "table"
           }
          ]
         },
         "layout": {
          "annotationdefaults": {
           "arrowcolor": "#2a3f5f",
           "arrowhead": 0,
           "arrowwidth": 1
          },
          "coloraxis": {
           "colorbar": {
            "outlinewidth": 0,
            "ticks": ""
           }
          },
          "colorscale": {
           "diverging": [
            [
             0,
             "#8e0152"
            ],
            [
             0.1,
             "#c51b7d"
            ],
            [
             0.2,
             "#de77ae"
            ],
            [
             0.3,
             "#f1b6da"
            ],
            [
             0.4,
             "#fde0ef"
            ],
            [
             0.5,
             "#f7f7f7"
            ],
            [
             0.6,
             "#e6f5d0"
            ],
            [
             0.7,
             "#b8e186"
            ],
            [
             0.8,
             "#7fbc41"
            ],
            [
             0.9,
             "#4d9221"
            ],
            [
             1,
             "#276419"
            ]
           ],
           "sequential": [
            [
             0,
             "#0d0887"
            ],
            [
             0.1111111111111111,
             "#46039f"
            ],
            [
             0.2222222222222222,
             "#7201a8"
            ],
            [
             0.3333333333333333,
             "#9c179e"
            ],
            [
             0.4444444444444444,
             "#bd3786"
            ],
            [
             0.5555555555555556,
             "#d8576b"
            ],
            [
             0.6666666666666666,
             "#ed7953"
            ],
            [
             0.7777777777777778,
             "#fb9f3a"
            ],
            [
             0.8888888888888888,
             "#fdca26"
            ],
            [
             1,
             "#f0f921"
            ]
           ],
           "sequentialminus": [
            [
             0,
             "#0d0887"
            ],
            [
             0.1111111111111111,
             "#46039f"
            ],
            [
             0.2222222222222222,
             "#7201a8"
            ],
            [
             0.3333333333333333,
             "#9c179e"
            ],
            [
             0.4444444444444444,
             "#bd3786"
            ],
            [
             0.5555555555555556,
             "#d8576b"
            ],
            [
             0.6666666666666666,
             "#ed7953"
            ],
            [
             0.7777777777777778,
             "#fb9f3a"
            ],
            [
             0.8888888888888888,
             "#fdca26"
            ],
            [
             1,
             "#f0f921"
            ]
           ]
          },
          "colorway": [
           "#636efa",
           "#EF553B",
           "#00cc96",
           "#ab63fa",
           "#FFA15A",
           "#19d3f3",
           "#FF6692",
           "#B6E880",
           "#FF97FF",
           "#FECB52"
          ],
          "font": {
           "color": "#2a3f5f"
          },
          "geo": {
           "bgcolor": "white",
           "lakecolor": "white",
           "landcolor": "#E5ECF6",
           "showlakes": true,
           "showland": true,
           "subunitcolor": "white"
          },
          "hoverlabel": {
           "align": "left"
          },
          "hovermode": "closest",
          "mapbox": {
           "style": "light"
          },
          "paper_bgcolor": "white",
          "plot_bgcolor": "#E5ECF6",
          "polar": {
           "angularaxis": {
            "gridcolor": "white",
            "linecolor": "white",
            "ticks": ""
           },
           "bgcolor": "#E5ECF6",
           "radialaxis": {
            "gridcolor": "white",
            "linecolor": "white",
            "ticks": ""
           }
          },
          "scene": {
           "xaxis": {
            "backgroundcolor": "#E5ECF6",
            "gridcolor": "white",
            "gridwidth": 2,
            "linecolor": "white",
            "showbackground": true,
            "ticks": "",
            "zerolinecolor": "white"
           },
           "yaxis": {
            "backgroundcolor": "#E5ECF6",
            "gridcolor": "white",
            "gridwidth": 2,
            "linecolor": "white",
            "showbackground": true,
            "ticks": "",
            "zerolinecolor": "white"
           },
           "zaxis": {
            "backgroundcolor": "#E5ECF6",
            "gridcolor": "white",
            "gridwidth": 2,
            "linecolor": "white",
            "showbackground": true,
            "ticks": "",
            "zerolinecolor": "white"
           }
          },
          "shapedefaults": {
           "line": {
            "color": "#2a3f5f"
           }
          },
          "ternary": {
           "aaxis": {
            "gridcolor": "white",
            "linecolor": "white",
            "ticks": ""
           },
           "baxis": {
            "gridcolor": "white",
            "linecolor": "white",
            "ticks": ""
           },
           "bgcolor": "#E5ECF6",
           "caxis": {
            "gridcolor": "white",
            "linecolor": "white",
            "ticks": ""
           }
          },
          "title": {
           "x": 0.05
          },
          "xaxis": {
           "automargin": true,
           "gridcolor": "white",
           "linecolor": "white",
           "ticks": "",
           "title": {
            "standoff": 15
           },
           "zerolinecolor": "white",
           "zerolinewidth": 2
          },
          "yaxis": {
           "automargin": true,
           "gridcolor": "white",
           "linecolor": "white",
           "ticks": "",
           "title": {
            "standoff": 15
           },
           "zerolinecolor": "white",
           "zerolinewidth": 2
          }
         }
        },
        "xaxis": {
         "constrain": "domain",
         "scaleanchor": "y",
         "side": "top",
         "title": {
          "text": "years"
         }
        },
        "yaxis": {
         "autorange": "reversed",
         "constrain": "domain",
         "title": {
          "text": "Industy"
         }
        }
       }
      },
      "text/html": [
       "<div>\n",
       "        \n",
       "        \n",
       "            <div id=\"df04cf35-54cb-42db-84f0-726d8883f805\" class=\"plotly-graph-div\" style=\"height:525px; width:100%;\"></div>\n",
       "            <script type=\"text/javascript\">\n",
       "                require([\"plotly\"], function(Plotly) {\n",
       "                    window.PLOTLYENV=window.PLOTLYENV || {};\n",
       "                    \n",
       "                if (document.getElementById(\"df04cf35-54cb-42db-84f0-726d8883f805\")) {\n",
       "                    Plotly.newPlot(\n",
       "                        'df04cf35-54cb-42db-84f0-726d8883f805',\n",
       "                        [{\"coloraxis\": \"coloraxis\", \"hovertemplate\": \"years: %{x}<br>Industy: %{y}<br>Industry: %{z}<extra></extra>\", \"type\": \"heatmap\", \"x\": [\"2009\", \"2010\", \"2011\", \"2012\", \"2013\", \"2014\", \"2015\", \"2016\", \"2017\", \"2018\"], \"y\": [\"Agriculture\", \"Production\", \"Construction\", \"Retail\", \"ICT\", \"Finance\", \"Real_Estate\", \" Professional_Service\", \"Public_Adminstration\", \"Other_Service\"], \"z\": [[1.0, 0.9997270714200522, 0.9994135010255352, 0.9993680001486153, 0.9991926004156148, 0.9986965610433234, 0.998396307107734, 0.999271876621761, 0.9946142042126539, 0.9962962675670409], [0.9997270714200522, 1.0, 0.9995720428961741, 0.9995781673500499, 0.9993291060466096, 0.9985610502113086, 0.9983010470536754, 0.999244257753345, 0.9954032753790608, 0.9968577613204225], [0.9994135010255352, 0.9995720428961741, 1.0, 0.9997398593028435, 0.9998590929988882, 0.9992179034249643, 0.9983137263751424, 0.9983677348249568, 0.995285299534033, 0.9965239514472698], [0.9993680001486153, 0.9995781673500499, 0.9997398593028435, 1.0, 0.9993874414730624, 0.9984152198414041, 0.9977526612215708, 0.9984752342269424, 0.9939353856570401, 0.9951681363508377], [0.9991926004156148, 0.9993291060466096, 0.9998590929988882, 0.9993874414730624, 1.0, 0.9994398454597497, 0.9989731655497625, 0.9984987434402766, 0.9960682824530472, 0.9972864223910397], [0.9986965610433234, 0.9985610502113086, 0.9992179034249643, 0.9984152198414041, 0.9994398454597497, 1.0, 0.9982143926854308, 0.9977814254193286, 0.9964935802911675, 0.996945216203315], [0.998396307107734, 0.9983010470536754, 0.9983137263751424, 0.9977526612215708, 0.9989731655497625, 0.9982143926854308, 1.0, 0.9990513355615426, 0.9955195684279768, 0.9981007513468203], [0.999271876621761, 0.999244257753345, 0.9983677348249568, 0.9984752342269424, 0.9984987434402766, 0.9977814254193286, 0.9990513355615426, 1.0, 0.9950935917397873, 0.9971670536069225], [0.9946142042126539, 0.9954032753790608, 0.995285299534033, 0.9939353856570401, 0.9960682824530472, 0.9964935802911675, 0.9955195684279768, 0.9950935917397873, 1.0, 0.9972040230153215], [0.9962962675670409, 0.9968577613204225, 0.9965239514472698, 0.9951681363508377, 0.9972864223910397, 0.996945216203315, 0.9981007513468203, 0.9971670536069225, 0.9972040230153215, 1.0]]}],\n",
       "                        {\"coloraxis\": {\"colorbar\": {\"title\": {\"text\": \"Industry\"}}, \"colorscale\": [[0.0, \"#0d0887\"], [0.1111111111111111, \"#46039f\"], [0.2222222222222222, \"#7201a8\"], [0.3333333333333333, \"#9c179e\"], [0.4444444444444444, \"#bd3786\"], [0.5555555555555556, \"#d8576b\"], [0.6666666666666666, \"#ed7953\"], [0.7777777777777778, \"#fb9f3a\"], [0.8888888888888888, \"#fdca26\"], [1.0, \"#f0f921\"]]}, \"margin\": {\"t\": 60}, \"template\": {\"data\": {\"bar\": [{\"error_x\": {\"color\": \"#2a3f5f\"}, \"error_y\": {\"color\": \"#2a3f5f\"}, \"marker\": {\"line\": {\"color\": \"#E5ECF6\", \"width\": 0.5}}, \"type\": \"bar\"}], \"barpolar\": [{\"marker\": {\"line\": {\"color\": \"#E5ECF6\", \"width\": 0.5}}, \"type\": \"barpolar\"}], \"carpet\": [{\"aaxis\": {\"endlinecolor\": \"#2a3f5f\", \"gridcolor\": \"white\", \"linecolor\": \"white\", \"minorgridcolor\": \"white\", \"startlinecolor\": \"#2a3f5f\"}, \"baxis\": {\"endlinecolor\": \"#2a3f5f\", \"gridcolor\": \"white\", \"linecolor\": \"white\", \"minorgridcolor\": \"white\", \"startlinecolor\": \"#2a3f5f\"}, \"type\": \"carpet\"}], \"choropleth\": [{\"colorbar\": {\"outlinewidth\": 0, \"ticks\": \"\"}, \"type\": \"choropleth\"}], \"contour\": [{\"colorbar\": {\"outlinewidth\": 0, \"ticks\": \"\"}, \"colorscale\": [[0.0, \"#0d0887\"], [0.1111111111111111, \"#46039f\"], [0.2222222222222222, \"#7201a8\"], [0.3333333333333333, \"#9c179e\"], [0.4444444444444444, \"#bd3786\"], [0.5555555555555556, \"#d8576b\"], [0.6666666666666666, \"#ed7953\"], [0.7777777777777778, \"#fb9f3a\"], [0.8888888888888888, \"#fdca26\"], [1.0, \"#f0f921\"]], \"type\": \"contour\"}], \"contourcarpet\": [{\"colorbar\": {\"outlinewidth\": 0, \"ticks\": \"\"}, \"type\": \"contourcarpet\"}], \"heatmap\": [{\"colorbar\": {\"outlinewidth\": 0, \"ticks\": \"\"}, \"colorscale\": [[0.0, \"#0d0887\"], [0.1111111111111111, \"#46039f\"], [0.2222222222222222, \"#7201a8\"], [0.3333333333333333, \"#9c179e\"], [0.4444444444444444, \"#bd3786\"], [0.5555555555555556, \"#d8576b\"], [0.6666666666666666, \"#ed7953\"], [0.7777777777777778, \"#fb9f3a\"], [0.8888888888888888, \"#fdca26\"], [1.0, \"#f0f921\"]], \"type\": \"heatmap\"}], \"heatmapgl\": [{\"colorbar\": {\"outlinewidth\": 0, \"ticks\": \"\"}, \"colorscale\": [[0.0, \"#0d0887\"], [0.1111111111111111, \"#46039f\"], [0.2222222222222222, \"#7201a8\"], [0.3333333333333333, \"#9c179e\"], [0.4444444444444444, \"#bd3786\"], [0.5555555555555556, \"#d8576b\"], [0.6666666666666666, \"#ed7953\"], [0.7777777777777778, \"#fb9f3a\"], [0.8888888888888888, \"#fdca26\"], [1.0, \"#f0f921\"]], \"type\": \"heatmapgl\"}], \"histogram\": [{\"marker\": {\"colorbar\": {\"outlinewidth\": 0, \"ticks\": \"\"}}, \"type\": \"histogram\"}], \"histogram2d\": [{\"colorbar\": {\"outlinewidth\": 0, \"ticks\": \"\"}, \"colorscale\": [[0.0, \"#0d0887\"], [0.1111111111111111, \"#46039f\"], [0.2222222222222222, \"#7201a8\"], [0.3333333333333333, \"#9c179e\"], [0.4444444444444444, \"#bd3786\"], [0.5555555555555556, \"#d8576b\"], [0.6666666666666666, \"#ed7953\"], [0.7777777777777778, \"#fb9f3a\"], [0.8888888888888888, \"#fdca26\"], [1.0, \"#f0f921\"]], \"type\": \"histogram2d\"}], \"histogram2dcontour\": [{\"colorbar\": {\"outlinewidth\": 0, \"ticks\": \"\"}, \"colorscale\": [[0.0, \"#0d0887\"], [0.1111111111111111, \"#46039f\"], [0.2222222222222222, \"#7201a8\"], [0.3333333333333333, \"#9c179e\"], [0.4444444444444444, \"#bd3786\"], [0.5555555555555556, \"#d8576b\"], [0.6666666666666666, \"#ed7953\"], [0.7777777777777778, \"#fb9f3a\"], [0.8888888888888888, \"#fdca26\"], [1.0, \"#f0f921\"]], \"type\": \"histogram2dcontour\"}], \"mesh3d\": [{\"colorbar\": {\"outlinewidth\": 0, \"ticks\": \"\"}, \"type\": \"mesh3d\"}], \"parcoords\": [{\"line\": {\"colorbar\": {\"outlinewidth\": 0, \"ticks\": \"\"}}, \"type\": \"parcoords\"}], \"pie\": [{\"automargin\": true, \"type\": \"pie\"}], \"scatter\": [{\"marker\": {\"colorbar\": {\"outlinewidth\": 0, \"ticks\": \"\"}}, \"type\": \"scatter\"}], \"scatter3d\": [{\"line\": {\"colorbar\": {\"outlinewidth\": 0, \"ticks\": \"\"}}, \"marker\": {\"colorbar\": {\"outlinewidth\": 0, \"ticks\": \"\"}}, \"type\": \"scatter3d\"}], \"scattercarpet\": [{\"marker\": {\"colorbar\": {\"outlinewidth\": 0, \"ticks\": \"\"}}, \"type\": \"scattercarpet\"}], \"scattergeo\": [{\"marker\": {\"colorbar\": {\"outlinewidth\": 0, \"ticks\": \"\"}}, \"type\": \"scattergeo\"}], \"scattergl\": [{\"marker\": {\"colorbar\": {\"outlinewidth\": 0, \"ticks\": \"\"}}, \"type\": \"scattergl\"}], \"scattermapbox\": [{\"marker\": {\"colorbar\": {\"outlinewidth\": 0, \"ticks\": \"\"}}, \"type\": \"scattermapbox\"}], \"scatterpolar\": [{\"marker\": {\"colorbar\": {\"outlinewidth\": 0, \"ticks\": \"\"}}, \"type\": \"scatterpolar\"}], \"scatterpolargl\": [{\"marker\": {\"colorbar\": {\"outlinewidth\": 0, \"ticks\": \"\"}}, \"type\": \"scatterpolargl\"}], \"scatterternary\": [{\"marker\": {\"colorbar\": {\"outlinewidth\": 0, \"ticks\": \"\"}}, \"type\": \"scatterternary\"}], \"surface\": [{\"colorbar\": {\"outlinewidth\": 0, \"ticks\": \"\"}, \"colorscale\": [[0.0, \"#0d0887\"], [0.1111111111111111, \"#46039f\"], [0.2222222222222222, \"#7201a8\"], [0.3333333333333333, \"#9c179e\"], [0.4444444444444444, \"#bd3786\"], [0.5555555555555556, \"#d8576b\"], [0.6666666666666666, \"#ed7953\"], [0.7777777777777778, \"#fb9f3a\"], [0.8888888888888888, \"#fdca26\"], [1.0, \"#f0f921\"]], \"type\": \"surface\"}], \"table\": [{\"cells\": {\"fill\": {\"color\": \"#EBF0F8\"}, \"line\": {\"color\": \"white\"}}, \"header\": {\"fill\": {\"color\": \"#C8D4E3\"}, \"line\": {\"color\": \"white\"}}, \"type\": \"table\"}]}, \"layout\": {\"annotationdefaults\": {\"arrowcolor\": \"#2a3f5f\", \"arrowhead\": 0, \"arrowwidth\": 1}, \"coloraxis\": {\"colorbar\": {\"outlinewidth\": 0, \"ticks\": \"\"}}, \"colorscale\": {\"diverging\": [[0, \"#8e0152\"], [0.1, \"#c51b7d\"], [0.2, \"#de77ae\"], [0.3, \"#f1b6da\"], [0.4, \"#fde0ef\"], [0.5, \"#f7f7f7\"], [0.6, \"#e6f5d0\"], [0.7, \"#b8e186\"], [0.8, \"#7fbc41\"], [0.9, \"#4d9221\"], [1, \"#276419\"]], \"sequential\": [[0.0, \"#0d0887\"], [0.1111111111111111, \"#46039f\"], [0.2222222222222222, \"#7201a8\"], [0.3333333333333333, \"#9c179e\"], [0.4444444444444444, \"#bd3786\"], [0.5555555555555556, \"#d8576b\"], [0.6666666666666666, \"#ed7953\"], [0.7777777777777778, \"#fb9f3a\"], [0.8888888888888888, \"#fdca26\"], [1.0, \"#f0f921\"]], \"sequentialminus\": [[0.0, \"#0d0887\"], [0.1111111111111111, \"#46039f\"], [0.2222222222222222, \"#7201a8\"], [0.3333333333333333, \"#9c179e\"], [0.4444444444444444, \"#bd3786\"], [0.5555555555555556, \"#d8576b\"], [0.6666666666666666, \"#ed7953\"], [0.7777777777777778, \"#fb9f3a\"], [0.8888888888888888, \"#fdca26\"], [1.0, \"#f0f921\"]]}, \"colorway\": [\"#636efa\", \"#EF553B\", \"#00cc96\", \"#ab63fa\", \"#FFA15A\", \"#19d3f3\", \"#FF6692\", \"#B6E880\", \"#FF97FF\", \"#FECB52\"], \"font\": {\"color\": \"#2a3f5f\"}, \"geo\": {\"bgcolor\": \"white\", \"lakecolor\": \"white\", \"landcolor\": \"#E5ECF6\", \"showlakes\": true, \"showland\": true, \"subunitcolor\": \"white\"}, \"hoverlabel\": {\"align\": \"left\"}, \"hovermode\": \"closest\", \"mapbox\": {\"style\": \"light\"}, \"paper_bgcolor\": \"white\", \"plot_bgcolor\": \"#E5ECF6\", \"polar\": {\"angularaxis\": {\"gridcolor\": \"white\", \"linecolor\": \"white\", \"ticks\": \"\"}, \"bgcolor\": \"#E5ECF6\", \"radialaxis\": {\"gridcolor\": \"white\", \"linecolor\": \"white\", \"ticks\": \"\"}}, \"scene\": {\"xaxis\": {\"backgroundcolor\": \"#E5ECF6\", \"gridcolor\": \"white\", \"gridwidth\": 2, \"linecolor\": \"white\", \"showbackground\": true, \"ticks\": \"\", \"zerolinecolor\": \"white\"}, \"yaxis\": {\"backgroundcolor\": \"#E5ECF6\", \"gridcolor\": \"white\", \"gridwidth\": 2, \"linecolor\": \"white\", \"showbackground\": true, \"ticks\": \"\", \"zerolinecolor\": \"white\"}, \"zaxis\": {\"backgroundcolor\": \"#E5ECF6\", \"gridcolor\": \"white\", \"gridwidth\": 2, \"linecolor\": \"white\", \"showbackground\": true, \"ticks\": \"\", \"zerolinecolor\": \"white\"}}, \"shapedefaults\": {\"line\": {\"color\": \"#2a3f5f\"}}, \"ternary\": {\"aaxis\": {\"gridcolor\": \"white\", \"linecolor\": \"white\", \"ticks\": \"\"}, \"baxis\": {\"gridcolor\": \"white\", \"linecolor\": \"white\", \"ticks\": \"\"}, \"bgcolor\": \"#E5ECF6\", \"caxis\": {\"gridcolor\": \"white\", \"linecolor\": \"white\", \"ticks\": \"\"}}, \"title\": {\"x\": 0.05}, \"xaxis\": {\"automargin\": true, \"gridcolor\": \"white\", \"linecolor\": \"white\", \"ticks\": \"\", \"title\": {\"standoff\": 15}, \"zerolinecolor\": \"white\", \"zerolinewidth\": 2}, \"yaxis\": {\"automargin\": true, \"gridcolor\": \"white\", \"linecolor\": \"white\", \"ticks\": \"\", \"title\": {\"standoff\": 15}, \"zerolinecolor\": \"white\", \"zerolinewidth\": 2}}}, \"xaxis\": {\"constrain\": \"domain\", \"scaleanchor\": \"y\", \"side\": \"top\", \"title\": {\"text\": \"years\"}}, \"yaxis\": {\"autorange\": \"reversed\", \"constrain\": \"domain\", \"title\": {\"text\": \"Industy\"}}},\n",
       "                        {\"responsive\": true}\n",
       "                    ).then(function(){\n",
       "                            \n",
       "var gd = document.getElementById('df04cf35-54cb-42db-84f0-726d8883f805');\n",
       "var x = new MutationObserver(function (mutations, observer) {{\n",
       "        var display = window.getComputedStyle(gd).display;\n",
       "        if (!display || display === 'none') {{\n",
       "            console.log([gd, 'removed!']);\n",
       "            Plotly.purge(gd);\n",
       "            observer.disconnect();\n",
       "        }}\n",
       "}});\n",
       "\n",
       "// Listen for the removal of the full notebook cells\n",
       "var notebookContainer = gd.closest('#notebook-container');\n",
       "if (notebookContainer) {{\n",
       "    x.observe(notebookContainer, {childList: true});\n",
       "}}\n",
       "\n",
       "// Listen for the clearing of the current output cell\n",
       "var outputEl = gd.closest('.output');\n",
       "if (outputEl) {{\n",
       "    x.observe(outputEl, {childList: true});\n",
       "}}\n",
       "\n",
       "                        })\n",
       "                };\n",
       "                });\n",
       "            </script>\n",
       "        </div>"
      ]
     },
     "metadata": {},
     "output_type": "display_data"
    }
   ],
   "source": [
    "import plotly.express as px\n",
    "data=df_1\n",
    "fig = px.imshow(df_1,\n",
    "                labels=dict(x=\"years\", y=\"Industy\", color=\"Industry\"),\n",
    "                x=['2009', '2010', '2011', '2012', '2013', '2014', '2015', '2016', '2017',\n",
    "       '2018'],\n",
    "                y=['Agriculture', 'Production', 'Construction','Retail','ICT','Finance','Real_Estate',' Professional_Service','Public_Adminstration','Other_Service']\n",
    "               )\n",
    "fig.update_xaxes(side=\"top\")\n",
    "fig.show()"
   ]
  },
  {
   "cell_type": "markdown",
   "metadata": {},
   "source": [
    "To determine correlation value, the average of employee numbers is computed in the first segment.\n"
   ]
  },
  {
   "cell_type": "markdown",
   "metadata": {},
   "source": [
    "- Year, wise correlation has been computed. Initially based on values from 2017 to 2018 a correlation has been computed.\n",
    "\n",
    "- It is found that the correlation amount is .997 which is very close to ‘1’. Hence, there is a significant relationship between employee number and its growth rate between 2018 and 2017.\n",
    "\n",
    "- Another year wise correlation has been done on base year and current year. The correlation value between these two years (2018 and 2009) is obtained as .996 that is again closer to ‘1’.\n",
    "\n",
    "- Hence, there is a significant impact between the number of employees from both years (2018 and 2009). \n"
   ]
  },
  {
   "cell_type": "markdown",
   "metadata": {},
   "source": [
    "## 5. Clustering (k means&hierarchical)\n",
    "\n",
    "#### 5.1. Using the best and worst performing year column’s employment data (2.3) undertake a K means clustering analysis (K=2 & 3) and identify industries cluster together.  Write your own interpretation(~100 words).\n"
   ]
  },
  {
   "cell_type": "markdown",
   "metadata": {},
   "source": [
    "- From 2.3"
   ]
  },
  {
   "cell_type": "markdown",
   "metadata": {},
   "source": [
    "#### Feature Scaling:"
   ]
  },
  {
   "cell_type": "code",
   "execution_count": 27,
   "metadata": {},
   "outputs": [
    {
     "data": {
      "text/html": [
       "<div>\n",
       "<style scoped>\n",
       "    .dataframe tbody tr th:only-of-type {\n",
       "        vertical-align: middle;\n",
       "    }\n",
       "\n",
       "    .dataframe tbody tr th {\n",
       "        vertical-align: top;\n",
       "    }\n",
       "\n",
       "    .dataframe thead th {\n",
       "        text-align: right;\n",
       "    }\n",
       "</style>\n",
       "<table border=\"1\" class=\"dataframe\">\n",
       "  <thead>\n",
       "    <tr style=\"text-align: right;\">\n",
       "      <th></th>\n",
       "      <th>Good</th>\n",
       "      <th>Bad</th>\n",
       "    </tr>\n",
       "  </thead>\n",
       "  <tbody>\n",
       "    <tr>\n",
       "      <th>0</th>\n",
       "      <td>0.058416</td>\n",
       "      <td>0.038809</td>\n",
       "    </tr>\n",
       "    <tr>\n",
       "      <th>1</th>\n",
       "      <td>0.334653</td>\n",
       "      <td>0.342934</td>\n",
       "    </tr>\n",
       "    <tr>\n",
       "      <th>2</th>\n",
       "      <td>0.194554</td>\n",
       "      <td>0.186966</td>\n",
       "    </tr>\n",
       "    <tr>\n",
       "      <th>3</th>\n",
       "      <td>0.816584</td>\n",
       "      <td>0.786917</td>\n",
       "    </tr>\n",
       "    <tr>\n",
       "      <th>4</th>\n",
       "      <td>0.032921</td>\n",
       "      <td>0.015377</td>\n",
       "    </tr>\n",
       "    <tr>\n",
       "      <th>5</th>\n",
       "      <td>0.037624</td>\n",
       "      <td>0.025140</td>\n",
       "    </tr>\n",
       "    <tr>\n",
       "      <th>6</th>\n",
       "      <td>0.000000</td>\n",
       "      <td>0.000000</td>\n",
       "    </tr>\n",
       "    <tr>\n",
       "      <th>7</th>\n",
       "      <td>0.324752</td>\n",
       "      <td>0.395167</td>\n",
       "    </tr>\n",
       "    <tr>\n",
       "      <th>8</th>\n",
       "      <td>1.000000</td>\n",
       "      <td>1.000000</td>\n",
       "    </tr>\n",
       "    <tr>\n",
       "      <th>9</th>\n",
       "      <td>0.132178</td>\n",
       "      <td>0.138150</td>\n",
       "    </tr>\n",
       "  </tbody>\n",
       "</table>\n",
       "</div>"
      ],
      "text/plain": [
       "       Good       Bad\n",
       "0  0.058416  0.038809\n",
       "1  0.334653  0.342934\n",
       "2  0.194554  0.186966\n",
       "3  0.816584  0.786917\n",
       "4  0.032921  0.015377\n",
       "5  0.037624  0.025140\n",
       "6  0.000000  0.000000\n",
       "7  0.324752  0.395167\n",
       "8  1.000000  1.000000\n",
       "9  0.132178  0.138150"
      ]
     },
     "execution_count": 27,
     "metadata": {},
     "output_type": "execute_result"
    }
   ],
   "source": [
    "from sklearn.preprocessing import StandardScaler, MinMaxScaler\n",
    "years=[\"2010\",\"2018\"]\n",
    "create=df[years]\n",
    "solutions_set=create.rename(columns={'2010':'Good','2018':'Bad'})\n",
    "scaler = MinMaxScaler()  \n",
    "solutions_set_scaled = scaler.fit_transform(solutions_set)\n",
    "solutions_set_scaled = pd.DataFrame(solutions_set_scaled, columns = solutions_set.columns)\n",
    "solutions_set_scaled"
   ]
  },
  {
   "cell_type": "markdown",
   "metadata": {},
   "source": [
    "### Kmeans"
   ]
  },
  {
   "cell_type": "markdown",
   "metadata": {},
   "source": [
    "K-means attempts to partition x data points to a group of k clusters where each data point is allocated to its nearest cluster."
   ]
  },
  {
   "cell_type": "markdown",
   "metadata": {},
   "source": [
    "- To start with k-means algorithm, you first have to randomly initialize points called the cluster centroids (K).K-means is an iterative algorithm and it does two steps: \n",
    " \n",
    " 1)  Cluster assignment \n",
    " \n",
    " 2) Move centroid step.\n"
   ]
  },
  {
   "cell_type": "markdown",
   "metadata": {},
   "source": [
    "##### clusters?\n",
    "\n",
    "\n",
    "proper value of ‘K’ is very difficult until we have a good knowledge about our data set.So to find optimal number of clusters:\n",
    "\n",
    "\n",
    "1) Run k-means for different values of ‘K’. For example K varying from 1 to 100 and for each value of K compute SSE.\n",
    "\n",
    "\n",
    "2) Plot a line chart K values on x axis and its corresponding values of SSE on y axis as shown below."
   ]
  },
  {
   "cell_type": "code",
   "execution_count": 28,
   "metadata": {},
   "outputs": [
    {
     "data": {
      "image/png": "[encoded data removed]",
      "text/plain": [
       "<Figure size 576x360 with 1 Axes>"
      ]
     },
     "metadata": {
      "needs_background": "light"
     },
     "output_type": "display_data"
    }
   ],
   "source": [
    "import numpy as np\n",
    "import pandas as pd\n",
    "from matplotlib import pyplot as plt\n",
    "from sklearn.datasets.samples_generator import make_blobs\n",
    "from sklearn.cluster import KMeans\n",
    "\n",
    "solutions_set_scaled,y= make_blobs(n_samples=300, centers=4, cluster_std=0.60, random_state=0)\n",
    "plt.scatter(solutions_set_scaled[:,0], solutions_set_scaled[:,1])\n",
    "\n",
    "\n",
    "wcss = []\n",
    "for i in range(1, 11):\n",
    "    kmeans = KMeans(n_clusters=i, init='k-means++', max_iter=300, n_init=10, random_state=0)\n",
    "    kmeans.fit(solutions_set_scaled)\n",
    "    wcss.append(kmeans.inertia_)\n",
    "plt.plot(range(1, 11), wcss)\n",
    "plt.title('Elbow Method')\n",
    "plt.xlabel('Number of clusters')\n",
    "plt.ylabel('WCSS')\n",
    "plt.show()\n",
    "\n",
    "\n"
   ]
  },
  {
   "cell_type": "markdown",
   "metadata": {},
   "source": [
    "- K=2 and K=3"
   ]
  },
  {
   "cell_type": "markdown",
   "metadata": {},
   "source": [
    "#### K=2"
   ]
  },
  {
   "cell_type": "code",
   "execution_count": 29,
   "metadata": {},
   "outputs": [
    {
     "data": {
      "image/png": "[encoded data removed]",
      "text/plain": [
       "<Figure size 576x360 with 1 Axes>"
      ]
     },
     "metadata": {
      "needs_background": "light"
     },
     "output_type": "display_data"
    }
   ],
   "source": [
    "km = KMeans(n_clusters = 2, init = 'k-means++', max_iter = 300, n_init = 10, random_state = 0)\n",
    "y_means = km.fit_predict(solutions_set_scaled)\n",
    "\n",
    "plt.scatter(solutions_set_scaled[y_means == 0, 0], solutions_set_scaled[y_means == 0, 1], s = 100, c = 'pink', label = 'cluster1')\n",
    "plt.scatter(solutions_set_scaled[y_means == 1, 0], solutions_set_scaled[y_means == 1, 1], s = 100, c = 'yellow', label = 'cluster2')\n",
    "plt.scatter(km.cluster_centers_[:,0], km.cluster_centers_[:, 1], s = 50, c = 'blue' , label = 'centeroid')\n",
    "\n",
    "plt.title('K Means Clustering')\n",
    "plt.xlabel('X Axis')\n",
    "plt.ylabel('Y Axis')\n",
    "plt.legend()\n",
    "plt.grid()\n",
    "plt.show();"
   ]
  },
  {
   "cell_type": "markdown",
   "metadata": {},
   "source": [
    "#### K-Means (3)"
   ]
  },
  {
   "cell_type": "code",
   "execution_count": 30,
   "metadata": {},
   "outputs": [
    {
     "data": {
      "image/png": "[encoded data removed]",
      "text/plain": [
       "<Figure size 576x360 with 1 Axes>"
      ]
     },
     "metadata": {
      "needs_background": "light"
     },
     "output_type": "display_data"
    }
   ],
   "source": [
    "km = KMeans(n_clusters = 3, init = 'k-means++', max_iter = 300, n_init = 10, random_state = 0)\n",
    "y_means = km.fit_predict(solutions_set_scaled)\n",
    "\n",
    "plt.scatter(solutions_set_scaled[y_means == 0, 0], solutions_set_scaled[y_means == 0, 1], s = 100, c = 'pink', label = 'cluster1')\n",
    "plt.scatter(solutions_set_scaled[y_means == 1, 0], solutions_set_scaled[y_means == 1, 1], s = 100, c = 'yellow', label = 'cluster2')\n",
    "plt.scatter(solutions_set_scaled[y_means == 2, 0], solutions_set_scaled[y_means == 2, 1], s = 100, c = 'red', label = 'cluster3')\n",
    "plt.scatter(km.cluster_centers_[:,0], km.cluster_centers_[:, 1], s = 50, c = 'blue' , label = 'centeroid')\n",
    "\n",
    "plt.title('K Means Clustering')\n",
    "plt.xlabel('X Axis')\n",
    "plt.ylabel('Y Axis')\n",
    "plt.legend()\n",
    "plt.grid()\n",
    "plt.show();\n"
   ]
  },
  {
   "cell_type": "markdown",
   "metadata": {},
   "source": [
    "- Calculated the mean distance between data points and their cluster centroid. So the goal is to choose a small value of k that still has a low SSE.\n",
    "\n",
    "- We run the algorithm for different values of K(say K = 10 to 1) and plot the K values against SSE(Sum of Squared Errors). And select the value of K for the elbow point and more over before finding the data we need to scale down the features. Based on employee data clustering has been performed. K=2 clustering technique has been applied in the current context. According to data clustering is nothing but segment data in different classes in which data from similar groups are presented. As K=2 means clustering has been done in performed here therefore, two different centres have been chosen first one is worst perfomed years and other one is values good perfomed year \n",
    "\n"
   ]
  },
  {
   "cell_type": "markdown",
   "metadata": {},
   "source": [
    "### 5.2.\tUsing the same dataset (best & worst performing) create a hierarchical cluster.  Compare the cluster with k means clusters. "
   ]
  },
  {
   "cell_type": "markdown",
   "metadata": {},
   "source": [
    "Dendrogram contains the memory of hierarchical clustering algorithm, so just by looking at the Dendrgram we can tell how the cluster is formed"
   ]
  },
  {
   "cell_type": "code",
   "execution_count": 31,
   "metadata": {},
   "outputs": [
    {
     "data": {
      "image/png": "[encoded data removed]",
      "text/plain": [
       "<Figure size 576x360 with 1 Axes>"
      ]
     },
     "metadata": {
      "needs_background": "light"
     },
     "output_type": "display_data"
    }
   ],
   "source": [
    "# Using the dendrogram to find the optimal number of clusters\n",
    "import scipy.cluster.hierarchy as sch\n",
    "dendrogram = sch.dendrogram(sch.linkage(solutions_set_scaled, method = 'ward'))\n",
    "plt.axhline(y=6, color='r', linestyle='--')\n",
    "plt.title('Dendrogram')\n",
    "plt.xlabel('Customers')\n",
    "plt.ylabel('Euclidean distances')\n",
    "plt.show()\n",
    "\n"
   ]
  },
  {
   "cell_type": "code",
   "execution_count": 32,
   "metadata": {},
   "outputs": [
    {
     "data": {
      "image/png": "[encoded data removed]",
      "text/plain": [
       "<Figure size 576x360 with 1 Axes>"
      ]
     },
     "metadata": {
      "needs_background": "light"
     },
     "output_type": "display_data"
    }
   ],
   "source": [
    "# Fitting Hierarchical Clustering to the dataset\n",
    "from sklearn.cluster import AgglomerativeClustering\n",
    "hc = AgglomerativeClustering(n_clusters = 2, affinity = 'euclidean', linkage = 'ward')\n",
    "y_hc = hc.fit_predict(solutions_set_scaled)\n",
    "\n",
    "# Visualising the clusters\n",
    "plt.scatter(solutions_set_scaled[y_hc == 0, 0], solutions_set_scaled[y_hc == 0, 1], s = 100, c = 'red', label = 'Cluster 1')\n",
    "plt.scatter(solutions_set_scaled[y_hc == 1, 0], solutions_set_scaled[y_hc == 1, 1], s = 100, c = 'blue', label = 'Cluster 2')\n",
    "plt.title('Hierarchical Clustering')\n",
    "plt.xlabel('X Axis')\n",
    "plt.ylabel('Y Axis')\n",
    "plt.legend()\n",
    "plt.show()"
   ]
  },
  {
   "cell_type": "code",
   "execution_count": 33,
   "metadata": {},
   "outputs": [
    {
     "data": {
      "image/png": "[encoded data removed]",
      "text/plain": [
       "<Figure size 576x360 with 1 Axes>"
      ]
     },
     "metadata": {
      "needs_background": "light"
     },
     "output_type": "display_data"
    }
   ],
   "source": [
    "# Fitting Hierarchical Clustering to the dataset\n",
    "from sklearn.cluster import AgglomerativeClustering\n",
    "hc = AgglomerativeClustering(n_clusters = 3, affinity = 'euclidean', linkage = 'ward')\n",
    "y_hc = hc.fit_predict(solutions_set_scaled)\n",
    "\n",
    "# Visualising the clusters\n",
    "plt.scatter(solutions_set_scaled[y_hc == 0, 0], solutions_set_scaled[y_hc == 0, 1], s = 100, c = 'red', label = 'Cluster 1')\n",
    "plt.scatter(solutions_set_scaled[y_hc == 1, 0], solutions_set_scaled[y_hc == 1, 1], s = 100, c = 'blue', label = 'Cluster 2')\n",
    "plt.scatter(solutions_set_scaled[y_hc == 2, 0], solutions_set_scaled[y_hc == 2, 1], s = 100, c = 'green', label = 'Cluster 3')\n",
    "plt.title('Hierarchical Clustering')\n",
    "plt.xlabel('X Axis')\n",
    "plt.ylabel('Y Axis')\n",
    "plt.legend()\n",
    "plt.show()"
   ]
  },
  {
   "cell_type": "code",
   "execution_count": 34,
   "metadata": {},
   "outputs": [
    {
     "data": {
      "text/plain": [
       "Text(0.5, 1, 'Kendall correlation')"
      ]
     },
     "execution_count": 34,
     "metadata": {},
     "output_type": "execute_result"
    },
    {
     "data": {
      "image/png": "[encoded data removed]",
      "text/plain": [
       "<Figure size 720x432 with 2 Axes>"
      ]
     },
     "metadata": {
      "needs_background": "light"
     },
     "output_type": "display_data"
    }
   ],
   "source": [
    "# kendall correlation between the submissions\n",
    "plt.figure(figsize=(10, 6))\n",
    "kendall = solutions_set.corr(method = 'kendall')\n",
    "sns.heatmap(kendall, annot = True, fmt = \".3f\")\n",
    "plt.title('Kendall correlation')"
   ]
  },
  {
   "cell_type": "markdown",
   "metadata": {},
   "source": [
    "The dendrogram shows how each cluster consists of drawing a relation between a non-singleton cluster and its branches. The top of the link shows the merge of the cluster and the two legs of the link suggest what clusters have been combined. The length of the two legs of the U-link is the distance between the child clusters."
   ]
  },
  {
   "cell_type": "markdown",
   "metadata": {},
   "source": [
    "## 6.\tDiscussion\n",
    "\n",
    "### Provide a brief discussion (~ 300 words) on employment landscape of Wales based on the employment data analysis results\n"
   ]
  },
  {
   "cell_type": "markdown",
   "metadata": {},
   "source": [
    " - For this task, I have downloaded datasets from the Wales website (10 csv files) from the year 2009-2018. For the initial point, I used data wrangling techniques in order to load and clean the data, and eventually, I conquered all the csv files into one final file.\n",
    " \n",
    " - In the second stage, the highest and lowest workers in the respective industries were analyzed by(max) and (min) formulas for each industry for a range of years from (2009-2018) and the highest average number of employees was identified in the Public Administration Industry (4236500.0). On the other hand, the lowest average number of real estate employees was reported (189900.0). More details More information on ICT has more growth compared to other industries, and good performance in 2018 is very good in the coming year.\n",
    " \n",
    " -  As per the above scatter diagram, it can be identified that different designer plots are being used for different industries. In addition to this, the relationship between each value has been easily demonstrated in the above scatter plot diagram. Surprisingly, it can be easily determined that the values or numbers of employees from each industry are not that relative enough. Similar values always represent a congested scatter diagram. Based on the movement of each plot, movement of employment has been shown.\n",
    " \n",
    " - As per instructions given the principal component analysis is applied to the dataset and reduced to 2 components and the scatter diagram is plotted and found that there will be 3 clusters.\n",
    " \n",
    " - In order to determine the correlation value, the average number of employees is estimated in the first section. And there has been a connection between the two industries. The correlation value was obtained as.0.997, which is quite strong '.05' as a result; there is a relationship between workflow movements from both industries. There is also a major difference between the number of workers in both years (2018 and 2018)\n",
    " \n",
    " - K=2 means clustering technique has shown that values from less performing industries comes under in cluster 1 and values from good performece industires in cluster 2. Apart from K=2 means, K=3 means clustering also can be applied in the current context with given centroids\n",
    "\n",
    "- Dendogram (A tree diagram ) approach is applied in order to find number of clusters in heirachial clustering and analyzed the clustering by applying 3 clusters and finally with analyzed digaram i came to know there is significant relation between the results of Kmeans and heirachial clustering\n",
    "\n",
    "On a conclusion note:\n",
    "\n",
    "Various techniques is applied in order to acheive above analysis and there are some challenges which I faced wheb dealing with this dataset is visual analytics with plotly and understanding the correlation concept\n",
    "\n"
   ]
  },
  {
   "cell_type": "code",
   "execution_count": null,
   "metadata": {},
   "outputs": [],
   "source": []
  }
 ],
 "metadata": {
  "kernelspec": {
   "display_name": "Python 3",
   "language": "python",
   "name": "python3"
  },
  "language_info": {
   "codemirror_mode": {
    "name": "ipython",
    "version": 3
   },
   "file_extension": ".py",
   "mimetype": "text/x-python",
   "name": "python",
   "nbconvert_exporter": "python",
   "pygments_lexer": "ipython3",
   "version": "3.8.1"
  },
  "latex_envs": {
   "LaTeX_envs_menu_present": true,
   "autoclose": false,
   "autocomplete": true,
   "bibliofile": "biblio.bib",
   "cite_by": "apalike",
   "current_citInitial": 1,
   "eqLabelWithNumbers": true,
   "eqNumInitial": 1,
   "hotkeys": {
    "equation": "Ctrl-E",
    "itemize": "Ctrl-I"
   },
   "labels_anchors": false,
   "latex_user_defs": false,
   "report_style_numbering": false,
   "user_envs_cfg": false
  },
  "toc": {
   "base_numbering": 1,
   "nav_menu": {},
   "number_sections": true,
   "sideBar": true,
   "skip_h1_title": false,
   "title_cell": "Table of Contents",
   "title_sidebar": "Contents",
   "toc_cell": false,
   "toc_position": {},
   "toc_section_display": true,
   "toc_window_display": false
  }
 },
 "nbformat": 4,
 "nbformat_minor": 4
}
